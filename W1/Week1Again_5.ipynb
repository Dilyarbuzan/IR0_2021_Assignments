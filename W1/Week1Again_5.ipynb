{
 "cells": [
  {
   "cell_type": "markdown",
   "metadata": {},
   "source": [
    "# Zoekmachines"
   ]
  },
  {
   "cell_type": "markdown",
   "metadata": {},
   "source": [
    "## Notebook made by\n",
    "\n",
    "__Name__|Sebastiaan| en vriendenDijkstra\n",
    "\n",
    "__Student id__ : secret"
   ]
  },
  {
   "cell_type": "markdown",
   "metadata": {},
   "source": [
    "## Toelichting\n",
    "\n",
    "* De meeste opgaven worden automatisch nagekeken. Bij vrijwel alle opdrachten staan er een paar zichtbare tests onder de opdracht, dit is voornamelijk om te zorgen dat je de juiste type output geeft. De andere tests worden na inleveren toegevoegd aan die cell.\n",
    "\n",
    "## Voor het inleveren!\n",
    "\n",
    "* Pas niet de cellen aan, vooral niet die je niet kunt editen. Dit levert problemen op bij nakijken. Twijfel je of je per ongeluk iets hebt gewijzigd, kopieer dan bij inleveren je antwoorden naar een nieuw bestand, zodat het niet fout kan gaan.\n",
    "\n",
    "* Zorg dat de code goed runt van boven naar beneden, verifieer dat door boven in Kernel -> Restart & Run All uit te voeren"
   ]
  },
  {
   "cell_type": "markdown",
   "metadata": {
    "toc": true
   },
   "source": [
    "<h1>Table of Contents<span class=\"tocSkip\"></span></h1>\n",
    "<div class=\"toc\"><ul class=\"toc-item\"><li><span><a href=\"#Week-1\" data-toc-modified-id=\"Week-1-1\"><span class=\"toc-item-num\">1&nbsp;&nbsp;</span>Week 1</a></span></li><li><span><a href=\"#Book-Questions-(Chapter-1)\" data-toc-modified-id=\"Book-Questions-(Chapter-1)-2\"><span class=\"toc-item-num\">2&nbsp;&nbsp;</span>Book Questions (Chapter 1)</a></span><ul class=\"toc-item\"><li><span><a href=\"#Exercise-1.1\" data-toc-modified-id=\"Exercise-1.1-2.1\"><span class=\"toc-item-num\">2.1&nbsp;&nbsp;</span>Exercise 1.1</a></span></li><li><span><a href=\"#Exercise-1.2a\" data-toc-modified-id=\"Exercise-1.2a-2.2\"><span class=\"toc-item-num\">2.2&nbsp;&nbsp;</span>Exercise 1.2a</a></span></li><li><span><a href=\"#Exercise-1.2b\" data-toc-modified-id=\"Exercise-1.2b-2.3\"><span class=\"toc-item-num\">2.3&nbsp;&nbsp;</span>Exercise 1.2b</a></span></li><li><span><a href=\"#Exercise-1.3\" data-toc-modified-id=\"Exercise-1.3-2.4\"><span class=\"toc-item-num\">2.4&nbsp;&nbsp;</span>Exercise 1.3</a></span></li><li><span><a href=\"#Exercise-1.4-(not-graded)\" data-toc-modified-id=\"Exercise-1.4-(not-graded)-2.5\"><span class=\"toc-item-num\">2.5&nbsp;&nbsp;</span>Exercise 1.4 (not graded)</a></span></li><li><span><a href=\"#Exercise-1.5-(not-graded)\" data-toc-modified-id=\"Exercise-1.5-(not-graded)-2.6\"><span class=\"toc-item-num\">2.6&nbsp;&nbsp;</span>Exercise 1.5 (not graded)</a></span></li><li><span><a href=\"#Exercise-1.6-(not-graded)\" data-toc-modified-id=\"Exercise-1.6-(not-graded)-2.7\"><span class=\"toc-item-num\">2.7&nbsp;&nbsp;</span>Exercise 1.6 (not graded)</a></span></li><li><span><a href=\"#Exercise-1.7-(not-graded)\" data-toc-modified-id=\"Exercise-1.7-(not-graded)-2.8\"><span class=\"toc-item-num\">2.8&nbsp;&nbsp;</span>Exercise 1.7 (not graded)</a></span></li><li><span><a href=\"#Exercise-1.8-(not-graded)\" data-toc-modified-id=\"Exercise-1.8-(not-graded)-2.9\"><span class=\"toc-item-num\">2.9&nbsp;&nbsp;</span>Exercise 1.8 (not graded)</a></span></li><li><span><a href=\"#Exercise-1.9-(not-graded)\" data-toc-modified-id=\"Exercise-1.9-(not-graded)-2.10\"><span class=\"toc-item-num\">2.10&nbsp;&nbsp;</span>Exercise 1.9 (not graded)</a></span></li></ul></li><li><span><a href=\"#Inverted-Index\" data-toc-modified-id=\"Inverted-Index-3\"><span class=\"toc-item-num\">3&nbsp;&nbsp;</span>Inverted Index</a></span><ul class=\"toc-item\"><li><span><a href=\"#Question-1\" data-toc-modified-id=\"Question-1-3.1\"><span class=\"toc-item-num\">3.1&nbsp;&nbsp;</span>Question 1</a></span></li><li><span><a href=\"#Question-2\" data-toc-modified-id=\"Question-2-3.2\"><span class=\"toc-item-num\">3.2&nbsp;&nbsp;</span>Question 2</a></span></li><li><span><a href=\"#3\" data-toc-modified-id=\"3-3.3\"><span class=\"toc-item-num\">3.3&nbsp;&nbsp;</span>3</a></span></li><li><span><a href=\"#4\" data-toc-modified-id=\"4-3.4\"><span class=\"toc-item-num\">3.4&nbsp;&nbsp;</span>4</a></span></li><li><span><a href=\"#5\" data-toc-modified-id=\"5-3.5\"><span class=\"toc-item-num\">3.5&nbsp;&nbsp;</span>5</a></span></li><li><span><a href=\"#8-Boolean-Search\" data-toc-modified-id=\"8-Boolean-Search-3.6\"><span class=\"toc-item-num\">3.6&nbsp;&nbsp;</span>8 Boolean Search</a></span><ul class=\"toc-item\"><li><span><a href=\"#8.1-Boolean-negation-search\" data-toc-modified-id=\"8.1-Boolean-negation-search-3.6.1\"><span class=\"toc-item-num\">3.6.1&nbsp;&nbsp;</span>8.1 Boolean negation search</a></span></li><li><span><a href=\"#8.2-Boolean-OR-search\" data-toc-modified-id=\"8.2-Boolean-OR-search-3.6.2\"><span class=\"toc-item-num\">3.6.2&nbsp;&nbsp;</span>8.2 Boolean OR search</a></span></li><li><span><a href=\"#8.3-Ranked-boolean-search\" data-toc-modified-id=\"8.3-Ranked-boolean-search-3.6.3\"><span class=\"toc-item-num\">3.6.3&nbsp;&nbsp;</span>8.3 Ranked boolean search</a></span><ul class=\"toc-item\"><li><span><a href=\"#8.3.1-Most-words-first\" data-toc-modified-id=\"8.3.1-Most-words-first-3.6.3.1\"><span class=\"toc-item-num\">3.6.3.1&nbsp;&nbsp;</span>8.3.1 Most-words first</a></span></li><li><span><a href=\"#8.3.2-Term-frequency-sum\" data-toc-modified-id=\"8.3.2-Term-frequency-sum-3.6.3.2\"><span class=\"toc-item-num\">3.6.3.2&nbsp;&nbsp;</span>8.3.2 Term-frequency sum</a></span></li><li><span><a href=\"#8.3.3-Combined\" data-toc-modified-id=\"8.3.3-Combined-3.6.3.3\"><span class=\"toc-item-num\">3.6.3.3&nbsp;&nbsp;</span>8.3.3 Combined</a></span></li></ul></li><li><span><a href=\"#8.4-Boolean-AND-search\" data-toc-modified-id=\"8.4-Boolean-AND-search-3.6.4\"><span class=\"toc-item-num\">3.6.4&nbsp;&nbsp;</span>8.4 Boolean AND search</a></span></li><li><span><a href=\"#8.5-Ranked-Boolean-AND-search-(not-graded)\" data-toc-modified-id=\"8.5-Ranked-Boolean-AND-search-(not-graded)-3.6.5\"><span class=\"toc-item-num\">3.6.5&nbsp;&nbsp;</span>8.5 Ranked Boolean AND search (not graded)</a></span></li><li><span><a href=\"#8.6-Relaxed-boolean-AND-search-(not-graded)\" data-toc-modified-id=\"8.6-Relaxed-boolean-AND-search-(not-graded)-3.6.6\"><span class=\"toc-item-num\">3.6.6&nbsp;&nbsp;</span>8.6 Relaxed boolean AND search (not graded)</a></span></li></ul></li></ul></li><li><span><a href=\"#SQL-and-full-text-search\" data-toc-modified-id=\"SQL-and-full-text-search-4\"><span class=\"toc-item-num\">4&nbsp;&nbsp;</span>SQL and full text search</a></span></li></ul></div>"
   ]
  },
  {
   "cell_type": "markdown",
   "metadata": {
    "deletable": false,
    "editable": false,
    "nbgrader": {
     "cell_type": "markdown",
     "checksum": "7da289e22d804f86f67e22b517a1f5a7",
     "grade": false,
     "grade_id": "cell-22413888e92328cf",
     "locked": true,
     "schema_version": 3,
     "solution": false
    }
   },
   "source": [
    "# Week 1"
   ]
  },
  {
   "cell_type": "code",
   "execution_count": 1,
   "metadata": {
    "deletable": false,
    "editable": false,
    "nbgrader": {
     "cell_type": "code",
     "checksum": "e5aca405e4f5d718f0a19e6a6c567d7b",
     "grade": false,
     "grade_id": "cell-aff3c83a3bbf3bda",
     "locked": true,
     "schema_version": 3,
     "solution": false
    }
   },
   "outputs": [],
   "source": [
    "from nose.tools import assert_equal, assert_not_equal\n",
    "import pandas as pd\n",
    "import numpy as np"
   ]
  },
  {
   "cell_type": "markdown",
   "metadata": {
    "deletable": false,
    "editable": false,
    "nbgrader": {
     "cell_type": "markdown",
     "checksum": "b4db12a8a877ae51f90c20a72e20ce08",
     "grade": false,
     "grade_id": "cell-56e8018c9f1dbb9b",
     "locked": true,
     "schema_version": 3,
     "solution": false
    }
   },
   "source": [
    "# Book Questions (Chapter 1)\n",
    "In this section you will make the exercises from the book, which is freely available online as a PDF at [nlp.stanford.edu/IR-book/](http://nlp.stanford.edu/IR-book/)."
   ]
  },
  {
   "cell_type": "markdown",
   "metadata": {
    "deletable": false,
    "editable": false,
    "nbgrader": {
     "cell_type": "markdown",
     "checksum": "b1ffae4eeddcafb5f30b734e70c5b945",
     "grade": false,
     "grade_id": "cell-89ad97fbee0cf6a7",
     "locked": true,
     "schema_version": 3,
     "solution": false
    }
   },
   "source": [
    "## Exercise 1.1\n",
    "\n",
    "Draw the inverted index that would be built for the following document collection. (See Figure1.3 for an example.) \n",
    "\n",
    "**Doc 1** new home sales top forecasts \n",
    "\n",
    "**Doc 2** home sales rise in july \n",
    "\n",
    "**Doc 3** increase in home sales in july \n",
    "\n",
    "**Doc 4** july new home sales rise\n",
    "\n",
    "Do it in the form of a dictionary `answer1`, with as key the word, and as value a **list** of postings\n",
    "\n",
    "So for example: \n",
    "\n",
    "```\n",
    "{\"forecasts\":[1,2,3,4],\"home\":[1,2,3,4],...}\n",
    "```"
   ]
  },
  {
   "cell_type": "code",
   "execution_count": 2,
   "metadata": {
    "deletable": false,
    "nbgrader": {
     "cell_type": "code",
     "checksum": "fc2603260043c1c38b904c851522011d",
     "grade": false,
     "grade_id": "cell-3bac5e77cf2cbf78",
     "locked": false,
     "schema_version": 3,
     "solution": true
    }
   },
   "outputs": [
    {
     "data": {
      "text/plain": [
       "{'forecasts': [1],\n",
       " 'home': [1, 2, 3, 4],\n",
       " 'in': [2, 3],\n",
       " 'increase': [3],\n",
       " 'july': [2, 3, 4],\n",
       " 'new': [1, 4],\n",
       " 'rise': [2, 4],\n",
       " 'sales': [1, 2, 3, 4],\n",
       " 'top': [1]}"
      ]
     },
     "execution_count": 2,
     "metadata": {},
     "output_type": "execute_result"
    }
   ],
   "source": [
    "answer1 = {\n",
    "    'forecasts': [1],\n",
    "    'home': [1, 2, 3, 4],\n",
    "    'in': [2, 3],\n",
    "    'increase': [3],\n",
    "    'july': [2, 3, 4],\n",
    "    'new': [1, 4],\n",
    "    'rise': [2, 4],\n",
    "    'sales': [1, 2, 3, 4],\n",
    "    'top': [1]\n",
    "}\n",
    "\n",
    "answer1"
   ]
  },
  {
   "cell_type": "code",
   "execution_count": 3,
   "metadata": {
    "deletable": false,
    "editable": false,
    "nbgrader": {
     "cell_type": "code",
     "checksum": "91f350d3302f813c2ace4937f38f9b24",
     "grade": true,
     "grade_id": "cell-07d452fd885d4634",
     "locked": true,
     "points": 1,
     "schema_version": 3,
     "solution": false
    }
   },
   "outputs": [],
   "source": [
    "assert_equal(type(answer1), dict)\n",
    "for k,v in answer1.items():\n",
    "    assert_equal(type(k), str)\n",
    "    assert_equal(type(v), list)\n",
    "    for p in v:\n",
    "        assert_equal(type(p), int)\n",
    "        assert p in range(1,5)"
   ]
  },
  {
   "cell_type": "markdown",
   "metadata": {
    "deletable": false,
    "editable": false,
    "nbgrader": {
     "cell_type": "markdown",
     "checksum": "cccb1e229f44988b05019192c4df3232",
     "grade": false,
     "grade_id": "2-2",
     "locked": true,
     "schema_version": 3,
     "solution": false
    }
   },
   "source": [
    "## Exercise 1.2a\n",
    "Consider these documents: \n",
    "\n",
    "**Doc 1** breakthrough drug for schizophrenia \n",
    "\n",
    "**Doc 2** new schizophrenia drug \n",
    "\n",
    "**Doc 3** new approach for treatment of schizophrenia \n",
    "\n",
    "**Doc 4** new hopes for schizophrenia patients\n",
    "\n",
    "a. Draw the term-document incidence matrix for this document collection.\n",
    "\n",
    "Do this in pandas below. The document numbers become the index."
   ]
  },
  {
   "cell_type": "code",
   "execution_count": 4,
   "metadata": {
    "deletable": false,
    "nbgrader": {
     "cell_type": "code",
     "checksum": "95cb3d79f327c5e585f03fe4fc730d03",
     "grade": false,
     "grade_id": "cell-2f3b26c7cf356c32",
     "locked": false,
     "schema_version": 3,
     "solution": true
    }
   },
   "outputs": [
    {
     "data": {
      "text/html": [
       "<div>\n",
       "<style scoped>\n",
       "    .dataframe tbody tr th:only-of-type {\n",
       "        vertical-align: middle;\n",
       "    }\n",
       "\n",
       "    .dataframe tbody tr th {\n",
       "        vertical-align: top;\n",
       "    }\n",
       "\n",
       "    .dataframe thead th {\n",
       "        text-align: right;\n",
       "    }\n",
       "</style>\n",
       "<table border=\"1\" class=\"dataframe\">\n",
       "  <thead>\n",
       "    <tr style=\"text-align: right;\">\n",
       "      <th></th>\n",
       "      <th>approach</th>\n",
       "      <th>breakthrough</th>\n",
       "      <th>drug</th>\n",
       "      <th>for</th>\n",
       "      <th>hopes</th>\n",
       "      <th>new</th>\n",
       "      <th>of</th>\n",
       "      <th>patients</th>\n",
       "      <th>schizophrenia</th>\n",
       "      <th>treatment</th>\n",
       "    </tr>\n",
       "    <tr>\n",
       "      <th>document</th>\n",
       "      <th></th>\n",
       "      <th></th>\n",
       "      <th></th>\n",
       "      <th></th>\n",
       "      <th></th>\n",
       "      <th></th>\n",
       "      <th></th>\n",
       "      <th></th>\n",
       "      <th></th>\n",
       "      <th></th>\n",
       "    </tr>\n",
       "  </thead>\n",
       "  <tbody>\n",
       "    <tr>\n",
       "      <th>1</th>\n",
       "      <td>0</td>\n",
       "      <td>1</td>\n",
       "      <td>1</td>\n",
       "      <td>1</td>\n",
       "      <td>0</td>\n",
       "      <td>0</td>\n",
       "      <td>0</td>\n",
       "      <td>0</td>\n",
       "      <td>1</td>\n",
       "      <td>0</td>\n",
       "    </tr>\n",
       "    <tr>\n",
       "      <th>2</th>\n",
       "      <td>0</td>\n",
       "      <td>0</td>\n",
       "      <td>1</td>\n",
       "      <td>0</td>\n",
       "      <td>0</td>\n",
       "      <td>1</td>\n",
       "      <td>0</td>\n",
       "      <td>0</td>\n",
       "      <td>1</td>\n",
       "      <td>0</td>\n",
       "    </tr>\n",
       "    <tr>\n",
       "      <th>3</th>\n",
       "      <td>1</td>\n",
       "      <td>0</td>\n",
       "      <td>0</td>\n",
       "      <td>1</td>\n",
       "      <td>0</td>\n",
       "      <td>1</td>\n",
       "      <td>1</td>\n",
       "      <td>0</td>\n",
       "      <td>1</td>\n",
       "      <td>1</td>\n",
       "    </tr>\n",
       "    <tr>\n",
       "      <th>4</th>\n",
       "      <td>0</td>\n",
       "      <td>0</td>\n",
       "      <td>0</td>\n",
       "      <td>1</td>\n",
       "      <td>1</td>\n",
       "      <td>1</td>\n",
       "      <td>0</td>\n",
       "      <td>1</td>\n",
       "      <td>1</td>\n",
       "      <td>0</td>\n",
       "    </tr>\n",
       "  </tbody>\n",
       "</table>\n",
       "</div>"
      ],
      "text/plain": [
       "          approach  breakthrough  drug  for  hopes  new  of  patients  \\\n",
       "document                                                                \n",
       "1                0             1     1    1      0    0   0         0   \n",
       "2                0             0     1    0      0    1   0         0   \n",
       "3                1             0     0    1      0    1   1         0   \n",
       "4                0             0     0    1      1    1   0         1   \n",
       "\n",
       "          schizophrenia  treatment  \n",
       "document                            \n",
       "1                     1          0  \n",
       "2                     1          0  \n",
       "3                     1          1  \n",
       "4                     1          0  "
      ]
     },
     "execution_count": 4,
     "metadata": {},
     "output_type": "execute_result"
    }
   ],
   "source": [
    "data = [[1],[2],[3],[4]] \n",
    "  \n",
    "# Create the pandas DataFrame \n",
    "answer2a = pd.DataFrame(data, columns = ['document']).set_index('document')\n",
    "answer2a['approach'] = [0, 0, 1, 0]\n",
    "answer2a['breakthrough'] = [1, 0, 0, 0]\n",
    "answer2a['drug'] = [1, 1, 0, 0]\n",
    "answer2a['for'] = [1, 0, 1, 1]\n",
    "answer2a['hopes'] = [0, 0, 0, 1]\n",
    "answer2a['new'] = [0, 1, 1, 1]\n",
    "answer2a['of'] = [0, 0, 1, 0]\n",
    "answer2a['patients'] = [0, 0, 0, 1]\n",
    "answer2a['schizophrenia'] = [1, 1, 1, 1]\n",
    "answer2a['treatment'] = [0, 0, 1, 0]\n",
    "\n",
    "\n",
    "answer2a"
   ]
  },
  {
   "cell_type": "code",
   "execution_count": 5,
   "metadata": {
    "deletable": false,
    "editable": false,
    "nbgrader": {
     "cell_type": "code",
     "checksum": "69c55ebf9328085fd623909691a6ca24",
     "grade": true,
     "grade_id": "cell-ef420142acbdf1a0",
     "locked": true,
     "points": 0.5,
     "schema_version": 3,
     "solution": false
    }
   },
   "outputs": [],
   "source": [
    "assert_equal(type(answer2a),pd.DataFrame)\n",
    "assert_equal(set(answer2a.index), {1,2,3,4})\n",
    "assert_equal(answer2a.sum().sum(),18)"
   ]
  },
  {
   "cell_type": "markdown",
   "metadata": {
    "deletable": false,
    "editable": false,
    "nbgrader": {
     "cell_type": "markdown",
     "checksum": "78d9fae611017e143a5ac0bceda86ff2",
     "grade": false,
     "grade_id": "cell-a804fbd968be82ea",
     "locked": true,
     "schema_version": 3,
     "solution": false
    }
   },
   "source": [
    "## Exercise 1.2b\n",
    "Consider these documents: \n",
    "\n",
    "**Doc 1** breakthrough drug for schizophrenia \n",
    "\n",
    "**Doc 2** new schizophrenia drug \n",
    "\n",
    "**Doc 3** new approach for treatment of schizophrenia \n",
    "\n",
    "**Doc 4** new hopes for schizophrenia patients\n",
    "\n",
    "a. Draw the inverted index representation for this collection, as in Figure 1.3\n",
    "\n",
    "Do it in the form of a dictionary `answer2b`, with as key the word, and as value a **list** of postings (similar to excercise 1.1)."
   ]
  },
  {
   "cell_type": "code",
   "execution_count": 6,
   "metadata": {
    "deletable": false,
    "nbgrader": {
     "cell_type": "code",
     "checksum": "d47eb946447184f0e8764ecdb7761fe2",
     "grade": false,
     "grade_id": "cell-c9191628886d80a2",
     "locked": false,
     "schema_version": 3,
     "solution": true
    }
   },
   "outputs": [
    {
     "data": {
      "text/plain": [
       "{'approach': [3],\n",
       " 'breakthrough': [1],\n",
       " 'drug': [1, 2],\n",
       " 'for': [1, 3, 4],\n",
       " 'hopes': [4],\n",
       " 'new': [2, 3, 4],\n",
       " 'of': [3],\n",
       " 'patients': [4],\n",
       " 'schizophrenia': [1, 2, 3, 4],\n",
       " 'treatment': [3]}"
      ]
     },
     "execution_count": 6,
     "metadata": {},
     "output_type": "execute_result"
    }
   ],
   "source": [
    "answer2b = {\n",
    "    'approach': [3],\n",
    "    'breakthrough': [1],\n",
    "    'drug': [1, 2],\n",
    "    'for': [1, 3, 4],\n",
    "    'hopes': [4],\n",
    "    'new': [2, 3, 4],\n",
    "    'of': [3],\n",
    "    'patients': [4],\n",
    "    'schizophrenia': [1, 2, 3, 4],\n",
    "    'treatment': [3]\n",
    "}\n",
    "\n",
    "answer2b"
   ]
  },
  {
   "cell_type": "code",
   "execution_count": 7,
   "metadata": {
    "deletable": false,
    "editable": false,
    "nbgrader": {
     "cell_type": "code",
     "checksum": "00c444051e748725679c9350dc5ee09f",
     "grade": true,
     "grade_id": "cell-539e112dcb672dcf",
     "locked": true,
     "points": 0.5,
     "schema_version": 3,
     "solution": false
    }
   },
   "outputs": [],
   "source": [
    "assert_equal(type(answer2b), dict)\n",
    "for k,v in answer2b.items():\n",
    "    assert_equal(type(k), str)\n",
    "    assert_equal(type(v), list)\n",
    "    for p in v:\n",
    "        assert_equal(type(p), int)"
   ]
  },
  {
   "cell_type": "markdown",
   "metadata": {
    "deletable": false,
    "editable": false,
    "nbgrader": {
     "cell_type": "markdown",
     "checksum": "8ef7a6eb12bed0e7c9c1adb4d3b5c550",
     "grade": false,
     "grade_id": "cell-42998a26a58d9689",
     "locked": true,
     "schema_version": 3,
     "solution": false
    }
   },
   "source": [
    "## Exercise 1.3\n",
    "For the document collection shown in Exercise 1.2, what are the returned results for these queries: \n",
    "\n",
    "a. schizophrenia AND drug \n",
    "\n",
    "b. for AND NOT(drug OR approach)\n",
    "\n",
    "Give the answer as set of Docs (`answer3a` and `answer3b` respectively), so for example `set([1])` or `set([2,3,4])`"
   ]
  },
  {
   "cell_type": "code",
   "execution_count": 8,
   "metadata": {
    "deletable": false,
    "nbgrader": {
     "cell_type": "code",
     "checksum": "1941b876b6e26e48d69ebc0fabc33882",
     "grade": false,
     "grade_id": "cell-e1a790e2b1c4e97c",
     "locked": false,
     "schema_version": 3,
     "solution": true
    }
   },
   "outputs": [
    {
     "data": {
      "text/plain": [
       "({1, 2}, {4})"
      ]
     },
     "execution_count": 8,
     "metadata": {},
     "output_type": "execute_result"
    }
   ],
   "source": [
    "a3 = answer2a.index[(answer2a['schizophrenia'] == 1) & (answer2a['drug'] == 1)].tolist()\n",
    "answer3a = set(a3)\n",
    "b3 = answer2a.index[(answer2a['for'] == 1) & ~((answer2a['drug'] == 1) | (answer2a['approach'] == 1))].tolist()\n",
    "answer3b = set(b3)\n",
    "\n",
    "answer3a, answer3b"
   ]
  },
  {
   "cell_type": "code",
   "execution_count": 9,
   "metadata": {
    "deletable": false,
    "editable": false,
    "nbgrader": {
     "cell_type": "code",
     "checksum": "71728fd95ad4e154a9f15e26c05039d9",
     "grade": true,
     "grade_id": "cell-2c885e8cc5ef265a",
     "locked": true,
     "points": 1,
     "schema_version": 3,
     "solution": false
    }
   },
   "outputs": [],
   "source": [
    "assert_equal(type(answer3a), set)\n",
    "assert_equal(type(answer3b), set)\n",
    "for a in answer3a|answer3b:\n",
    "    assert_equal(type(a),int)"
   ]
  },
  {
   "cell_type": "markdown",
   "metadata": {
    "deletable": false,
    "editable": false,
    "nbgrader": {
     "cell_type": "markdown",
     "checksum": "c7e0bb1b2e4c54e7871f30bcc10e8675",
     "grade": false,
     "grade_id": "cell-e87cd3bfd87cc745",
     "locked": true,
     "schema_version": 3,
     "solution": false
    }
   },
   "source": [
    "## Exercise 1.4 (not graded)\n",
    "For the queries below, can we still run through the intersection in time O(x + y), where x and y are the lengths of the postings lists for Brutus and Caesar? If not, what can we achieve?\n",
    "\n",
    "a. Brutus AND NOT Caesar \n",
    "\n",
    "b. Brutus OR NOT Caesar"
   ]
  },
  {
   "cell_type": "markdown",
   "metadata": {},
   "source": [
    "a) Yes\n",
    "\n",
    "b) No we can't, this is possible in only O(n) where n is the amount of documents"
   ]
  },
  {
   "cell_type": "markdown",
   "metadata": {
    "deletable": false,
    "editable": false,
    "nbgrader": {
     "cell_type": "markdown",
     "checksum": "4b5fb4f863e8bed1f93944caf326776a",
     "grade": false,
     "grade_id": "cell-caf4ee8c0096ec64",
     "locked": true,
     "schema_version": 3,
     "solution": false
    }
   },
   "source": [
    "## Exercise 1.5 (not graded)\n",
    "Extend the postings merge algorithm to arbitrary Boolean query formulas. What is its time complexity? For instance, consider:\n",
    "\n",
    "c. (Brutus OR Caesar) AND NOT (Antony OR Cleopatra)\n",
    "\n",
    "Can we always merge in linear time? Linear in what? Can we do better than this?\n"
   ]
  },
  {
   "cell_type": "markdown",
   "metadata": {},
   "source": [
    "c) Yes we can, linear in terms of amount of documents, so O(n). We can't do better than this"
   ]
  },
  {
   "cell_type": "markdown",
   "metadata": {
    "deletable": false,
    "editable": false,
    "nbgrader": {
     "cell_type": "markdown",
     "checksum": "f2b820ad18985b8e9fc75857e0730dae",
     "grade": false,
     "grade_id": "cell-0e2eec0ba9ac7602",
     "locked": true,
     "schema_version": 3,
     "solution": false
    }
   },
   "source": [
    "## Exercise 1.6 (not graded)\n",
    "We can use distributive laws for AND and OR to rewrite queries.\n",
    "\n",
    "a. Show how to rewrite the query in Exercise1.5 into disjunctive normal form using the distributive laws. \n",
    "\n",
    "b. Would the resulting query be more or less efﬁciently evaluated than the original formof this query? \n",
    "\n",
    "c. Is this result true in general or does it depend on the words and the contents of the document collection?\n"
   ]
  },
  {
   "cell_type": "markdown",
   "metadata": {},
   "source": [
    "a) (Brutus AND NOT Antony AND NOT Cleopatra) OR (Caesar AND NOT Antony AND NOT Cleopatra)\n",
    "\n",
    "b) It is more efficient, since the first query will probably have a very large posting list for both the queries, our two will be way smaller.\n",
    "\n",
    "c) It depends on the words, if Brutus and/or Ceasar are rare words, then the first one may be more efficient."
   ]
  },
  {
   "cell_type": "markdown",
   "metadata": {
    "deletable": false,
    "editable": false,
    "nbgrader": {
     "cell_type": "markdown",
     "checksum": "0ebc0d6269f37e215eae9ae6d96c9052",
     "grade": false,
     "grade_id": "cell-d94a04dec2bb608e",
     "locked": true,
     "schema_version": 3,
     "solution": false
    }
   },
   "source": [
    "## Exercise 1.7 (not graded)\n",
    "Recommend a query processing order for<br/>\n",
    "d. (tangerine OR trees) AND (marmalade OR skies) AND (kaleidoscope OR eyes) given the following postings list sizes:<br/>\n",
    "\n",
    "|Term |Postings size|\n",
    "|-----|:------------|\n",
    "|eyes|213312|\n",
    "|kaleidoscope|87009|\n",
    "|marmalade|107913|\n",
    "|skies|271658|\n",
    "|tangerine|46653|\n",
    "|trees|316812|\n"
   ]
  },
  {
   "cell_type": "markdown",
   "metadata": {},
   "source": [
    "(kaleidoscope OR eyes) AND (tangerine OR trees) AND (marmalade OR skies)"
   ]
  },
  {
   "cell_type": "markdown",
   "metadata": {
    "deletable": false,
    "editable": false,
    "nbgrader": {
     "cell_type": "markdown",
     "checksum": "c0c7a356ee6c65df600a66886dee041a",
     "grade": false,
     "grade_id": "cell-55197cce39fe9337",
     "locked": true,
     "schema_version": 3,
     "solution": false
    }
   },
   "source": [
    "## Exercise 1.8 (not graded)\n",
    "If the query is:<br/>\n",
    "\n",
    "e. friends AND romans AND (NOT countrymen)<br/>\n",
    "\n",
    "how could we use the frequency of countrymen in evaluating the best query evaluation order? In particular, propose a way of handling negation in determining the order of query processing."
   ]
  },
  {
   "cell_type": "markdown",
   "metadata": {},
   "source": [
    "If NOT countrymen is large then we should use N - that and otherwise we should just use N, so in the first case it has to be done as first and otherwise as last"
   ]
  },
  {
   "cell_type": "markdown",
   "metadata": {
    "deletable": false,
    "editable": false,
    "nbgrader": {
     "cell_type": "markdown",
     "checksum": "81753874a9e83cad360950446ecb4cac",
     "grade": false,
     "grade_id": "cell-e179614a88821ccc",
     "locked": true,
     "schema_version": 3,
     "solution": false
    }
   },
   "source": [
    "## Exercise 1.9 (not graded)\n",
    "For a conjunctive query, is processing postings lists in order of size guaranteed to be optimal? Explain why it is, or give an example where it isn’t."
   ]
  },
  {
   "cell_type": "markdown",
   "metadata": {},
   "source": [
    "No it isn't optimale, because it depends on the amount of docs in the intersection, if list A is small but has a lot of intersection with list B  and there is a list C which is large but has barely any intersection, then it is smarter to do B And C first."
   ]
  },
  {
   "cell_type": "markdown",
   "metadata": {
    "deletable": false,
    "editable": false,
    "nbgrader": {
     "cell_type": "markdown",
     "checksum": "2e226824ba5b967f1ab6f6babe8fa198",
     "grade": false,
     "grade_id": "cell-b97c0ee75cddcf33",
     "locked": true,
     "schema_version": 3,
     "solution": false
    }
   },
   "source": [
    "# Inverted Index"
   ]
  },
  {
   "cell_type": "code",
   "execution_count": 10,
   "metadata": {
    "deletable": false,
    "editable": false,
    "nbgrader": {
     "cell_type": "code",
     "checksum": "46fcede6764aae769bd818dd841ddf14",
     "grade": true,
     "grade_id": "cell-480ae65e69b5d934",
     "locked": true,
     "points": 0,
     "schema_version": 3,
     "solution": false
    }
   },
   "outputs": [],
   "source": [
    "%matplotlib inline\n",
    "from collections import Counter, defaultdict, OrderedDict\n",
    "from bs4 import BeautifulSoup\n",
    "import os\n",
    "from tqdm import tqdm_notebook\n",
    "import glob\n",
    "import nltk\n",
    "import zipfile\n",
    "import math\n",
    "import pandas as pd\n",
    "import sys\n",
    "import itertools\n",
    "\n",
    "\n",
    "def loadShakespeare():\n",
    "    if 'shaks200.zip' in os.listdir():\n",
    "        return 'shaks200.zip'\n",
    "    elif os.path.exists('../../data/Week1/'):\n",
    "        return '../../data/Week1/shaks200.zip'\n",
    "    elif os.path.exists('../../../data/Week1/'):\n",
    "        return '../../../data/Week1/shaks200.zip'\n",
    "    "
   ]
  },
  {
   "cell_type": "markdown",
   "metadata": {
    "deletable": false,
    "editable": false,
    "nbgrader": {
     "cell_type": "markdown",
     "checksum": "1eea4e854b768370d0808fc89ada1004",
     "grade": false,
     "grade_id": "cell-4abbd8297102b812",
     "locked": true,
     "schema_version": 3,
     "solution": false
    }
   },
   "source": [
    "## Question 1\n",
    "Make a function `index_collection` which turns a zipfolder (like Shakespeare) into an inverted index.\n",
    "\n",
    "So the index will be of form:\n",
    "```\n",
    "{'the': defaultdict(int,\n",
    "                         {'a_and_c': 875,\n",
    "                          'all_well': 736,\n",
    "                          'as_you': 698,\n",
    "                          'com_err': 445,\n",
    "                          'coriolan': 1130,\n",
    "                          'cymbelin': 973,\n",
    "                          'dream': 565,\n",
    "                          'hamlet': 1146,\n",
    "                          ...\n",
    "```\n",
    "\n",
    "* Think about lower case, tokenization etc.\n",
    "* Doesn't have to be a defaultdict, but can be useful."
   ]
  },
  {
   "cell_type": "code",
   "execution_count": 11,
   "metadata": {
    "deletable": false,
    "nbgrader": {
     "cell_type": "code",
     "checksum": "e7ee2db8fdd5d973de41ae6d083d73fd",
     "grade": false,
     "grade_id": "cell-ecc0e099ac33f896",
     "locked": false,
     "points": 1,
     "schema_version": 3,
     "solution": true
    },
    "scrolled": false
   },
   "outputs": [
    {
     "name": "stderr",
     "output_type": "stream",
     "text": [
      "<ipython-input-11-4daddb2b57a3>:7: TqdmDeprecationWarning: This function will be removed in tqdm==5.0.0\n",
      "Please use `tqdm.notebook.tqdm` instead of `tqdm.tqdm_notebook`\n",
      "  for infile in tqdm_notebook(namelist):\n"
     ]
    },
    {
     "data": {
      "application/vnd.jupyter.widget-view+json": {
       "model_id": "68a89e94dff84066a618366d928b20e3",
       "version_major": 2,
       "version_minor": 0
      },
      "text/plain": [
       "HBox(children=(HTML(value=''), FloatProgress(value=0.0, max=37.0), HTML(value='')))"
      ]
     },
     "metadata": {},
     "output_type": "display_data"
    },
    {
     "name": "stdout",
     "output_type": "stream",
     "text": [
      "\n",
      "Wall time: 13 s\n"
     ]
    },
    {
     "data": {
      "text/plain": [
       "({'a_and_c': 875,\n",
       "  'all_well': 736,\n",
       "  'as_you': 698,\n",
       "  'com_err': 445,\n",
       "  'coriolan': 1130,\n",
       "  'cymbelin': 973,\n",
       "  'dream': 565,\n",
       "  'hamlet': 1146,\n",
       "  'hen_iv_1': 869,\n",
       "  'hen_iv_2': 1001,\n",
       "  'hen_v': 1089,\n",
       "  'hen_vi_1': 732,\n",
       "  'hen_vi_2': 953,\n",
       "  'hen_vi_3': 818,\n",
       "  'hen_viii': 950,\n",
       "  'j_caesar': 615,\n",
       "  'john': 734,\n",
       "  'lear': 911,\n",
       "  'lll': 861,\n",
       "  'm_for_m': 702,\n",
       "  'm_wives': 611,\n",
       "  'macbeth': 736,\n",
       "  'merchant': 841,\n",
       "  'much_ado': 581,\n",
       "  'othello': 765,\n",
       "  'pericles': 635,\n",
       "  'r_and_j': 687,\n",
       "  'rich_ii': 752,\n",
       "  'rich_iii': 995,\n",
       "  't_night': 552,\n",
       "  'taming': 512,\n",
       "  'tempest': 522,\n",
       "  'timon': 510,\n",
       "  'titus': 659,\n",
       "  'troilus': 846,\n",
       "  'two_gent': 410,\n",
       "  'win_tale': 861},\n",
       " {'a_and_c': 3,\n",
       "  'com_err': 3,\n",
       "  'cymbelin': 1,\n",
       "  'hamlet': 1,\n",
       "  'hen_iv_1': 1,\n",
       "  'hen_v': 1,\n",
       "  'hen_vi_1': 3,\n",
       "  'hen_vi_2': 6,\n",
       "  'hen_vi_3': 1,\n",
       "  'lear': 1,\n",
       "  'm_wives': 9,\n",
       "  'macbeth': 52,\n",
       "  'much_ado': 1,\n",
       "  'rich_iii': 2,\n",
       "  'tempest': 3,\n",
       "  'timon': 1,\n",
       "  'troilus': 2,\n",
       "  'win_tale': 1})"
      ]
     },
     "execution_count": 11,
     "metadata": {},
     "output_type": "execute_result"
    }
   ],
   "source": [
    "def index_collection(zipfolder):\n",
    "    # With zipfile we can read the file without opening the zip file\n",
    "    archive = zipfile.ZipFile(zipfolder, 'r')\n",
    "    namelist = [x for x in archive.namelist() if '.xml' in x]\n",
    "    MyIndex = defaultdict(lambda: defaultdict(int))\n",
    "    lemmatizer = nltk.WordNetLemmatizer()\n",
    "    for infile in tqdm_notebook(namelist):\n",
    "        f = archive.open(infile)\n",
    "        soup = BeautifulSoup(f.read(), \"xml\")\n",
    "        text = ' '.join(soup.findAll(text=True)).lower()\n",
    "        tokens = nltk.word_tokenize(text)\n",
    "        word_freq = defaultdict(int)\n",
    "        for token in tokens:\n",
    "            word_freq[token] += 1\n",
    "        name = infile.replace('.xml', '')\n",
    "        MyIndex[name] = word_freq\n",
    "\n",
    "    MyIndexInverted = defaultdict(dict)\n",
    "    for play, tokens in MyIndex.items():\n",
    "        for token, count in tokens.items():\n",
    "            MyIndexInverted[token][play] = count\n",
    "    return MyIndexInverted\n",
    "\n",
    "%time Shakespeare = index_collection(loadShakespeare())\n",
    "\n",
    "Shakespeare['the'], Shakespeare['witch']"
   ]
  },
  {
   "cell_type": "code",
   "execution_count": 12,
   "metadata": {
    "deletable": false,
    "editable": false,
    "nbgrader": {
     "cell_type": "code",
     "checksum": "7fffcffd9bf5e4ddb7c18bd3ed50ec2c",
     "grade": true,
     "grade_id": "cell-80a890412656a8d0",
     "locked": true,
     "points": 1,
     "schema_version": 3,
     "solution": false
    }
   },
   "outputs": [],
   "source": [
    "assert isinstance(Shakespeare, dict)\n",
    "assert 'macbeth' in Shakespeare['hurlyburly']\n"
   ]
  },
  {
   "cell_type": "markdown",
   "metadata": {
    "deletable": false,
    "editable": false,
    "nbgrader": {
     "cell_type": "markdown",
     "checksum": "f7a69e7420ead48fa34a0e10ab20103d",
     "grade": false,
     "grade_id": "cell-26502d34bfd79644",
     "locked": true,
     "schema_version": 3,
     "solution": false
    }
   },
   "source": [
    "## Question 2\n",
    "\n",
    "Count the total number of tokens in the works of Shakespeare (`TotNumberofTokens`) and the total number of unique tokens (`Vocsize`).  Answer with two one-liners using your created index (which is called `Shakespeare`)."
   ]
  },
  {
   "cell_type": "code",
   "execution_count": 13,
   "metadata": {
    "deletable": false,
    "nbgrader": {
     "cell_type": "code",
     "checksum": "e8d1050d828629085a1f17a960a7b3ac",
     "grade": false,
     "grade_id": "cell-0d0ac196213493f2",
     "locked": false,
     "schema_version": 3,
     "solution": true
    }
   },
   "outputs": [
    {
     "data": {
      "text/plain": [
       "(26479, 1084653, 41.0)"
      ]
     },
     "execution_count": 13,
     "metadata": {},
     "output_type": "execute_result"
    }
   ],
   "source": [
    "# hint: look up how you compute the sum of a list of numbers without a for loop or an extra variable\n",
    "Vocsize = len(Shakespeare)\n",
    "TotNumberofTokens = sum([sum(value.values()) for value in Shakespeare.values()])\n",
    "\n",
    "Vocsize, TotNumberofTokens, round(TotNumberofTokens/Vocsize,1)"
   ]
  },
  {
   "cell_type": "code",
   "execution_count": 14,
   "metadata": {
    "deletable": false,
    "editable": false,
    "nbgrader": {
     "cell_type": "code",
     "checksum": "f7ced0fa61d4b133bea7a6962ae5c6c9",
     "grade": true,
     "grade_id": "cell-280ef3963b3a3ff0",
     "locked": true,
     "points": 0.5,
     "schema_version": 3,
     "solution": false
    }
   },
   "outputs": [],
   "source": [
    "assert_equal(type(Vocsize), int)"
   ]
  },
  {
   "cell_type": "code",
   "execution_count": 15,
   "metadata": {
    "deletable": false,
    "editable": false,
    "nbgrader": {
     "cell_type": "code",
     "checksum": "984c022402e571a58f8f9e6b2b46bfcc",
     "grade": true,
     "grade_id": "cell-543ceebff67e59c4",
     "locked": true,
     "points": 0.5,
     "schema_version": 3,
     "solution": false
    }
   },
   "outputs": [],
   "source": [
    "assert_equal(type(TotNumberofTokens), int)"
   ]
  },
  {
   "cell_type": "markdown",
   "metadata": {
    "deletable": false,
    "editable": false,
    "nbgrader": {
     "cell_type": "markdown",
     "checksum": "8f17cb4c1f9c60d76e16075e3cc110dd",
     "grade": false,
     "grade_id": "cell-c82f6c59b7826d9e",
     "locked": true,
     "schema_version": 3,
     "solution": false
    }
   },
   "source": [
    "## 3\n",
    "\n",
    "1. Calculate the document frequency (in how many documents occurs the term) for each term (store this in the dictionary named `DocFreq`) and \n",
    "2. the corpus frequency (how often does the term occur in the corpus) for each term (store this in the dictionary named `CorpusFreq`). \n",
    "3. Add these two values as new values in your inverted index, which will be called `NewIndex`.\n",
    "\n",
    "The `NewIndex` will then look like this:\n",
    "```{'the': {'CorpusFreq': 28254,\n",
    "  'DocFreq': 37,\n",
    "  'Freq_per_Doc': Counter({'a_and_c': 874,\n",
    "           'all_well': 736,\n",
    "           'as_you': 698,\n",
    "           'com_err': 444,\n",
    "           'coriolan': 1130,\n",
    "           'cymbelin': 973,\n",
    "           'dream': 565,\n",
    "           'hamlet': 1146,\n",
    "           'hen_iv_1': 869,\n",
    "           'hen_iv_2': 1001,\n",
    "           'hen_v': 1089,\n",
    "           'hen_vi_1': 731,\n",
    "           'hen_vi_2': 953,\n",
    "           'hen_vi_3': 818,\n",
    "           'hen_viii': 947,\n",
    "           'j_caesar': 607,\n",
    "           'john': 734,\n",
    "           'lear': 911,\n",
    "           'lll': 860,\n",
    "           'm_for_m': 702,\n",
    "           'm_wives': 610,\n",
    "           'macbeth': 736,\n",
    "           'merchant': 840,\n",
    "           'much_ado': 581,\n",
    "           'othello': 765,\n",
    "           'pericles': 635,\n",
    "           'r_and_j': 687,\n",
    "           'rich_ii': 752,\n",
    "           'rich_iii': 995,\n",
    "           't_night': 550,\n",
    "           'taming': 510,\n",
    "           'tempest': 521,\n",
    "           'timon': 510,\n",
    "           'titus': 659,\n",
    "           'troilus': 846,\n",
    "           'two_gent': 409,\n",
    "           'win_tale': 860})},...```\n",
    "           \n",
    " * the type of `Freq_per_Doc` doesn't have to be a Counter, can also be a defaultdict or dict."
   ]
  },
  {
   "cell_type": "code",
   "execution_count": 16,
   "metadata": {
    "deletable": false,
    "nbgrader": {
     "cell_type": "code",
     "checksum": "a3c5192d35a59dd8a1e2f0a51b4e7eea",
     "grade": false,
     "grade_id": "cell-739b18d157f01e44",
     "locked": false,
     "schema_version": 3,
     "solution": true
    }
   },
   "outputs": [
    {
     "data": {
      "text/plain": [
       "{'CorpusFreq': 28278,\n",
       " 'DocFreq': 37,\n",
       " 'Freq_per_Doc': {'a_and_c': 875,\n",
       "  'all_well': 736,\n",
       "  'as_you': 698,\n",
       "  'com_err': 445,\n",
       "  'coriolan': 1130,\n",
       "  'cymbelin': 973,\n",
       "  'dream': 565,\n",
       "  'hamlet': 1146,\n",
       "  'hen_iv_1': 869,\n",
       "  'hen_iv_2': 1001,\n",
       "  'hen_v': 1089,\n",
       "  'hen_vi_1': 732,\n",
       "  'hen_vi_2': 953,\n",
       "  'hen_vi_3': 818,\n",
       "  'hen_viii': 950,\n",
       "  'j_caesar': 615,\n",
       "  'john': 734,\n",
       "  'lear': 911,\n",
       "  'lll': 861,\n",
       "  'm_for_m': 702,\n",
       "  'm_wives': 611,\n",
       "  'macbeth': 736,\n",
       "  'merchant': 841,\n",
       "  'much_ado': 581,\n",
       "  'othello': 765,\n",
       "  'pericles': 635,\n",
       "  'r_and_j': 687,\n",
       "  'rich_ii': 752,\n",
       "  'rich_iii': 995,\n",
       "  't_night': 552,\n",
       "  'taming': 512,\n",
       "  'tempest': 522,\n",
       "  'timon': 510,\n",
       "  'titus': 659,\n",
       "  'troilus': 846,\n",
       "  'two_gent': 410,\n",
       "  'win_tale': 861}}"
      ]
     },
     "execution_count": 16,
     "metadata": {},
     "output_type": "execute_result"
    }
   ],
   "source": [
    "CorpusFreq = {token:sum(counts.values()) for (token,counts) in Shakespeare.items()}\n",
    "DocFreq = {token:len(counts) for (token,counts) in Shakespeare.items()}\n",
    "NewIndex = {}\n",
    "\n",
    "for token, counts in Shakespeare.items():\n",
    "    NewIndex[token] = {\n",
    "        'CorpusFreq': CorpusFreq[token],\n",
    "        'DocFreq': DocFreq[token],\n",
    "        'Freq_per_Doc': counts\n",
    "    }\n",
    "\n",
    "NewIndex['the']"
   ]
  },
  {
   "cell_type": "code",
   "execution_count": 17,
   "metadata": {
    "deletable": false,
    "editable": false,
    "nbgrader": {
     "cell_type": "code",
     "checksum": "0910d916e77369897679f66a135936d8",
     "grade": true,
     "grade_id": "cell-4cdc200e7c434c2b",
     "locked": true,
     "points": 0.34,
     "schema_version": 3,
     "solution": false
    }
   },
   "outputs": [],
   "source": [
    "assert_equal(type(CorpusFreq),dict)"
   ]
  },
  {
   "cell_type": "code",
   "execution_count": 18,
   "metadata": {
    "deletable": false,
    "editable": false,
    "nbgrader": {
     "cell_type": "code",
     "checksum": "1a2425a1d73ecb52267dd536fe58a50a",
     "grade": true,
     "grade_id": "cell-9807e00ccea6371d",
     "locked": true,
     "points": 0.33,
     "schema_version": 3,
     "solution": false
    }
   },
   "outputs": [],
   "source": [
    "assert_equal(type(DocFreq),dict)"
   ]
  },
  {
   "cell_type": "code",
   "execution_count": 19,
   "metadata": {
    "deletable": false,
    "editable": false,
    "nbgrader": {
     "cell_type": "code",
     "checksum": "95c84d6d0abc797579c8d53885ccbe65",
     "grade": true,
     "grade_id": "cell-dcf52b08a1da000e",
     "locked": true,
     "points": 0.33,
     "schema_version": 3,
     "solution": false
    }
   },
   "outputs": [],
   "source": [
    "assert_equal(type(NewIndex),dict)\n",
    "assert_equal(set(NewIndex['the'].keys()),{'Freq_per_Doc','DocFreq','CorpusFreq'})\n"
   ]
  },
  {
   "cell_type": "markdown",
   "metadata": {
    "deletable": false,
    "editable": false,
    "nbgrader": {
     "cell_type": "markdown",
     "checksum": "72463d45525aa50078bfb485977f9692",
     "grade": false,
     "grade_id": "cell-34d5346f11a4792f",
     "locked": true,
     "schema_version": 3,
     "solution": false
    }
   },
   "source": [
    "## 4\n",
    "\n",
    "Create a function `IndexInfo(index)` which from the enhanced index retrieves the following information:\n",
    "\n",
    "* size of the vocabulary\n",
    "* nr of terms with corpus frequency 1\n",
    "* nr of terms with document frequency 1 \n",
    "* nr of terms with document frequency  equal to the number of documents in the corpus\n",
    "* nr of terms with document frequency  half or more than the number of documents in the corpus\n",
    "\n",
    "It should return the information in that order!"
   ]
  },
  {
   "cell_type": "code",
   "execution_count": 20,
   "metadata": {
    "deletable": false,
    "nbgrader": {
     "cell_type": "code",
     "checksum": "007cf49d342dd5fe54f3f86f7e7fd266",
     "grade": false,
     "grade_id": "cell-30fe60f6fba5acab",
     "locked": false,
     "schema_version": 3,
     "solution": true
    }
   },
   "outputs": [
    {
     "data": {
      "text/plain": [
       "(26479, 11333, 12653, 386, 1963)"
      ]
     },
     "execution_count": 20,
     "metadata": {},
     "output_type": "execute_result"
    }
   ],
   "source": [
    "def IndexInfo(index):\n",
    "    Vocsize = len(index)\n",
    "    Hapaxes = len([k for k,v in index.items() if v['CorpusFreq'] == 1])\n",
    "    SingleDocTerms = len([k for k,v in index.items() if v['DocFreq'] == 1])\n",
    "    \n",
    "    documents = []\n",
    "    for dicts in index.values():\n",
    "        documents.append([*dicts['Freq_per_Doc']])\n",
    "    NumDocuments = len({i for j in documents for i in j})\n",
    "    FullDocTerms = len([k for k,v in index.items() if v['DocFreq'] == NumDocuments])\n",
    "    HalfDocTerms = len([k for k,v in index.items() if v['DocFreq'] >= (NumDocuments / 2)])\n",
    "    \n",
    "    return Vocsize, Hapaxes, SingleDocTerms, FullDocTerms, HalfDocTerms\n",
    "\n",
    "IndexInfo(NewIndex)"
   ]
  },
  {
   "cell_type": "code",
   "execution_count": 21,
   "metadata": {
    "deletable": false,
    "editable": false,
    "nbgrader": {
     "cell_type": "code",
     "checksum": "511dbdee9c1cafbf2684b07a324fa13f",
     "grade": true,
     "grade_id": "cell-ca98643b040c6eac",
     "locked": true,
     "points": 0.2,
     "schema_version": 3,
     "solution": false
    }
   },
   "outputs": [],
   "source": [
    "assert_equal(type(IndexInfo(NewIndex)[0]), int)"
   ]
  },
  {
   "cell_type": "code",
   "execution_count": 22,
   "metadata": {
    "deletable": false,
    "editable": false,
    "nbgrader": {
     "cell_type": "code",
     "checksum": "cfc7d00c2d0d0118cfb7e21467bc6d21",
     "grade": true,
     "grade_id": "cell-322261b39549eb9b",
     "locked": true,
     "points": 0.2,
     "schema_version": 3,
     "solution": false
    }
   },
   "outputs": [],
   "source": [
    "assert_equal(type(IndexInfo(NewIndex)[1]), int)"
   ]
  },
  {
   "cell_type": "code",
   "execution_count": 23,
   "metadata": {
    "deletable": false,
    "editable": false,
    "nbgrader": {
     "cell_type": "code",
     "checksum": "93f6eeb876c14c888f16e7d7990ddc42",
     "grade": true,
     "grade_id": "cell-301745b87a6b9806",
     "locked": true,
     "points": 0.2,
     "schema_version": 3,
     "solution": false
    }
   },
   "outputs": [],
   "source": [
    "assert_equal(type(IndexInfo(NewIndex)[2]), int)"
   ]
  },
  {
   "cell_type": "code",
   "execution_count": 24,
   "metadata": {
    "deletable": false,
    "editable": false,
    "nbgrader": {
     "cell_type": "code",
     "checksum": "ecff151f6957d14a2db52cb7edb4e7e6",
     "grade": true,
     "grade_id": "cell-03e46e9370e4d44d",
     "locked": true,
     "points": 0.2,
     "schema_version": 3,
     "solution": false
    }
   },
   "outputs": [],
   "source": [
    "assert_equal(type(IndexInfo(NewIndex)[3]), int)"
   ]
  },
  {
   "cell_type": "code",
   "execution_count": 25,
   "metadata": {
    "deletable": false,
    "editable": false,
    "nbgrader": {
     "cell_type": "code",
     "checksum": "006ac3f56f59b8dfa9865a59bb55ee64",
     "grade": true,
     "grade_id": "cell-f5e4c181b23654c6",
     "locked": true,
     "points": 0.2,
     "schema_version": 3,
     "solution": false
    }
   },
   "outputs": [],
   "source": [
    "assert_equal(type(IndexInfo(NewIndex)[4]), int)"
   ]
  },
  {
   "cell_type": "markdown",
   "metadata": {
    "deletable": false,
    "editable": false,
    "nbgrader": {
     "cell_type": "markdown",
     "checksum": "47226f3dd1f28744f745fa62b808bf00",
     "grade": false,
     "grade_id": "cell-f313a1814da65d12",
     "locked": true,
     "schema_version": 3,
     "solution": false
    }
   },
   "source": [
    "## 5\n",
    "\n",
    "Look up what Zipf's law means in Wikipedia or in the book. Now show that it holds or not for our corpus.\n",
    "\n",
    "Make the pandas dataframe  `CorpusFreqDF` so that `CorpusFreqDF.plot(loglog=True);` will return a Zipf plot of terms and frequencies."
   ]
  },
  {
   "cell_type": "code",
   "execution_count": 26,
   "metadata": {
    "deletable": false,
    "nbgrader": {
     "cell_type": "code",
     "checksum": "5c6eeefdaf86fafe27e0b341ae28c4f0",
     "grade": false,
     "grade_id": "cell-b201e9f17c20805f",
     "locked": false,
     "schema_version": 3,
     "solution": true
    }
   },
   "outputs": [
    {
     "data": {
      "image/png": "[encoded data removed]",
      "text/plain": [
       "<Figure size 432x288 with 1 Axes>"
      ]
     },
     "metadata": {
      "needs_background": "light"
     },
     "output_type": "display_data"
    }
   ],
   "source": [
    "CorpusFreqDF = pd.DataFrame.from_dict(NewIndex, orient='index', columns=['CorpusFreq']).sort_values(by='CorpusFreq', ascending=False)\n",
    "CorpusFreqDF.columns = [\"CorpusFrequency\"]\n",
    "CorpusFreqDF.plot(loglog=True);"
   ]
  },
  {
   "cell_type": "code",
   "execution_count": 27,
   "metadata": {
    "deletable": false,
    "editable": false,
    "nbgrader": {
     "cell_type": "code",
     "checksum": "4a85dc1f40ca597bff3209a3f5c5b05e",
     "grade": true,
     "grade_id": "cell-bb71005d7439ea25",
     "locked": true,
     "points": 1,
     "schema_version": 3,
     "solution": false
    }
   },
   "outputs": [
    {
     "data": {
      "text/plain": [
       "((26479, 1),\n",
       " array([85852, 37214, 28278, ...,     1,     1,     1], dtype=int64))"
      ]
     },
     "execution_count": 27,
     "metadata": {},
     "output_type": "execute_result"
    }
   ],
   "source": [
    "assert_equal(type(CorpusFreqDF), pd.DataFrame)\n",
    "CorpusFreqDF.shape,CorpusFreqDF.CorpusFrequency.values"
   ]
  },
  {
   "cell_type": "markdown",
   "metadata": {
    "deletable": false,
    "editable": false,
    "nbgrader": {
     "cell_type": "markdown",
     "checksum": "f752ad5b2c6ef2a8ea3c56b1f29983cb",
     "grade": false,
     "grade_id": "cell-d5c398e29d5bb097",
     "locked": true,
     "schema_version": 3,
     "solution": false
    }
   },
   "source": [
    "## 8 Boolean Search\n",
    "\n",
    "We will now make a Boolean search engine as described in Chapter 1."
   ]
  },
  {
   "cell_type": "markdown",
   "metadata": {
    "deletable": false,
    "editable": false,
    "nbgrader": {
     "cell_type": "markdown",
     "checksum": "0e6042bc9e9d0ab6a89fd2c3ba0da71f",
     "grade": false,
     "grade_id": "cell-4e743addfb859948",
     "locked": true,
     "schema_version": 3,
     "solution": false
    }
   },
   "source": [
    "### 8.1 Boolean negation search\n",
    "Create the function `booleanSearchNOT(word, index)`"
   ]
  },
  {
   "cell_type": "code",
   "execution_count": 28,
   "metadata": {
    "deletable": false,
    "nbgrader": {
     "cell_type": "code",
     "checksum": "1487fd6a9b335fbc2303eaf4da904782",
     "grade": false,
     "grade_id": "cell-ee3349180eacd8da",
     "locked": false,
     "schema_version": 3,
     "solution": true
    }
   },
   "outputs": [
    {
     "data": {
      "text/plain": [
       "{'all_well',\n",
       " 'as_you',\n",
       " 'cymbelin',\n",
       " 'dream',\n",
       " 'hamlet',\n",
       " 'hen_iv_1',\n",
       " 'hen_iv_2',\n",
       " 'hen_vi_1',\n",
       " 'hen_vi_3',\n",
       " 'hen_viii',\n",
       " 'j_caesar',\n",
       " 'john',\n",
       " 'lear',\n",
       " 'm_for_m',\n",
       " 'm_wives',\n",
       " 'macbeth',\n",
       " 'merchant',\n",
       " 'much_ado',\n",
       " 'othello',\n",
       " 'pericles',\n",
       " 'rich_ii',\n",
       " 't_night',\n",
       " 'taming',\n",
       " 'tempest',\n",
       " 'timon',\n",
       " 'troilus',\n",
       " 'win_tale'}"
      ]
     },
     "execution_count": 28,
     "metadata": {},
     "output_type": "execute_result"
    }
   ],
   "source": [
    "def booleanSearchNOT(word, index):\n",
    "    \"\"\"\n",
    "    This function takes a string as input and returns all document ids as set\n",
    "    which do NOT contain the word.\n",
    "    \"\"\"\n",
    "    documents = []\n",
    "    for dicts in index.values():\n",
    "        documents.append([*dicts['Freq_per_Doc']])\n",
    "    documents = {i for j in documents for i in j}\n",
    "    word_documents = set(NewIndex[word]['Freq_per_Doc'].keys())\n",
    "    \n",
    "    return (documents - word_documents)\n",
    "    \n",
    "    \n",
    "booleanSearchNOT(\"lightly\", NewIndex)"
   ]
  },
  {
   "cell_type": "code",
   "execution_count": 29,
   "metadata": {
    "deletable": false,
    "editable": false,
    "nbgrader": {
     "cell_type": "code",
     "checksum": "bda287c47fa0e7a3e77d1d569a6151c2",
     "grade": true,
     "grade_id": "cell-f6125c2504b1a68f",
     "locked": true,
     "points": 1,
     "schema_version": 3,
     "solution": false
    }
   },
   "outputs": [],
   "source": [
    "assert_equal(type(booleanSearchNOT(\"lightly\", NewIndex)), set)"
   ]
  },
  {
   "cell_type": "markdown",
   "metadata": {
    "deletable": false,
    "editable": false,
    "nbgrader": {
     "cell_type": "markdown",
     "checksum": "d8ebe23fc1518f950cf2c440735ebaf8",
     "grade": false,
     "grade_id": "cell-92d5b138626bc512",
     "locked": true,
     "schema_version": 3,
     "solution": false
    }
   },
   "source": [
    "### 8.2 Boolean OR search\n",
    "\n",
    "Create the function `booleanSearchOR(query, index)`"
   ]
  },
  {
   "cell_type": "code",
   "execution_count": 30,
   "metadata": {
    "deletable": false,
    "nbgrader": {
     "cell_type": "code",
     "checksum": "bdac97efa6730b6935a664d4a3e62272",
     "grade": false,
     "grade_id": "cell-10aa5d1597de0be5",
     "locked": false,
     "schema_version": 3,
     "solution": true
    }
   },
   "outputs": [
    {
     "data": {
      "text/plain": [
       "{'a_and_c',\n",
       " 'all_well',\n",
       " 'as_you',\n",
       " 'com_err',\n",
       " 'coriolan',\n",
       " 'cymbelin',\n",
       " 'dream',\n",
       " 'hamlet',\n",
       " 'hen_iv_1',\n",
       " 'hen_iv_2',\n",
       " 'hen_v',\n",
       " 'hen_vi_1',\n",
       " 'hen_vi_2',\n",
       " 'hen_vi_3',\n",
       " 'hen_viii',\n",
       " 'j_caesar',\n",
       " 'john',\n",
       " 'lear',\n",
       " 'lll',\n",
       " 'm_for_m',\n",
       " 'm_wives',\n",
       " 'macbeth',\n",
       " 'merchant',\n",
       " 'much_ado',\n",
       " 'othello',\n",
       " 'pericles',\n",
       " 'r_and_j',\n",
       " 'rich_ii',\n",
       " 'rich_iii',\n",
       " 't_night',\n",
       " 'taming',\n",
       " 'tempest',\n",
       " 'timon',\n",
       " 'titus',\n",
       " 'troilus',\n",
       " 'two_gent',\n",
       " 'win_tale'}"
      ]
     },
     "execution_count": 30,
     "metadata": {},
     "output_type": "execute_result"
    }
   ],
   "source": [
    "def booleanSearchOR(query, index):\n",
    "    \"\"\"\n",
    "    This function takes a query as input and returns all document ids as set which\n",
    "    contain at least one of the words.\n",
    "    \"\"\"\n",
    "    documents = []\n",
    "    for word in query:\n",
    "        documents.append([*NewIndex[word]['Freq_per_Doc'].keys()])\n",
    "    result = {i for j in documents for i in j}\n",
    "\n",
    "    return result\n",
    "    \n",
    "booleanSearchOR([\"lightly\", \"love\"], NewIndex)"
   ]
  },
  {
   "cell_type": "code",
   "execution_count": 31,
   "metadata": {
    "deletable": false,
    "editable": false,
    "nbgrader": {
     "cell_type": "code",
     "checksum": "14a55161ea093543326880b304e34655",
     "grade": true,
     "grade_id": "cell-f8efc9467f05480f",
     "locked": true,
     "points": 1,
     "schema_version": 3,
     "solution": false
    }
   },
   "outputs": [],
   "source": [
    "assert_equal(type(booleanSearchOR([\"lightly\", \"love\"], NewIndex)), set)"
   ]
  },
  {
   "cell_type": "markdown",
   "metadata": {
    "deletable": false,
    "editable": false,
    "nbgrader": {
     "cell_type": "markdown",
     "checksum": "7ea5a649276c2f6b07428e1003dabb01",
     "grade": false,
     "grade_id": "cell-191d11c78fbc1377",
     "locked": true,
     "schema_version": 3,
     "solution": false
    }
   },
   "source": [
    "### 8.3 Ranked boolean search\n",
    "A Boolean search engine is not supposed to rank the documents it returns, but we can do that anyway.\n",
    "\n",
    "#### 8.3.1 Most-words first\n",
    "Rank the documents returned for the OR-query in last question as follows: documents which match most words are returned first (if equal, sort alphabetically on document ID). Return the document ID's followed by the number of matching words (i.e. the \"score\" of the document for this query)."
   ]
  },
  {
   "cell_type": "code",
   "execution_count": 32,
   "metadata": {
    "deletable": false,
    "nbgrader": {
     "cell_type": "code",
     "checksum": "7265ef522ce89db3862a90f0bc528993",
     "grade": false,
     "grade_id": "cell-facf62845225258f",
     "locked": false,
     "schema_version": 3,
     "solution": true
    }
   },
   "outputs": [
    {
     "data": {
      "text/plain": [
       "[('two_gent', 166),\n",
       " ('r_and_j', 147),\n",
       " ('as_you', 115),\n",
       " ('lll', 111),\n",
       " ('dream', 109),\n",
       " ('much_ado', 91),\n",
       " ('othello', 80),\n",
       " ('t_night', 77),\n",
       " ('troilus', 71),\n",
       " ('rich_iii', 69),\n",
       " ('hamlet', 67),\n",
       " ('all_well', 63),\n",
       " ('taming', 63),\n",
       " ('merchant', 58),\n",
       " ('lear', 53),\n",
       " ('m_wives', 45),\n",
       " ('hen_v', 41),\n",
       " ('a_and_c', 40),\n",
       " ('hen_vi_3', 40),\n",
       " ('john', 40),\n",
       " ('timon', 34),\n",
       " ('j_caesar', 34),\n",
       " ('rich_ii', 33),\n",
       " ('cymbelin', 30),\n",
       " ('coriolan', 30),\n",
       " ('m_for_m', 29),\n",
       " ('hen_iv_1', 28),\n",
       " ('pericles', 26),\n",
       " ('hen_vi_1', 26),\n",
       " ('titus', 24),\n",
       " ('win_tale', 24),\n",
       " ('hen_viii', 24),\n",
       " ('hen_iv_2', 21),\n",
       " ('com_err', 19),\n",
       " ('macbeth', 19),\n",
       " ('hen_vi_2', 18),\n",
       " ('tempest', 12)]"
      ]
     },
     "execution_count": 32,
     "metadata": {},
     "output_type": "execute_result"
    }
   ],
   "source": [
    "def booleanSearchMatch(query, index):\n",
    "    \"\"\"\n",
    "    This function takes a query as input and returns a list of  all document ids and\n",
    "    scores of documents which contain at least one of the words. Documents\n",
    "    are ranked such that documents that match the most words are returned\n",
    "    first.\n",
    "    \"\"\"\n",
    "    documents = []\n",
    "    for word in query:\n",
    "        documents.append([*NewIndex[word]['Freq_per_Doc'].items()])  \n",
    "    documents = {i for j in documents for i in j}\n",
    "    \n",
    "    combinedDocuments = defaultdict(int)\n",
    "    for play, count in documents:\n",
    "        combinedDocuments[play] += count\n",
    "    \n",
    "    output = sorted(combinedDocuments.items(), key=lambda item: item[1], reverse=True)\n",
    "    \n",
    "    return output\n",
    "    \n",
    "booleanSearchMatch([\"love\",\"lightly\"], NewIndex)"
   ]
  },
  {
   "cell_type": "code",
   "execution_count": 33,
   "metadata": {
    "deletable": false,
    "editable": false,
    "nbgrader": {
     "cell_type": "code",
     "checksum": "28f10dffd84a2c0955e14d0206892a77",
     "grade": true,
     "grade_id": "cell-0f1a4c699d049875",
     "locked": true,
     "points": 1,
     "schema_version": 3,
     "solution": false
    }
   },
   "outputs": [],
   "source": [
    "assert_equal(type(booleanSearchMatch([\"love\",\"lightly\"], NewIndex)), list)\n",
    "assert_equal(type(booleanSearchMatch([\"love\",\"lightly\"], NewIndex)[0]), tuple)\n",
    "assert_equal(type(booleanSearchMatch([\"love\",\"lightly\"], NewIndex)[0][0]), str)\n",
    "assert_equal(type(booleanSearchMatch([\"love\",\"lightly\"], NewIndex)[0][1]), int)"
   ]
  },
  {
   "cell_type": "markdown",
   "metadata": {
    "deletable": false,
    "editable": false,
    "nbgrader": {
     "cell_type": "markdown",
     "checksum": "af347c31077e19a283ffb51380f83820",
     "grade": false,
     "grade_id": "cell-f37f87d6130a23c6",
     "locked": true,
     "schema_version": 3,
     "solution": false
    }
   },
   "source": [
    "#### 8.3.2 Term-frequency sum\n",
    "Now rank the documents by the sum of the term frequencies for all query words. Return doc ID's and scores.\n",
    "\n",
    "Again first sort by score, and break ties by sorting  alphabetically on Doc ID."
   ]
  },
  {
   "cell_type": "code",
   "execution_count": 34,
   "metadata": {
    "deletable": false,
    "nbgrader": {
     "cell_type": "code",
     "checksum": "8c178edf235ab8a96410207be6c208f8",
     "grade": false,
     "grade_id": "cell-74c7e3f7e51b6c92",
     "locked": false,
     "schema_version": 3,
     "solution": true
    }
   },
   "outputs": [
    {
     "data": {
      "text/plain": [
       "[('two_gent', 166),\n",
       " ('r_and_j', 147),\n",
       " ('as_you', 115),\n",
       " ('lll', 111),\n",
       " ('dream', 109),\n",
       " ('much_ado', 91),\n",
       " ('othello', 80),\n",
       " ('t_night', 77),\n",
       " ('troilus', 71),\n",
       " ('rich_iii', 69),\n",
       " ('hamlet', 67),\n",
       " ('all_well', 63),\n",
       " ('taming', 63),\n",
       " ('merchant', 58),\n",
       " ('lear', 53),\n",
       " ('m_wives', 45),\n",
       " ('hen_v', 41),\n",
       " ('a_and_c', 40),\n",
       " ('hen_vi_3', 40),\n",
       " ('john', 40),\n",
       " ('timon', 34),\n",
       " ('j_caesar', 34),\n",
       " ('rich_ii', 33),\n",
       " ('cymbelin', 30),\n",
       " ('coriolan', 30),\n",
       " ('m_for_m', 29),\n",
       " ('hen_iv_1', 28),\n",
       " ('pericles', 26),\n",
       " ('hen_vi_1', 26),\n",
       " ('titus', 24),\n",
       " ('win_tale', 24),\n",
       " ('hen_viii', 24),\n",
       " ('hen_iv_2', 21),\n",
       " ('com_err', 19),\n",
       " ('macbeth', 19),\n",
       " ('hen_vi_2', 18),\n",
       " ('tempest', 12)]"
      ]
     },
     "execution_count": 34,
     "metadata": {},
     "output_type": "execute_result"
    }
   ],
   "source": [
    "def booleanSearchSumTF(query, index):\n",
    "    \"\"\"\n",
    "    This function takes a query as input and returns all document ids and\n",
    "    scores of documents which contain at least one of the words. Documents\n",
    "    are ranked by the sum of the term frequencies of all query words.\n",
    "    \"\"\"\n",
    "    documents = []\n",
    "    for word in query:\n",
    "        documents.append([*NewIndex[word]['Freq_per_Doc'].items()])  \n",
    "    documents = {i for j in documents for i in j}\n",
    "    \n",
    "    combinedDocuments = defaultdict(int)\n",
    "    for play, count in documents:\n",
    "        combinedDocuments[play] += count\n",
    "    \n",
    "    output = sorted(combinedDocuments.items(), key=lambda item: item[1], reverse=True)\n",
    "    \n",
    "    return output\n",
    "    \n",
    "booleanSearchSumTF([\"love\",\"lightly\"], NewIndex)"
   ]
  },
  {
   "cell_type": "code",
   "execution_count": 35,
   "metadata": {
    "deletable": false,
    "editable": false,
    "nbgrader": {
     "cell_type": "code",
     "checksum": "a80af5da76db5fb850d3de2c04d78115",
     "grade": true,
     "grade_id": "cell-83ff086299885d29",
     "locked": true,
     "points": 1,
     "schema_version": 3,
     "solution": false
    }
   },
   "outputs": [],
   "source": [
    "assert_equal(type(booleanSearchSumTF([\"love\",\"lightly\"], NewIndex)), list)\n",
    "assert_equal(type(booleanSearchSumTF([\"love\",\"lightly\"], NewIndex)[0]), tuple)\n",
    "assert_equal(type(booleanSearchSumTF([\"love\",\"lightly\"], NewIndex)[0][0]), str)\n",
    "assert_equal(type(booleanSearchSumTF([\"love\",\"lightly\"], NewIndex)[0][1]), int)"
   ]
  },
  {
   "cell_type": "markdown",
   "metadata": {
    "deletable": false,
    "editable": false,
    "nbgrader": {
     "cell_type": "markdown",
     "checksum": "5e308b94522529d4dd3edce39569d991",
     "grade": false,
     "grade_id": "cell-cf43362d50d798f4",
     "locked": true,
     "schema_version": 3,
     "solution": false
    }
   },
   "source": [
    "#### 8.3.3 Combined\n",
    "Now combine the two rankings. First rank on number of matching search terms, and then on the sum of the term counts. Return both scores for each DocID.\n",
    "\n",
    "The tuple will thus look like this: `(document ID, number of matching search terms, sum of the term frequency counts)`"
   ]
  },
  {
   "cell_type": "code",
   "execution_count": 36,
   "metadata": {
    "deletable": false,
    "nbgrader": {
     "cell_type": "code",
     "checksum": "3319353f4ad9ad9cf795b2b6b34aa3eb",
     "grade": false,
     "grade_id": "cell-13a89b3b12fd9a1d",
     "locked": false,
     "schema_version": 3,
     "solution": true
    }
   },
   "outputs": [
    {
     "data": {
      "text/plain": [
       "[('two_gent', 166, 166),\n",
       " ('r_and_j', 147, 147),\n",
       " ('as_you', 115, 115),\n",
       " ('lll', 111, 111),\n",
       " ('dream', 109, 109),\n",
       " ('much_ado', 91, 91),\n",
       " ('othello', 80, 80),\n",
       " ('t_night', 77, 77),\n",
       " ('troilus', 71, 71),\n",
       " ('rich_iii', 69, 69),\n",
       " ('hamlet', 67, 67),\n",
       " ('all_well', 63, 63),\n",
       " ('taming', 63, 63),\n",
       " ('merchant', 58, 58),\n",
       " ('lear', 53, 53),\n",
       " ('m_wives', 45, 45),\n",
       " ('hen_v', 41, 41),\n",
       " ('a_and_c', 40, 40),\n",
       " ('hen_vi_3', 40, 40),\n",
       " ('john', 40, 40),\n",
       " ('timon', 34, 34),\n",
       " ('j_caesar', 34, 34),\n",
       " ('rich_ii', 33, 33),\n",
       " ('cymbelin', 30, 30),\n",
       " ('coriolan', 30, 30),\n",
       " ('m_for_m', 29, 29),\n",
       " ('hen_iv_1', 28, 28),\n",
       " ('pericles', 26, 26),\n",
       " ('hen_vi_1', 26, 26),\n",
       " ('titus', 24, 24),\n",
       " ('win_tale', 24, 24),\n",
       " ('hen_viii', 24, 24),\n",
       " ('hen_iv_2', 21, 21),\n",
       " ('com_err', 19, 19),\n",
       " ('macbeth', 19, 19),\n",
       " ('hen_vi_2', 18, 18),\n",
       " ('tempest', 12, 12)]"
      ]
     },
     "execution_count": 36,
     "metadata": {},
     "output_type": "execute_result"
    }
   ],
   "source": [
    "def booleanSearchCombined(query, index):\n",
    "    \"\"\"\n",
    "    This function takes a query as input and returns all document ids and\n",
    "    scores of documents which contain at least one of the words. Documents\n",
    "    are ranked first on the number of matching search terms, and then on\n",
    "    the sum of the term frequency counts.\n",
    "    \"\"\"\n",
    "    \n",
    "    score_matching = booleanSearchMatch(query, index)\n",
    "    score_freq = booleanSearchSumTF(query, index)\n",
    "    \n",
    "    results = []\n",
    "    for i in range(len(score_matching)):\n",
    "        result = (score_matching[i][0], score_matching[i][1], score_freq[i][1])\n",
    "        results.append(result)\n",
    "        \n",
    "    return results\n",
    "    \n",
    "booleanSearchCombined([\"love\",\"lightly\"], NewIndex)"
   ]
  },
  {
   "cell_type": "code",
   "execution_count": 37,
   "metadata": {
    "deletable": false,
    "editable": false,
    "nbgrader": {
     "cell_type": "code",
     "checksum": "a4dbf860bf63192175be4410ac9a5a10",
     "grade": true,
     "grade_id": "cell-6cdd92cfcc2d415d",
     "locked": true,
     "points": 1,
     "schema_version": 3,
     "solution": false
    }
   },
   "outputs": [],
   "source": [
    "assert_equal(type(booleanSearchCombined([\"love\",\"lightly\"], NewIndex)), list)\n",
    "assert_equal(type(booleanSearchCombined([\"love\",\"lightly\"], NewIndex)[0]), tuple)\n",
    "assert_equal(type(booleanSearchCombined([\"love\",\"lightly\"], NewIndex)[0][0]), str)\n",
    "assert_equal(type(booleanSearchCombined([\"love\",\"lightly\"], NewIndex)[0][1]), int)\n",
    "assert_equal(type(booleanSearchCombined([\"love\",\"lightly\"], NewIndex)[0][2]), int)"
   ]
  },
  {
   "cell_type": "markdown",
   "metadata": {
    "deletable": false,
    "editable": false,
    "nbgrader": {
     "cell_type": "markdown",
     "checksum": "a1b5fa82594c281909ab3d4afa876e0b",
     "grade": false,
     "grade_id": "cell-6869c9c2ffc2bfe6",
     "locked": true,
     "schema_version": 3,
     "solution": false
    }
   },
   "source": [
    "### 8.4 Boolean AND search\n",
    "Create the function `booleanSearchAND(query, index)`"
   ]
  },
  {
   "cell_type": "code",
   "execution_count": 38,
   "metadata": {
    "deletable": false,
    "nbgrader": {
     "cell_type": "code",
     "checksum": "3d21bc275f29b486de43b3f46a264f69",
     "grade": false,
     "grade_id": "cell-e507e9a68502f0e8",
     "locked": false,
     "schema_version": 3,
     "solution": true
    }
   },
   "outputs": [
    {
     "data": {
      "text/plain": [
       "{0, 3, 4, 10, 12, 18, 26, 28, 33, 35}"
      ]
     },
     "execution_count": 38,
     "metadata": {},
     "output_type": "execute_result"
    }
   ],
   "source": [
    "def booleanSearchAND(query, index):\n",
    "    \"\"\"\n",
    "    This function takes a query as input and returns all document ids as set which\n",
    "    contain ALL the words.\n",
    "    \"\"\"\n",
    "    \n",
    "    docs = list(index[\"the\"][\"Freq_per_Doc\"].keys())\n",
    "    score = {doc:0 for doc in docs}\n",
    "    \n",
    "    result = []\n",
    "    for q in query:\n",
    "        found_docs = list(index[q][\"Freq_per_Doc\"].keys())\n",
    "        for doc in found_docs:\n",
    "            score[doc] += 1\n",
    "    \n",
    "    sorted_dict = dict(sorted(score.items(), key=lambda item: item[1], reverse=True))\n",
    "        \n",
    "    for key, value in sorted_dict.items():\n",
    "        if value == len(query):\n",
    "            result.append(docs.index(key))\n",
    "        else:\n",
    "            break\n",
    "\n",
    "    return set(result)\n",
    "    \n",
    "booleanSearchAND([\"lightly\", \"love\"], NewIndex)"
   ]
  },
  {
   "cell_type": "code",
   "execution_count": 39,
   "metadata": {
    "deletable": false,
    "editable": false,
    "nbgrader": {
     "cell_type": "code",
     "checksum": "8e661e09840fa0bca11e60218a4b580f",
     "grade": true,
     "grade_id": "cell-ab54ede8ff89e3c7",
     "locked": true,
     "points": 1,
     "schema_version": 3,
     "solution": false
    }
   },
   "outputs": [],
   "source": [
    "assert_equal(type(booleanSearchAND([\"lightly\", \"love\"], NewIndex)), set)"
   ]
  },
  {
   "cell_type": "markdown",
   "metadata": {
    "deletable": false,
    "editable": false,
    "nbgrader": {
     "cell_type": "markdown",
     "checksum": "e9c40b67c0e2916debd7f070e8485025",
     "grade": false,
     "grade_id": "cell-663ad1e3efc39c50",
     "locked": true,
     "schema_version": 3,
     "solution": false
    }
   },
   "source": [
    "### 8.5 Ranked Boolean AND search (not graded)\n",
    "How would you implement a ranking for the Boolean AND?"
   ]
  },
  {
   "cell_type": "markdown",
   "metadata": {
    "nbgrader": {
     "grade": false,
     "grade_id": "cell-c34f82add5a898ad",
     "locked": false,
     "points": 0,
     "schema_version": 3,
     "solution": false
    }
   },
   "source": [
    " There are several different options, one could be to count how often they both appear, so if word A is counted 5 times and word B 3 times, the rank would be 3."
   ]
  },
  {
   "cell_type": "markdown",
   "metadata": {
    "deletable": false,
    "editable": false,
    "nbgrader": {
     "cell_type": "markdown",
     "checksum": "ca9b372aad0d9b42e09d4d1ee039f82f",
     "grade": false,
     "grade_id": "cell-e21e2af58387577d",
     "locked": true,
     "schema_version": 3,
     "solution": false
    }
   },
   "source": [
    "### 8.6 Relaxed boolean AND search (not graded)\n",
    "How can you implement a \"relaxed version\" of Boolean AND, in which you also give results if not ALL query words are present, but as much as possible? Of course you want to rank the documents again."
   ]
  },
  {
   "cell_type": "markdown",
   "metadata": {},
   "source": [
    "You could count how many words do occur. At the end you first check if there is a whole match, otherwise you return the docs with N - 1 words."
   ]
  },
  {
   "cell_type": "markdown",
   "metadata": {
    "deletable": false,
    "editable": false,
    "nbgrader": {
     "cell_type": "markdown",
     "checksum": "c805a9bcaed959fcf90ee77ab9512a07",
     "grade": false,
     "grade_id": "cell-f36e09ed69f4e324",
     "locked": true,
     "points": 1,
     "schema_version": 3,
     "solution": false
    }
   },
   "source": [
    "# SQL and full text search\n",
    " \n",
    " Many SQL database systems allow full text search on columns storing text. Unlike with SQL the functionality is not that much standardized but it follows similar ideas. \n",
    " \n",
    " In this exercise you create a bollean search engine, possibly with ranking, in which you can combine full text search with restrictions on other fields. The database used is a collection of transcripts of TedX talks.\n",
    " \n",
    "See the notebook `SQLLiteFullText.ipynb` in this folder for code to get you started and the full description of th exercise. \n",
    "\n",
    "Simply paste your answer to this question here. "
   ]
  }
 ],
 "metadata": {
  "kernelspec": {
   "display_name": "Python 3",
   "language": "python",
   "name": "python3"
  },
  "language_info": {
   "codemirror_mode": {
    "name": "ipython",
    "version": 3
   },
   "file_extension": ".py",
   "mimetype": "text/x-python",
   "name": "python",
   "nbconvert_exporter": "python",
   "pygments_lexer": "ipython3",
   "version": "3.8.5"
  },
  "toc": {
   "nav_menu": {},
   "number_sections": true,
   "sideBar": true,
   "skip_h1_title": false,
   "title_cell": "Table of Contents",
   "title_sidebar": "Contents",
   "toc_cell": true,
   "toc_position": {},
   "toc_section_display": true,
   "toc_window_display": false
  },
  "widgets": {
   "application/vnd.jupyter.widget-state+json": {
    "state": {
     "0c63c4fa18124b52bdf003c44b9cf084": {
      "model_module": "@jupyter-widgets/controls",
      "model_module_version": "1.4.0",
      "model_name": "HTMLModel",
      "state": {
       "_dom_classes": [],
       "_model_module": "@jupyter-widgets/controls",
       "_model_module_version": "1.4.0",
       "_model_name": "HTMLModel",
       "_view_count": null,
       "_view_module": "@jupyter-widgets/controls",
       "_view_module_version": "1.4.0",
       "_view_name": "HTMLView",
       "description": "",
       "description_tooltip": null,
       "layout": "IPY_MODEL_f38f48eda03d41c4bc60e0a22d0b02da",
       "placeholder": "​",
       "style": "IPY_MODEL_bfb893c7ab11460f867cdd66fd2f28d1",
       "value": "100% 37/37 [00:20&lt;00:00,  1.77it/s]"
      }
     },
     "0ce01bf47d4d49cc9d8935c804febf44": {
      "model_module": "@jupyter-widgets/base",
      "model_module_version": "1.1.0",
      "model_name": "LayoutModel",
      "state": {
       "_model_module": "@jupyter-widgets/base",
       "_model_module_version": "1.1.0",
       "_model_name": "LayoutModel",
       "_view_count": null,
       "_view_module": "@jupyter-widgets/base",
       "_view_module_version": "1.1.0",
       "_view_name": "LayoutView",
       "align_content": null,
       "align_items": null,
       "align_self": null,
       "border": null,
       "bottom": null,
       "display": null,
       "flex": null,
       "flex_flow": null,
       "grid_area": null,
       "grid_auto_columns": null,
       "grid_auto_flow": null,
       "grid_auto_rows": null,
       "grid_column": null,
       "grid_gap": null,
       "grid_row": null,
       "grid_template_areas": null,
       "grid_template_columns": null,
       "grid_template_rows": null,
       "height": null,
       "justify_content": null,
       "left": null,
       "margin": null,
       "max_height": null,
       "max_width": null,
       "min_height": null,
       "min_width": null,
       "order": null,
       "overflow": null,
       "overflow_x": null,
       "overflow_y": null,
       "padding": null,
       "right": null,
       "top": null,
       "visibility": null,
       "width": null
      }
     },
     "2a6fa2b845ec42ef9e5e68b729de7133": {
      "model_module": "@jupyter-widgets/controls",
      "model_module_version": "1.4.0",
      "model_name": "ProgressStyleModel",
      "state": {
       "_model_module": "@jupyter-widgets/controls",
       "_model_module_version": "1.4.0",
       "_model_name": "ProgressStyleModel",
       "_view_count": null,
       "_view_module": "@jupyter-widgets/base",
       "_view_module_version": "1.1.0",
       "_view_name": "StyleView",
       "bar_color": null,
       "description_width": ""
      }
     },
     "3a770478574a411982c2da748ce08d23": {
      "model_module": "@jupyter-widgets/base",
      "model_module_version": "1.1.0",
      "model_name": "LayoutModel",
      "state": {
       "_model_module": "@jupyter-widgets/base",
       "_model_module_version": "1.1.0",
       "_model_name": "LayoutModel",
       "_view_count": null,
       "_view_module": "@jupyter-widgets/base",
       "_view_module_version": "1.1.0",
       "_view_name": "LayoutView",
       "align_content": null,
       "align_items": null,
       "align_self": null,
       "border": null,
       "bottom": null,
       "display": null,
       "flex": null,
       "flex_flow": null,
       "grid_area": null,
       "grid_auto_columns": null,
       "grid_auto_flow": null,
       "grid_auto_rows": null,
       "grid_column": null,
       "grid_gap": null,
       "grid_row": null,
       "grid_template_areas": null,
       "grid_template_columns": null,
       "grid_template_rows": null,
       "height": null,
       "justify_content": null,
       "left": null,
       "margin": null,
       "max_height": null,
       "max_width": null,
       "min_height": null,
       "min_width": null,
       "order": null,
       "overflow": null,
       "overflow_x": null,
       "overflow_y": null,
       "padding": null,
       "right": null,
       "top": null,
       "visibility": null,
       "width": null
      }
     },
     "3d29804eb7b346a189911962210f696f": {
      "model_module": "@jupyter-widgets/controls",
      "model_module_version": "1.4.0",
      "model_name": "HBoxModel",
      "state": {
       "_dom_classes": [],
       "_model_module": "@jupyter-widgets/controls",
       "_model_module_version": "1.4.0",
       "_model_name": "HBoxModel",
       "_view_count": null,
       "_view_module": "@jupyter-widgets/controls",
       "_view_module_version": "1.4.0",
       "_view_name": "HBoxView",
       "box_style": "",
       "children": [
        "IPY_MODEL_7788e4355a794d32a06bd50b50783f8d",
        "IPY_MODEL_0c63c4fa18124b52bdf003c44b9cf084"
       ],
       "layout": "IPY_MODEL_bda47b5ea1c44ab9b0af9c5057189ad6"
      }
     },
     "4db792bafe7545c2932d87fa5cdde717": {
      "model_module": "@jupyter-widgets/controls",
      "model_module_version": "1.4.0",
      "model_name": "HTMLModel",
      "state": {
       "_dom_classes": [],
       "_model_module": "@jupyter-widgets/controls",
       "_model_module_version": "1.4.0",
       "_model_name": "HTMLModel",
       "_view_count": null,
       "_view_module": "@jupyter-widgets/controls",
       "_view_module_version": "1.4.0",
       "_view_name": "HTMLView",
       "description": "",
       "description_tooltip": null,
       "layout": "IPY_MODEL_0ce01bf47d4d49cc9d8935c804febf44",
       "placeholder": "​",
       "style": "IPY_MODEL_9f1be639cb344b27a86dfbfd69e1b97f",
       "value": "100% 37/37 [00:23&lt;00:00,  1.65it/s]"
      }
     },
     "5de9b55912e74dbd9f1b05825cd37318": {
      "model_module": "@jupyter-widgets/controls",
      "model_module_version": "1.4.0",
      "model_name": "HBoxModel",
      "state": {
       "_dom_classes": [],
       "_model_module": "@jupyter-widgets/controls",
       "_model_module_version": "1.4.0",
       "_model_name": "HBoxModel",
       "_view_count": null,
       "_view_module": "@jupyter-widgets/controls",
       "_view_module_version": "1.4.0",
       "_view_name": "HBoxView",
       "box_style": "",
       "children": [
        "IPY_MODEL_867731d4c43f4110af460c6cf3528086",
        "IPY_MODEL_4db792bafe7545c2932d87fa5cdde717"
       ],
       "layout": "IPY_MODEL_ac4490e597f841deb7df305fcd037504"
      }
     },
     "7788e4355a794d32a06bd50b50783f8d": {
      "model_module": "@jupyter-widgets/controls",
      "model_module_version": "1.4.0",
      "model_name": "IntProgressModel",
      "state": {
       "_dom_classes": [],
       "_model_module": "@jupyter-widgets/controls",
       "_model_module_version": "1.4.0",
       "_model_name": "IntProgressModel",
       "_view_count": null,
       "_view_module": "@jupyter-widgets/controls",
       "_view_module_version": "1.4.0",
       "_view_name": "ProgressView",
       "bar_style": "success",
       "description": "",
       "description_tooltip": null,
       "layout": "IPY_MODEL_3a770478574a411982c2da748ce08d23",
       "max": 37,
       "min": 0,
       "orientation": "horizontal",
       "style": "IPY_MODEL_d2375e609ebe4382b2023cdb3c40e96b",
       "value": 37
      }
     },
     "867731d4c43f4110af460c6cf3528086": {
      "model_module": "@jupyter-widgets/controls",
      "model_module_version": "1.4.0",
      "model_name": "IntProgressModel",
      "state": {
       "_dom_classes": [],
       "_model_module": "@jupyter-widgets/controls",
       "_model_module_version": "1.4.0",
       "_model_name": "IntProgressModel",
       "_view_count": null,
       "_view_module": "@jupyter-widgets/controls",
       "_view_module_version": "1.4.0",
       "_view_name": "ProgressView",
       "bar_style": "success",
       "description": "",
       "description_tooltip": null,
       "layout": "IPY_MODEL_ae2091ff93344c0cb7856f6c102c154b",
       "max": 37,
       "min": 0,
       "orientation": "horizontal",
       "style": "IPY_MODEL_2a6fa2b845ec42ef9e5e68b729de7133",
       "value": 37
      }
     },
     "9f1be639cb344b27a86dfbfd69e1b97f": {
      "model_module": "@jupyter-widgets/controls",
      "model_module_version": "1.4.0",
      "model_name": "DescriptionStyleModel",
      "state": {
       "_model_module": "@jupyter-widgets/controls",
       "_model_module_version": "1.4.0",
       "_model_name": "DescriptionStyleModel",
       "_view_count": null,
       "_view_module": "@jupyter-widgets/base",
       "_view_module_version": "1.1.0",
       "_view_name": "StyleView",
       "description_width": ""
      }
     },
     "ac4490e597f841deb7df305fcd037504": {
      "model_module": "@jupyter-widgets/base",
      "model_module_version": "1.1.0",
      "model_name": "LayoutModel",
      "state": {
       "_model_module": "@jupyter-widgets/base",
       "_model_module_version": "1.1.0",
       "_model_name": "LayoutModel",
       "_view_count": null,
       "_view_module": "@jupyter-widgets/base",
       "_view_module_version": "1.1.0",
       "_view_name": "LayoutView",
       "align_content": null,
       "align_items": null,
       "align_self": null,
       "border": null,
       "bottom": null,
       "display": null,
       "flex": null,
       "flex_flow": null,
       "grid_area": null,
       "grid_auto_columns": null,
       "grid_auto_flow": null,
       "grid_auto_rows": null,
       "grid_column": null,
       "grid_gap": null,
       "grid_row": null,
       "grid_template_areas": null,
       "grid_template_columns": null,
       "grid_template_rows": null,
       "height": null,
       "justify_content": null,
       "left": null,
       "margin": null,
       "max_height": null,
       "max_width": null,
       "min_height": null,
       "min_width": null,
       "order": null,
       "overflow": null,
       "overflow_x": null,
       "overflow_y": null,
       "padding": null,
       "right": null,
       "top": null,
       "visibility": null,
       "width": null
      }
     },
     "ae2091ff93344c0cb7856f6c102c154b": {
      "model_module": "@jupyter-widgets/base",
      "model_module_version": "1.1.0",
      "model_name": "LayoutModel",
      "state": {
       "_model_module": "@jupyter-widgets/base",
       "_model_module_version": "1.1.0",
       "_model_name": "LayoutModel",
       "_view_count": null,
       "_view_module": "@jupyter-widgets/base",
       "_view_module_version": "1.1.0",
       "_view_name": "LayoutView",
       "align_content": null,
       "align_items": null,
       "align_self": null,
       "border": null,
       "bottom": null,
       "display": null,
       "flex": null,
       "flex_flow": null,
       "grid_area": null,
       "grid_auto_columns": null,
       "grid_auto_flow": null,
       "grid_auto_rows": null,
       "grid_column": null,
       "grid_gap": null,
       "grid_row": null,
       "grid_template_areas": null,
       "grid_template_columns": null,
       "grid_template_rows": null,
       "height": null,
       "justify_content": null,
       "left": null,
       "margin": null,
       "max_height": null,
       "max_width": null,
       "min_height": null,
       "min_width": null,
       "order": null,
       "overflow": null,
       "overflow_x": null,
       "overflow_y": null,
       "padding": null,
       "right": null,
       "top": null,
       "visibility": null,
       "width": null
      }
     },
     "bda47b5ea1c44ab9b0af9c5057189ad6": {
      "model_module": "@jupyter-widgets/base",
      "model_module_version": "1.1.0",
      "model_name": "LayoutModel",
      "state": {
       "_model_module": "@jupyter-widgets/base",
       "_model_module_version": "1.1.0",
       "_model_name": "LayoutModel",
       "_view_count": null,
       "_view_module": "@jupyter-widgets/base",
       "_view_module_version": "1.1.0",
       "_view_name": "LayoutView",
       "align_content": null,
       "align_items": null,
       "align_self": null,
       "border": null,
       "bottom": null,
       "display": null,
       "flex": null,
       "flex_flow": null,
       "grid_area": null,
       "grid_auto_columns": null,
       "grid_auto_flow": null,
       "grid_auto_rows": null,
       "grid_column": null,
       "grid_gap": null,
       "grid_row": null,
       "grid_template_areas": null,
       "grid_template_columns": null,
       "grid_template_rows": null,
       "height": null,
       "justify_content": null,
       "left": null,
       "margin": null,
       "max_height": null,
       "max_width": null,
       "min_height": null,
       "min_width": null,
       "order": null,
       "overflow": null,
       "overflow_x": null,
       "overflow_y": null,
       "padding": null,
       "right": null,
       "top": null,
       "visibility": null,
       "width": null
      }
     },
     "bfb893c7ab11460f867cdd66fd2f28d1": {
      "model_module": "@jupyter-widgets/controls",
      "model_module_version": "1.4.0",
      "model_name": "DescriptionStyleModel",
      "state": {
       "_model_module": "@jupyter-widgets/controls",
       "_model_module_version": "1.4.0",
       "_model_name": "DescriptionStyleModel",
       "_view_count": null,
       "_view_module": "@jupyter-widgets/base",
       "_view_module_version": "1.1.0",
       "_view_name": "StyleView",
       "description_width": ""
      }
     },
     "d2375e609ebe4382b2023cdb3c40e96b": {
      "model_module": "@jupyter-widgets/controls",
      "model_module_version": "1.4.0",
      "model_name": "ProgressStyleModel",
      "state": {
       "_model_module": "@jupyter-widgets/controls",
       "_model_module_version": "1.4.0",
       "_model_name": "ProgressStyleModel",
       "_view_count": null,
       "_view_module": "@jupyter-widgets/base",
       "_view_module_version": "1.1.0",
       "_view_name": "StyleView",
       "bar_color": null,
       "description_width": ""
      }
     },
     "f38f48eda03d41c4bc60e0a22d0b02da": {
      "model_module": "@jupyter-widgets/base",
      "model_module_version": "1.1.0",
      "model_name": "LayoutModel",
      "state": {
       "_model_module": "@jupyter-widgets/base",
       "_model_module_version": "1.1.0",
       "_model_name": "LayoutModel",
       "_view_count": null,
       "_view_module": "@jupyter-widgets/base",
       "_view_module_version": "1.1.0",
       "_view_name": "LayoutView",
       "align_content": null,
       "align_items": null,
       "align_self": null,
       "border": null,
       "bottom": null,
       "display": null,
       "flex": null,
       "flex_flow": null,
       "grid_area": null,
       "grid_auto_columns": null,
       "grid_auto_flow": null,
       "grid_auto_rows": null,
       "grid_column": null,
       "grid_gap": null,
       "grid_row": null,
       "grid_template_areas": null,
       "grid_template_columns": null,
       "grid_template_rows": null,
       "height": null,
       "justify_content": null,
       "left": null,
       "margin": null,
       "max_height": null,
       "max_width": null,
       "min_height": null,
       "min_width": null,
       "order": null,
       "overflow": null,
       "overflow_x": null,
       "overflow_y": null,
       "padding": null,
       "right": null,
       "top": null,
       "visibility": null,
       "width": null
      }
     }
    },
    "version_major": 2,
    "version_minor": 0
   }
  }
 },
 "nbformat": 4,
 "nbformat_minor": 1
}
