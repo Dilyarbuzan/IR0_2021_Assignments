{
 "cells": [
  {
   "cell_type": "markdown",
   "metadata": {
    "id": "cgtq3p8cY-1-"
   },
   "source": [
    "# Zoekmachines"
   ]
  },
  {
   "cell_type": "markdown",
   "metadata": {
    "id": "ezuthTuqY-2E"
   },
   "source": [
    "## Notebook made by\n",
    "\n",
    "__Name__|Job| en vrienden\n",
    "__Student id__ : secret\n",
    "\n",
    "__Name__|Raoul| en vrienden\n",
    "__Student id__ : secret\n",
    "\n",
    "__Name__|Kai| en vrienden\n",
    "__Student id__ : secret\n",
    "\n"
   ]
  },
  {
   "cell_type": "markdown",
   "metadata": {
    "id": "C7K-XRQtY-2G"
   },
   "source": [
    "## Toelichting\n",
    "\n",
    "* De meeste opgaven worden automatisch nagekeken. Bij vrijwel alle opdrachten staan er een paar zichtbare tests onder de opdracht, dit is voornamelijk om te zorgen dat je de juiste type output geeft. De andere tests worden na inleveren toegevoegd aan die cell.\n",
    "\n",
    "## Voor het inleveren!\n",
    "\n",
    "* Pas niet de cellen aan, vooral niet die je niet kunt editen. Dit levert problemen op bij nakijken. Twijfel je of je per ongeluk iets hebt gewijzigd, kopieer dan bij inleveren je antwoorden naar een nieuw bestand, zodat het niet fout kan gaan.\n",
    "\n",
    "* Zorg dat de code goed runt van boven naar beneden, verifieer dat door boven in Kernel -> Restart & Run All uit te voeren"
   ]
  },
  {
   "cell_type": "markdown",
   "metadata": {
    "id": "ERDGlbSlY-2H",
    "toc": true
   },
   "source": [
    "<h1>Table of Contents<span class=\"tocSkip\"></span></h1>\n",
    "<div class=\"toc\"><ul class=\"toc-item\"><li><span><a href=\"#Zoekmachines\" data-toc-modified-id=\"Zoekmachines-1\"><span class=\"toc-item-num\">1&nbsp;&nbsp;</span>Zoekmachines</a></span><ul class=\"toc-item\"><li><span><a href=\"#Notebook-made-by\" data-toc-modified-id=\"Notebook-made-by-1.1\"><span class=\"toc-item-num\">1.1&nbsp;&nbsp;</span>Notebook made by</a></span></li><li><span><a href=\"#Toelichting\" data-toc-modified-id=\"Toelichting-1.2\"><span class=\"toc-item-num\">1.2&nbsp;&nbsp;</span>Toelichting</a></span></li><li><span><a href=\"#Voor-het-inleveren!\" data-toc-modified-id=\"Voor-het-inleveren!-1.3\"><span class=\"toc-item-num\">1.3&nbsp;&nbsp;</span>Voor het inleveren!</a></span></li></ul></li><li><span><a href=\"#Week-1\" data-toc-modified-id=\"Week-1-2\"><span class=\"toc-item-num\">2&nbsp;&nbsp;</span>Week 1</a></span></li><li><span><a href=\"#Book-Questions-(Chapter-1)\" data-toc-modified-id=\"Book-Questions-(Chapter-1)-3\"><span class=\"toc-item-num\">3&nbsp;&nbsp;</span>Book Questions (Chapter 1)</a></span><ul class=\"toc-item\"><li><span><a href=\"#Exercise-1.1\" data-toc-modified-id=\"Exercise-1.1-3.1\"><span class=\"toc-item-num\">3.1&nbsp;&nbsp;</span>Exercise 1.1</a></span></li><li><span><a href=\"#Exercise-1.2a\" data-toc-modified-id=\"Exercise-1.2a-3.2\"><span class=\"toc-item-num\">3.2&nbsp;&nbsp;</span>Exercise 1.2a</a></span></li><li><span><a href=\"#Exercise-1.2b\" data-toc-modified-id=\"Exercise-1.2b-3.3\"><span class=\"toc-item-num\">3.3&nbsp;&nbsp;</span>Exercise 1.2b</a></span></li><li><span><a href=\"#Exercise-1.3\" data-toc-modified-id=\"Exercise-1.3-3.4\"><span class=\"toc-item-num\">3.4&nbsp;&nbsp;</span>Exercise 1.3</a></span></li><li><span><a href=\"#Exercise-1.4-(not-graded)\" data-toc-modified-id=\"Exercise-1.4-(not-graded)-3.5\"><span class=\"toc-item-num\">3.5&nbsp;&nbsp;</span>Exercise 1.4 (not graded)</a></span></li><li><span><a href=\"#Exercise-1.5-(not-graded)\" data-toc-modified-id=\"Exercise-1.5-(not-graded)-3.6\"><span class=\"toc-item-num\">3.6&nbsp;&nbsp;</span>Exercise 1.5 (not graded)</a></span></li><li><span><a href=\"#Exercise-1.6-(not-graded)\" data-toc-modified-id=\"Exercise-1.6-(not-graded)-3.7\"><span class=\"toc-item-num\">3.7&nbsp;&nbsp;</span>Exercise 1.6 (not graded)</a></span></li><li><span><a href=\"#Exercise-1.7-(not-graded)\" data-toc-modified-id=\"Exercise-1.7-(not-graded)-3.8\"><span class=\"toc-item-num\">3.8&nbsp;&nbsp;</span>Exercise 1.7 (not graded)</a></span></li><li><span><a href=\"#Exercise-1.8-(not-graded)\" data-toc-modified-id=\"Exercise-1.8-(not-graded)-3.9\"><span class=\"toc-item-num\">3.9&nbsp;&nbsp;</span>Exercise 1.8 (not graded)</a></span></li><li><span><a href=\"#Exercise-1.9-(not-graded)\" data-toc-modified-id=\"Exercise-1.9-(not-graded)-3.10\"><span class=\"toc-item-num\">3.10&nbsp;&nbsp;</span>Exercise 1.9 (not graded)</a></span></li></ul></li><li><span><a href=\"#Inverted-Index\" data-toc-modified-id=\"Inverted-Index-4\"><span class=\"toc-item-num\">4&nbsp;&nbsp;</span>Inverted Index</a></span><ul class=\"toc-item\"><li><span><a href=\"#Question-1\" data-toc-modified-id=\"Question-1-4.1\"><span class=\"toc-item-num\">4.1&nbsp;&nbsp;</span>Question 1</a></span></li><li><span><a href=\"#Question-2\" data-toc-modified-id=\"Question-2-4.2\"><span class=\"toc-item-num\">4.2&nbsp;&nbsp;</span>Question 2</a></span></li><li><span><a href=\"#3\" data-toc-modified-id=\"3-4.3\"><span class=\"toc-item-num\">4.3&nbsp;&nbsp;</span>3</a></span></li><li><span><a href=\"#4\" data-toc-modified-id=\"4-4.4\"><span class=\"toc-item-num\">4.4&nbsp;&nbsp;</span>4</a></span></li><li><span><a href=\"#5\" data-toc-modified-id=\"5-4.5\"><span class=\"toc-item-num\">4.5&nbsp;&nbsp;</span>5</a></span></li><li><span><a href=\"#8-Boolean-Search\" data-toc-modified-id=\"8-Boolean-Search-4.6\"><span class=\"toc-item-num\">4.6&nbsp;&nbsp;</span>8 Boolean Search</a></span><ul class=\"toc-item\"><li><span><a href=\"#8.1-Boolean-negation-search\" data-toc-modified-id=\"8.1-Boolean-negation-search-4.6.1\"><span class=\"toc-item-num\">4.6.1&nbsp;&nbsp;</span>8.1 Boolean negation search</a></span></li><li><span><a href=\"#8.2-Boolean-OR-search\" data-toc-modified-id=\"8.2-Boolean-OR-search-4.6.2\"><span class=\"toc-item-num\">4.6.2&nbsp;&nbsp;</span>8.2 Boolean OR search</a></span></li><li><span><a href=\"#8.3-Ranked-boolean-search\" data-toc-modified-id=\"8.3-Ranked-boolean-search-4.6.3\"><span class=\"toc-item-num\">4.6.3&nbsp;&nbsp;</span>8.3 Ranked boolean search</a></span><ul class=\"toc-item\"><li><span><a href=\"#8.3.1-Most-words-first\" data-toc-modified-id=\"8.3.1-Most-words-first-4.6.3.1\"><span class=\"toc-item-num\">4.6.3.1&nbsp;&nbsp;</span>8.3.1 Most-words first</a></span></li><li><span><a href=\"#8.3.2-Term-frequency-sum\" data-toc-modified-id=\"8.3.2-Term-frequency-sum-4.6.3.2\"><span class=\"toc-item-num\">4.6.3.2&nbsp;&nbsp;</span>8.3.2 Term-frequency sum</a></span></li><li><span><a href=\"#8.3.3-Combined\" data-toc-modified-id=\"8.3.3-Combined-4.6.3.3\"><span class=\"toc-item-num\">4.6.3.3&nbsp;&nbsp;</span>8.3.3 Combined</a></span></li></ul></li><li><span><a href=\"#8.4-Boolean-AND-search\" data-toc-modified-id=\"8.4-Boolean-AND-search-4.6.4\"><span class=\"toc-item-num\">4.6.4&nbsp;&nbsp;</span>8.4 Boolean AND search</a></span></li><li><span><a href=\"#8.5-Ranked-Boolean-AND-search-(not-graded)\" data-toc-modified-id=\"8.5-Ranked-Boolean-AND-search-(not-graded)-4.6.5\"><span class=\"toc-item-num\">4.6.5&nbsp;&nbsp;</span>8.5 Ranked Boolean AND search (not graded)</a></span></li><li><span><a href=\"#8.6-Relaxed-boolean-AND-search-(not-graded)\" data-toc-modified-id=\"8.6-Relaxed-boolean-AND-search-(not-graded)-4.6.6\"><span class=\"toc-item-num\">4.6.6&nbsp;&nbsp;</span>8.6 Relaxed boolean AND search (not graded)</a></span></li></ul></li></ul></li><li><span><a href=\"#SQL-and-full-text-search\" data-toc-modified-id=\"SQL-and-full-text-search-5\"><span class=\"toc-item-num\">5&nbsp;&nbsp;</span>SQL and full text search</a></span></li></ul></div>"
   ]
  },
  {
   "cell_type": "markdown",
   "metadata": {
    "deletable": false,
    "editable": false,
    "id": "Fo2II8r4Y-2K",
    "nbgrader": {
     "cell_type": "markdown",
     "checksum": "7da289e22d804f86f67e22b517a1f5a7",
     "grade": false,
     "grade_id": "cell-22413888e92328cf",
     "locked": true,
     "schema_version": 3,
     "solution": false
    }
   },
   "source": [
    "# Week 1"
   ]
  },
  {
   "cell_type": "code",
   "execution_count": 1,
   "metadata": {
    "colab": {
     "base_uri": "https://localhost:8080/",
     "height": 334
    },
    "deletable": false,
    "editable": false,
    "id": "yrLRitpMY-2L",
    "nbgrader": {
     "cell_type": "code",
     "checksum": "e5aca405e4f5d718f0a19e6a6c567d7b",
     "grade": false,
     "grade_id": "cell-aff3c83a3bbf3bda",
     "locked": true,
     "schema_version": 3,
     "solution": false
    },
    "outputId": "fd343b48-cbfd-4920-be3d-e96d726b95a3"
   },
   "outputs": [],
   "source": [
    "from nose.tools import assert_equal, assert_not_equal\n",
    "import pandas as pd\n",
    "import numpy as np"
   ]
  },
  {
   "cell_type": "markdown",
   "metadata": {
    "deletable": false,
    "editable": false,
    "id": "HIGCj5_LY-2N",
    "nbgrader": {
     "cell_type": "markdown",
     "checksum": "b4db12a8a877ae51f90c20a72e20ce08",
     "grade": false,
     "grade_id": "cell-56e8018c9f1dbb9b",
     "locked": true,
     "schema_version": 3,
     "solution": false
    }
   },
   "source": [
    "# Book Questions (Chapter 1)\n",
    "In this section you will make the exercises from the book, which is freely available online as a PDF at [nlp.stanford.edu/IR-book/](http://nlp.stanford.edu/IR-book/)."
   ]
  },
  {
   "cell_type": "markdown",
   "metadata": {
    "deletable": false,
    "editable": false,
    "id": "ANQo7qJxY-2O",
    "nbgrader": {
     "cell_type": "markdown",
     "checksum": "b1ffae4eeddcafb5f30b734e70c5b945",
     "grade": false,
     "grade_id": "cell-89ad97fbee0cf6a7",
     "locked": true,
     "schema_version": 3,
     "solution": false
    }
   },
   "source": [
    "## Exercise 1.1\n",
    "\n",
    "Draw the inverted index that would be built for the following document collection. (See Figure1.3 for an example.) \n",
    "\n",
    "**Doc 1** new home sales top forecasts \n",
    "\n",
    "**Doc 2** home sales rise in july \n",
    "\n",
    "**Doc 3** increase in home sales in july \n",
    "\n",
    "**Doc 4** july new home sales rise\n",
    "\n",
    "Do it in the form of a dictionary `answer1`, with as key the word, and as value a **list** of postings\n",
    "\n",
    "So for example: \n",
    "\n",
    "```\n",
    "{\"forecasts\":[1,2,3,4],\"home\":[1,2,3,4],...}\n",
    "```"
   ]
  },
  {
   "cell_type": "code",
   "execution_count": 2,
   "metadata": {
    "colab": {
     "base_uri": "https://localhost:8080/"
    },
    "deletable": false,
    "id": "_9x8RcxnY-2P",
    "nbgrader": {
     "cell_type": "code",
     "checksum": "fc2603260043c1c38b904c851522011d",
     "grade": false,
     "grade_id": "cell-3bac5e77cf2cbf78",
     "locked": false,
     "schema_version": 3,
     "solution": true
    },
    "outputId": "5ec188de-6d9f-4d2f-c3b2-1e460e685b0b"
   },
   "outputs": [
    {
     "data": {
      "text/plain": [
       "{'new': [1, 4],\n",
       " 'home': [1, 2, 3, 4],\n",
       " 'sales': [1, 2, 3, 4],\n",
       " 'top': [1],\n",
       " 'forecasts': [1],\n",
       " 'rise': [2, 4],\n",
       " 'in': [2, 3],\n",
       " 'july': [2, 3, 4],\n",
       " 'increase': [3]}"
      ]
     },
     "execution_count": 2,
     "metadata": {},
     "output_type": "execute_result"
    }
   ],
   "source": [
    "answer1 = {\"new\":[1,4],\"home\":[1,2,3,4],\"sales\":[1,2,3,4],\"top\":[1],\n",
    "           \"forecasts\":[1],\"rise\":[2,4],\"in\":[2,3],\"july\":[2,3,4],\n",
    "          \"increase\":[3]}\n",
    "\n",
    "answer1"
   ]
  },
  {
   "cell_type": "code",
   "execution_count": 3,
   "metadata": {
    "deletable": false,
    "editable": false,
    "id": "4XBTi1I_Y-2R",
    "nbgrader": {
     "cell_type": "code",
     "checksum": "91f350d3302f813c2ace4937f38f9b24",
     "grade": true,
     "grade_id": "cell-07d452fd885d4634",
     "locked": true,
     "points": 1,
     "schema_version": 3,
     "solution": false
    }
   },
   "outputs": [],
   "source": [
    "assert_equal(type(answer1), dict)\n",
    "for k,v in answer1.items():\n",
    "    assert_equal(type(k), str)\n",
    "    assert_equal(type(v), list)\n",
    "    for p in v:\n",
    "        assert_equal(type(p), int)\n",
    "        assert p in range(1,5)"
   ]
  },
  {
   "cell_type": "markdown",
   "metadata": {
    "deletable": false,
    "editable": false,
    "id": "0iOStGb1Y-2R",
    "nbgrader": {
     "cell_type": "markdown",
     "checksum": "cccb1e229f44988b05019192c4df3232",
     "grade": false,
     "grade_id": "2-2",
     "locked": true,
     "schema_version": 3,
     "solution": false
    }
   },
   "source": [
    "## Exercise 1.2a\n",
    "Consider these documents: \n",
    "\n",
    "**Doc 1** breakthrough drug for schizophrenia \n",
    "\n",
    "**Doc 2** new schizophrenia drug \n",
    "\n",
    "**Doc 3** new approach for treatment of schizophrenia \n",
    "\n",
    "**Doc 4** new hopes for schizophrenia patients\n",
    "\n",
    "a. Draw the term-document incidence matrix for this document collection.\n",
    "\n",
    "Do this in pandas below. The document numbers become the index."
   ]
  },
  {
   "cell_type": "code",
   "execution_count": 4,
   "metadata": {
    "colab": {
     "base_uri": "https://localhost:8080/",
     "height": 204
    },
    "deletable": false,
    "id": "z3rvtrlBY-2S",
    "nbgrader": {
     "cell_type": "code",
     "checksum": "95cb3d79f327c5e585f03fe4fc730d03",
     "grade": false,
     "grade_id": "cell-2f3b26c7cf356c32",
     "locked": false,
     "schema_version": 3,
     "solution": true
    },
    "outputId": "dc675ac3-e0b7-4d60-97f0-3487d7ff13ba"
   },
   "outputs": [
    {
     "data": {
      "text/html": [
       "<div>\n",
       "<style scoped>\n",
       "    .dataframe tbody tr th:only-of-type {\n",
       "        vertical-align: middle;\n",
       "    }\n",
       "\n",
       "    .dataframe tbody tr th {\n",
       "        vertical-align: top;\n",
       "    }\n",
       "\n",
       "    .dataframe thead th {\n",
       "        text-align: right;\n",
       "    }\n",
       "</style>\n",
       "<table border=\"1\" class=\"dataframe\">\n",
       "  <thead>\n",
       "    <tr style=\"text-align: right;\">\n",
       "      <th></th>\n",
       "      <th>breakthrough</th>\n",
       "      <th>drug</th>\n",
       "      <th>for</th>\n",
       "      <th>schizophrenia</th>\n",
       "      <th>new</th>\n",
       "      <th>approach</th>\n",
       "      <th>treatment</th>\n",
       "      <th>of</th>\n",
       "      <th>hopes</th>\n",
       "      <th>patients</th>\n",
       "    </tr>\n",
       "    <tr>\n",
       "      <th>document</th>\n",
       "      <th></th>\n",
       "      <th></th>\n",
       "      <th></th>\n",
       "      <th></th>\n",
       "      <th></th>\n",
       "      <th></th>\n",
       "      <th></th>\n",
       "      <th></th>\n",
       "      <th></th>\n",
       "      <th></th>\n",
       "    </tr>\n",
       "  </thead>\n",
       "  <tbody>\n",
       "    <tr>\n",
       "      <th>1</th>\n",
       "      <td>1</td>\n",
       "      <td>1</td>\n",
       "      <td>1</td>\n",
       "      <td>1</td>\n",
       "      <td>0</td>\n",
       "      <td>0</td>\n",
       "      <td>0</td>\n",
       "      <td>0</td>\n",
       "      <td>0</td>\n",
       "      <td>0</td>\n",
       "    </tr>\n",
       "    <tr>\n",
       "      <th>2</th>\n",
       "      <td>0</td>\n",
       "      <td>1</td>\n",
       "      <td>0</td>\n",
       "      <td>1</td>\n",
       "      <td>1</td>\n",
       "      <td>0</td>\n",
       "      <td>0</td>\n",
       "      <td>0</td>\n",
       "      <td>0</td>\n",
       "      <td>0</td>\n",
       "    </tr>\n",
       "    <tr>\n",
       "      <th>3</th>\n",
       "      <td>0</td>\n",
       "      <td>0</td>\n",
       "      <td>1</td>\n",
       "      <td>1</td>\n",
       "      <td>1</td>\n",
       "      <td>1</td>\n",
       "      <td>1</td>\n",
       "      <td>1</td>\n",
       "      <td>0</td>\n",
       "      <td>0</td>\n",
       "    </tr>\n",
       "    <tr>\n",
       "      <th>4</th>\n",
       "      <td>0</td>\n",
       "      <td>0</td>\n",
       "      <td>1</td>\n",
       "      <td>1</td>\n",
       "      <td>1</td>\n",
       "      <td>0</td>\n",
       "      <td>0</td>\n",
       "      <td>0</td>\n",
       "      <td>1</td>\n",
       "      <td>1</td>\n",
       "    </tr>\n",
       "  </tbody>\n",
       "</table>\n",
       "</div>"
      ],
      "text/plain": [
       "          breakthrough  drug  for  schizophrenia  new  approach  treatment  \\\n",
       "document                                                                     \n",
       "1                    1     1    1              1    0         0          0   \n",
       "2                    0     1    0              1    1         0          0   \n",
       "3                    0     0    1              1    1         1          1   \n",
       "4                    0     0    1              1    1         0          0   \n",
       "\n",
       "          of  hopes  patients  \n",
       "document                       \n",
       "1          0      0         0  \n",
       "2          0      0         0  \n",
       "3          1      0         0  \n",
       "4          0      1         1  "
      ]
     },
     "execution_count": 4,
     "metadata": {},
     "output_type": "execute_result"
    }
   ],
   "source": [
    "data = [[1],[2],[3],[4]] \n",
    "  \n",
    "# Create the pandas DataFrame \n",
    "answer2a = pd.DataFrame(data, columns = ['document']).set_index('document')\n",
    "answer2a['breakthrough'] = [1,0,0,0]\n",
    "answer2a['drug'] = [1,1,0,0]\n",
    "answer2a['for'] = [1,0,1,1]\n",
    "answer2a['schizophrenia'] = [1,1,1,1]\n",
    "answer2a['new'] = [0,1,1,1]\n",
    "answer2a['approach'] = [0,0,1,0]\n",
    "answer2a['treatment'] = [0,0,1,0]\n",
    "answer2a['of'] = [0,0,1,0]\n",
    "answer2a['hopes'] = [0,0,0,1]\n",
    "answer2a['patients'] = [0,0,0,1]\n",
    "\n",
    "answer2a"
   ]
  },
  {
   "cell_type": "code",
   "execution_count": 5,
   "metadata": {
    "deletable": false,
    "editable": false,
    "id": "8K77fs1hY-2T",
    "nbgrader": {
     "cell_type": "code",
     "checksum": "69c55ebf9328085fd623909691a6ca24",
     "grade": true,
     "grade_id": "cell-ef420142acbdf1a0",
     "locked": true,
     "points": 0.5,
     "schema_version": 3,
     "solution": false
    }
   },
   "outputs": [],
   "source": [
    "assert_equal(type(answer2a),pd.DataFrame)\n",
    "assert_equal(set(answer2a.index), {1,2,3,4})\n",
    "assert_equal(answer2a.sum().sum(),18)"
   ]
  },
  {
   "cell_type": "markdown",
   "metadata": {
    "deletable": false,
    "editable": false,
    "id": "GFNpz8vhY-2U",
    "nbgrader": {
     "cell_type": "markdown",
     "checksum": "78d9fae611017e143a5ac0bceda86ff2",
     "grade": false,
     "grade_id": "cell-a804fbd968be82ea",
     "locked": true,
     "schema_version": 3,
     "solution": false
    }
   },
   "source": [
    "## Exercise 1.2b\n",
    "Consider these documents: \n",
    "\n",
    "**Doc 1** breakthrough drug for schizophrenia \n",
    "\n",
    "**Doc 2** new schizophrenia drug \n",
    "\n",
    "**Doc 3** new approach for treatment of schizophrenia \n",
    "\n",
    "**Doc 4** new hopes for schizophrenia patients\n",
    "\n",
    "a. Draw the inverted index representation for this collection, as in Figure 1.3\n",
    "\n",
    "Do it in the form of a dictionary `answer2b`, with as key the word, and as value a **list** of postings (similar to excercise 1.1)."
   ]
  },
  {
   "cell_type": "code",
   "execution_count": 6,
   "metadata": {
    "colab": {
     "base_uri": "https://localhost:8080/"
    },
    "deletable": false,
    "id": "BYW_d3ZiY-2U",
    "nbgrader": {
     "cell_type": "code",
     "checksum": "d47eb946447184f0e8764ecdb7761fe2",
     "grade": false,
     "grade_id": "cell-c9191628886d80a2",
     "locked": false,
     "schema_version": 3,
     "solution": true
    },
    "outputId": "5eee5b1e-b520-4b17-94f2-093e64b302f2"
   },
   "outputs": [
    {
     "data": {
      "text/plain": [
       "{'breakthrough': [1],\n",
       " 'drug': [1, 2],\n",
       " 'for': [1, 3, 4],\n",
       " 'schizophrenia': [1, 2, 3, 4],\n",
       " 'new': [2, 3, 4],\n",
       " 'approach': [3],\n",
       " 'treatment': [3],\n",
       " 'of': [3],\n",
       " 'hopes': [4],\n",
       " 'patients': [4]}"
      ]
     },
     "execution_count": 6,
     "metadata": {},
     "output_type": "execute_result"
    }
   ],
   "source": [
    "answer2b = {}\n",
    "\n",
    "for col in answer2a.columns:\n",
    "    answer2b[col] = answer2a.index[answer2a[col]==1].tolist()\n",
    "\n",
    "answer2b"
   ]
  },
  {
   "cell_type": "code",
   "execution_count": 7,
   "metadata": {
    "deletable": false,
    "editable": false,
    "id": "mmjT746gY-2V",
    "nbgrader": {
     "cell_type": "code",
     "checksum": "00c444051e748725679c9350dc5ee09f",
     "grade": true,
     "grade_id": "cell-539e112dcb672dcf",
     "locked": true,
     "points": 0.5,
     "schema_version": 3,
     "solution": false
    }
   },
   "outputs": [],
   "source": [
    "assert_equal(type(answer2b), dict)\n",
    "for k,v in answer2b.items():\n",
    "    assert_equal(type(k), str)\n",
    "    assert_equal(type(v), list)\n",
    "    for p in v:\n",
    "        assert_equal(type(p), int)"
   ]
  },
  {
   "cell_type": "markdown",
   "metadata": {
    "deletable": false,
    "editable": false,
    "id": "nKhoaJ0DY-2V",
    "nbgrader": {
     "cell_type": "markdown",
     "checksum": "8ef7a6eb12bed0e7c9c1adb4d3b5c550",
     "grade": false,
     "grade_id": "cell-42998a26a58d9689",
     "locked": true,
     "schema_version": 3,
     "solution": false
    }
   },
   "source": [
    "## Exercise 1.3\n",
    "For the document collection shown in Exercise 1.2, what are the returned results for these queries: \n",
    "\n",
    "a. schizophrenia AND drug \n",
    "\n",
    "b. for AND NOT(drug OR approach)\n",
    "\n",
    "Give the answer as set of Docs (`answer3a` and `answer3b` respectively), so for example `set([1])` or `set([2,3,4])`"
   ]
  },
  {
   "cell_type": "code",
   "execution_count": 8,
   "metadata": {
    "colab": {
     "base_uri": "https://localhost:8080/"
    },
    "deletable": false,
    "id": "mJg2or__Y-2W",
    "nbgrader": {
     "cell_type": "code",
     "checksum": "1941b876b6e26e48d69ebc0fabc33882",
     "grade": false,
     "grade_id": "cell-e1a790e2b1c4e97c",
     "locked": false,
     "schema_version": 3,
     "solution": true
    },
    "outputId": "c4aeb0db-3ead-4dc4-9e8e-b7a399943964"
   },
   "outputs": [
    {
     "data": {
      "text/plain": [
       "({1, 2}, {4})"
      ]
     },
     "execution_count": 8,
     "metadata": {},
     "output_type": "execute_result"
    }
   ],
   "source": [
    "answer3a = set(answer2a.index[(answer2a['schizophrenia']==1) & (answer2a['drug']==1)])\n",
    "answer3b = set(answer2a.index[(answer2a['for']==1) & (answer2a['drug']==0) & (answer2a['approach']==0)])\n",
    "\n",
    "answer3a, answer3b"
   ]
  },
  {
   "cell_type": "code",
   "execution_count": 9,
   "metadata": {
    "deletable": false,
    "editable": false,
    "id": "SD6V2tsDY-2X",
    "nbgrader": {
     "cell_type": "code",
     "checksum": "71728fd95ad4e154a9f15e26c05039d9",
     "grade": true,
     "grade_id": "cell-2c885e8cc5ef265a",
     "locked": true,
     "points": 1,
     "schema_version": 3,
     "solution": false
    }
   },
   "outputs": [],
   "source": [
    "assert_equal(type(answer3a), set)\n",
    "assert_equal(type(answer3b), set)\n",
    "for a in answer3a|answer3b:\n",
    "    assert_equal(type(a),int)"
   ]
  },
  {
   "cell_type": "markdown",
   "metadata": {
    "deletable": false,
    "editable": false,
    "id": "4-WiP-KnY-2X",
    "nbgrader": {
     "cell_type": "markdown",
     "checksum": "c7e0bb1b2e4c54e7871f30bcc10e8675",
     "grade": false,
     "grade_id": "cell-e87cd3bfd87cc745",
     "locked": true,
     "schema_version": 3,
     "solution": false
    }
   },
   "source": [
    "## Exercise 1.4 (not graded)\n",
    "For the queries below, can we still run through the intersection in time O(x + y), where x and y are the lengths of the postings lists for Brutus and Caesar? If not, what can we achieve?\n",
    "\n",
    "a. Brutus AND NOT Caesar \n",
    "\n",
    "b. Brutus OR NOT Caesar"
   ]
  },
  {
   "cell_type": "markdown",
   "metadata": {
    "id": "wGdi_rw-Y-2Y"
   },
   "source": []
  },
  {
   "cell_type": "markdown",
   "metadata": {
    "deletable": false,
    "editable": false,
    "id": "Fy_1PV9fY-2Y",
    "nbgrader": {
     "cell_type": "markdown",
     "checksum": "4b5fb4f863e8bed1f93944caf326776a",
     "grade": false,
     "grade_id": "cell-caf4ee8c0096ec64",
     "locked": true,
     "schema_version": 3,
     "solution": false
    }
   },
   "source": [
    "## Exercise 1.5 (not graded)\n",
    "Extend the postings merge algorithm to arbitrary Boolean query formulas. What is its time complexity? For instance, consider:\n",
    "\n",
    "c. (Brutus OR Caesar) AND NOT (Antony OR Cleopatra)\n",
    "\n",
    "Can we always merge in linear time? Linear in what? Can we do better than this?\n"
   ]
  },
  {
   "cell_type": "markdown",
   "metadata": {
    "id": "IU0legapY-2Y"
   },
   "source": [
    "a. No. O(x + (TotalIndexes - y) + (TotalIndexes + y)) = O(x + 2 * TotalIndexes)\n",
    "\n",
    "b. No. O(x + (TotalIndexes - y) + (TotalIndexes + y)) = O(x + 2 * TotalIndexes)"
   ]
  },
  {
   "cell_type": "markdown",
   "metadata": {
    "deletable": false,
    "editable": false,
    "id": "H2bjD2U1Y-2Y",
    "nbgrader": {
     "cell_type": "markdown",
     "checksum": "f2b820ad18985b8e9fc75857e0730dae",
     "grade": false,
     "grade_id": "cell-0e2eec0ba9ac7602",
     "locked": true,
     "schema_version": 3,
     "solution": false
    }
   },
   "source": [
    "## Exercise 1.6 (not graded)\n",
    "We can use distributive laws for AND and OR to rewrite queries.\n",
    "\n",
    "a. Show how to rewrite the query in Exercise1.5 into disjunctive normal form using the distributive laws. \n",
    "\n",
    "b. Would the resulting query be more or less efﬁciently evaluated than the original formof this query? \n",
    "\n",
    "c. Is this result true in general or does it depend on the words and the contents of the document collection?\n"
   ]
  },
  {
   "cell_type": "markdown",
   "metadata": {
    "id": "atG6SbRPY-2Z"
   },
   "source": []
  },
  {
   "cell_type": "markdown",
   "metadata": {
    "deletable": false,
    "editable": false,
    "id": "yjOrXHXLY-2Z",
    "nbgrader": {
     "cell_type": "markdown",
     "checksum": "0ebc0d6269f37e215eae9ae6d96c9052",
     "grade": false,
     "grade_id": "cell-d94a04dec2bb608e",
     "locked": true,
     "schema_version": 3,
     "solution": false
    }
   },
   "source": [
    "## Exercise 1.7 (not graded)\n",
    "Recommend a query processing order for<br/>\n",
    "d. (tangerine OR trees) AND (marmalade OR skies) AND (kaleidoscope OR eyes) given the following postings list sizes:<br/>\n",
    "\n",
    "|Term |Postings size|\n",
    "|-----|:------------|\n",
    "|eyes|213312|\n",
    "|kaleidoscope|87009|\n",
    "|marmalade|107913|\n",
    "|skies|271658|\n",
    "|tangerine|46653|\n",
    "|trees|316812|\n"
   ]
  },
  {
   "cell_type": "markdown",
   "metadata": {
    "id": "C2jSfqAuY-2Z"
   },
   "source": []
  },
  {
   "cell_type": "markdown",
   "metadata": {
    "deletable": false,
    "editable": false,
    "id": "v3u0xTkLY-2Z",
    "nbgrader": {
     "cell_type": "markdown",
     "checksum": "c0c7a356ee6c65df600a66886dee041a",
     "grade": false,
     "grade_id": "cell-55197cce39fe9337",
     "locked": true,
     "schema_version": 3,
     "solution": false
    }
   },
   "source": [
    "## Exercise 1.8 (not graded)\n",
    "If the query is:<br/>\n",
    "\n",
    "e. friends AND romans AND (NOT countrymen)<br/>\n",
    "\n",
    "how could we use the frequency of countrymen in evaluating the best query evaluation order? In particular, propose a way of handling negation in determining the order of query processing."
   ]
  },
  {
   "cell_type": "markdown",
   "metadata": {
    "id": "ebJnclLMY-2Z"
   },
   "source": []
  },
  {
   "cell_type": "markdown",
   "metadata": {
    "deletable": false,
    "editable": false,
    "id": "pF2iztkrY-2a",
    "nbgrader": {
     "cell_type": "markdown",
     "checksum": "81753874a9e83cad360950446ecb4cac",
     "grade": false,
     "grade_id": "cell-e179614a88821ccc",
     "locked": true,
     "schema_version": 3,
     "solution": false
    }
   },
   "source": [
    "## Exercise 1.9 (not graded)\n",
    "For a conjunctive query, is processing postings lists in order of size guaranteed to be optimal? Explain why it is, or give an example where it isn’t."
   ]
  },
  {
   "cell_type": "markdown",
   "metadata": {
    "id": "L2PYiXKaY-2a"
   },
   "source": []
  },
  {
   "cell_type": "markdown",
   "metadata": {
    "deletable": false,
    "editable": false,
    "id": "wQ2UvQrWY-2a",
    "nbgrader": {
     "cell_type": "markdown",
     "checksum": "2e226824ba5b967f1ab6f6babe8fa198",
     "grade": false,
     "grade_id": "cell-b97c0ee75cddcf33",
     "locked": true,
     "schema_version": 3,
     "solution": false
    }
   },
   "source": [
    "# Inverted Index"
   ]
  },
  {
   "cell_type": "code",
   "execution_count": 10,
   "metadata": {
    "deletable": false,
    "editable": false,
    "id": "hUhZpvxgY-2a",
    "nbgrader": {
     "cell_type": "code",
     "checksum": "46fcede6764aae769bd818dd841ddf14",
     "grade": true,
     "grade_id": "cell-480ae65e69b5d934",
     "locked": true,
     "points": 0,
     "schema_version": 3,
     "solution": false
    }
   },
   "outputs": [],
   "source": [
    "%matplotlib inline\n",
    "from collections import Counter, defaultdict, OrderedDict\n",
    "from bs4 import BeautifulSoup\n",
    "import os\n",
    "from tqdm import tqdm_notebook\n",
    "import glob\n",
    "import nltk\n",
    "import zipfile\n",
    "import math\n",
    "import pandas as pd\n",
    "import sys\n",
    "import itertools\n",
    "\n",
    "\n",
    "def loadShakespeare():\n",
    "    if 'shaks200.zip' in os.listdir():\n",
    "        return 'shaks200.zip'\n",
    "    elif os.path.exists('../../data/Week1/'):\n",
    "        return '../../data/Week1/shaks200.zip'\n",
    "    elif os.path.exists('../../../data/Week1/'):\n",
    "        return '../../../data/Week1/shaks200.zip'\n",
    "    "
   ]
  },
  {
   "cell_type": "markdown",
   "metadata": {
    "deletable": false,
    "editable": false,
    "id": "ZjhbdJDtY-2b",
    "nbgrader": {
     "cell_type": "markdown",
     "checksum": "1eea4e854b768370d0808fc89ada1004",
     "grade": false,
     "grade_id": "cell-4abbd8297102b812",
     "locked": true,
     "schema_version": 3,
     "solution": false
    }
   },
   "source": [
    "## Question 1\n",
    "Make a function `index_collection` which turns a zipfolder (like Shakespeare) into an inverted index.\n",
    "\n",
    "So the index will be of form:\n",
    "```\n",
    "{'the': defaultdict(int,\n",
    "                         {'a_and_c': 875,\n",
    "                          'all_well': 736,\n",
    "                          'as_you': 698,\n",
    "                          'com_err': 445,\n",
    "                          'coriolan': 1130,\n",
    "                          'cymbelin': 973,\n",
    "                          'dream': 565,\n",
    "                          'hamlet': 1146,\n",
    "                          ...\n",
    "```\n",
    "\n",
    "* Think about lower case, tokenization etc.\n",
    "* Doesn't have to be a defaultdict, but can be useful."
   ]
  },
  {
   "cell_type": "code",
   "execution_count": 11,
   "metadata": {
    "colab": {
     "base_uri": "https://localhost:8080/",
     "height": 443
    },
    "deletable": false,
    "id": "X5uIbU2aY-2b",
    "nbgrader": {
     "cell_type": "code",
     "checksum": "e7ee2db8fdd5d973de41ae6d083d73fd",
     "grade": false,
     "grade_id": "cell-ecc0e099ac33f896",
     "locked": false,
     "points": 1,
     "schema_version": 3,
     "solution": true
    },
    "outputId": "36d35935-0282-4091-bebe-dd119257eee2"
   },
   "outputs": [
    {
     "name": "stderr",
     "output_type": "stream",
     "text": [
      "<ipython-input-11-92ddc9fd8336>:8: TqdmDeprecationWarning: This function will be removed in tqdm==5.0.0\n",
      "Please use `tqdm.notebook.tqdm` instead of `tqdm.tqdm_notebook`\n",
      "  for infile in tqdm_notebook(namelist): # loop over each file\n"
     ]
    },
    {
     "data": {
      "application/vnd.jupyter.widget-view+json": {
       "model_id": "e1adfb7846ee423691a41d320f60afea",
       "version_major": 2,
       "version_minor": 0
      },
      "text/plain": [
       "  0%|          | 0/37 [00:00<?, ?it/s]"
      ]
     },
     "metadata": {},
     "output_type": "display_data"
    },
    {
     "name": "stdout",
     "output_type": "stream",
     "text": [
      "CPU times: user 12.6 s, sys: 36.9 ms, total: 12.6 s\n",
      "Wall time: 12.6 s\n"
     ]
    },
    {
     "data": {
      "text/plain": [
       "(defaultdict(int,\n",
       "             {'a_and_c': 875,\n",
       "              'all_well': 736,\n",
       "              'as_you': 698,\n",
       "              'com_err': 445,\n",
       "              'coriolan': 1130,\n",
       "              'cymbelin': 973,\n",
       "              'dream': 565,\n",
       "              'hamlet': 1146,\n",
       "              'hen_iv_1': 869,\n",
       "              'hen_iv_2': 1001,\n",
       "              'hen_v': 1089,\n",
       "              'hen_vi_1': 732,\n",
       "              'hen_vi_2': 953,\n",
       "              'hen_vi_3': 818,\n",
       "              'hen_viii': 950,\n",
       "              'j_caesar': 615,\n",
       "              'john': 734,\n",
       "              'lear': 911,\n",
       "              'lll': 861,\n",
       "              'm_for_m': 702,\n",
       "              'm_wives': 611,\n",
       "              'macbeth': 736,\n",
       "              'merchant': 841,\n",
       "              'much_ado': 581,\n",
       "              'othello': 765,\n",
       "              'pericles': 635,\n",
       "              'r_and_j': 687,\n",
       "              'rich_ii': 752,\n",
       "              'rich_iii': 995,\n",
       "              't_night': 552,\n",
       "              'taming': 512,\n",
       "              'tempest': 522,\n",
       "              'timon': 510,\n",
       "              'titus': 659,\n",
       "              'troilus': 846,\n",
       "              'two_gent': 410,\n",
       "              'win_tale': 861}),\n",
       " defaultdict(int,\n",
       "             {'a_and_c': 3,\n",
       "              'com_err': 3,\n",
       "              'cymbelin': 1,\n",
       "              'hamlet': 1,\n",
       "              'hen_iv_1': 1,\n",
       "              'hen_v': 1,\n",
       "              'hen_vi_1': 3,\n",
       "              'hen_vi_2': 6,\n",
       "              'hen_vi_3': 1,\n",
       "              'lear': 1,\n",
       "              'm_wives': 9,\n",
       "              'macbeth': 52,\n",
       "              'much_ado': 1,\n",
       "              'rich_iii': 2,\n",
       "              'tempest': 3,\n",
       "              'timon': 1,\n",
       "              'troilus': 2,\n",
       "              'win_tale': 1}))"
      ]
     },
     "execution_count": 11,
     "metadata": {},
     "output_type": "execute_result"
    }
   ],
   "source": [
    "import nltk\n",
    "\n",
    "def index_collection(zipfolder):\n",
    "    # With zipfile we can read the file without opening the zip file\n",
    "    archive = zipfile.ZipFile(zipfolder, 'r')\n",
    "    namelist = [x for x in archive.namelist() if '.xml' in x]\n",
    "    MyIndex = defaultdict(lambda: defaultdict(int)) # initialize MyIndex\n",
    "    for infile in tqdm_notebook(namelist): # loop over each file\n",
    "        f = archive.open(infile)\n",
    "        txt = BeautifulSoup(f).get_text()\n",
    "        txt = txt.lower()\n",
    "        tokenized = nltk.word_tokenize(txt)\n",
    "        tokenized = [word for word in tokenized if word.isalpha()]\n",
    "        for word in tokenized:\n",
    "            MyIndex[word][infile[:-4]] += 1\n",
    "                \n",
    "    return MyIndex\n",
    "\n",
    "%time Shakespeare = index_collection(loadShakespeare())\n",
    "\n",
    "Shakespeare['the'], Shakespeare['witch']"
   ]
  },
  {
   "cell_type": "code",
   "execution_count": 12,
   "metadata": {
    "deletable": false,
    "editable": false,
    "id": "1rSQX12JY-2c",
    "nbgrader": {
     "cell_type": "code",
     "checksum": "7fffcffd9bf5e4ddb7c18bd3ed50ec2c",
     "grade": true,
     "grade_id": "cell-80a890412656a8d0",
     "locked": true,
     "points": 1,
     "schema_version": 3,
     "solution": false
    }
   },
   "outputs": [],
   "source": [
    "assert isinstance(Shakespeare, dict)\n",
    "assert 'macbeth' in Shakespeare['hurlyburly']\n"
   ]
  },
  {
   "cell_type": "markdown",
   "metadata": {
    "deletable": false,
    "editable": false,
    "id": "_7Dt7USvY-2c",
    "nbgrader": {
     "cell_type": "markdown",
     "checksum": "f7a69e7420ead48fa34a0e10ab20103d",
     "grade": false,
     "grade_id": "cell-26502d34bfd79644",
     "locked": true,
     "schema_version": 3,
     "solution": false
    }
   },
   "source": [
    "## Question 2\n",
    "\n",
    "Count the total number of tokens in the works of Shakespeare (`TotNumberofTokens`) and the total number of unique tokens (`Vocsize`).  Answer with two one-liners using your created index (which is called `Shakespeare`)."
   ]
  },
  {
   "cell_type": "code",
   "execution_count": 13,
   "metadata": {
    "deletable": false,
    "id": "FLzA1CHLY-2c",
    "nbgrader": {
     "cell_type": "code",
     "checksum": "e8d1050d828629085a1f17a960a7b3ac",
     "grade": false,
     "grade_id": "cell-0d0ac196213493f2",
     "locked": false,
     "schema_version": 3,
     "solution": true
    }
   },
   "outputs": [
    {
     "data": {
      "text/plain": [
       "(22331, 878129, 39.3)"
      ]
     },
     "execution_count": 13,
     "metadata": {},
     "output_type": "execute_result"
    }
   ],
   "source": [
    "# hint: look up how you compute the sum of a list of numbers without a for loop or an extra variable\n",
    "Vocsize = len(Shakespeare)\n",
    "TotNumberofTokens = sum([sum(Shakespeare[wrd].values()) for wrd in Shakespeare.keys()])\n",
    "\n",
    "Vocsize, TotNumberofTokens, round(TotNumberofTokens/Vocsize,1)"
   ]
  },
  {
   "cell_type": "code",
   "execution_count": 14,
   "metadata": {
    "deletable": false,
    "editable": false,
    "id": "LGJxoXBjY-2d",
    "nbgrader": {
     "cell_type": "code",
     "checksum": "f7ced0fa61d4b133bea7a6962ae5c6c9",
     "grade": true,
     "grade_id": "cell-280ef3963b3a3ff0",
     "locked": true,
     "points": 0.5,
     "schema_version": 3,
     "solution": false
    }
   },
   "outputs": [],
   "source": [
    "assert_equal(type(Vocsize), int)"
   ]
  },
  {
   "cell_type": "code",
   "execution_count": 15,
   "metadata": {
    "deletable": false,
    "editable": false,
    "id": "RRnNYoPHY-2d",
    "nbgrader": {
     "cell_type": "code",
     "checksum": "984c022402e571a58f8f9e6b2b46bfcc",
     "grade": true,
     "grade_id": "cell-543ceebff67e59c4",
     "locked": true,
     "points": 0.5,
     "schema_version": 3,
     "solution": false
    }
   },
   "outputs": [],
   "source": [
    "assert_equal(type(TotNumberofTokens), int)"
   ]
  },
  {
   "cell_type": "markdown",
   "metadata": {
    "deletable": false,
    "editable": false,
    "id": "mHxSqZ31Y-2d",
    "nbgrader": {
     "cell_type": "markdown",
     "checksum": "8f17cb4c1f9c60d76e16075e3cc110dd",
     "grade": false,
     "grade_id": "cell-c82f6c59b7826d9e",
     "locked": true,
     "schema_version": 3,
     "solution": false
    }
   },
   "source": [
    "## 3\n",
    "\n",
    "1. Calculate the document frequency (in how many documents occurs the term) for each term (store this in the dictionary named `DocFreq`) and \n",
    "2. the corpus frequency (how often does the term occur in the corpus) for each term (store this in the dictionary named `CorpusFreq`). \n",
    "3. Add these two values as new values in your inverted index, which will be called `NewIndex`.\n",
    "\n",
    "The `NewIndex` will then look like this:\n",
    "```{'the': {'CorpusFreq': 28254,\n",
    "  'DocFreq': 37,\n",
    "  'Freq_per_Doc': Counter({'a_and_c': 874,\n",
    "           'all_well': 736,\n",
    "           'as_you': 698,\n",
    "           'com_err': 444,\n",
    "           'coriolan': 1130,\n",
    "           'cymbelin': 973,\n",
    "           'dream': 565,\n",
    "           'hamlet': 1146,\n",
    "           'hen_iv_1': 869,\n",
    "           'hen_iv_2': 1001,\n",
    "           'hen_v': 1089,\n",
    "           'hen_vi_1': 731,\n",
    "           'hen_vi_2': 953,\n",
    "           'hen_vi_3': 818,\n",
    "           'hen_viii': 947,\n",
    "           'j_caesar': 607,\n",
    "           'john': 734,\n",
    "           'lear': 911,\n",
    "           'lll': 860,\n",
    "           'm_for_m': 702,\n",
    "           'm_wives': 610,\n",
    "           'macbeth': 736,\n",
    "           'merchant': 840,\n",
    "           'much_ado': 581,\n",
    "           'othello': 765,\n",
    "           'pericles': 635,\n",
    "           'r_and_j': 687,\n",
    "           'rich_ii': 752,\n",
    "           'rich_iii': 995,\n",
    "           't_night': 550,\n",
    "           'taming': 510,\n",
    "           'tempest': 521,\n",
    "           'timon': 510,\n",
    "           'titus': 659,\n",
    "           'troilus': 846,\n",
    "           'two_gent': 409,\n",
    "           'win_tale': 860})},...```\n",
    "           \n",
    " * the type of `Freq_per_Doc` doesn't have to be a Counter, can also be a defaultdict or dict."
   ]
  },
  {
   "cell_type": "code",
   "execution_count": 16,
   "metadata": {
    "deletable": false,
    "id": "oAEbdhLeY-2e",
    "nbgrader": {
     "cell_type": "code",
     "checksum": "a3c5192d35a59dd8a1e2f0a51b4e7eea",
     "grade": false,
     "grade_id": "cell-739b18d157f01e44",
     "locked": false,
     "schema_version": 3,
     "solution": true
    }
   },
   "outputs": [
    {
     "data": {
      "text/plain": [
       "{'CorpusFreq': 28278,\n",
       " 'DocFreq': 37,\n",
       " 'Freq_per_Doc': defaultdict(int,\n",
       "             {'a_and_c': 875,\n",
       "              'all_well': 736,\n",
       "              'as_you': 698,\n",
       "              'com_err': 445,\n",
       "              'coriolan': 1130,\n",
       "              'cymbelin': 973,\n",
       "              'dream': 565,\n",
       "              'hamlet': 1146,\n",
       "              'hen_iv_1': 869,\n",
       "              'hen_iv_2': 1001,\n",
       "              'hen_v': 1089,\n",
       "              'hen_vi_1': 732,\n",
       "              'hen_vi_2': 953,\n",
       "              'hen_vi_3': 818,\n",
       "              'hen_viii': 950,\n",
       "              'j_caesar': 615,\n",
       "              'john': 734,\n",
       "              'lear': 911,\n",
       "              'lll': 861,\n",
       "              'm_for_m': 702,\n",
       "              'm_wives': 611,\n",
       "              'macbeth': 736,\n",
       "              'merchant': 841,\n",
       "              'much_ado': 581,\n",
       "              'othello': 765,\n",
       "              'pericles': 635,\n",
       "              'r_and_j': 687,\n",
       "              'rich_ii': 752,\n",
       "              'rich_iii': 995,\n",
       "              't_night': 552,\n",
       "              'taming': 512,\n",
       "              'tempest': 522,\n",
       "              'timon': 510,\n",
       "              'titus': 659,\n",
       "              'troilus': 846,\n",
       "              'two_gent': 410,\n",
       "              'win_tale': 861})}"
      ]
     },
     "execution_count": 16,
     "metadata": {},
     "output_type": "execute_result"
    }
   ],
   "source": [
    "CorpusFreq = {wrd : sum(Shakespeare[wrd].values()) for wrd in Shakespeare} # change to your solution\n",
    "DocFreq = {wrd : len(Shakespeare[wrd].values()) for wrd in Shakespeare} # change to your solution\n",
    "NewIndex = {wrd : {'CorpusFreq' : CorpusFreq[wrd],\n",
    "                   'DocFreq' : DocFreq[wrd],\n",
    "                   'Freq_per_Doc' : Shakespeare[wrd]} for wrd in Shakespeare} # change to your solution\n",
    "\n",
    "NewIndex['the']"
   ]
  },
  {
   "cell_type": "code",
   "execution_count": 17,
   "metadata": {
    "deletable": false,
    "editable": false,
    "id": "5CSwFpEOY-2e",
    "nbgrader": {
     "cell_type": "code",
     "checksum": "0910d916e77369897679f66a135936d8",
     "grade": true,
     "grade_id": "cell-4cdc200e7c434c2b",
     "locked": true,
     "points": 0.34,
     "schema_version": 3,
     "solution": false
    }
   },
   "outputs": [],
   "source": [
    "assert_equal(type(CorpusFreq),dict)"
   ]
  },
  {
   "cell_type": "code",
   "execution_count": 18,
   "metadata": {
    "deletable": false,
    "editable": false,
    "id": "HyYlG3glY-2f",
    "nbgrader": {
     "cell_type": "code",
     "checksum": "1a2425a1d73ecb52267dd536fe58a50a",
     "grade": true,
     "grade_id": "cell-9807e00ccea6371d",
     "locked": true,
     "points": 0.33,
     "schema_version": 3,
     "solution": false
    }
   },
   "outputs": [],
   "source": [
    "assert_equal(type(DocFreq),dict)"
   ]
  },
  {
   "cell_type": "code",
   "execution_count": 19,
   "metadata": {
    "deletable": false,
    "editable": false,
    "id": "ZBzi92l8Y-2f",
    "nbgrader": {
     "cell_type": "code",
     "checksum": "95c84d6d0abc797579c8d53885ccbe65",
     "grade": true,
     "grade_id": "cell-dcf52b08a1da000e",
     "locked": true,
     "points": 0.33,
     "schema_version": 3,
     "solution": false
    }
   },
   "outputs": [],
   "source": [
    "assert_equal(type(NewIndex),dict)\n",
    "assert_equal(set(NewIndex['the'].keys()),{'Freq_per_Doc','DocFreq','CorpusFreq'})\n"
   ]
  },
  {
   "cell_type": "markdown",
   "metadata": {
    "deletable": false,
    "editable": false,
    "id": "B0TScRd9Y-2f",
    "nbgrader": {
     "cell_type": "markdown",
     "checksum": "72463d45525aa50078bfb485977f9692",
     "grade": false,
     "grade_id": "cell-34d5346f11a4792f",
     "locked": true,
     "schema_version": 3,
     "solution": false
    }
   },
   "source": [
    "## 4\n",
    "\n",
    "Create a function `IndexInfo(index)` which from the enhanced index retrieves the following information:\n",
    "\n",
    "* size of the vocabulary\n",
    "* nr of terms with corpus frequency 1\n",
    "* nr of terms with document frequency 1 \n",
    "* nr of terms with document frequency  equal to the number of documents in the corpus\n",
    "* nr of terms with document frequency  half or more than the number of documents in the corpus\n",
    "\n",
    "It should return the information in that order!"
   ]
  },
  {
   "cell_type": "code",
   "execution_count": 20,
   "metadata": {
    "deletable": false,
    "id": "O6yz-RAjY-2g",
    "nbgrader": {
     "cell_type": "code",
     "checksum": "007cf49d342dd5fe54f3f86f7e7fd266",
     "grade": false,
     "grade_id": "cell-30fe60f6fba5acab",
     "locked": false,
     "schema_version": 3,
     "solution": true
    }
   },
   "outputs": [
    {
     "data": {
      "text/plain": [
       "(878129, 8132, 9276, 362, 1910)"
      ]
     },
     "execution_count": 20,
     "metadata": {},
     "output_type": "execute_result"
    }
   ],
   "source": [
    "def IndexInfo(index):\n",
    "    NrDocs = len(index['the']['Freq_per_Doc'])\n",
    "    \n",
    "    Vocsize = sum([index[wrd]['CorpusFreq'] for wrd in index.keys()])\n",
    "    Hapaxes = sum([1 for wrd in index.keys() if index[wrd]['CorpusFreq'] == 1])\n",
    "    SingleDocTerms = sum([1 for wrd in index.keys() if index[wrd]['DocFreq'] == 1])\n",
    "    FullDocTerms = sum([1 for wrd in index.keys() if index[wrd]['DocFreq'] == NrDocs])\n",
    "    HalfDocTerms = sum([1 for wrd in index.keys() if index[wrd]['DocFreq'] >= (NrDocs/2)])\n",
    "\n",
    "    return Vocsize, Hapaxes, SingleDocTerms, FullDocTerms, HalfDocTerms\n",
    "IndexInfo(NewIndex)"
   ]
  },
  {
   "cell_type": "code",
   "execution_count": 21,
   "metadata": {
    "deletable": false,
    "editable": false,
    "id": "qp2_SMmrY-2g",
    "nbgrader": {
     "cell_type": "code",
     "checksum": "511dbdee9c1cafbf2684b07a324fa13f",
     "grade": true,
     "grade_id": "cell-ca98643b040c6eac",
     "locked": true,
     "points": 0.2,
     "schema_version": 3,
     "solution": false
    }
   },
   "outputs": [],
   "source": [
    "assert_equal(type(IndexInfo(NewIndex)[0]), int)"
   ]
  },
  {
   "cell_type": "code",
   "execution_count": 22,
   "metadata": {
    "deletable": false,
    "editable": false,
    "id": "TDHlkXTwY-2h",
    "nbgrader": {
     "cell_type": "code",
     "checksum": "cfc7d00c2d0d0118cfb7e21467bc6d21",
     "grade": true,
     "grade_id": "cell-322261b39549eb9b",
     "locked": true,
     "points": 0.2,
     "schema_version": 3,
     "solution": false
    }
   },
   "outputs": [],
   "source": [
    "assert_equal(type(IndexInfo(NewIndex)[1]), int)"
   ]
  },
  {
   "cell_type": "code",
   "execution_count": 23,
   "metadata": {
    "deletable": false,
    "editable": false,
    "id": "DGGFN6AcY-2h",
    "nbgrader": {
     "cell_type": "code",
     "checksum": "93f6eeb876c14c888f16e7d7990ddc42",
     "grade": true,
     "grade_id": "cell-301745b87a6b9806",
     "locked": true,
     "points": 0.2,
     "schema_version": 3,
     "solution": false
    }
   },
   "outputs": [],
   "source": [
    "assert_equal(type(IndexInfo(NewIndex)[2]), int)"
   ]
  },
  {
   "cell_type": "code",
   "execution_count": 24,
   "metadata": {
    "deletable": false,
    "editable": false,
    "id": "cfp8UcWIY-2h",
    "nbgrader": {
     "cell_type": "code",
     "checksum": "ecff151f6957d14a2db52cb7edb4e7e6",
     "grade": true,
     "grade_id": "cell-03e46e9370e4d44d",
     "locked": true,
     "points": 0.2,
     "schema_version": 3,
     "solution": false
    }
   },
   "outputs": [],
   "source": [
    "assert_equal(type(IndexInfo(NewIndex)[3]), int)"
   ]
  },
  {
   "cell_type": "code",
   "execution_count": 25,
   "metadata": {
    "deletable": false,
    "editable": false,
    "id": "3orPTLuWY-2i",
    "nbgrader": {
     "cell_type": "code",
     "checksum": "006ac3f56f59b8dfa9865a59bb55ee64",
     "grade": true,
     "grade_id": "cell-f5e4c181b23654c6",
     "locked": true,
     "points": 0.2,
     "schema_version": 3,
     "solution": false
    }
   },
   "outputs": [],
   "source": [
    "assert_equal(type(IndexInfo(NewIndex)[4]), int)"
   ]
  },
  {
   "cell_type": "markdown",
   "metadata": {
    "deletable": false,
    "editable": false,
    "id": "tPIF5hw7Y-2i",
    "nbgrader": {
     "cell_type": "markdown",
     "checksum": "47226f3dd1f28744f745fa62b808bf00",
     "grade": false,
     "grade_id": "cell-f313a1814da65d12",
     "locked": true,
     "schema_version": 3,
     "solution": false
    }
   },
   "source": [
    "## 5\n",
    "\n",
    "Look up what Zipf's law means in Wikipedia or in the book. Now show that it holds or not for our corpus.\n",
    "\n",
    "Make the pandas dataframe  `CorpusFreqDF` so that `CorpusFreqDF.plot(loglog=True);` will return a Zipf plot of terms and frequencies."
   ]
  },
  {
   "cell_type": "code",
   "execution_count": 26,
   "metadata": {
    "deletable": false,
    "id": "Q_XLj7ufY-2i",
    "nbgrader": {
     "cell_type": "code",
     "checksum": "5c6eeefdaf86fafe27e0b341ae28c4f0",
     "grade": false,
     "grade_id": "cell-b201e9f17c20805f",
     "locked": false,
     "schema_version": 3,
     "solution": true
    }
   },
   "outputs": [
    {
     "data": {
      "image/png": "[encoded data removed]",
      "text/plain": [
       "<Figure size 432x288 with 1 Axes>"
      ]
     },
     "metadata": {
      "needs_background": "light"
     },
     "output_type": "display_data"
    }
   ],
   "source": [
    "lst = [NewIndex[wrd]['CorpusFreq'] for wrd in NewIndex.keys()]\n",
    "lst.sort(reverse=True)\n",
    "CorpusFreqDF = pd.DataFrame({'CorpusFrequency':lst})\n",
    "CorpusFreqDF.plot(loglog=True);"
   ]
  },
  {
   "cell_type": "code",
   "execution_count": 27,
   "metadata": {
    "deletable": false,
    "editable": false,
    "id": "sVpAzJkGY-2i",
    "nbgrader": {
     "cell_type": "code",
     "checksum": "4a85dc1f40ca597bff3209a3f5c5b05e",
     "grade": true,
     "grade_id": "cell-bb71005d7439ea25",
     "locked": true,
     "points": 1,
     "schema_version": 3,
     "solution": false
    }
   },
   "outputs": [
    {
     "data": {
      "text/plain": [
       "((22331, 1), array([28278, 26007, 22361, ...,     1,     1,     1]))"
      ]
     },
     "execution_count": 27,
     "metadata": {},
     "output_type": "execute_result"
    }
   ],
   "source": [
    "assert_equal(type(CorpusFreqDF), pd.DataFrame)\n",
    "CorpusFreqDF.shape,CorpusFreqDF.CorpusFrequency.values"
   ]
  },
  {
   "cell_type": "markdown",
   "metadata": {
    "deletable": false,
    "editable": false,
    "id": "6CYKz48eY-2j",
    "nbgrader": {
     "cell_type": "markdown",
     "checksum": "f752ad5b2c6ef2a8ea3c56b1f29983cb",
     "grade": false,
     "grade_id": "cell-d5c398e29d5bb097",
     "locked": true,
     "schema_version": 3,
     "solution": false
    }
   },
   "source": [
    "## 8 Boolean Search\n",
    "\n",
    "We will now make a Boolean search engine as described in Chapter 1."
   ]
  },
  {
   "cell_type": "markdown",
   "metadata": {
    "deletable": false,
    "editable": false,
    "id": "y0C4oUESY-2j",
    "nbgrader": {
     "cell_type": "markdown",
     "checksum": "0e6042bc9e9d0ab6a89fd2c3ba0da71f",
     "grade": false,
     "grade_id": "cell-4e743addfb859948",
     "locked": true,
     "schema_version": 3,
     "solution": false
    }
   },
   "source": [
    "### 8.1 Boolean negation search\n",
    "Create the function `booleanSearchNOT(word, index)`"
   ]
  },
  {
   "cell_type": "code",
   "execution_count": 28,
   "metadata": {
    "deletable": false,
    "id": "AWmQb63cY-2j",
    "nbgrader": {
     "cell_type": "code",
     "checksum": "1487fd6a9b335fbc2303eaf4da904782",
     "grade": false,
     "grade_id": "cell-ee3349180eacd8da",
     "locked": false,
     "schema_version": 3,
     "solution": true
    }
   },
   "outputs": [
    {
     "data": {
      "text/plain": [
       "27"
      ]
     },
     "execution_count": 28,
     "metadata": {},
     "output_type": "execute_result"
    }
   ],
   "source": [
    "def booleanSearchNOT(word, index):\n",
    "    \"\"\"\n",
    "    This function takes a string as input and returns all document ids as set\n",
    "    which do NOT contain the word.\n",
    "    \"\"\"\n",
    "    AllIndexes = set.union(*[set(index[wrd]['Freq_per_Doc']) for wrd in index])\n",
    "    return AllIndexes - set(index[word]['Freq_per_Doc'])\n",
    "    \n",
    "    \n",
    "len(booleanSearchNOT(\"lightly\", NewIndex))"
   ]
  },
  {
   "cell_type": "code",
   "execution_count": 29,
   "metadata": {
    "deletable": false,
    "editable": false,
    "id": "SvX6g0y-Y-2k",
    "nbgrader": {
     "cell_type": "code",
     "checksum": "bda287c47fa0e7a3e77d1d569a6151c2",
     "grade": true,
     "grade_id": "cell-f6125c2504b1a68f",
     "locked": true,
     "points": 1,
     "schema_version": 3,
     "solution": false
    }
   },
   "outputs": [],
   "source": [
    "assert_equal(type(booleanSearchNOT(\"lightly\", NewIndex)), set)"
   ]
  },
  {
   "cell_type": "markdown",
   "metadata": {
    "deletable": false,
    "editable": false,
    "id": "5uxYmprkY-2k",
    "nbgrader": {
     "cell_type": "markdown",
     "checksum": "d8ebe23fc1518f950cf2c440735ebaf8",
     "grade": false,
     "grade_id": "cell-92d5b138626bc512",
     "locked": true,
     "schema_version": 3,
     "solution": false
    }
   },
   "source": [
    "### 8.2 Boolean OR search\n",
    "\n",
    "Create the function `booleanSearchOR(query, index)`"
   ]
  },
  {
   "cell_type": "code",
   "execution_count": 30,
   "metadata": {
    "deletable": false,
    "id": "rw_c9IIWY-2k",
    "nbgrader": {
     "cell_type": "code",
     "checksum": "bdac97efa6730b6935a664d4a3e62272",
     "grade": false,
     "grade_id": "cell-10aa5d1597de0be5",
     "locked": false,
     "schema_version": 3,
     "solution": true
    }
   },
   "outputs": [
    {
     "data": {
      "text/plain": [
       "{'a_and_c',\n",
       " 'all_well',\n",
       " 'as_you',\n",
       " 'com_err',\n",
       " 'coriolan',\n",
       " 'cymbelin',\n",
       " 'dream',\n",
       " 'hamlet',\n",
       " 'hen_iv_1',\n",
       " 'hen_iv_2',\n",
       " 'hen_v',\n",
       " 'hen_vi_1',\n",
       " 'hen_vi_2',\n",
       " 'hen_vi_3',\n",
       " 'hen_viii',\n",
       " 'j_caesar',\n",
       " 'john',\n",
       " 'lear',\n",
       " 'lll',\n",
       " 'm_for_m',\n",
       " 'm_wives',\n",
       " 'macbeth',\n",
       " 'merchant',\n",
       " 'much_ado',\n",
       " 'othello',\n",
       " 'pericles',\n",
       " 'r_and_j',\n",
       " 'rich_ii',\n",
       " 'rich_iii',\n",
       " 't_night',\n",
       " 'taming',\n",
       " 'tempest',\n",
       " 'timon',\n",
       " 'titus',\n",
       " 'troilus',\n",
       " 'two_gent',\n",
       " 'win_tale'}"
      ]
     },
     "execution_count": 30,
     "metadata": {},
     "output_type": "execute_result"
    }
   ],
   "source": [
    "def booleanSearchOR(query, index):\n",
    "    \"\"\"\n",
    "    This function takes a query as input and returns all document ids as set which\n",
    "    contain at least one of the words.\n",
    "    \"\"\"\n",
    "    QueryOrdered = np.array(query)[np.argsort([index[q]['DocFreq'] for q in query])]\n",
    "    ids = set()\n",
    "    \n",
    "    for q in QueryOrdered:\n",
    "        ids = ids.union(set(index[q]['Freq_per_Doc']))\n",
    "    return ids\n",
    "    \n",
    "booleanSearchOR([\"lightly\", \"love\"], NewIndex)"
   ]
  },
  {
   "cell_type": "code",
   "execution_count": 31,
   "metadata": {
    "deletable": false,
    "editable": false,
    "id": "QUB9uzrcY-2k",
    "nbgrader": {
     "cell_type": "code",
     "checksum": "14a55161ea093543326880b304e34655",
     "grade": true,
     "grade_id": "cell-f8efc9467f05480f",
     "locked": true,
     "points": 1,
     "schema_version": 3,
     "solution": false
    }
   },
   "outputs": [],
   "source": [
    "assert_equal(type(booleanSearchOR([\"lightly\", \"love\"], NewIndex)), set)"
   ]
  },
  {
   "cell_type": "markdown",
   "metadata": {
    "deletable": false,
    "editable": false,
    "id": "DD42IMVxY-2l",
    "nbgrader": {
     "cell_type": "markdown",
     "checksum": "7ea5a649276c2f6b07428e1003dabb01",
     "grade": false,
     "grade_id": "cell-191d11c78fbc1377",
     "locked": true,
     "schema_version": 3,
     "solution": false
    }
   },
   "source": [
    "### 8.3 Ranked boolean search\n",
    "A Boolean search engine is not supposed to rank the documents it returns, but we can do that anyway.\n",
    "\n",
    "#### 8.3.1 Most-words first\n",
    "Rank the documents returned for the OR-query in last question as follows: documents which match most words are returned first (if equal, sort alphabetically on document ID). Return the document ID's followed by the number of matching words (i.e. the \"score\" of the document for this query)."
   ]
  },
  {
   "cell_type": "code",
   "execution_count": 32,
   "metadata": {
    "deletable": false,
    "id": "CvodaonaY-2l",
    "nbgrader": {
     "cell_type": "code",
     "checksum": "7265ef522ce89db3862a90f0bc528993",
     "grade": false,
     "grade_id": "cell-facf62845225258f",
     "locked": false,
     "schema_version": 3,
     "solution": true
    }
   },
   "outputs": [
    {
     "data": {
      "text/plain": [
       "[('a_and_c', 2),\n",
       " ('com_err', 2),\n",
       " ('coriolan', 2),\n",
       " ('hen_v', 2),\n",
       " ('hen_vi_2', 2),\n",
       " ('lll', 2),\n",
       " ('r_and_j', 2),\n",
       " ('rich_iii', 2),\n",
       " ('titus', 2),\n",
       " ('two_gent', 2),\n",
       " ('all_well', 1),\n",
       " ('as_you', 1),\n",
       " ('cymbelin', 1),\n",
       " ('dream', 1),\n",
       " ('hamlet', 1),\n",
       " ('hen_iv_1', 1),\n",
       " ('hen_iv_2', 1),\n",
       " ('hen_vi_1', 1),\n",
       " ('hen_vi_3', 1),\n",
       " ('hen_viii', 1),\n",
       " ('j_caesar', 1),\n",
       " ('john', 1),\n",
       " ('lear', 1),\n",
       " ('m_for_m', 1),\n",
       " ('m_wives', 1),\n",
       " ('macbeth', 1),\n",
       " ('merchant', 1),\n",
       " ('much_ado', 1),\n",
       " ('othello', 1),\n",
       " ('pericles', 1),\n",
       " ('rich_ii', 1),\n",
       " ('t_night', 1),\n",
       " ('taming', 1),\n",
       " ('tempest', 1),\n",
       " ('timon', 1),\n",
       " ('troilus', 1),\n",
       " ('win_tale', 1)]"
      ]
     },
     "execution_count": 32,
     "metadata": {},
     "output_type": "execute_result"
    }
   ],
   "source": [
    "def booleanSearchMatch(query, index):\n",
    "    \"\"\"\n",
    "    This function takes a query as input and returns a list of  all document ids and\n",
    "    scores of documents which contain at least one of the words. Documents\n",
    "    are ranked such that documents that match the most words are returned\n",
    "    first.\n",
    "    \"\"\"\n",
    "    Postings = ([list(index[q]['Freq_per_Doc']) for q in query])\n",
    "    counter = Counter([item for sublist in Postings for item in sublist])\n",
    "    return counter.most_common()\n",
    "    \n",
    "booleanSearchMatch([\"love\",\"lightly\"], NewIndex)"
   ]
  },
  {
   "cell_type": "code",
   "execution_count": 33,
   "metadata": {
    "deletable": false,
    "editable": false,
    "id": "2CQcFFNEY-2l",
    "nbgrader": {
     "cell_type": "code",
     "checksum": "28f10dffd84a2c0955e14d0206892a77",
     "grade": true,
     "grade_id": "cell-0f1a4c699d049875",
     "locked": true,
     "points": 1,
     "schema_version": 3,
     "solution": false
    }
   },
   "outputs": [],
   "source": [
    "assert_equal(type(booleanSearchMatch([\"love\",\"lightly\"], NewIndex)), list)\n",
    "assert_equal(type(booleanSearchMatch([\"love\",\"lightly\"], NewIndex)[0]), tuple)\n",
    "assert_equal(type(booleanSearchMatch([\"love\",\"lightly\"], NewIndex)[0][0]), str)\n",
    "assert_equal(type(booleanSearchMatch([\"love\",\"lightly\"], NewIndex)[0][1]), int)"
   ]
  },
  {
   "cell_type": "markdown",
   "metadata": {
    "deletable": false,
    "editable": false,
    "id": "ATtzO_OeY-2m",
    "nbgrader": {
     "cell_type": "markdown",
     "checksum": "af347c31077e19a283ffb51380f83820",
     "grade": false,
     "grade_id": "cell-f37f87d6130a23c6",
     "locked": true,
     "schema_version": 3,
     "solution": false
    }
   },
   "source": [
    "#### 8.3.2 Term-frequency sum\n",
    "Now rank the documents by the sum of the term frequencies for all query words. Return doc ID's and scores.\n",
    "\n",
    "Again first sort by score, and break ties by sorting  alphabetically on Doc ID."
   ]
  },
  {
   "cell_type": "code",
   "execution_count": 34,
   "metadata": {
    "deletable": false,
    "id": "ZYNQ3rTpY-2m",
    "nbgrader": {
     "cell_type": "code",
     "checksum": "8c178edf235ab8a96410207be6c208f8",
     "grade": false,
     "grade_id": "cell-74c7e3f7e51b6c92",
     "locked": false,
     "schema_version": 3,
     "solution": true
    }
   },
   "outputs": [
    {
     "data": {
      "text/plain": [
       "[('two_gent', 166),\n",
       " ('r_and_j', 147),\n",
       " ('as_you', 115),\n",
       " ('lll', 111),\n",
       " ('dream', 109),\n",
       " ('much_ado', 91),\n",
       " ('othello', 79),\n",
       " ('t_night', 77),\n",
       " ('troilus', 70),\n",
       " ('rich_iii', 69),\n",
       " ('hamlet', 67),\n",
       " ('all_well', 63),\n",
       " ('taming', 63),\n",
       " ('merchant', 58),\n",
       " ('lear', 52),\n",
       " ('m_wives', 45),\n",
       " ('hen_v', 41),\n",
       " ('a_and_c', 40),\n",
       " ('hen_vi_3', 40),\n",
       " ('john', 40),\n",
       " ('j_caesar', 34),\n",
       " ('timon', 34),\n",
       " ('rich_ii', 33),\n",
       " ('coriolan', 30),\n",
       " ('cymbelin', 30),\n",
       " ('m_for_m', 29),\n",
       " ('hen_iv_1', 28),\n",
       " ('hen_vi_1', 26),\n",
       " ('pericles', 26),\n",
       " ('hen_viii', 24),\n",
       " ('titus', 24),\n",
       " ('win_tale', 24),\n",
       " ('hen_iv_2', 21),\n",
       " ('com_err', 19),\n",
       " ('macbeth', 19),\n",
       " ('hen_vi_2', 18),\n",
       " ('tempest', 12)]"
      ]
     },
     "execution_count": 34,
     "metadata": {},
     "output_type": "execute_result"
    }
   ],
   "source": [
    "def booleanSearchSumTF(query, index):\n",
    "    \"\"\"\n",
    "    This function takes a query as input and returns all document ids and\n",
    "    scores of documents which contain at least one of the words. Documents\n",
    "    are ranked by the sum of the term frequencies of all query words.\n",
    "    \"\"\"\n",
    "    counter = Counter()\n",
    "    for q in query:        \n",
    "        counter = counter + Counter(index[q]['Freq_per_Doc'])\n",
    "\n",
    "    return counter.most_common()\n",
    "    \n",
    "booleanSearchSumTF([\"love\",\"lightly\"], NewIndex)"
   ]
  },
  {
   "cell_type": "code",
   "execution_count": 35,
   "metadata": {
    "deletable": false,
    "editable": false,
    "id": "ctU9iVEXY-2m",
    "nbgrader": {
     "cell_type": "code",
     "checksum": "a80af5da76db5fb850d3de2c04d78115",
     "grade": true,
     "grade_id": "cell-83ff086299885d29",
     "locked": true,
     "points": 1,
     "schema_version": 3,
     "solution": false
    }
   },
   "outputs": [],
   "source": [
    "assert_equal(type(booleanSearchSumTF([\"love\",\"lightly\"], NewIndex)), list)\n",
    "assert_equal(type(booleanSearchSumTF([\"love\",\"lightly\"], NewIndex)[0]), tuple)\n",
    "assert_equal(type(booleanSearchSumTF([\"love\",\"lightly\"], NewIndex)[0][0]), str)\n",
    "assert_equal(type(booleanSearchSumTF([\"love\",\"lightly\"], NewIndex)[0][1]), int)"
   ]
  },
  {
   "cell_type": "markdown",
   "metadata": {
    "deletable": false,
    "editable": false,
    "id": "cIFFUGVNY-2n",
    "nbgrader": {
     "cell_type": "markdown",
     "checksum": "5e308b94522529d4dd3edce39569d991",
     "grade": false,
     "grade_id": "cell-cf43362d50d798f4",
     "locked": true,
     "schema_version": 3,
     "solution": false
    }
   },
   "source": [
    "#### 8.3.3 Combined\n",
    "Now combine the two rankings. First rank on number of matching search terms, and then on the sum of the term counts. Return both scores for each DocID.\n",
    "\n",
    "The tuple will thus look like this: `(document ID, number of matching search terms, sum of the term frequency counts)`"
   ]
  },
  {
   "cell_type": "code",
   "execution_count": 36,
   "metadata": {
    "colab": {
     "base_uri": "https://localhost:8080/",
     "height": 198
    },
    "deletable": false,
    "id": "ZnS_YGhEY-2n",
    "nbgrader": {
     "cell_type": "code",
     "checksum": "3319353f4ad9ad9cf795b2b6b34aa3eb",
     "grade": false,
     "grade_id": "cell-13a89b3b12fd9a1d",
     "locked": false,
     "schema_version": 3,
     "solution": true
    },
    "outputId": "4dbf5e78-bf8b-47c3-9908-fa8e7b4a5bba"
   },
   "outputs": [
    {
     "data": {
      "text/plain": [
       "[('two_gent', 2, 166),\n",
       " ('r_and_j', 2, 147),\n",
       " ('lll', 2, 111),\n",
       " ('rich_iii', 2, 69),\n",
       " ('hen_v', 2, 41),\n",
       " ('a_and_c', 2, 40),\n",
       " ('coriolan', 2, 30),\n",
       " ('titus', 2, 24),\n",
       " ('com_err', 2, 19),\n",
       " ('hen_vi_2', 2, 18),\n",
       " ('as_you', 1, 115),\n",
       " ('dream', 1, 109),\n",
       " ('much_ado', 1, 91),\n",
       " ('othello', 1, 79),\n",
       " ('t_night', 1, 77),\n",
       " ('troilus', 1, 70),\n",
       " ('hamlet', 1, 67),\n",
       " ('all_well', 1, 63),\n",
       " ('taming', 1, 63),\n",
       " ('merchant', 1, 58),\n",
       " ('lear', 1, 52),\n",
       " ('m_wives', 1, 45),\n",
       " ('hen_vi_3', 1, 40),\n",
       " ('john', 1, 40),\n",
       " ('j_caesar', 1, 34),\n",
       " ('timon', 1, 34),\n",
       " ('rich_ii', 1, 33),\n",
       " ('cymbelin', 1, 30),\n",
       " ('m_for_m', 1, 29),\n",
       " ('hen_iv_1', 1, 28),\n",
       " ('hen_vi_1', 1, 26),\n",
       " ('pericles', 1, 26),\n",
       " ('hen_viii', 1, 24),\n",
       " ('win_tale', 1, 24),\n",
       " ('hen_iv_2', 1, 21),\n",
       " ('macbeth', 1, 19),\n",
       " ('tempest', 1, 12)]"
      ]
     },
     "execution_count": 36,
     "metadata": {},
     "output_type": "execute_result"
    }
   ],
   "source": [
    "def booleanSearchCombined(query, index):\n",
    "    \"\"\"\n",
    "    This function takes a query as input and returns all document ids and\n",
    "    scores of documents which contain at least one of the words. Documents\n",
    "    are ranked first on the number of matching search terms, and then on\n",
    "    the sum of the term frequency counts.\n",
    "    \"\"\"\n",
    "    Postings = ([list(index[q]['Freq_per_Doc']) for q in query])\n",
    "    counterMatch = Counter([item for sublist in Postings for item in sublist])\n",
    "    MaxMatches = max(counterMatch.values())\n",
    "    counterTF = Counter()\n",
    "    \n",
    "    for q in query:        \n",
    "        counterTF = counterTF + Counter(index[q]['Freq_per_Doc'])\n",
    "        \n",
    "    rankingTF = counterTF.most_common()\n",
    "    ranking = []\n",
    "    i = MaxMatches\n",
    "    while i > 0:\n",
    "        for doc in rankingTF:\n",
    "            if counterMatch[doc[0]] == i:\n",
    "                ranking.append((doc[0], i, doc[1]))\n",
    "        i -= 1\n",
    "        \n",
    "    return ranking\n",
    "\n",
    "booleanSearchCombined([\"love\",\"lightly\"], NewIndex)"
   ]
  },
  {
   "cell_type": "code",
   "execution_count": 37,
   "metadata": {
    "deletable": false,
    "editable": false,
    "id": "8dOWh2umY-2n",
    "nbgrader": {
     "cell_type": "code",
     "checksum": "a4dbf860bf63192175be4410ac9a5a10",
     "grade": true,
     "grade_id": "cell-6cdd92cfcc2d415d",
     "locked": true,
     "points": 1,
     "schema_version": 3,
     "solution": false
    }
   },
   "outputs": [],
   "source": [
    "assert_equal(type(booleanSearchCombined([\"love\",\"lightly\"], NewIndex)), list)\n",
    "assert_equal(type(booleanSearchCombined([\"love\",\"lightly\"], NewIndex)[0]), tuple)\n",
    "assert_equal(type(booleanSearchCombined([\"love\",\"lightly\"], NewIndex)[0][0]), str)\n",
    "assert_equal(type(booleanSearchCombined([\"love\",\"lightly\"], NewIndex)[0][1]), int)\n",
    "assert_equal(type(booleanSearchCombined([\"love\",\"lightly\"], NewIndex)[0][2]), int)"
   ]
  },
  {
   "cell_type": "markdown",
   "metadata": {
    "deletable": false,
    "editable": false,
    "id": "U9Sz3vmwY-2n",
    "nbgrader": {
     "cell_type": "markdown",
     "checksum": "a1b5fa82594c281909ab3d4afa876e0b",
     "grade": false,
     "grade_id": "cell-6869c9c2ffc2bfe6",
     "locked": true,
     "schema_version": 3,
     "solution": false
    }
   },
   "source": [
    "### 8.4 Boolean AND search\n",
    "Create the function `booleanSearchAND(query, index)`"
   ]
  },
  {
   "cell_type": "code",
   "execution_count": 38,
   "metadata": {
    "deletable": false,
    "id": "SzlYa2E_Y-2n",
    "nbgrader": {
     "cell_type": "code",
     "checksum": "3d21bc275f29b486de43b3f46a264f69",
     "grade": false,
     "grade_id": "cell-e507e9a68502f0e8",
     "locked": false,
     "schema_version": 3,
     "solution": true
    }
   },
   "outputs": [
    {
     "data": {
      "text/plain": [
       "{'a_and_c',\n",
       " 'com_err',\n",
       " 'coriolan',\n",
       " 'hen_v',\n",
       " 'hen_vi_2',\n",
       " 'lll',\n",
       " 'r_and_j',\n",
       " 'rich_iii',\n",
       " 'titus',\n",
       " 'two_gent'}"
      ]
     },
     "execution_count": 38,
     "metadata": {},
     "output_type": "execute_result"
    }
   ],
   "source": [
    "def booleanSearchAND(query, index):\n",
    "    \"\"\"\n",
    "    This function takes a query as input and returns all document ids as set which\n",
    "    contain ALL the words.\n",
    "    \"\"\"\n",
    "    return set.intersection(*[set(index[q]['Freq_per_Doc']) for q in query])\n",
    "        \n",
    "booleanSearchAND([\"lightly\", \"love\"], NewIndex)"
   ]
  },
  {
   "cell_type": "code",
   "execution_count": 39,
   "metadata": {
    "deletable": false,
    "editable": false,
    "id": "0KGMdcUjY-2o",
    "nbgrader": {
     "cell_type": "code",
     "checksum": "8e661e09840fa0bca11e60218a4b580f",
     "grade": true,
     "grade_id": "cell-ab54ede8ff89e3c7",
     "locked": true,
     "points": 1,
     "schema_version": 3,
     "solution": false
    }
   },
   "outputs": [],
   "source": [
    "assert_equal(type(booleanSearchAND([\"lightly\", \"love\"], NewIndex)), set)"
   ]
  },
  {
   "cell_type": "markdown",
   "metadata": {
    "deletable": false,
    "editable": false,
    "id": "DN9HhtVYY-2o",
    "nbgrader": {
     "cell_type": "markdown",
     "checksum": "e9c40b67c0e2916debd7f070e8485025",
     "grade": false,
     "grade_id": "cell-663ad1e3efc39c50",
     "locked": true,
     "schema_version": 3,
     "solution": false
    }
   },
   "source": [
    "### 8.5 Ranked Boolean AND search (not graded)\n",
    "How would you implement a ranking for the Boolean AND?"
   ]
  },
  {
   "cell_type": "markdown",
   "metadata": {
    "id": "IfUkVyzoY-2o",
    "nbgrader": {
     "grade": false,
     "grade_id": "cell-c34f82add5a898ad",
     "locked": false,
     "points": 0,
     "schema_version": 3,
     "solution": false
    }
   },
   "source": [
    " "
   ]
  },
  {
   "cell_type": "markdown",
   "metadata": {
    "deletable": false,
    "editable": false,
    "id": "gTDcfnoNY-2o",
    "nbgrader": {
     "cell_type": "markdown",
     "checksum": "ca9b372aad0d9b42e09d4d1ee039f82f",
     "grade": false,
     "grade_id": "cell-e21e2af58387577d",
     "locked": true,
     "schema_version": 3,
     "solution": false
    }
   },
   "source": [
    "### 8.6 Relaxed boolean AND search (not graded)\n",
    "How can you implement a \"relaxed version\" of Boolean AND, in which you also give results if not ALL query words are present, but as much as possible? Of course you want to rank the documents again."
   ]
  },
  {
   "cell_type": "markdown",
   "metadata": {
    "deletable": false,
    "editable": false,
    "id": "8IY-eqGcY-2p",
    "nbgrader": {
     "cell_type": "markdown",
     "checksum": "c805a9bcaed959fcf90ee77ab9512a07",
     "grade": false,
     "grade_id": "cell-f36e09ed69f4e324",
     "locked": true,
     "points": 1,
     "schema_version": 3,
     "solution": false
    }
   },
   "source": [
    "# SQL and full text search\n",
    " \n",
    " Many SQL database systems allow full text search on columns storing text. Unlike with SQL the functionality is not that much standardized but it follows similar ideas. \n",
    " \n",
    " In this exercise you create a bollean search engine, possibly with ranking, in which you can combine full text search with restrictions on other fields. The database used is a collection of transcripts of TedX talks.\n",
    " \n",
    "See the notebook `SQLLiteFullText.ipynb` in this folder for code to get you started and the full description of th exercise. \n",
    "\n",
    "Simply paste your answer to this question here. "
   ]
  },
  {
   "cell_type": "code",
   "execution_count": 40,
   "metadata": {
    "id": "N5T5qqmQmbDZ"
   },
   "outputs": [
    {
     "name": "stdout",
     "output_type": "stream",
     "text": [
      "index.html  ted_main.csv  transcripts.csv\r\n"
     ]
    },
    {
     "data": {
      "text/html": [
       "<div>\n",
       "<style scoped>\n",
       "    .dataframe tbody tr th:only-of-type {\n",
       "        vertical-align: middle;\n",
       "    }\n",
       "\n",
       "    .dataframe tbody tr th {\n",
       "        vertical-align: top;\n",
       "    }\n",
       "\n",
       "    .dataframe thead th {\n",
       "        text-align: right;\n",
       "    }\n",
       "</style>\n",
       "<table border=\"1\" class=\"dataframe\">\n",
       "  <thead>\n",
       "    <tr style=\"text-align: right;\">\n",
       "      <th></th>\n",
       "      <th>transcript</th>\n",
       "      <th>comments</th>\n",
       "      <th>description</th>\n",
       "      <th>duration</th>\n",
       "      <th>event</th>\n",
       "      <th>film_date</th>\n",
       "      <th>languages</th>\n",
       "      <th>main_speaker</th>\n",
       "      <th>name</th>\n",
       "      <th>num_speaker</th>\n",
       "      <th>published_date</th>\n",
       "      <th>ratings</th>\n",
       "      <th>related_talks</th>\n",
       "      <th>speaker_occupation</th>\n",
       "      <th>tags</th>\n",
       "      <th>title</th>\n",
       "      <th>views</th>\n",
       "    </tr>\n",
       "    <tr>\n",
       "      <th>url</th>\n",
       "      <th></th>\n",
       "      <th></th>\n",
       "      <th></th>\n",
       "      <th></th>\n",
       "      <th></th>\n",
       "      <th></th>\n",
       "      <th></th>\n",
       "      <th></th>\n",
       "      <th></th>\n",
       "      <th></th>\n",
       "      <th></th>\n",
       "      <th></th>\n",
       "      <th></th>\n",
       "      <th></th>\n",
       "      <th></th>\n",
       "      <th></th>\n",
       "      <th></th>\n",
       "    </tr>\n",
       "  </thead>\n",
       "  <tbody>\n",
       "    <tr>\n",
       "      <th>https://www.ted.com/talks/9_11_healing_the_mothers_who_found_forgiveness_friendship\\n</th>\n",
       "      <td>Phyllis Rodriguez: We are here today because o...</td>\n",
       "      <td>149</td>\n",
       "      <td>Phyllis Rodriguez and Aicha el-Wafi have a pow...</td>\n",
       "      <td>594</td>\n",
       "      <td>TEDWomen 2010</td>\n",
       "      <td>2010-12-12</td>\n",
       "      <td>32</td>\n",
       "      <td>Aicha el-Wafi + Phyllis Rodriguez</td>\n",
       "      <td>Aicha el-Wafi + Phyllis Rodriguez: The mothers...</td>\n",
       "      <td>1</td>\n",
       "      <td>2011-05-02</td>\n",
       "      <td>[{'id': 10, 'name': 'Inspiring', 'count': 385}...</td>\n",
       "      <td>[{'id': 968, 'hero': 'https://pe.tedcdn.com/im...</td>\n",
       "      <td>9/11 mothers</td>\n",
       "      <td>['culture', 'friendship', 'global issues', 'pa...</td>\n",
       "      <td>The mothers who found forgiveness, friendship</td>\n",
       "      <td>820976</td>\n",
       "    </tr>\n",
       "    <tr>\n",
       "      <th>https://www.ted.com/talks/a_j_jacobs_year_of_living_biblically\\n</th>\n",
       "      <td>I thought I'd tell you a little about what I l...</td>\n",
       "      <td>583</td>\n",
       "      <td>Author, philosopher, prankster and journalist ...</td>\n",
       "      <td>1060</td>\n",
       "      <td>EG 2007</td>\n",
       "      <td>2007-12-02</td>\n",
       "      <td>39</td>\n",
       "      <td>AJ Jacobs</td>\n",
       "      <td>AJ Jacobs: My year of living biblically</td>\n",
       "      <td>1</td>\n",
       "      <td>2008-07-17</td>\n",
       "      <td>[{'id': 22, 'name': 'Fascinating', 'count': 53...</td>\n",
       "      <td>[{'id': 86, 'hero': 'https://pe.tedcdn.com/ima...</td>\n",
       "      <td>Author</td>\n",
       "      <td>['comedy', 'culture', 'entertainment', 'humani...</td>\n",
       "      <td>My year of living biblically</td>\n",
       "      <td>2291701</td>\n",
       "    </tr>\n",
       "    <tr>\n",
       "      <th>https://www.ted.com/talks/a_robot_that_flies_like_a_bird\\n</th>\n",
       "      <td>It is a dream of mankind to fly like a bird. B...</td>\n",
       "      <td>440</td>\n",
       "      <td>Plenty of robots can fly -- but none can fly l...</td>\n",
       "      <td>379</td>\n",
       "      <td>TEDGlobal 2011</td>\n",
       "      <td>2011-07-15</td>\n",
       "      <td>45</td>\n",
       "      <td>Markus Fischer</td>\n",
       "      <td>Markus Fischer: A robot that flies like a bird</td>\n",
       "      <td>1</td>\n",
       "      <td>2011-07-22</td>\n",
       "      <td>[{'id': 23, 'name': 'Jaw-dropping', 'count': 1...</td>\n",
       "      <td>[{'id': 195, 'hero': 'https://pe.tedcdn.com/im...</td>\n",
       "      <td>Designer</td>\n",
       "      <td>['animals', 'biomechanics', 'biomimicry', 'des...</td>\n",
       "      <td>A robot that flies like a bird</td>\n",
       "      <td>6264902</td>\n",
       "    </tr>\n",
       "    <tr>\n",
       "      <th>https://www.ted.com/talks/a_ted_speaker_s_worst_nightmare\\n</th>\n",
       "      <td>Today I'm going to talk about unexpected disco...</td>\n",
       "      <td>324</td>\n",
       "      <td>Colin Robertson had 3 minutes on the TED stage...</td>\n",
       "      <td>229</td>\n",
       "      <td>TED2012</td>\n",
       "      <td>2012-03-01</td>\n",
       "      <td>51</td>\n",
       "      <td>Improv Everywhere</td>\n",
       "      <td>Improv Everywhere: A TED speaker's worst night...</td>\n",
       "      <td>1</td>\n",
       "      <td>2012-03-09</td>\n",
       "      <td>[{'id': 2, 'name': 'Confusing', 'count': 186},...</td>\n",
       "      <td>[{'id': 1269, 'hero': 'https://pe.tedcdn.com/i...</td>\n",
       "      <td>Social energy entrepreneur</td>\n",
       "      <td>['entertainment', 'performance', 'performance ...</td>\n",
       "      <td>A TED speaker's worst nightmare</td>\n",
       "      <td>2950307</td>\n",
       "    </tr>\n",
       "    <tr>\n",
       "      <th>https://www.ted.com/talks/a_whistleblower_you_haven_t_heard\\n</th>\n",
       "      <td>(Whistling)(Whistling ends)(Applause)Thank you...</td>\n",
       "      <td>93</td>\n",
       "      <td>World champion whistler Geert Chatrou performs...</td>\n",
       "      <td>716</td>\n",
       "      <td>TEDxRotterdam 2010</td>\n",
       "      <td>2010-06-04</td>\n",
       "      <td>31</td>\n",
       "      <td>Geert Chatrou</td>\n",
       "      <td>Geert Chatrou: A whistleblower you haven't heard</td>\n",
       "      <td>1</td>\n",
       "      <td>2011-02-11</td>\n",
       "      <td>[{'id': 23, 'name': 'Jaw-dropping', 'count': 2...</td>\n",
       "      <td>[{'id': 1001, 'hero': 'https://pe.tedcdn.com/i...</td>\n",
       "      <td>Whistler</td>\n",
       "      <td>['TEDx', 'entertainment', 'live music', 'music...</td>\n",
       "      <td>A whistleblower you haven't heard</td>\n",
       "      <td>1917442</td>\n",
       "    </tr>\n",
       "  </tbody>\n",
       "</table>\n",
       "</div>"
      ],
      "text/plain": [
       "                                                                                           transcript  \\\n",
       "url                                                                                                     \n",
       "https://www.ted.com/talks/9_11_healing_the_moth...  Phyllis Rodriguez: We are here today because o...   \n",
       "https://www.ted.com/talks/a_j_jacobs_year_of_li...  I thought I'd tell you a little about what I l...   \n",
       "https://www.ted.com/talks/a_robot_that_flies_li...  It is a dream of mankind to fly like a bird. B...   \n",
       "https://www.ted.com/talks/a_ted_speaker_s_worst...  Today I'm going to talk about unexpected disco...   \n",
       "https://www.ted.com/talks/a_whistleblower_you_h...  (Whistling)(Whistling ends)(Applause)Thank you...   \n",
       "\n",
       "                                                    comments  \\\n",
       "url                                                            \n",
       "https://www.ted.com/talks/9_11_healing_the_moth...       149   \n",
       "https://www.ted.com/talks/a_j_jacobs_year_of_li...       583   \n",
       "https://www.ted.com/talks/a_robot_that_flies_li...       440   \n",
       "https://www.ted.com/talks/a_ted_speaker_s_worst...       324   \n",
       "https://www.ted.com/talks/a_whistleblower_you_h...        93   \n",
       "\n",
       "                                                                                          description  \\\n",
       "url                                                                                                     \n",
       "https://www.ted.com/talks/9_11_healing_the_moth...  Phyllis Rodriguez and Aicha el-Wafi have a pow...   \n",
       "https://www.ted.com/talks/a_j_jacobs_year_of_li...  Author, philosopher, prankster and journalist ...   \n",
       "https://www.ted.com/talks/a_robot_that_flies_li...  Plenty of robots can fly -- but none can fly l...   \n",
       "https://www.ted.com/talks/a_ted_speaker_s_worst...  Colin Robertson had 3 minutes on the TED stage...   \n",
       "https://www.ted.com/talks/a_whistleblower_you_h...  World champion whistler Geert Chatrou performs...   \n",
       "\n",
       "                                                    duration  \\\n",
       "url                                                            \n",
       "https://www.ted.com/talks/9_11_healing_the_moth...       594   \n",
       "https://www.ted.com/talks/a_j_jacobs_year_of_li...      1060   \n",
       "https://www.ted.com/talks/a_robot_that_flies_li...       379   \n",
       "https://www.ted.com/talks/a_ted_speaker_s_worst...       229   \n",
       "https://www.ted.com/talks/a_whistleblower_you_h...       716   \n",
       "\n",
       "                                                                 event  \\\n",
       "url                                                                      \n",
       "https://www.ted.com/talks/9_11_healing_the_moth...       TEDWomen 2010   \n",
       "https://www.ted.com/talks/a_j_jacobs_year_of_li...             EG 2007   \n",
       "https://www.ted.com/talks/a_robot_that_flies_li...      TEDGlobal 2011   \n",
       "https://www.ted.com/talks/a_ted_speaker_s_worst...             TED2012   \n",
       "https://www.ted.com/talks/a_whistleblower_you_h...  TEDxRotterdam 2010   \n",
       "\n",
       "                                                     film_date  languages  \\\n",
       "url                                                                         \n",
       "https://www.ted.com/talks/9_11_healing_the_moth...  2010-12-12         32   \n",
       "https://www.ted.com/talks/a_j_jacobs_year_of_li...  2007-12-02         39   \n",
       "https://www.ted.com/talks/a_robot_that_flies_li...  2011-07-15         45   \n",
       "https://www.ted.com/talks/a_ted_speaker_s_worst...  2012-03-01         51   \n",
       "https://www.ted.com/talks/a_whistleblower_you_h...  2010-06-04         31   \n",
       "\n",
       "                                                                         main_speaker  \\\n",
       "url                                                                                     \n",
       "https://www.ted.com/talks/9_11_healing_the_moth...  Aicha el-Wafi + Phyllis Rodriguez   \n",
       "https://www.ted.com/talks/a_j_jacobs_year_of_li...                          AJ Jacobs   \n",
       "https://www.ted.com/talks/a_robot_that_flies_li...                     Markus Fischer   \n",
       "https://www.ted.com/talks/a_ted_speaker_s_worst...                  Improv Everywhere   \n",
       "https://www.ted.com/talks/a_whistleblower_you_h...                      Geert Chatrou   \n",
       "\n",
       "                                                                                                 name  \\\n",
       "url                                                                                                     \n",
       "https://www.ted.com/talks/9_11_healing_the_moth...  Aicha el-Wafi + Phyllis Rodriguez: The mothers...   \n",
       "https://www.ted.com/talks/a_j_jacobs_year_of_li...            AJ Jacobs: My year of living biblically   \n",
       "https://www.ted.com/talks/a_robot_that_flies_li...     Markus Fischer: A robot that flies like a bird   \n",
       "https://www.ted.com/talks/a_ted_speaker_s_worst...  Improv Everywhere: A TED speaker's worst night...   \n",
       "https://www.ted.com/talks/a_whistleblower_you_h...   Geert Chatrou: A whistleblower you haven't heard   \n",
       "\n",
       "                                                    num_speaker  \\\n",
       "url                                                               \n",
       "https://www.ted.com/talks/9_11_healing_the_moth...            1   \n",
       "https://www.ted.com/talks/a_j_jacobs_year_of_li...            1   \n",
       "https://www.ted.com/talks/a_robot_that_flies_li...            1   \n",
       "https://www.ted.com/talks/a_ted_speaker_s_worst...            1   \n",
       "https://www.ted.com/talks/a_whistleblower_you_h...            1   \n",
       "\n",
       "                                                   published_date  \\\n",
       "url                                                                 \n",
       "https://www.ted.com/talks/9_11_healing_the_moth...     2011-05-02   \n",
       "https://www.ted.com/talks/a_j_jacobs_year_of_li...     2008-07-17   \n",
       "https://www.ted.com/talks/a_robot_that_flies_li...     2011-07-22   \n",
       "https://www.ted.com/talks/a_ted_speaker_s_worst...     2012-03-09   \n",
       "https://www.ted.com/talks/a_whistleblower_you_h...     2011-02-11   \n",
       "\n",
       "                                                                                              ratings  \\\n",
       "url                                                                                                     \n",
       "https://www.ted.com/talks/9_11_healing_the_moth...  [{'id': 10, 'name': 'Inspiring', 'count': 385}...   \n",
       "https://www.ted.com/talks/a_j_jacobs_year_of_li...  [{'id': 22, 'name': 'Fascinating', 'count': 53...   \n",
       "https://www.ted.com/talks/a_robot_that_flies_li...  [{'id': 23, 'name': 'Jaw-dropping', 'count': 1...   \n",
       "https://www.ted.com/talks/a_ted_speaker_s_worst...  [{'id': 2, 'name': 'Confusing', 'count': 186},...   \n",
       "https://www.ted.com/talks/a_whistleblower_you_h...  [{'id': 23, 'name': 'Jaw-dropping', 'count': 2...   \n",
       "\n",
       "                                                                                        related_talks  \\\n",
       "url                                                                                                     \n",
       "https://www.ted.com/talks/9_11_healing_the_moth...  [{'id': 968, 'hero': 'https://pe.tedcdn.com/im...   \n",
       "https://www.ted.com/talks/a_j_jacobs_year_of_li...  [{'id': 86, 'hero': 'https://pe.tedcdn.com/ima...   \n",
       "https://www.ted.com/talks/a_robot_that_flies_li...  [{'id': 195, 'hero': 'https://pe.tedcdn.com/im...   \n",
       "https://www.ted.com/talks/a_ted_speaker_s_worst...  [{'id': 1269, 'hero': 'https://pe.tedcdn.com/i...   \n",
       "https://www.ted.com/talks/a_whistleblower_you_h...  [{'id': 1001, 'hero': 'https://pe.tedcdn.com/i...   \n",
       "\n",
       "                                                            speaker_occupation  \\\n",
       "url                                                                              \n",
       "https://www.ted.com/talks/9_11_healing_the_moth...                9/11 mothers   \n",
       "https://www.ted.com/talks/a_j_jacobs_year_of_li...                      Author   \n",
       "https://www.ted.com/talks/a_robot_that_flies_li...                    Designer   \n",
       "https://www.ted.com/talks/a_ted_speaker_s_worst...  Social energy entrepreneur   \n",
       "https://www.ted.com/talks/a_whistleblower_you_h...                    Whistler   \n",
       "\n",
       "                                                                                                 tags  \\\n",
       "url                                                                                                     \n",
       "https://www.ted.com/talks/9_11_healing_the_moth...  ['culture', 'friendship', 'global issues', 'pa...   \n",
       "https://www.ted.com/talks/a_j_jacobs_year_of_li...  ['comedy', 'culture', 'entertainment', 'humani...   \n",
       "https://www.ted.com/talks/a_robot_that_flies_li...  ['animals', 'biomechanics', 'biomimicry', 'des...   \n",
       "https://www.ted.com/talks/a_ted_speaker_s_worst...  ['entertainment', 'performance', 'performance ...   \n",
       "https://www.ted.com/talks/a_whistleblower_you_h...  ['TEDx', 'entertainment', 'live music', 'music...   \n",
       "\n",
       "                                                                                            title  \\\n",
       "url                                                                                                 \n",
       "https://www.ted.com/talks/9_11_healing_the_moth...  The mothers who found forgiveness, friendship   \n",
       "https://www.ted.com/talks/a_j_jacobs_year_of_li...                   My year of living biblically   \n",
       "https://www.ted.com/talks/a_robot_that_flies_li...                 A robot that flies like a bird   \n",
       "https://www.ted.com/talks/a_ted_speaker_s_worst...                A TED speaker's worst nightmare   \n",
       "https://www.ted.com/talks/a_whistleblower_you_h...              A whistleblower you haven't heard   \n",
       "\n",
       "                                                      views  \n",
       "url                                                          \n",
       "https://www.ted.com/talks/9_11_healing_the_moth...   820976  \n",
       "https://www.ted.com/talks/a_j_jacobs_year_of_li...  2291701  \n",
       "https://www.ted.com/talks/a_robot_that_flies_li...  6264902  \n",
       "https://www.ted.com/talks/a_ted_speaker_s_worst...  2950307  \n",
       "https://www.ted.com/talks/a_whistleblower_you_h...  1917442  "
      ]
     },
     "execution_count": 40,
     "metadata": {},
     "output_type": "execute_result"
    }
   ],
   "source": [
    "import pandas as pd\n",
    "import sqlite3\n",
    "%matplotlib inline\n",
    "import datetime\n",
    "\n",
    "!ls Data/ted-talks/\n",
    "\n",
    "# read and join the two data files\n",
    "df1=pd.read_csv(\"Data/ted-talks/ted_main.csv\", index_col='url')\n",
    "df2=pd.read_csv(\"Data/ted-talks/transcripts.csv\", index_col='url')\n",
    "\n",
    "df1['film_date'] = df1['film_date'].apply(lambda x: datetime.datetime.fromtimestamp( int(x)).strftime('%Y-%m-%d'))\n",
    "df1['published_date'] = df1['published_date'].apply(lambda x: datetime.datetime.fromtimestamp( int(x)).strftime('%Y-%m-%d'))\n",
    "tedx=df2.join(df1)\n",
    "tedx.head()"
   ]
  },
  {
   "cell_type": "code",
   "execution_count": 41,
   "metadata": {
    "id": "XSCZVYQxmYVR"
   },
   "outputs": [
    {
     "data": {
      "text/plain": [
       "[('https://www.ted.com/talks/9_11_healing_the_mothers_who_found_forgiveness_friendship\\n',\n",
       "  820976),\n",
       " ('https://www.ted.com/talks/a_j_jacobs_year_of_living_biblically\\n', 2291701),\n",
       " ('https://www.ted.com/talks/a_robot_that_flies_like_a_bird\\n', 6264902),\n",
       " ('https://www.ted.com/talks/a_ted_speaker_s_worst_nightmare\\n', 2950307),\n",
       " ('https://www.ted.com/talks/a_whistleblower_you_haven_t_heard\\n', 1917442),\n",
       " ('https://www.ted.com/talks/aakash_odedra_a_dance_in_a_hurricane_of_paper_wind_and_light\\n',\n",
       "  817014),\n",
       " ('https://www.ted.com/talks/aala_el_khani_what_it_s_like_to_be_a_parent_in_a_war_zone\\n',\n",
       "  896491),\n",
       " ('https://www.ted.com/talks/aaron_huey\\n', 1347633),\n",
       " ('https://www.ted.com/talks/aaron_koblin\\n', 1474192),\n",
       " ('https://www.ted.com/talks/aaron_o_connell_making_sense_of_a_visible_quantum_object\\n',\n",
       "  1272198)]"
      ]
     },
     "execution_count": 41,
     "metadata": {},
     "output_type": "execute_result"
    }
   ],
   "source": [
    "# Create your connection.\n",
    "cnx = sqlite3.connect(':memory:')\n",
    "# load to sqllite Note the sqlite db table is also called tedx\n",
    "tedx.to_sql(name='tedx', con=cnx, if_exists='replace')\n",
    "\n",
    "# ask a query \n",
    "\n",
    "cur= cnx.cursor()\n",
    "cur.execute(\"SELECT url,views FROM tedx LIMIT 10\")\n",
    "cur.fetchall()"
   ]
  },
  {
   "cell_type": "code",
   "execution_count": 42,
   "metadata": {
    "id": "sjFT2tFYhIoc"
   },
   "outputs": [
    {
     "data": {
      "text/plain": [
       "<sqlite3.Cursor at 0x7f8ab44aaab0>"
      ]
     },
     "execution_count": 42,
     "metadata": {},
     "output_type": "execute_result"
    }
   ],
   "source": [
    "# creating a full text table  (a copy of the tedx transcripts table)\n",
    "\n",
    "q='''\n",
    "CREATE VIRTUAL TABLE \"tedx_fts\" USING FTS4 (\n",
    "    url,\n",
    "    transcript,\n",
    "    film_date,\n",
    "    main_speaker,\n",
    "    title\n",
    ");\n",
    "'''\n",
    "cur.execute(q)"
   ]
  },
  {
   "cell_type": "code",
   "execution_count": 43,
   "metadata": {
    "id": "LH8WiI8JmJnG"
   },
   "outputs": [
    {
     "data": {
      "text/plain": [
       "<sqlite3.Cursor at 0x7f8ab44aaab0>"
      ]
     },
     "execution_count": 43,
     "metadata": {},
     "output_type": "execute_result"
    }
   ],
   "source": [
    "# populate it \n",
    "\n",
    "q2='''INSERT INTO \"tedx_fts\" (url,transcript,film_date,main_speaker,title)\n",
    "    SELECT url,transcript,film_date,main_speaker,title FROM tedx;\n",
    "    '''\n",
    "cur.execute(q2)"
   ]
  },
  {
   "cell_type": "code",
   "execution_count": 44,
   "metadata": {
    "id": "dLdhyd4wmPK2"
   },
   "outputs": [],
   "source": [
    "import ipywidgets as widgets\n",
    "from IPython.display import clear_output, display, HTML"
   ]
  },
  {
   "cell_type": "code",
   "execution_count": 45,
   "metadata": {
    "id": "xPTaPpUNmMsm"
   },
   "outputs": [],
   "source": [
    "# query it, rank the results, and show a snippet\n",
    "\n",
    "# See https://www.sqlite.org/draft/fts3.html#appendix_a for further ideas.\n",
    "def search(query, main_speaker, min_date, max_date, hits):\n",
    "    q= '''SELECT title, url , main_speaker, film_date, snippet(tedx_fts)\n",
    "        FROM tedx_fts\n",
    "        WHERE transcript MATCH '%s' \n",
    "        AND main_speaker LIKE '%%%s%%'\n",
    "        AND film_date BETWEEN '%s' AND '%s'\n",
    "        ORDER BY matchinfo(tedx_fts) \n",
    "        LIMIT %s OFFSET 0\n",
    "         ;''' %(query,main_speaker,min_date,max_date,str(hits))\n",
    "    cur.execute(q)\n",
    "    cols = ['Title','Url','Speaker(s)','Date of filming','Snippet']\n",
    "    return display(HTML(pd.DataFrame(data=cur.fetchall(), columns=cols).to_html()))"
   ]
  },
  {
   "cell_type": "code",
   "execution_count": 46,
   "metadata": {
    "id": "BAjogf00mQtq"
   },
   "outputs": [
    {
     "data": {
      "application/vnd.jupyter.widget-view+json": {
       "model_id": "c0ffe385d1fc4596a44dfdb6f2815f46",
       "version_major": 2,
       "version_minor": 0
      },
      "text/plain": [
       "Text(value='Type your query', description='Query:')"
      ]
     },
     "metadata": {},
     "output_type": "display_data"
    },
    {
     "data": {
      "application/vnd.jupyter.widget-view+json": {
       "model_id": "a662bf0a3fc64781a954951bbb627930",
       "version_major": 2,
       "version_minor": 0
      },
      "text/plain": [
       "Text(value='', description='Only speaker:')"
      ]
     },
     "metadata": {},
     "output_type": "display_data"
    },
    {
     "data": {
      "application/vnd.jupyter.widget-view+json": {
       "model_id": "3cf6955ac5f941df9b053cb1fff3a9ed",
       "version_major": 2,
       "version_minor": 0
      },
      "text/plain": [
       "DatePicker(value=None, description='Filmed from:')"
      ]
     },
     "metadata": {},
     "output_type": "display_data"
    },
    {
     "data": {
      "application/vnd.jupyter.widget-view+json": {
       "model_id": "b3513d5a39d7493aaff83194663caf72",
       "version_major": 2,
       "version_minor": 0
      },
      "text/plain": [
       "DatePicker(value=None, description='Filmed until:')"
      ]
     },
     "metadata": {},
     "output_type": "display_data"
    },
    {
     "data": {
      "application/vnd.jupyter.widget-view+json": {
       "model_id": "1a5e8268b18d47b7bd7e64f08922b6de",
       "version_major": 2,
       "version_minor": 0
      },
      "text/plain": [
       "Text(value='10', description='# hits:')"
      ]
     },
     "metadata": {},
     "output_type": "display_data"
    },
    {
     "data": {
      "application/vnd.jupyter.widget-view+json": {
       "model_id": "2d8cb369f44c485d8317bab58e728f26",
       "version_major": 2,
       "version_minor": 0
      },
      "text/plain": [
       "Button(description='Search', icon='search', style=ButtonStyle())"
      ]
     },
     "metadata": {},
     "output_type": "display_data"
    },
    {
     "data": {
      "application/vnd.jupyter.widget-view+json": {
       "model_id": "6bf6fa665a274bc8adcd6b04c9ddea39",
       "version_major": 2,
       "version_minor": 0
      },
      "text/plain": [
       "Output()"
      ]
     },
     "metadata": {},
     "output_type": "display_data"
    }
   ],
   "source": [
    "button = widgets.Button(\n",
    "    description='Search',\n",
    "    icon='search'\n",
    ")\n",
    "\n",
    "query = widgets.Text(\n",
    "    value='Type your query',\n",
    "    description='Query:',\n",
    ")\n",
    "\n",
    "speaker = widgets.Text(\n",
    "    value='',\n",
    "    description='Only speaker:',\n",
    ")\n",
    "\n",
    "start_date = widgets.DatePicker(\n",
    "    description='Filmed from:'\n",
    ")\n",
    "\n",
    "end_date = widgets.DatePicker(\n",
    "    description='Filmed until:'\n",
    ")\n",
    "\n",
    "hits = widgets.Text(\n",
    "    description='# hits:',\n",
    "    value='10',\n",
    ")\n",
    "\n",
    "output = widgets.Output()\n",
    "\n",
    "def execute_query(b):\n",
    "    with output:\n",
    "        clear_output()\n",
    "        print(search(query.value,speaker.value,start_date.value,end_date.value, hits.value))\n",
    "        \n",
    "button.on_click(execute_query)\n",
    "\n",
    "display(query, speaker, start_date, end_date, hits, button, output)"
   ]
  },
  {
   "cell_type": "code",
   "execution_count": 47,
   "metadata": {
    "id": "vPwEAX0ymgxH"
   },
   "outputs": [],
   "source": [
    "# close the connection \n",
    "\n",
    "cnx.close()"
   ]
  }
 ],
 "metadata": {
  "colab": {
   "collapsed_sections": [
    "nKhoaJ0DY-2V",
    "4-WiP-KnY-2X",
    "Fy_1PV9fY-2Y",
    "H2bjD2U1Y-2Y",
    "yjOrXHXLY-2Z",
    "v3u0xTkLY-2Z",
    "pF2iztkrY-2a",
    "DN9HhtVYY-2o",
    "gTDcfnoNY-2o"
   ],
   "name": "AssignmentWeek1.ipynb",
   "provenance": []
  },
  "kernelspec": {
   "display_name": "Python 3",
   "language": "python",
   "name": "python3"
  },
  "language_info": {
   "codemirror_mode": {
    "name": "ipython",
    "version": 3
   },
   "file_extension": ".py",
   "mimetype": "text/x-python",
   "name": "python",
   "nbconvert_exporter": "python",
   "pygments_lexer": "ipython3",
   "version": "3.8.10"
  },
  "toc": {
   "nav_menu": {},
   "number_sections": true,
   "sideBar": true,
   "skip_h1_title": false,
   "title_cell": "Table of Contents",
   "title_sidebar": "Contents",
   "toc_cell": true,
   "toc_position": {},
   "toc_section_display": true,
   "toc_window_display": false
  }
 },
 "nbformat": 4,
 "nbformat_minor": 1
}
