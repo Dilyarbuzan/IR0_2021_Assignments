{
 "cells": [
  {
   "cell_type": "markdown",
   "metadata": {},
   "source": [
    "# Zoekmachines"
   ]
  },
  {
   "cell_type": "markdown",
   "metadata": {},
   "source": [
    "## Notebook made by\n",
    "\n",
    "__Name__|Daniël| en vrienden\n",
    "\n",
    "__Student id__ : secret"
   ]
  },
  {
   "cell_type": "markdown",
   "metadata": {},
   "source": [
    "## Toelichting\n",
    "\n",
    "* De meeste opgaven worden automatisch nagekeken. Bij vrijwel alle opdrachten staan er een paar zichtbare tests onder de opdracht, dit is voornamelijk om te zorgen dat je de juiste type output geeft. De andere tests worden na inleveren toegevoegd aan die cell.\n",
    "\n",
    "## Voor het inleveren!\n",
    "\n",
    "* Pas niet de cellen aan, vooral niet die je niet kunt editen. Dit levert problemen op bij nakijken. Twijfel je of je per ongeluk iets hebt gewijzigd, kopieer dan bij inleveren je antwoorden naar een nieuw bestand, zodat het niet fout kan gaan.\n",
    "\n",
    "* Zorg dat de code goed runt van boven naar beneden, verifieer dat door boven in Kernel -> Restart & Run All uit te voeren"
   ]
  },
  {
   "cell_type": "markdown",
   "metadata": {
    "toc": true
   },
   "source": [
    "<h1>Table of Contents<span class=\"tocSkip\"></span></h1>\n",
    "<div class=\"toc\"><ul class=\"toc-item\"><li><span><a href=\"#Zoekmachines\" data-toc-modified-id=\"Zoekmachines-1\"><span class=\"toc-item-num\">1&nbsp;&nbsp;</span>Zoekmachines</a></span><ul class=\"toc-item\"><li><span><a href=\"#Notebook-made-by\" data-toc-modified-id=\"Notebook-made-by-1.1\"><span class=\"toc-item-num\">1.1&nbsp;&nbsp;</span>Notebook made by</a></span></li><li><span><a href=\"#Toelichting\" data-toc-modified-id=\"Toelichting-1.2\"><span class=\"toc-item-num\">1.2&nbsp;&nbsp;</span>Toelichting</a></span></li><li><span><a href=\"#Voor-het-inleveren!\" data-toc-modified-id=\"Voor-het-inleveren!-1.3\"><span class=\"toc-item-num\">1.3&nbsp;&nbsp;</span>Voor het inleveren!</a></span></li></ul></li><li><span><a href=\"#Week-5\" data-toc-modified-id=\"Week-5-2\"><span class=\"toc-item-num\">2&nbsp;&nbsp;</span>Week 5</a></span></li><li><span><a href=\"#Evaluation-of-Document-Classification-(4pt)\" data-toc-modified-id=\"Evaluation-of-Document-Classification-(4pt)-3\"><span class=\"toc-item-num\">3&nbsp;&nbsp;</span>Evaluation of Document Classification (4pt)</a></span></li><li><span><a href=\"#Relevance-feedback\" data-toc-modified-id=\"Relevance-feedback-4\"><span class=\"toc-item-num\">4&nbsp;&nbsp;</span>Relevance feedback</a></span></li><li><span><a href=\"#Book-excercises-(Chapter-12)\" data-toc-modified-id=\"Book-excercises-(Chapter-12)-5\"><span class=\"toc-item-num\">5&nbsp;&nbsp;</span>Book excercises (Chapter 12)</a></span><ul class=\"toc-item\"><li><span><a href=\"#Exercise-12.3\" data-toc-modified-id=\"Exercise-12.3-5.1\"><span class=\"toc-item-num\">5.1&nbsp;&nbsp;</span>Exercise 12.3</a></span></li><li><span><a href=\"#Exercise-12.4\" data-toc-modified-id=\"Exercise-12.4-5.2\"><span class=\"toc-item-num\">5.2&nbsp;&nbsp;</span>Exercise 12.4</a></span></li><li><span><a href=\"#Exercise-12.5\" data-toc-modified-id=\"Exercise-12.5-5.3\"><span class=\"toc-item-num\">5.3&nbsp;&nbsp;</span>Exercise 12.5</a></span></li><li><span><a href=\"#Exercise-12.6\" data-toc-modified-id=\"Exercise-12.6-5.4\"><span class=\"toc-item-num\">5.4&nbsp;&nbsp;</span>Exercise 12.6</a></span></li><li><span><a href=\"#Exercise-12.7\" data-toc-modified-id=\"Exercise-12.7-5.5\"><span class=\"toc-item-num\">5.5&nbsp;&nbsp;</span>Exercise 12.7</a></span></li><li><span><a href=\"#Exercise-12.8\" data-toc-modified-id=\"Exercise-12.8-5.6\"><span class=\"toc-item-num\">5.6&nbsp;&nbsp;</span>Exercise 12.8</a></span></li><li><span><a href=\"#Exercise-12.9\" data-toc-modified-id=\"Exercise-12.9-5.7\"><span class=\"toc-item-num\">5.7&nbsp;&nbsp;</span>Exercise 12.9</a></span></li></ul></li></ul></div>"
   ]
  },
  {
   "cell_type": "markdown",
   "metadata": {
    "deletable": false,
    "editable": false,
    "nbgrader": {
     "cell_type": "markdown",
     "checksum": "1d17b0c05ea230fe3efa6c4c730e5d3d",
     "grade": false,
     "grade_id": "cell-0dc239c271cc4348",
     "locked": true,
     "schema_version": 3,
     "solution": false
    }
   },
   "source": [
    "# Week 5"
   ]
  },
  {
   "cell_type": "code",
   "execution_count": 1,
   "metadata": {
    "deletable": false,
    "editable": false,
    "nbgrader": {
     "cell_type": "code",
     "checksum": "0e5290f34dd822935cc9647c92ab52bf",
     "grade": false,
     "grade_id": "cell-676805319399a2c8",
     "locked": true,
     "schema_version": 3,
     "solution": false
    }
   },
   "outputs": [],
   "source": [
    "from nose.tools import assert_equal, assert_almost_equal\n",
    "import numpy as np"
   ]
  },
  {
   "cell_type": "markdown",
   "metadata": {
    "deletable": false,
    "editable": false,
    "nbgrader": {
     "cell_type": "markdown",
     "checksum": "1e3596612b2e30e05a39a90efaa10213",
     "grade": false,
     "grade_id": "dc",
     "locked": true,
     "schema_version": 3,
     "solution": false
    }
   },
   "source": [
    "# Evaluation of Document Classification (4pt)\n",
    "\n",
    "\n",
    "Stel je hebt een Naive Bayes Document classifier getrained voor 1 klasse $C$. Stel je hebt een test-collectie van 400 documenten. \n",
    "\n",
    "Beantwoord de volgende vragen in de cellen hieronder.\n",
    "\n",
    "1. De classifier heeft elk document in de collectie geklassificeerd. Wat betekent het als je een precisie hebt van 60%? Hoeveel documenten zijn dan onterecht als behorende tot klasse $C$ geklassificeerd?\n",
    "2. Stel dat 300 van de test documenten in klasse $C$ vallen? Welke precisie baseline hoort bij deze test-collectie? Welke recall baseline? \n",
    "3. Stel je classifier heeft een recall van 50%. Stel 100 van de 400 docs zitten in klasse $C$.  De classifier hoeft niet elk document te classificeren.   Geef exact   aan wat de precisie kan zijn voor deze classifier. Geef dus de onder en bovengrens voor de precisie. \n",
    "4. Stel 100 van de 400 docs zitten in klasse $C$. Welke baseline heb je voor _accurracy_?\n",
    "\n",
    "Met een classificatie baseline bedoelen we een classifier die helemaal niet naar de input kijkt maar alleen slim kiest op basis van de verdeling van de documenten over de klasse $C$.\n",
    "Denk bijvoorbeeld aan de vraag naar het geslacht van een willekeurige KI student. Wat zou je kiezen als je niks van die student weet? Wat is de recall en de precisie voor het geslacht \"jongen\" dan?"
   ]
  },
  {
   "cell_type": "code",
   "execution_count": 2,
   "metadata": {
    "deletable": false,
    "nbgrader": {
     "cell_type": "code",
     "checksum": "c8a69866354761dcfeae9fba9722c7f6",
     "grade": false,
     "grade_id": "dc1-a",
     "locked": false,
     "schema_version": 3,
     "solution": true
    }
   },
   "outputs": [
    {
     "data": {
      "text/plain": [
       "160.0"
      ]
     },
     "execution_count": 2,
     "metadata": {},
     "output_type": "execute_result"
    }
   ],
   "source": [
    "# deel vraag 1\n",
    "onterecht= 400 * 0.4 # 60% precision means that 40% must be false\n",
    "onterecht"
   ]
  },
  {
   "cell_type": "code",
   "execution_count": 3,
   "metadata": {
    "deletable": false,
    "nbgrader": {
     "cell_type": "code",
     "checksum": "4c97a721e428bdaad36ee594108d1faa",
     "grade": false,
     "grade_id": "dc1-b",
     "locked": false,
     "schema_version": 3,
     "solution": true
    }
   },
   "outputs": [],
   "source": [
    "# deel vraag 2\n",
    "#Precision quantifies the number of positive class predictions that actually belong to the positive class.\n",
    "#Recall quantifies the number of positive class predictions made out of all positive examples in the dataset.\n",
    "precisie_baseline= 300/400  # relevant/retrieved\n",
    "recall_baseline= 300/300 # relevant / total relevant (tp/fn)"
   ]
  },
  {
   "cell_type": "code",
   "execution_count": 4,
   "metadata": {
    "deletable": false,
    "nbgrader": {
     "cell_type": "code",
     "checksum": "3fa13ba3f2ed975b15b716015df7c6fe",
     "grade": false,
     "grade_id": "dc1-c",
     "locked": false,
     "schema_version": 3,
     "solution": true
    }
   },
   "outputs": [],
   "source": [
    "# deel vraag 3\n",
    "\n",
    "# precision given 50% recall\n",
    "ondergrens= 50/350  # so in the worst case it wont find any hits\n",
    "bovengrens=50/50 # at most it can retrieve 50 relevant"
   ]
  },
  {
   "cell_type": "code",
   "execution_count": 5,
   "metadata": {
    "deletable": false,
    "nbgrader": {
     "cell_type": "code",
     "checksum": "4eed9c562e3859d4d1d1d60eaa07e52a",
     "grade": false,
     "grade_id": "dc1-d",
     "locked": false,
     "schema_version": 3,
     "solution": true
    }
   },
   "outputs": [],
   "source": [
    "# deel vraag 4\n",
    "\n",
    "accuracy_baseline= 300/400  #100/400  # accuracy = correct (tP tN) / total"
   ]
  },
  {
   "cell_type": "code",
   "execution_count": 6,
   "metadata": {
    "deletable": false,
    "editable": false,
    "nbgrader": {
     "cell_type": "code",
     "checksum": "1b7587fb014c64d42d8f31b257726c6d",
     "grade": true,
     "grade_id": "dc1at",
     "locked": true,
     "points": 1,
     "schema_version": 3,
     "solution": false
    }
   },
   "outputs": [],
   "source": [
    "assert 0<=onterecht<= 400\n",
    "\n"
   ]
  },
  {
   "cell_type": "code",
   "execution_count": 7,
   "metadata": {
    "deletable": false,
    "editable": false,
    "nbgrader": {
     "cell_type": "code",
     "checksum": "0ad8925c99616c2b3d18a31ab8c40342",
     "grade": true,
     "grade_id": "dc1bt",
     "locked": true,
     "points": 1,
     "schema_version": 3,
     "solution": false
    }
   },
   "outputs": [],
   "source": [
    "assert 0<=precisie_baseline<=1\n",
    "assert 0<=recall_baseline<= 1\n"
   ]
  },
  {
   "cell_type": "code",
   "execution_count": 8,
   "metadata": {
    "deletable": false,
    "editable": false,
    "nbgrader": {
     "cell_type": "code",
     "checksum": "c841bad375c60f7c2b2ac9995f31797b",
     "grade": true,
     "grade_id": "dc1ct",
     "locked": true,
     "points": 1,
     "schema_version": 3,
     "solution": false
    }
   },
   "outputs": [],
   "source": [
    "assert 0<=ondergrens<=1\n",
    "assert 0<=bovengrens<= 1"
   ]
  },
  {
   "cell_type": "code",
   "execution_count": 9,
   "metadata": {
    "deletable": false,
    "editable": false,
    "nbgrader": {
     "cell_type": "code",
     "checksum": "8d2b11cfc4d858aad02eb80c21501ba5",
     "grade": true,
     "grade_id": "dc1dt",
     "locked": true,
     "points": 1,
     "schema_version": 3,
     "solution": false
    }
   },
   "outputs": [],
   "source": [
    "assert 0<=accuracy_baseline<=1\n"
   ]
  },
  {
   "cell_type": "markdown",
   "metadata": {
    "deletable": false,
    "editable": false,
    "nbgrader": {
     "cell_type": "markdown",
     "checksum": "a97cf2e5bf3fd7c54cbe770212bc0657",
     "grade": false,
     "grade_id": "rf",
     "locked": true,
     "schema_version": 3,
     "solution": false
    }
   },
   "source": [
    "# Relevance feedback\n",
    "\n",
    "In deze vraag gaan we de SMART versie van Rochio relevance feedback (vergelijking 9.3 in het boek) implementeren in Python. We gaan uit van een collectie met een vocabulair van 100 termen. Elke query en elk document is gerepresenteerd als een vector van lengte 100 gevuld met getallen tussen 0 en 1. \n",
    "\n",
    "Maak de functies voor `centroid` en `modified_query` af. Alle data zit in numpy arrays, dus je kunt er heel makkelijk mee werken op een manier die je kent uit linaire algebra. \n",
    "\n",
    "De data bestaat uit \n",
    "* een query van 2 woorden\n",
    "* 8 relevante documenten en 3 niet relevante documenten\n",
    "\n",
    "Hint: beide functies kan je zonder for loops schrijven, zelfs comprehensies zijn niet nodig."
   ]
  },
  {
   "cell_type": "code",
   "execution_count": 10,
   "metadata": {
    "deletable": false,
    "editable": false,
    "nbgrader": {
     "cell_type": "code",
     "checksum": "0e8f478507614519cafd568509bf9b62",
     "grade": false,
     "grade_id": "rfd",
     "locked": true,
     "schema_version": 3,
     "solution": false
    }
   },
   "outputs": [
    {
     "name": "stdout",
     "output_type": "stream",
     "text": [
      "[0.    0.    0.    0.    0.    0.    0.    0.    0.4   0.    0.    0.\n",
      " 0.    0.    0.    0.    0.    0.    0.    0.    0.    0.    0.    0.\n",
      " 0.    0.    0.    0.    0.    0.    0.    0.    0.    0.    0.    0.\n",
      " 0.    0.    0.    0.    0.    0.    0.    0.    0.    0.    0.    0.111\n",
      " 0.    0.    0.    0.    0.    0.    0.    0.    0.    0.    0.    0.\n",
      " 0.    0.    0.    0.    0.    0.    0.    0.    0.    0.    0.    0.\n",
      " 0.    0.    0.    0.    0.    0.    0.    0.    0.    0.    0.    0.\n",
      " 0.    0.    0.    0.    0.    0.    0.    0.    0.    0.    0.    0.\n",
      " 0.    0.    0.    0.   ]\n"
     ]
    }
   ],
   "source": [
    "# data\n",
    "q=np.zeros(100)\n",
    "q[8],q[47]= .4, .111\n",
    "Relevant_docs=np.array([np.random.rand(100) for _ in range(8)])\n",
    "NonRelevant_docs=np.array([np.random.rand(100) for _ in range(3)])\n",
    "\n",
    "print(q)"
   ]
  },
  {
   "cell_type": "code",
   "execution_count": 11,
   "metadata": {
    "deletable": false,
    "nbgrader": {
     "cell_type": "code",
     "checksum": "1348f5c27f4e0a745a2dcd3183f1e9fd",
     "grade": false,
     "grade_id": "rfa",
     "locked": false,
     "schema_version": 3,
     "solution": true
    }
   },
   "outputs": [
    {
     "name": "stdout",
     "output_type": "stream",
     "text": [
      "[0.70701364 0.53951493 0.67691241 0.36208429 0.48966628 0.49600756\n",
      " 0.47123047 0.37171822 0.65540407 0.54476505 0.65967553 0.41345226\n",
      " 0.41169441 0.60940323 0.3616292  0.69655829 0.66517895 0.3445528\n",
      " 0.25656919 0.54954869 0.36032107 0.68974561 0.57218872 0.20325994\n",
      " 0.70509773 0.43343794 0.51167537 0.55740563 0.60421628 0.5770204\n",
      " 0.25122296 0.62429957 0.82031547 0.22937743 0.65154545 0.47997234\n",
      " 0.5557078  0.25437254 0.51197972 0.59296728 0.55145087 0.32978608\n",
      " 0.35764872 0.5383642  0.83155337 0.62395072 0.61950942 0.59293685\n",
      " 0.74392192 0.42163432 0.46368265 0.55438262 0.6372891  0.30055378\n",
      " 0.56353609 0.58177759 0.45133994 0.56127478 0.44381417 0.39795629\n",
      " 0.30972583 0.38283968 0.29841306 0.79477909 0.65279104 0.41368092\n",
      " 0.34434782 0.82013481 0.78431977 0.67897219 0.56606883 0.43936931\n",
      " 0.52862248 0.20795467 0.50481524 0.35286202 0.57517609 0.25400467\n",
      " 0.61484631 0.58107526 0.50053059 0.39516101 0.7646507  0.48282601\n",
      " 0.62886099 0.54269128 0.67261669 0.44083129 0.35028786 0.49636308\n",
      " 0.32326996 0.78689297 0.35897437 0.52933337 0.44209966 0.45635999\n",
      " 0.57759999 0.63336877 0.69338976 0.42238551]\n"
     ]
    },
    {
     "data": {
      "text/plain": [
       "array([0.30195209, 0.32186368, 0.2212794 , 0.25348653, 0.20171316,\n",
       "       0.22347837, 0.27996465, 0.16963669, 0.64732275, 0.16251302,\n",
       "       0.12457881, 0.3018731 , 0.21178311, 0.19318396, 0.28117857,\n",
       "       0.15124528, 0.10728523, 0.42131837, 0.38230278, 0.26445405,\n",
       "       0.21702472, 0.2148677 , 0.19649012, 0.22759651, 0.23516131,\n",
       "       0.19951741, 0.27261166, 0.28445041, 0.35272055, 0.11771473,\n",
       "       0.14378103, 0.22567828, 0.11548248, 0.16349314, 0.10340279,\n",
       "       0.31633084, 0.20375582, 0.32911891, 0.2279167 , 0.27115716,\n",
       "       0.21734165, 0.31310962, 0.26794979, 0.25758185, 0.28694771,\n",
       "       0.2101025 , 0.27307542, 0.39594078, 0.26825688, 0.2703256 ,\n",
       "       0.20360094, 0.29374247, 0.14999103, 0.26937974, 0.23133962,\n",
       "       0.22678539, 0.07163582, 0.34311252, 0.11457995, 0.31033222,\n",
       "       0.32121657, 0.32709844, 0.29333816, 0.18769129, 0.15368606,\n",
       "       0.44142365, 0.28938987, 0.17052668, 0.20403661, 0.20654237,\n",
       "       0.13086122, 0.3177982 , 0.20422437, 0.40580562, 0.31774846,\n",
       "       0.31161978, 0.24047374, 0.42255172, 0.17860998, 0.27045944,\n",
       "       0.2213757 , 0.34000081, 0.11381513, 0.10944436, 0.2424648 ,\n",
       "       0.34839782, 0.18345721, 0.08541744, 0.27110851, 0.14260271,\n",
       "       0.26907573, 0.14399803, 0.32162421, 0.25302947, 0.21059183,\n",
       "       0.10863663, 0.2035917 , 0.16303132, 0.16839126, 0.19380863])"
      ]
     },
     "execution_count": 11,
     "metadata": {},
     "output_type": "execute_result"
    }
   ],
   "source": [
    "def centroid(D):\n",
    "    return sum(D) / len(D)\n",
    "\n",
    "# test\n",
    "print(centroid(NonRelevant_docs))\n",
    "\n",
    "def modified_query(query,relevantdocs,nonrelevantdocs,alpha=1,beta=.75,gamma=.25):\n",
    "    return (alpha * query) + (beta * centroid(relevantdocs)) - (gamma * centroid(nonrelevantdocs))\n",
    "\n",
    "# test\n",
    "modified_query(q,Relevant_docs,NonRelevant_docs)"
   ]
  },
  {
   "cell_type": "code",
   "execution_count": 12,
   "metadata": {
    "deletable": false,
    "editable": false,
    "nbgrader": {
     "cell_type": "code",
     "checksum": "485b6a0a176f70ca1f45ea71c27482f0",
     "grade": true,
     "grade_id": "rft",
     "locked": true,
     "points": 1,
     "schema_version": 3,
     "solution": false
    }
   },
   "outputs": [],
   "source": [
    "assert isinstance(modified_query(q,Relevant_docs,NonRelevant_docs), np.ndarray)\n"
   ]
  },
  {
   "cell_type": "markdown",
   "metadata": {
    "deletable": false,
    "editable": false,
    "nbgrader": {
     "cell_type": "markdown",
     "checksum": "9d7df694df05113e912d126b09b6c9f9",
     "grade": false,
     "grade_id": "cell-3e4e40c77ee90ff9",
     "locked": true,
     "schema_version": 3,
     "solution": false
    }
   },
   "source": [
    "# Book excercises (Chapter 12)\n",
    "In this section you will make the exercises from the book, which is freely available online as a PDF at [nlp.stanford.edu/IR-book/](http://nlp.stanford.edu/IR-book/)."
   ]
  },
  {
   "cell_type": "markdown",
   "metadata": {
    "deletable": false,
    "editable": false,
    "nbgrader": {
     "cell_type": "markdown",
     "checksum": "d1a8191b77712fbbbba8bcc43b0f12aa",
     "grade": false,
     "grade_id": "cell-4aea9bac2279df92",
     "locked": true,
     "schema_version": 3,
     "solution": false
    }
   },
   "source": [
    "## Exercise 12.3\n",
    "What  is  the  likelihood  ratio  of  the  document  according  to M1 and M2 in  Example 12.2?"
   ]
  },
  {
   "cell_type": "code",
   "execution_count": 13,
   "metadata": {
    "deletable": false,
    "nbgrader": {
     "cell_type": "code",
     "checksum": "ec381cab9b09a8525e49d64f8e0e52fc",
     "grade": false,
     "grade_id": "cell-1078c13a222d6f56",
     "locked": false,
     "schema_version": 3,
     "solution": true
    }
   },
   "outputs": [
    {
     "data": {
      "text/plain": [
       "1250.0"
      ]
     },
     "execution_count": 13,
     "metadata": {},
     "output_type": "execute_result"
    }
   ],
   "source": [
    "m1 = {'the' : .2, 'a' : .1, 'frog' : .01, 'toad' : .01, 'said' : .03,\n",
    "      'likes' : .02, 'that' : .04, 'dog' : .005, 'cat' : .003, 'monkey' : .001}\n",
    "m2 = {'the' : .15, 'a' : .12, 'frog' : .0002, 'toad' : .0001, 'said' : .03,\n",
    "      'likes' : .04, 'that' : .04, 'dog' : .01, 'cat' : .015, 'monkey' : .002}\n",
    "\n",
    "s = 'frog said that toad likes that dog'.split()\n",
    "\n",
    "s_given_m1 = np.prod([m1[word] for word in s])\n",
    "s_given_m2 = np.prod([m2[word] for word in s])\n",
    "\n",
    "likelihood_ratio = (s_given_m1/s_given_m2).item()\n",
    "\n",
    "likelihood_ratio"
   ]
  },
  {
   "cell_type": "code",
   "execution_count": 14,
   "metadata": {
    "deletable": false,
    "editable": false,
    "nbgrader": {
     "cell_type": "code",
     "checksum": "30d0a6e1e7e203657de00571545478e5",
     "grade": true,
     "grade_id": "cell-d5b4ca4da32d2e9c",
     "locked": true,
     "points": 1,
     "schema_version": 3,
     "solution": false
    }
   },
   "outputs": [],
   "source": [
    "assert type(likelihood_ratio) in [int, float]"
   ]
  },
  {
   "cell_type": "markdown",
   "metadata": {
    "deletable": false,
    "editable": false,
    "nbgrader": {
     "cell_type": "markdown",
     "checksum": "1383371c963ca801d5f55e7561f5fd29",
     "grade": false,
     "grade_id": "cell-52afc97c2c1affa7",
     "locked": true,
     "schema_version": 3,
     "solution": false
    }
   },
   "source": [
    "## Exercise 12.4\n",
    "No explicit STOP probability appeared in Example 12.2. Assuming that the STOP probability of each model is 0.1, does this change the likelihood ratio of a document according to the two models?"
   ]
  },
  {
   "cell_type": "code",
   "execution_count": 15,
   "metadata": {
    "deletable": false,
    "nbgrader": {
     "cell_type": "code",
     "checksum": "95ad84aff08a3bf094637a7fa4cf4929",
     "grade": false,
     "grade_id": "cell-88d84f5f3e274f8c",
     "locked": false,
     "schema_version": 3,
     "solution": true
    }
   },
   "outputs": [
    {
     "data": {
      "text/plain": [
       "1249.9999999999998"
      ]
     },
     "execution_count": 15,
     "metadata": {},
     "output_type": "execute_result"
    }
   ],
   "source": [
    "# equal stop probability does not alter the likelihood ratio ever.\n",
    "\n",
    "s_given_m1_stop = np.prod([m1[word] * 0.9 for word in s])\n",
    "s_given_m2_stop = np.prod([m2[word] * 0.9 for word in s])\n",
    "\n",
    "likelihood_with_stop = (s_given_m1_stop/ s_given_m2_stop).item()\n",
    "\n",
    "likelihood_with_stop"
   ]
  },
  {
   "cell_type": "code",
   "execution_count": 16,
   "metadata": {
    "deletable": false,
    "editable": false,
    "nbgrader": {
     "cell_type": "code",
     "checksum": "6dca3116592fd9f20f4b756597a2d8f7",
     "grade": true,
     "grade_id": "cell-77b507102f5e246e",
     "locked": true,
     "points": 1,
     "schema_version": 3,
     "solution": false
    }
   },
   "outputs": [],
   "source": [
    "assert type(likelihood_with_stop) in [int, float]"
   ]
  },
  {
   "cell_type": "markdown",
   "metadata": {
    "deletable": false,
    "editable": false,
    "nbgrader": {
     "cell_type": "markdown",
     "checksum": "eca59fc4b785355d473ffbf2f02a6e0a",
     "grade": false,
     "grade_id": "cell-ea87bbc3ac13b9e2",
     "locked": true,
     "schema_version": 3,
     "solution": false
    }
   },
   "source": [
    "## Exercise 12.5\n",
    "How might a language model be used in a spelling correction system? In particular, consider the case of context-sensitive spelling correction, and correcting incorrect usages of words, such as _their_ in _Are you their?_(See Section3.5(page65) for pointers to some literature on this topic.)"
   ]
  },
  {
   "cell_type": "markdown",
   "metadata": {
    "deletable": false,
    "nbgrader": {
     "cell_type": "code",
     "checksum": "a754001af758ad6d705b494b6270e515",
     "grade": true,
     "grade_id": "cell-4bf9772cefb54700",
     "locked": false,
     "points": 1,
     "schema_version": 3,
     "solution": true
    }
   },
   "source": [
    "If a word has a very small probability in a large language model, it is likely spelled wrong. After this the query can be viewed as a probibalistic corruption of a correct query. By finding a word that closely resembles the query but with a higher probability, the system can correct spelling."
   ]
  },
  {
   "cell_type": "markdown",
   "metadata": {
    "deletable": false,
    "editable": false,
    "nbgrader": {
     "cell_type": "markdown",
     "checksum": "e1c75e9e816af655cf15dc6b7f35d962",
     "grade": false,
     "grade_id": "cell-e00a0be849b70c38",
     "locked": true,
     "schema_version": 3,
     "solution": false
    }
   },
   "source": [
    "## Exercise 12.6\n",
    "Consider making a language model from the following training text:\n",
    "    the martian has landed on the latin pop sensation ricky martin\n",
    "    \n",
    "a. Under a MLE-estimated unigram probability model, what are P(the) and P(martian)?\n",
    "\n",
    "b. Under a MLE-estimated bigram model, what are P(sensation|pop) and P(pop|the)?"
   ]
  },
  {
   "cell_type": "code",
   "execution_count": 17,
   "metadata": {
    "deletable": false,
    "nbgrader": {
     "cell_type": "code",
     "checksum": "0c792d168b56cd1ad528dc03338b2659",
     "grade": false,
     "grade_id": "cell-ecc32bc65a9fbd20",
     "locked": false,
     "points": 1,
     "schema_version": 3,
     "solution": true
    }
   },
   "outputs": [
    {
     "name": "stdout",
     "output_type": "stream",
     "text": [
      "0.18181818181818182 0.09090909090909091 1.0 0.0\n",
      "62 2 1\n"
     ]
    }
   ],
   "source": [
    "text = \"the martian has landed on the latin pop sensation ricky martin\"\n",
    "\n",
    "P_the =  text.count(\"the\")/len(text.split())\n",
    "P_martian = text.count(\"martian\")/len(text.split())\n",
    "P_sensation_pop = text.count(\"pop sensation\")/text.count(\"pop\")\n",
    "P_pop_the = text.count(\"the pop\")/text.count(\"the\")\n",
    "\n",
    "print(P_the, P_martian, P_sensation_pop, P_pop_the)\n",
    "print(len(text),text.count(\"the\"), text.count(\"martian\"))"
   ]
  },
  {
   "cell_type": "code",
   "execution_count": 18,
   "metadata": {
    "deletable": false,
    "editable": false,
    "nbgrader": {
     "cell_type": "code",
     "checksum": "fd5a37099e70c13fe6df48b0ca1b2660",
     "grade": true,
     "grade_id": "cell-4bf550a6e30c9cce",
     "locked": true,
     "points": 0.25,
     "schema_version": 3,
     "solution": false
    }
   },
   "outputs": [],
   "source": [
    "assert type(P_the) in [int, float]"
   ]
  },
  {
   "cell_type": "code",
   "execution_count": 19,
   "metadata": {
    "deletable": false,
    "editable": false,
    "nbgrader": {
     "cell_type": "code",
     "checksum": "92e5d88c190cb84ea0a347d8c8f9e8a5",
     "grade": true,
     "grade_id": "cell-cf1055abc4db1355",
     "locked": true,
     "points": 0.25,
     "schema_version": 3,
     "solution": false
    }
   },
   "outputs": [],
   "source": [
    "assert type(P_martian) in [int, float]"
   ]
  },
  {
   "cell_type": "code",
   "execution_count": 20,
   "metadata": {
    "deletable": false,
    "editable": false,
    "nbgrader": {
     "cell_type": "code",
     "checksum": "466e24652822b1c8bcfce854ae0e6549",
     "grade": true,
     "grade_id": "cell-c7730c5c9cd22dc6",
     "locked": true,
     "points": 0.25,
     "schema_version": 3,
     "solution": false
    }
   },
   "outputs": [],
   "source": [
    "assert type(P_sensation_pop) in [int, float]"
   ]
  },
  {
   "cell_type": "code",
   "execution_count": 21,
   "metadata": {
    "deletable": false,
    "editable": false,
    "nbgrader": {
     "cell_type": "code",
     "checksum": "a1f6434fb2c2724841937b1aa4f4b374",
     "grade": true,
     "grade_id": "cell-e1b617addf2268f7",
     "locked": true,
     "points": 0.25,
     "schema_version": 3,
     "solution": false
    }
   },
   "outputs": [],
   "source": [
    "assert type(P_pop_the) in [int, float]"
   ]
  },
  {
   "cell_type": "markdown",
   "metadata": {
    "deletable": false,
    "editable": false,
    "nbgrader": {
     "cell_type": "markdown",
     "checksum": "fbcb70d1aa96be87f4d80269bff18d4b",
     "grade": false,
     "grade_id": "cell-98f412455f0eb0f8",
     "locked": true,
     "schema_version": 3,
     "solution": false
    }
   },
   "source": [
    "## Exercise 12.7\n",
    "Suppose we have  a collection that consists of the 4 documents given in the below table.\n",
    "\n",
    "| docID | Document text                              |\n",
    "|-------|--------------------------------------------|\n",
    "| 1     | click go the shears boys click click click |\n",
    "| 2     | click click                                |\n",
    "| 3     | metal here                                 |\n",
    "| 4     | metal shears click here                    |\n",
    "\n",
    "\n",
    "Build a  query likelihood language  model for  this  document  collection. Assume  amixture model between the documents and the collection, with both weighted at 0.5. Maximum likelihood estimation (mle) is used to estimate both as unigram models. Work out the model probabilities of the queries `click`, `shears`, and hence `click shears` for each document, and use those probabilities to rank the documents returned by eachquery.\n",
    "\n",
    "For each query give the probablities in a list, where the first value corresponds to Doc1, the second value to Doc2 etc."
   ]
  },
  {
   "cell_type": "code",
   "execution_count": 22,
   "metadata": {
    "deletable": false,
    "nbgrader": {
     "cell_type": "code",
     "checksum": "ca7488ef866faf4e306cbd98ebe95f11",
     "grade": false,
     "grade_id": "cell-5a45af37333b7b02",
     "locked": false,
     "schema_version": 3,
     "solution": true
    }
   },
   "outputs": [
    {
     "data": {
      "text/plain": [
       "([0.29069767441860467,\n",
       "  0.5406976744186046,\n",
       "  0.040697674418604654,\n",
       "  0.16569767441860467],\n",
       " [0.07412790697674418,\n",
       "  0.011627906976744186,\n",
       "  0.011627906976744186,\n",
       "  0.13662790697674418],\n",
       " [0.021548810167658194,\n",
       "  0.006287182260681449,\n",
       "  0.00047322877230935646,\n",
       "  0.022638926446727964])"
      ]
     },
     "execution_count": 22,
     "metadata": {},
     "output_type": "execute_result"
    }
   ],
   "source": [
    "docs = [\"click go the shears boys click click click\", \"click click\", \"metal here\", \"metal shears click here\"]\n",
    "\n",
    "click_t = sum([doc.count(\"click\") for doc in docs])\n",
    "shears_t = sum([doc.count(\"shears\") for doc in docs])\n",
    "len_t = sum([len(doc) for doc in docs])\n",
    "\n",
    "P_click = [((doc.count(\"click\")/len(doc.split()) + (click_t/len_t))*0.5) for doc in docs]\n",
    "P_shears = [((doc.count(\"shears\")/len(doc.split()) + (shears_t/len_t))*0.5) for doc in docs]\n",
    "P_click_shears = [click * shears for click, shears in zip(P_click, P_shears)]\n",
    "\n",
    "P_click, P_shears, P_click_shears"
   ]
  },
  {
   "cell_type": "code",
   "execution_count": 23,
   "metadata": {
    "deletable": false,
    "editable": false,
    "nbgrader": {
     "cell_type": "code",
     "checksum": "a3ca8e15075d461c7008ecde18dd8f9a",
     "grade": true,
     "grade_id": "cell-544c7fce7e22a413",
     "locked": true,
     "points": 0.33,
     "schema_version": 3,
     "solution": false
    }
   },
   "outputs": [],
   "source": [
    "assert_equal(type(P_click), list)\n",
    "assert_equal(len(P_click), 4)"
   ]
  },
  {
   "cell_type": "code",
   "execution_count": 24,
   "metadata": {
    "deletable": false,
    "editable": false,
    "nbgrader": {
     "cell_type": "code",
     "checksum": "b4009f778785669bd6c01e801870b964",
     "grade": true,
     "grade_id": "cell-4d667ae597154cac",
     "locked": true,
     "points": 0.33,
     "schema_version": 3,
     "solution": false
    }
   },
   "outputs": [],
   "source": [
    "assert_equal(type(P_shears), list)\n",
    "assert_equal(len(P_shears), 4)"
   ]
  },
  {
   "cell_type": "code",
   "execution_count": 25,
   "metadata": {
    "deletable": false,
    "editable": false,
    "nbgrader": {
     "cell_type": "code",
     "checksum": "a41fe15b248bba122e8acb78fc3abba9",
     "grade": true,
     "grade_id": "cell-bfe5b75eb01e6fdb",
     "locked": true,
     "points": 0.34,
     "schema_version": 3,
     "solution": false
    }
   },
   "outputs": [],
   "source": [
    "assert_equal(type(P_click_shears), list)\n",
    "assert_equal(len(P_click_shears), 4)"
   ]
  },
  {
   "cell_type": "markdown",
   "metadata": {
    "deletable": false,
    "editable": false,
    "nbgrader": {
     "cell_type": "markdown",
     "checksum": "231a0626dd1afef7e2e1daa644a56e04",
     "grade": false,
     "grade_id": "cell-85983f7d071c5c6b",
     "locked": true,
     "schema_version": 3,
     "solution": false
    }
   },
   "source": [
    "## Exercise 12.8\n",
    "Using the  calculations in Exercise 12.7 as inspiration or as examples where appropriate, write one sentence each  describing  the  treatment  that  the  model  in  Equation (12.10) gives to each of the following quantities. Include whether it is present in the model or not and whether the effect is raw or scaled.\n",
    "\n",
    "a. Term frequency in a document\n",
    "\n",
    "b. Collection frequency of a term\n",
    "\n",
    "c. Document frequency of a term\n",
    "\n",
    "d. Length normalization of a term"
   ]
  },
  {
   "cell_type": "markdown",
   "metadata": {
    "deletable": false,
    "nbgrader": {
     "cell_type": "markdown",
     "checksum": "95c8f4a31feac14b5c00b80cc3febdf3",
     "grade": true,
     "grade_id": "cell-9dda7fcb647eefde",
     "locked": false,
     "points": 2,
     "schema_version": 3,
     "solution": true
    }
   },
   "source": [
    "a) yes, scaled (because we divide by lenth)\n",
    "\n",
    "b) yes, scaled (because we divide by total tokens)\n",
    "\n",
    "c) no\n",
    "\n",
    "d) yes, scaled (because we normalise by length of list)"
   ]
  },
  {
   "cell_type": "markdown",
   "metadata": {
    "deletable": false,
    "editable": false,
    "nbgrader": {
     "cell_type": "markdown",
     "checksum": "ff6e9ec25195ccae74da865a895016bf",
     "grade": false,
     "grade_id": "cell-9e0982d74d47e325",
     "locked": true,
     "schema_version": 3,
     "solution": false
    }
   },
   "source": [
    "## Exercise 12.9\n",
    "In the mixture model approach to the query likelihood model (Equation (12.12)), the probability estimate of a term is based on the term frequency of a word in a document, and the collection frequency of the word.  Doing this certainly guarantees that each term of a query (in the vocabulary) has a non-zero chance of being generated by each document. But it has a more subtle but important effect of implementing a form of term weighting, related to what we saw in Chapter 6. Explain how this works. In particular, include  in  your answer a concrete numeric example showing  this  termweighting at work."
   ]
  },
  {
   "cell_type": "markdown",
   "metadata": {
    "deletable": false,
    "nbgrader": {
     "cell_type": "markdown",
     "checksum": "cff87de7523183885137733ad936c531",
     "grade": true,
     "grade_id": "cell-b7c0df0f7263b34b",
     "locked": false,
     "points": 2,
     "schema_version": 3,
     "solution": true
    }
   },
   "source": [
    "So we have a common word that occurs 8 times in d1 and once in d2\n",
    "\n",
    "And we have a rare word which does not occur in d1 and occurs once in d2\n",
    "\n",
    "Then P(\"rare common\"|d1)=0.5∗(0/8 + 1/16)∗0.5∗(8/8+9/16)= 0.0244140625\n",
    "\n",
    "P(\"rare common\"|d2)=0.5∗(1/8 + 1/16)∗0.5∗(1/8 + 9/16)= 0.0322265625\n",
    "\n",
    "You can see that while d1 has 8 hits and d2 has 2 hits, d2 gets a higher score. The smoothing makes a lot of the same term in a sentence less important, and makes the absence of a term very important."
   ]
  },
  {
   "cell_type": "code",
   "execution_count": null,
   "metadata": {},
   "outputs": [],
   "source": []
  }
 ],
 "metadata": {
  "kernelspec": {
   "display_name": "Python 3",
   "language": "python",
   "name": "python3"
  },
  "language_info": {
   "codemirror_mode": {
    "name": "ipython",
    "version": 3
   },
   "file_extension": ".py",
   "mimetype": "text/x-python",
   "name": "python",
   "nbconvert_exporter": "python",
   "pygments_lexer": "ipython3",
   "version": "3.7.0"
  },
  "toc": {
   "nav_menu": {},
   "number_sections": true,
   "sideBar": true,
   "skip_h1_title": false,
   "title_cell": "Table of Contents",
   "title_sidebar": "Contents",
   "toc_cell": true,
   "toc_position": {},
   "toc_section_display": true,
   "toc_window_display": false
  }
 },
 "nbformat": 4,
 "nbformat_minor": 2
}
