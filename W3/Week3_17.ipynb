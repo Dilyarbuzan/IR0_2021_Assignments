{
 "cells": [
  {
   "cell_type": "markdown",
   "id": "0b31d4f2",
   "metadata": {},
   "source": [
    "# Zoekmachines"
   ]
  },
  {
   "cell_type": "markdown",
   "id": "81dceddb",
   "metadata": {},
   "source": [
    "## Notebook made by\n",
    "\n",
    "__Name__|Erik| en vrienden\n",
    "\n",
    "__Student id__ : (secret)"
   ]
  },
  {
   "cell_type": "markdown",
   "id": "0194d43b",
   "metadata": {},
   "source": [
    "## Toelichting\n",
    "\n",
    "* De meeste opgaven worden automatisch nagekeken. Bij vrijwel alle opdrachten staan er een paar zichtbare tests onder de opdracht, dit is voornamelijk om te zorgen dat je de juiste type output geeft. De andere tests worden na inleveren toegevoegd aan die cell.\n",
    "\n",
    "## Voor het inleveren!\n",
    "\n",
    "* Pas niet de cellen aan, vooral niet die je niet kunt editen. Dit levert problemen op bij nakijken. Twijfel je of je per ongeluk iets hebt gewijzigd, kopieer dan bij inleveren je antwoorden naar een nieuw bestand, zodat het niet fout kan gaan.\n",
    "\n",
    "* Zorg dat de code goed runt van boven naar beneden, verifieer dat door boven in Kernel -> Restart & Run All uit te voeren"
   ]
  },
  {
   "cell_type": "markdown",
   "id": "0667197f",
   "metadata": {
    "toc": true
   },
   "source": [
    "<h1>Table of Contents<span class=\"tocSkip\"></span></h1>\n",
    "<div class=\"toc\"><ul class=\"toc-item\"><li><span><a href=\"#Week-3\" data-toc-modified-id=\"Week-3-1\"><span class=\"toc-item-num\">1&nbsp;&nbsp;</span>Week 3</a></span></li><li><span><a href=\"#Questions-from-Chapter-8-in-MRS\" data-toc-modified-id=\"Questions-from-Chapter-8-in-MRS-2\"><span class=\"toc-item-num\">2&nbsp;&nbsp;</span>Questions from Chapter 8 in MRS</a></span><ul class=\"toc-item\"><li><ul class=\"toc-item\"><li><span><a href=\"#8.1\" data-toc-modified-id=\"8.1-2.0.1\"><span class=\"toc-item-num\">2.0.1&nbsp;&nbsp;</span>8.1</a></span></li><li><span><a href=\"#8.2\" data-toc-modified-id=\"8.2-2.0.2\"><span class=\"toc-item-num\">2.0.2&nbsp;&nbsp;</span>8.2</a></span></li><li><span><a href=\"#8.3\" data-toc-modified-id=\"8.3-2.0.3\"><span class=\"toc-item-num\">2.0.3&nbsp;&nbsp;</span>8.3</a></span></li><li><span><a href=\"#8.4\" data-toc-modified-id=\"8.4-2.0.4\"><span class=\"toc-item-num\">2.0.4&nbsp;&nbsp;</span>8.4</a></span></li><li><span><a href=\"#8.8\" data-toc-modified-id=\"8.8-2.0.5\"><span class=\"toc-item-num\">2.0.5&nbsp;&nbsp;</span>8.8</a></span></li><li><span><a href=\"#8.8-extra\" data-toc-modified-id=\"8.8-extra-2.0.6\"><span class=\"toc-item-num\">2.0.6&nbsp;&nbsp;</span>8.8 extra</a></span></li><li><span><a href=\"#8.9\" data-toc-modified-id=\"8.9-2.0.7\"><span class=\"toc-item-num\">2.0.7&nbsp;&nbsp;</span>8.9</a></span></li><li><span><a href=\"#8.10\" data-toc-modified-id=\"8.10-2.0.8\"><span class=\"toc-item-num\">2.0.8&nbsp;&nbsp;</span>8.10</a></span></li></ul></li></ul></li><li><span><a href=\"#Evaluation\" data-toc-modified-id=\"Evaluation-3\"><span class=\"toc-item-num\">3&nbsp;&nbsp;</span>Evaluation</a></span><ul class=\"toc-item\"><li><ul class=\"toc-item\"><li><span><a href=\"#Evaluation-measures\" data-toc-modified-id=\"Evaluation-measures-3.0.1\"><span class=\"toc-item-num\">3.0.1&nbsp;&nbsp;</span>Evaluation measures</a></span></li><li><span><a href=\"#Precision-recall-curve\" data-toc-modified-id=\"Precision-recall-curve-3.0.2\"><span class=\"toc-item-num\">3.0.2&nbsp;&nbsp;</span>Precision recall curve</a></span></li><li><span><a href=\"#Cohen's-Kappa\" data-toc-modified-id=\"Cohen's-Kappa-3.0.3\"><span class=\"toc-item-num\">3.0.3&nbsp;&nbsp;</span>Cohen's Kappa</a></span></li><li><span><a href=\"#10.1-Creating-a-test-set\" data-toc-modified-id=\"10.1-Creating-a-test-set-3.0.4\"><span class=\"toc-item-num\">3.0.4&nbsp;&nbsp;</span>10.1 Creating a test set</a></span></li><li><span><a href=\"#10.2-Assess-search-engine-results\" data-toc-modified-id=\"10.2-Assess-search-engine-results-3.0.5\"><span class=\"toc-item-num\">3.0.5&nbsp;&nbsp;</span>10.2 Assess search engine results</a></span></li></ul></li></ul></li><li><span><a href=\"#Programming-(Inverted-Index)\" data-toc-modified-id=\"Programming-(Inverted-Index)-4\"><span class=\"toc-item-num\">4&nbsp;&nbsp;</span>Programming (Inverted Index)</a></span><ul class=\"toc-item\"><li><span><a href=\"#12-Positional-inverted-index\" data-toc-modified-id=\"12-Positional-inverted-index-4.1\"><span class=\"toc-item-num\">4.1&nbsp;&nbsp;</span>12 Positional inverted index</a></span></li></ul></li></ul></div>"
   ]
  },
  {
   "cell_type": "markdown",
   "id": "e56dcdeb",
   "metadata": {
    "deletable": false,
    "editable": false,
    "nbgrader": {
     "cell_type": "markdown",
     "checksum": "36d7e1f5bd8f35d837a0d92a79995ce9",
     "grade": false,
     "grade_id": "cell-0e1219abb9e62568",
     "locked": true,
     "schema_version": 3,
     "solution": false
    }
   },
   "source": [
    "# Week 3"
   ]
  },
  {
   "cell_type": "code",
   "execution_count": 1,
   "id": "d869c55f",
   "metadata": {
    "deletable": false,
    "editable": false,
    "nbgrader": {
     "cell_type": "code",
     "checksum": "af12c8051c04438a128342ea6f2cee92",
     "grade": false,
     "grade_id": "cell-738a659fa61ddb20",
     "locked": true,
     "schema_version": 3,
     "solution": false
    }
   },
   "outputs": [],
   "source": [
    "from nose.tools import assert_equal, assert_almost_equal\n",
    "from bs4 import BeautifulSoup\n",
    "from urllib.request import urlopen\n",
    "import pandas as pd\n",
    "import networkx as nx\n",
    "import matplotlib.pyplot as plt\n",
    "import os\n",
    "import re\n",
    "import zipfile\n",
    "import math\n",
    "import numpy as np\n",
    "from tqdm import tqdm_notebook\n",
    "import nltk\n",
    "from collections import Counter, defaultdict\n",
    "%matplotlib inline"
   ]
  },
  {
   "cell_type": "markdown",
   "id": "9cc93ee6",
   "metadata": {
    "deletable": false,
    "editable": false,
    "nbgrader": {
     "cell_type": "markdown",
     "checksum": "128135c854ecdb8bf8f0f29376bc4ab5",
     "grade": false,
     "grade_id": "cell-65656d2217b99b63",
     "locked": true,
     "schema_version": 3,
     "solution": false
    }
   },
   "source": [
    "# Questions from Chapter 8 in MRS"
   ]
  },
  {
   "cell_type": "markdown",
   "id": "b624dfb3",
   "metadata": {
    "deletable": false,
    "editable": false,
    "nbgrader": {
     "cell_type": "markdown",
     "checksum": "a1960a516c228db42ab3e6df06fa6f44",
     "grade": false,
     "grade_id": "cell-a65f837aecb68efb",
     "locked": true,
     "schema_version": 3,
     "solution": false
    }
   },
   "source": [
    "### 8.1\n",
    "An IR system returns 8 relevant documents, and 10 nonrelevant documents. There are a total of 20 relevant documents in the collection. What is the precision of the system on this search, and what is its recall?"
   ]
  },
  {
   "cell_type": "code",
   "execution_count": 2,
   "id": "74c21bbc",
   "metadata": {
    "deletable": false,
    "nbgrader": {
     "cell_type": "code",
     "checksum": "b66b1d464e71d7356374e98832cb6cd0",
     "grade": false,
     "grade_id": "cell-80134f1fef5eef35",
     "locked": false,
     "schema_version": 3,
     "solution": true
    }
   },
   "outputs": [
    {
     "data": {
      "text/plain": [
       "(0.4, 0.4444444444444444)"
      ]
     },
     "execution_count": 2,
     "metadata": {},
     "output_type": "execute_result"
    }
   ],
   "source": [
    "recall = 8/20\n",
    "precision = 8/18\n",
    "\n",
    "recall, precision"
   ]
  },
  {
   "cell_type": "code",
   "execution_count": 3,
   "id": "fb11bc1f",
   "metadata": {
    "deletable": false,
    "editable": false,
    "nbgrader": {
     "cell_type": "code",
     "checksum": "6b4d587ae3ea201f9ce4b2e05d2d2b31",
     "grade": true,
     "grade_id": "cell-27cb4abf121eb1fe",
     "locked": true,
     "points": 0.5,
     "schema_version": 3,
     "solution": false
    }
   },
   "outputs": [],
   "source": [
    "assert_equal(type(precision), float)"
   ]
  },
  {
   "cell_type": "code",
   "execution_count": 4,
   "id": "84705b19",
   "metadata": {
    "deletable": false,
    "editable": false,
    "nbgrader": {
     "cell_type": "code",
     "checksum": "4d5f6a701436594eb4c2f3cb14e9841a",
     "grade": true,
     "grade_id": "cell-399797a07036b377",
     "locked": true,
     "points": 0.5,
     "schema_version": 3,
     "solution": false
    }
   },
   "outputs": [],
   "source": [
    "assert_equal(type(recall), float)"
   ]
  },
  {
   "cell_type": "markdown",
   "id": "8d0a50d1",
   "metadata": {
    "deletable": false,
    "editable": false,
    "nbgrader": {
     "cell_type": "markdown",
     "checksum": "3c4ed0af0704a4a084dbf1f53113c05b",
     "grade": false,
     "grade_id": "cell-d2f88cf1c913bc0d",
     "locked": true,
     "schema_version": 3,
     "solution": false
    }
   },
   "source": [
    "### 8.2\n",
    "The balanced F measure (a.k.a. $F_1$) is defined as the harmonic mean of precision and recall. What is the advantage of using the harmonic mean rather than “averaging” (using the arithmetic mean)?"
   ]
  },
  {
   "cell_type": "markdown",
   "id": "0c7ea86e",
   "metadata": {
    "deletable": false,
    "nbgrader": {
     "cell_type": "markdown",
     "checksum": "d30fd647abab1986d0ef62ae8ec83c18",
     "grade": true,
     "grade_id": "cell-8c15f2522a286d6f",
     "locked": false,
     "points": 1,
     "schema_version": 3,
     "solution": true
    }
   },
   "source": [
    "The arithmetic mean doesn't punish low values of precision/recall as long as the other one is high. This can cause a system that retrieves all documents to be given a score of 0.5 (P=0 and R=1), while the harmonic mean is closer to the minimum of P and R and thus gives a more representative score."
   ]
  },
  {
   "cell_type": "markdown",
   "id": "804f1a77",
   "metadata": {
    "deletable": false,
    "editable": false,
    "nbgrader": {
     "cell_type": "markdown",
     "checksum": "ffac5ce81d6510d57a4b6654212936ba",
     "grade": false,
     "grade_id": "cell-eed045f5e6b3ee53",
     "locked": true,
     "schema_version": 3,
     "solution": false
    }
   },
   "source": [
    "### 8.3\n",
    "Derive the equivalence between the two formulas for F measure shown in Equation (8.5), given that $\\alpha = 1/(\\beta^2 + 1)$."
   ]
  },
  {
   "cell_type": "markdown",
   "id": "84c90583",
   "metadata": {
    "deletable": false,
    "nbgrader": {
     "cell_type": "markdown",
     "checksum": "34d760e6602741ea5c8d9ec7f0dbf70f",
     "grade": true,
     "grade_id": "cell-53a0d302308961e4",
     "locked": false,
     "points": 1,
     "schema_version": 3,
     "solution": true
    }
   },
   "source": [
    "$$\n",
    "\\begin{align*}\n",
    "    F &= \\frac{1}{\\alpha \\frac{1}{P} + (1 - \\alpha) \\frac{1}{R}} \\\\\n",
    "    &= \\frac{1}{\\frac{1}{\\beta^2 + 1} \\frac{1}{P} + (1 - \\frac{1}{\\beta^2 + 1}) \\frac{1}{R}} \\\\\n",
    "    &= \\frac{1}{\\frac{1}{(\\beta^2 + 1) P} + \\frac{(\\beta^2 + 1) - 1}{(\\beta^2 + 1) R}} \\\\\n",
    "    &= \\frac{1}{\\frac{R}{PR (\\beta^2 + 1)} + \\frac{P \\beta^2}{PR (\\beta^2 + 1)}} \\\\\n",
    "    &= \\frac{PR (\\beta^2 + 1)}{R + P \\beta^2}\n",
    "\\end{align*}\n",
    "$$"
   ]
  },
  {
   "cell_type": "markdown",
   "id": "5ab375e2",
   "metadata": {
    "deletable": false,
    "editable": false,
    "nbgrader": {
     "cell_type": "markdown",
     "checksum": "870db5075de36f7db00aa1d0dd4a5391",
     "grade": false,
     "grade_id": "cell-2261bc4dd91291e7",
     "locked": true,
     "schema_version": 3,
     "solution": false
    }
   },
   "source": [
    "### 8.4\n",
    "What are the possible values for interpolated precision at a recall level of 0?"
   ]
  },
  {
   "cell_type": "markdown",
   "id": "b836c0be",
   "metadata": {
    "deletable": false,
    "nbgrader": {
     "cell_type": "markdown",
     "checksum": "5ac0f0165254c66e09b35b5135de4cc4",
     "grade": true,
     "grade_id": "cell-cb243cc0dd24310e",
     "locked": false,
     "points": 1,
     "schema_version": 3,
     "solution": true
    }
   },
   "source": [
    "Interpolated precision is given by $p_{interp}(r) = \\max_{r' \\geq r} p(r')$. For a recall level of 0, it is the highest precision there is for all recall levels $r' \\geq 0$. This value can't be higher than 1, since the amount of relevant docs retrieved can't be higher than te total amount of relevant docs. In addition, it must be higher than 0 if there is at least 1 relevant doc in the collection, since $\\frac{1}{\\#\\text{(docs retrieved)}}$ is always greater than 0.\n",
    "\n",
    "In the case that there is no relevant document in the collection, the recall can't be 0 by definition because the fraction of relevant docs that are retrieved is undefined (division by zero). Thus:\n",
    "\n",
    "$0 < \\text{interpolated precision} \\leq 1$"
   ]
  },
  {
   "cell_type": "markdown",
   "id": "f75a572d",
   "metadata": {
    "deletable": false,
    "editable": false,
    "nbgrader": {
     "cell_type": "markdown",
     "checksum": "7111842d2595c012a3cd661b5d1b7003",
     "grade": false,
     "grade_id": "cell-d7783437d76e7668",
     "locked": true,
     "schema_version": 3,
     "solution": false
    }
   },
   "source": [
    "### 8.8\n",
    "Consider an information need for which there are 4 relevant documents in the collection. Contrast two systems run on this collection. Their top 10 results are judged for relevance as follows (the leftmost item is the top ranked search result):\n",
    "\n",
    "| System   | R for relevant, N for nonrelevant |\n",
    "|----------|:--------------------|\n",
    "| System 1 | R N R N N N N N R R |\n",
    "| System 2 | N R N N R R R N N N |\n",
    "\n",
    "1. What is the MAP of each system? Which has a higher MAP?\n",
    "2. Does this result intuitively make sense? What does it say about what is important in getting a good MAP score?\n",
    "3. What is the R-precision of each system? (Does it rank the systems the same as MAP?)"
   ]
  },
  {
   "cell_type": "code",
   "execution_count": 5,
   "id": "ce6a8715",
   "metadata": {
    "deletable": false,
    "nbgrader": {
     "cell_type": "code",
     "checksum": "5b0a3edc87feea9822de168e236475db",
     "grade": false,
     "grade_id": "cell-c42b1a9a69260467",
     "locked": false,
     "schema_version": 3,
     "solution": true
    },
    "scrolled": true
   },
   "outputs": [
    {
     "data": {
      "text/plain": [
       "(0.6, 0.4928571428571428, 0.5, 0.25)"
      ]
     },
     "execution_count": 5,
     "metadata": {},
     "output_type": "execute_result"
    }
   ],
   "source": [
    "MAP_System1 = float(np.mean([1/1, 2/3, 3/9, 4/10]))\n",
    "MAP_System2 = float(np.mean([1/2, 2/5, 3/6, 4/7]))\n",
    "# 1. System 1 has a higher MAP.\n",
    "# 2. Yes, because system 1 has more relevant results at the top.\n",
    "#    This would be nice if you were doing a web search, since you\n",
    "#    get more relevant results \"on the first page\". In general,\n",
    "#    it is important to have a lot of relevant results at the top\n",
    "#    to get a good MAP score.\n",
    "R_P_System1 = 2 / 4\n",
    "R_P_System2 = 1 / 4\n",
    "# 3. It ranks the systems in the same order as MAP in this case,\n",
    "#    but not always. This is because the R-precision looks at the\n",
    "#    precision for the top Rel docs in the ranked list.\n",
    "\n",
    "MAP_System1, MAP_System2, R_P_System1, R_P_System2"
   ]
  },
  {
   "cell_type": "code",
   "execution_count": 6,
   "id": "b56a761e",
   "metadata": {
    "deletable": false,
    "editable": false,
    "nbgrader": {
     "cell_type": "code",
     "checksum": "7068ae217f1658d8f06112e3e40fa774",
     "grade": true,
     "grade_id": "cell-2c0a902081d76545",
     "locked": true,
     "points": 0.25,
     "schema_version": 3,
     "solution": false
    }
   },
   "outputs": [],
   "source": [
    "assert_equal(type(MAP_System1), float)"
   ]
  },
  {
   "cell_type": "code",
   "execution_count": 7,
   "id": "d338b780",
   "metadata": {
    "deletable": false,
    "editable": false,
    "nbgrader": {
     "cell_type": "code",
     "checksum": "633b3e964c4aa9a772bc873bf010aeb5",
     "grade": true,
     "grade_id": "cell-084f6e73ce2878f5",
     "locked": true,
     "points": 0.25,
     "schema_version": 3,
     "solution": false
    }
   },
   "outputs": [],
   "source": [
    "assert_equal(type(MAP_System2), float)"
   ]
  },
  {
   "cell_type": "code",
   "execution_count": 8,
   "id": "43051a82",
   "metadata": {
    "deletable": false,
    "editable": false,
    "nbgrader": {
     "cell_type": "code",
     "checksum": "5bc2ffe084a1acc42ab121385a18f7da",
     "grade": true,
     "grade_id": "cell-9614d1b2e6815021",
     "locked": true,
     "points": 0.25,
     "schema_version": 3,
     "solution": false
    }
   },
   "outputs": [],
   "source": [
    "assert_equal(type(R_P_System1), float)"
   ]
  },
  {
   "cell_type": "code",
   "execution_count": 9,
   "id": "efe71e12",
   "metadata": {
    "deletable": false,
    "editable": false,
    "nbgrader": {
     "cell_type": "code",
     "checksum": "858ea4d21f32f7db0eb4d7aec019f611",
     "grade": true,
     "grade_id": "cell-c8aefed6b2b8398e",
     "locked": true,
     "points": 0.25,
     "schema_version": 3,
     "solution": false
    }
   },
   "outputs": [],
   "source": [
    "assert_equal(type(R_P_System2), float)"
   ]
  },
  {
   "cell_type": "markdown",
   "id": "1cde8067",
   "metadata": {
    "deletable": false,
    "editable": false,
    "nbgrader": {
     "cell_type": "markdown",
     "checksum": "773a7d83f5998b44de6f0af2d35ed94f",
     "grade": false,
     "grade_id": "88v",
     "locked": true,
     "schema_version": 3,
     "solution": false
    }
   },
   "source": [
    "### 8.8 extra\n",
    "\n",
    "1. On the same data is used in the previous exercise, what would the MAP be when there would be 10 relevant documents?"
   ]
  },
  {
   "cell_type": "code",
   "execution_count": 10,
   "id": "c8371a96",
   "metadata": {
    "deletable": false,
    "nbgrader": {
     "cell_type": "code",
     "checksum": "75df7a1552351d14bc2a622f20081d00",
     "grade": false,
     "grade_id": "88a",
     "locked": false,
     "schema_version": 3,
     "solution": true
    }
   },
   "outputs": [
    {
     "data": {
      "text/plain": [
       "(0.24, 0.19714285714285715)"
      ]
     },
     "execution_count": 10,
     "metadata": {},
     "output_type": "execute_result"
    }
   ],
   "source": [
    "MAP_System1ex = float(np.mean([1/1, 2/3, 3/9, 4/10, 0, 0, 0, 0, 0, 0]))\n",
    "MAP_System2ex = float(np.mean([1/2, 2/5, 3/6, 4/7, 0, 0, 0, 0, 0, 0]))\n",
    "\n",
    "MAP_System1ex, MAP_System2ex"
   ]
  },
  {
   "cell_type": "code",
   "execution_count": 11,
   "id": "ef15b0c0",
   "metadata": {
    "deletable": false,
    "editable": false,
    "nbgrader": {
     "cell_type": "code",
     "checksum": "125540b05112f0e8ecea9458fa616f70",
     "grade": true,
     "grade_id": "88t",
     "locked": true,
     "points": 0.5,
     "schema_version": 3,
     "solution": false
    }
   },
   "outputs": [],
   "source": [
    "assert_equal(type(MAP_System1ex), float)\n",
    "assert_equal(type(MAP_System2ex), float)"
   ]
  },
  {
   "cell_type": "markdown",
   "id": "e1a02919",
   "metadata": {
    "deletable": false,
    "editable": false,
    "nbgrader": {
     "cell_type": "markdown",
     "checksum": "145183e2b1ba270789d3a8f18cb14e85",
     "grade": false,
     "grade_id": "cell-1f877ea183d14013",
     "locked": true,
     "schema_version": 3,
     "solution": false
    }
   },
   "source": [
    "### 8.9\n",
    "\n",
    "The following list of Rs and Ns represents relevant (R) and nonrelevant (N) returned documents in a ranked list of 20 documents retrieved in response to a query from a collection of 10,000 documents. The top of the ranked list (the document the system thinks is most likely to be relevant) is on the left of the list. This list shows 6 relevant documents. Assume that there are 8 relevant documents in total in the collection.\n",
    "\n",
    " > R R N N N $\\quad$ N N N R N $\\quad$ R N N N R $\\quad$ N N N N R\n",
    "\n",
    "1. What is the precision of the system on the top 20? (variable `precision`)\n",
    "2. What is the F1 on the top 20? (variable `F1`)\n",
    "3. What is the uninterpolated precision of the system at 25% recall? (variable `uninterpolated`)\n",
    "4. What is the interpolated precision at 33% recall? (variable `interpolated`)\n",
    "5. Assume that these 20 documents are the complete result set of the system. What is the AP for the query?<br/><br/>\n",
    "Assume, now, instead, that the system returned the entire 10,000 documents in a ranked list, and these are the first 20 results returned.<br/><br/>\n",
    "6. What is the largest possible AP that this system could have? (variable `largest_AP`)\n",
    "7. What is the smallest possible AP that this system could have? (variable `smallest_AP`)\n",
    "8. In a set of experiments, only the top 20 results are evaluated by hand. The result in (e) is used to approximate the range (f)–(g). For this example, how large (in absolute terms) can the error for the AP be by calculating (e) instead of (f) and (g) for this query? (variable `Error`)"
   ]
  },
  {
   "cell_type": "code",
   "execution_count": 12,
   "id": "0c33344d",
   "metadata": {
    "deletable": false,
    "nbgrader": {
     "cell_type": "code",
     "checksum": "15b06a1b04586c07b10c9cda022f8c03",
     "grade": false,
     "grade_id": "cell-6ececd8d73bfc0ca",
     "locked": false,
     "schema_version": 3,
     "solution": true
    }
   },
   "outputs": [
    {
     "data": {
      "image/png": "[encoded data removed]",
      "text/plain": [
       "<Figure size 432x288 with 1 Axes>"
      ]
     },
     "metadata": {
      "needs_background": "light"
     },
     "output_type": "display_data"
    },
    {
     "data": {
      "text/plain": [
       "(0.3,\n",
       " 0.4285714285714285,\n",
       " 1.0,\n",
       " 0.36363636363636365,\n",
       " 0.4162878787878788,\n",
       " 0.5034090909090909,\n",
       " 0.4164753875387539,\n",
       " 0.0871212121212121)"
      ]
     },
     "execution_count": 12,
     "metadata": {},
     "output_type": "execute_result"
    }
   ],
   "source": [
    "# Plot P-R curve and interpolated P-R curve.\n",
    "total_relevant = 8\n",
    "ranking = list(map(lambda relevance: relevance == \"R\",\n",
    "                   \"R R N N N N N N R N R N N N R N N N N R\".split()))\n",
    "p = [sum(ranking[:k]) / k for k in range(1, len(ranking) + 1)]\n",
    "r = [sum(ranking[:k]) / total_relevant for k in range(1, len(ranking) + 1)]\n",
    "p_interp = [max(p[i:]) for i in range(len(p))]\n",
    "ax = plt.subplot(111)\n",
    "ax.set_title(\"Precision-Recall curve\")\n",
    "ax.plot(r, p, label=\"$P_{uninterpolated}$\")\n",
    "ax.plot(r, p_interp, label=\"$P_{interpolated}$\")\n",
    "ax.set_xlim([0, 1])\n",
    "ax.set_ylim([0, 1])\n",
    "ax.spines[\"top\"].set_visible(False)\n",
    "ax.spines[\"right\"].set_visible(False)\n",
    "ax.set_xlabel(\"Recall\")\n",
    "ax.set_ylabel(\"Precision\")\n",
    "ax.legend()\n",
    "plt.show()\n",
    "\n",
    "# Answers to questions.\n",
    "precision = p[19]\n",
    "recall = r[19]\n",
    "F1 = 2 * precision * recall / (precision + recall)\n",
    "uninterpolated = p[r.index(0.25)]\n",
    "interpolated = float(np.interp(0.33, r, p_interp))\n",
    "visible_p_scores = [p[k] for k in range(len(ranking)) if ranking[k]]\n",
    "AP_query = float(np.mean(visible_p_scores + [0, 0]))\n",
    "largest_AP = float(np.mean(visible_p_scores + [7/21, 8/22]))\n",
    "smallest_AP = float(np.mean(visible_p_scores + [7/9999, 8/10000]))\n",
    "Error = max(abs(largest_AP - AP_query), abs(smallest_AP - AP_query))\n",
    "\n",
    "precision, F1, uninterpolated, interpolated, AP_query, largest_AP, smallest_AP, Error"
   ]
  },
  {
   "cell_type": "code",
   "execution_count": 13,
   "id": "03940af1",
   "metadata": {
    "deletable": false,
    "editable": false,
    "nbgrader": {
     "cell_type": "code",
     "checksum": "692448c0d136e60c5ced6e3abe8f4fd3",
     "grade": true,
     "grade_id": "cell-c2bb032e00c4dee1",
     "locked": true,
     "points": 0.2,
     "schema_version": 3,
     "solution": false
    }
   },
   "outputs": [],
   "source": [
    "assert type(precision) in [float,int]"
   ]
  },
  {
   "cell_type": "code",
   "execution_count": 14,
   "id": "ac4cfd14",
   "metadata": {
    "deletable": false,
    "editable": false,
    "nbgrader": {
     "cell_type": "code",
     "checksum": "6d4b52d8e67f79a97cf5bf0a5f0b59ed",
     "grade": true,
     "grade_id": "cell-464b3522aa196af7",
     "locked": true,
     "points": 0.2,
     "schema_version": 3,
     "solution": false
    }
   },
   "outputs": [],
   "source": [
    "assert type(F1) in [float,int]"
   ]
  },
  {
   "cell_type": "code",
   "execution_count": 15,
   "id": "21b55f1e",
   "metadata": {
    "deletable": false,
    "editable": false,
    "nbgrader": {
     "cell_type": "code",
     "checksum": "217d3651897af1c4b8fbee04ce310b18",
     "grade": true,
     "grade_id": "cell-ee2af88f21b18a7d",
     "locked": true,
     "points": 0.2,
     "schema_version": 3,
     "solution": false
    }
   },
   "outputs": [],
   "source": [
    "assert type(uninterpolated) in [float,int]"
   ]
  },
  {
   "cell_type": "code",
   "execution_count": 16,
   "id": "46627b38",
   "metadata": {
    "deletable": false,
    "editable": false,
    "nbgrader": {
     "cell_type": "code",
     "checksum": "daf0f299ac6ecc5f7545a662cbd9e16a",
     "grade": true,
     "grade_id": "cell-ee2af88f21b18a7dex",
     "locked": true,
     "points": 0.2,
     "schema_version": 3,
     "solution": false
    }
   },
   "outputs": [],
   "source": [
    "assert type(interpolated) in [float,int]"
   ]
  },
  {
   "cell_type": "code",
   "execution_count": 17,
   "id": "c0091fdd",
   "metadata": {
    "deletable": false,
    "editable": false,
    "nbgrader": {
     "cell_type": "code",
     "checksum": "e5d6fe375a8f2dec0a947b37f066af0b",
     "grade": true,
     "grade_id": "cell-dd18f398ad9a11ea",
     "locked": true,
     "points": 0.1,
     "schema_version": 3,
     "solution": false
    }
   },
   "outputs": [],
   "source": [
    "assert type(AP_query) in [float,int]"
   ]
  },
  {
   "cell_type": "code",
   "execution_count": 18,
   "id": "09f2dbf6",
   "metadata": {
    "deletable": false,
    "editable": false,
    "nbgrader": {
     "cell_type": "code",
     "checksum": "8d4a9d3e1f376f843680fb044f6f79b5",
     "grade": true,
     "grade_id": "cell-43dee696647831ac",
     "locked": true,
     "points": 0.1,
     "schema_version": 3,
     "solution": false
    }
   },
   "outputs": [],
   "source": [
    "assert type(largest_AP) in [float,int]"
   ]
  },
  {
   "cell_type": "code",
   "execution_count": 19,
   "id": "3b167628",
   "metadata": {
    "deletable": false,
    "editable": false,
    "nbgrader": {
     "cell_type": "code",
     "checksum": "eeae02e405950f380a48bdecbdc7a06d",
     "grade": true,
     "grade_id": "cell-6efcd2c3d9ed173c",
     "locked": true,
     "points": 0.1,
     "schema_version": 3,
     "solution": false
    }
   },
   "outputs": [],
   "source": [
    "assert type(smallest_AP) in [float,int]"
   ]
  },
  {
   "cell_type": "code",
   "execution_count": 20,
   "id": "b483171d",
   "metadata": {
    "deletable": false,
    "editable": false,
    "nbgrader": {
     "cell_type": "code",
     "checksum": "2d437ef9bd15ea427fc681b643afb534",
     "grade": true,
     "grade_id": "cell-dcd93ad480d010ac",
     "locked": true,
     "points": 0.1,
     "schema_version": 3,
     "solution": false
    }
   },
   "outputs": [],
   "source": [
    "assert type(Error) in [float,int]"
   ]
  },
  {
   "cell_type": "markdown",
   "id": "44a87a1c",
   "metadata": {
    "deletable": false,
    "editable": false,
    "nbgrader": {
     "cell_type": "markdown",
     "checksum": "3aef48cb18e14805cdb8213df5707eee",
     "grade": false,
     "grade_id": "cell-653e5c66190845a3",
     "locked": true,
     "schema_version": 3,
     "solution": false
    }
   },
   "source": [
    "### 8.10\n",
    "Below is a table showing how two human judges rated the relevance of a set of 12 documents to a particular information need (0 = nonrelevant, 1 = relevant). Let us assume that you’ve written an IR system that for this query returns the set of documents {4, 5, 6, 7, 8}\n",
    "\n",
    "| docId | Judge 1 | Judge 2|\n",
    "|------:|:--------|:-------|\n",
    "| 1     | 0       | 0      |\n",
    "| 2     | 0       | 0      |\n",
    "| 3     | 1       | 1      |\n",
    "| 4     | 1       | 1      |\n",
    "| 5     | 1       | 0      |\n",
    "| 6     | 1       | 0      |\n",
    "| 7     | 1       | 0      |\n",
    "| 8     | 1       | 0      |\n",
    "| 9     | 0       | 1      |\n",
    "| 10    | 0       | 1      |\n",
    "| 11    | 0       | 1      |\n",
    "| 12    | 0       | 1      |\n",
    "\n",
    "1. Calculate the kappa measure between the two judges.\n",
    "2. Calculate precision, recall, and F1 of your system if a document is considered relevant only if the two judges agree.\n",
    "3. Calculate precision, recall, and F1 of your system if a document is considered relevant if either judge thinks it is relevant."
   ]
  },
  {
   "cell_type": "code",
   "execution_count": 21,
   "id": "e4a2a0df",
   "metadata": {
    "deletable": false,
    "nbgrader": {
     "cell_type": "code",
     "checksum": "eb4c1b27e6776637331d142902b8ccac",
     "grade": false,
     "grade_id": "cell-72efecf88879db26",
     "locked": false,
     "schema_version": 3,
     "solution": true
    }
   },
   "outputs": [
    {
     "name": "stdout",
     "output_type": "stream",
     "text": [
      "-0.33333333333333337\n",
      "0.2 0.5 0.28571428571428575\n",
      "1.0 0.5 0.6666666666666666\n"
     ]
    }
   ],
   "source": [
    "docs = 12\n",
    "cont_table = [[2, 4],\n",
    "              [4, 2]]\n",
    "P_A = (cont_table[0][0] + cont_table[1][1]) / docs\n",
    "P_relevant = (2 * cont_table[0][0] + cont_table[0][1] + cont_table[1][0]) / (2 * docs)\n",
    "P_nonrelevant = (2 * cont_table[1][1] + cont_table[0][1] + cont_table[1][0]) / (2 * docs)\n",
    "P_E = P_relevant**2 + P_nonrelevant**2\n",
    "kappa = (P_A - P_E) / (1 - P_E)\n",
    "\n",
    "# if the two judges agree.\n",
    "precision1 = 1/5\n",
    "recall1 = 1/2\n",
    "F1score1 = 2 * precision1 * recall1 / (precision1 + recall1)\n",
    "\n",
    "# if either judge thinks it is relevant.\n",
    "precision2 = 5/5\n",
    "recall2 = 5/10\n",
    "F1score2 = 2 * precision2 * recall2 / (precision2 + recall2)\n",
    "\n",
    "\n",
    "print(kappa)\n",
    "print(precision1, recall1, F1score1)\n",
    "print(precision2, recall2, F1score2)"
   ]
  },
  {
   "cell_type": "code",
   "execution_count": 22,
   "id": "38b6ca73",
   "metadata": {
    "deletable": false,
    "editable": false,
    "nbgrader": {
     "cell_type": "code",
     "checksum": "ad86d4c9429ec0ee3fe6b13676b9c72c",
     "grade": true,
     "grade_id": "cell-d0b49ee6b738d816",
     "locked": true,
     "points": 0.33,
     "schema_version": 3,
     "solution": false
    }
   },
   "outputs": [],
   "source": [
    "assert type(kappa) in [float,int]"
   ]
  },
  {
   "cell_type": "code",
   "execution_count": 23,
   "id": "9772f30b",
   "metadata": {
    "deletable": false,
    "editable": false,
    "nbgrader": {
     "cell_type": "code",
     "checksum": "627faf4e76f87e5cb92feb67972bb9fa",
     "grade": true,
     "grade_id": "cell-6c4430b58ad99642",
     "locked": true,
     "points": 0.33,
     "schema_version": 3,
     "solution": false
    }
   },
   "outputs": [],
   "source": [
    "assert type(precision1) in [float,int]\n",
    "assert type(recall1) in [float,int]\n",
    "assert type(F1score1) in [float,int]"
   ]
  },
  {
   "cell_type": "code",
   "execution_count": 24,
   "id": "2d79834a",
   "metadata": {
    "deletable": false,
    "editable": false,
    "nbgrader": {
     "cell_type": "code",
     "checksum": "df6af0266e84e0a9a1d839637e6bba72",
     "grade": true,
     "grade_id": "cell-b4ddeb8ad1122e7e",
     "locked": true,
     "points": 0.34,
     "schema_version": 3,
     "solution": false
    }
   },
   "outputs": [],
   "source": [
    "assert type(precision2) in [float,int]\n",
    "assert type(recall2) in [float,int]\n",
    "assert type(F1score2) in [float,int]"
   ]
  },
  {
   "cell_type": "markdown",
   "id": "da374da4",
   "metadata": {
    "deletable": false,
    "editable": false,
    "nbgrader": {
     "cell_type": "markdown",
     "checksum": "278dc547a0840b2625d16df9ef63fd62",
     "grade": false,
     "grade_id": "cell-db608e43be498940",
     "locked": true,
     "schema_version": 3,
     "solution": false
    }
   },
   "source": [
    "# Evaluation"
   ]
  },
  {
   "cell_type": "markdown",
   "id": "4dcdec9d",
   "metadata": {
    "deletable": false,
    "editable": false,
    "nbgrader": {
     "cell_type": "markdown",
     "checksum": "28898816090b94a56863e26251744777",
     "grade": false,
     "grade_id": "em-v",
     "locked": true,
     "schema_version": 3,
     "solution": false
    }
   },
   "source": [
    "### Evaluation measures\n",
    "\n",
    "1. Define a function `Rprecision(ranked_list_of_results,list_of_relevant_objects)` which does what it says, it returns the R-precision given the input data.\n",
    "2. Define a function `AveragePrecision(ranked_list_of_results,list_of_relevant_objects)` which returns the average precision of this list of results given the list of relevant answers.\n",
    "\n",
    "Both functions of course come with one or two well chosen tests."
   ]
  },
  {
   "cell_type": "code",
   "execution_count": 25,
   "id": "f9e3b50c",
   "metadata": {
    "deletable": false,
    "nbgrader": {
     "cell_type": "code",
     "checksum": "de18476927f4ff49054c47b24b947ed4",
     "grade": false,
     "grade_id": "em-a",
     "locked": false,
     "schema_version": 3,
     "solution": true
    }
   },
   "outputs": [
    {
     "name": "stdout",
     "output_type": "stream",
     "text": [
      "True\n",
      "True\n",
      "True\n",
      "True\n"
     ]
    }
   ],
   "source": [
    "def p_at_k(ranked_list_of_results, list_of_relevant_objects, k):\n",
    "    return np.mean([doc in list_of_relevant_objects\n",
    "                    for doc in ranked_list_of_results[:k]])\n",
    "\n",
    "def Rprecision(ranked_list_of_results, list_of_relevant_objects):\n",
    "    return p_at_k(ranked_list_of_results,\n",
    "                  list_of_relevant_objects,\n",
    "                  len(list_of_relevant_objects))\n",
    "\n",
    "def AveragePrecision(ranked_list_of_results, list_of_relevant_objects):\n",
    "    ranked_list_of_results = np.array(ranked_list_of_results)\n",
    "    return np.mean([p_at_k(ranked_list_of_results,\n",
    "                           list_of_relevant_objects,\n",
    "                           np.where(ranked_list_of_results == doc)[0][0] + 1)\n",
    "                    for doc in list_of_relevant_objects])\n",
    "\n",
    "# Test the functions.\n",
    "print(np.isclose(Rprecision([1, 2, 3, 4, 5], [2, 3, 5]), 2/3))\n",
    "print(np.isclose(Rprecision([9, 7, 1, 4, 10, 5, 6, 2, 8, 3], [2, 3, 5, 9]), 1/4))\n",
    "print(np.isclose(AveragePrecision([1, 2, 3, 4, 5], [2, 3, 5]), (1/2 + 2/3 + 3/5) / 3))\n",
    "print(np.isclose(AveragePrecision([9, 7, 1, 4, 10, 5, 6, 2, 8, 3], [2, 3, 5, 9]), (1/1 + 2/6 + 3/8 + 4/10) / 4))"
   ]
  },
  {
   "cell_type": "code",
   "execution_count": 26,
   "id": "344b9df1",
   "metadata": {
    "deletable": false,
    "editable": false,
    "nbgrader": {
     "cell_type": "code",
     "checksum": "9191f5774f4535d104d1fe42ae7b5db9",
     "grade": true,
     "grade_id": "em-t1",
     "locked": true,
     "points": 1,
     "schema_version": 3,
     "solution": false
    }
   },
   "outputs": [],
   "source": [
    "assert isinstance(Rprecision([1], [1]), float)\n",
    "\n",
    "\n"
   ]
  },
  {
   "cell_type": "code",
   "execution_count": 27,
   "id": "f96e1b80",
   "metadata": {
    "deletable": false,
    "editable": false,
    "nbgrader": {
     "cell_type": "code",
     "checksum": "4d05f65deb46ae4ba034726c7805266c",
     "grade": true,
     "grade_id": "em-t2",
     "locked": true,
     "points": 1,
     "schema_version": 3,
     "solution": false
    }
   },
   "outputs": [],
   "source": [
    "assert isinstance(AveragePrecision([1], [1]), float)\n",
    "\n",
    "\n"
   ]
  },
  {
   "cell_type": "markdown",
   "id": "42c6dd28",
   "metadata": {
    "deletable": false,
    "editable": false,
    "nbgrader": {
     "cell_type": "markdown",
     "checksum": "bcac3e11641ce8c14ae19db88da51fc4",
     "grade": false,
     "grade_id": "pr",
     "locked": true,
     "schema_version": 3,
     "solution": false
    }
   },
   "source": [
    "### Precision recall curve\n",
    "\n",
    "We create the interpolated precision-recall curve as in Figure 8.2 in MRS for one topic. We use for this the file \n",
    "`qrels.robust2004.txt`.\n",
    "\n",
    "It is easy to read in your data using pandas. We give some code to get you started.\n",
    "\n",
    "Store your answer in the dict `PR` using the provided schema."
   ]
  },
  {
   "cell_type": "code",
   "execution_count": 28,
   "id": "0f423184",
   "metadata": {
    "deletable": false,
    "editable": false,
    "nbgrader": {
     "cell_type": "code",
     "checksum": "46211e4c53a958b9fba1b3e925b1e6a6",
     "grade": false,
     "grade_id": "prc",
     "locked": true,
     "schema_version": 3,
     "solution": false
    }
   },
   "outputs": [
    {
     "name": "stdout",
     "output_type": "stream",
     "text": [
      "AP: topic 301 0.29874631597242746\n"
     ]
    },
    {
     "data": {
      "text/html": [
       "<div>\n",
       "<style scoped>\n",
       "    .dataframe tbody tr th:only-of-type {\n",
       "        vertical-align: middle;\n",
       "    }\n",
       "\n",
       "    .dataframe tbody tr th {\n",
       "        vertical-align: top;\n",
       "    }\n",
       "\n",
       "    .dataframe thead th {\n",
       "        text-align: right;\n",
       "    }\n",
       "</style>\n",
       "<table border=\"1\" class=\"dataframe\">\n",
       "  <thead>\n",
       "    <tr style=\"text-align: right;\">\n",
       "      <th></th>\n",
       "      <th>TOPIC</th>\n",
       "      <th>ITERATION</th>\n",
       "      <th>DOCUMENT_ID</th>\n",
       "      <th>RELEVANCY</th>\n",
       "    </tr>\n",
       "  </thead>\n",
       "  <tbody>\n",
       "    <tr>\n",
       "      <th>0</th>\n",
       "      <td>301</td>\n",
       "      <td>0</td>\n",
       "      <td>FBIS3-10082</td>\n",
       "      <td>1</td>\n",
       "    </tr>\n",
       "    <tr>\n",
       "      <th>1</th>\n",
       "      <td>301</td>\n",
       "      <td>0</td>\n",
       "      <td>FBIS3-10169</td>\n",
       "      <td>0</td>\n",
       "    </tr>\n",
       "    <tr>\n",
       "      <th>2</th>\n",
       "      <td>301</td>\n",
       "      <td>0</td>\n",
       "      <td>FBIS3-10243</td>\n",
       "      <td>1</td>\n",
       "    </tr>\n",
       "    <tr>\n",
       "      <th>3</th>\n",
       "      <td>301</td>\n",
       "      <td>0</td>\n",
       "      <td>FBIS3-10319</td>\n",
       "      <td>0</td>\n",
       "    </tr>\n",
       "    <tr>\n",
       "      <th>4</th>\n",
       "      <td>301</td>\n",
       "      <td>0</td>\n",
       "      <td>FBIS3-10397</td>\n",
       "      <td>1</td>\n",
       "    </tr>\n",
       "  </tbody>\n",
       "</table>\n",
       "</div>"
      ],
      "text/plain": [
       "   TOPIC  ITERATION  DOCUMENT_ID  RELEVANCY\n",
       "0    301          0  FBIS3-10082          1\n",
       "1    301          0  FBIS3-10169          0\n",
       "2    301          0  FBIS3-10243          1\n",
       "3    301          0  FBIS3-10319          0\n",
       "4    301          0  FBIS3-10397          1"
      ]
     },
     "execution_count": 28,
     "metadata": {},
     "output_type": "execute_result"
    }
   ],
   "source": [
    "qrels= pd.read_csv('qrels.robust2004.txt', sep=' ', header=None, \n",
    "                   names=['TOPIC',      'ITERATION',      'DOCUMENT_ID',     'RELEVANCY'])# https://trec.nist.gov/data/robust/qrels.robust2004.txt\n",
    "\n",
    "\n",
    "# Create Figure8\n",
    "\n",
    "rankedlist= qrels[(qrels.TOPIC==301)].DOCUMENT_ID.unique()\n",
    "np.random.shuffle(rankedlist) # This causes that the PR curve is different all the time (and often quite weird)\n",
    "relevantdocs=set(qrels[(qrels.TOPIC==301)&(qrels.RELEVANCY==1)].DOCUMENT_ID.unique() )\n",
    "\n",
    "N= len(relevantdocs)\n",
    "Rlevels=[(r+1) /N for r in range(len(relevantdocs))] \n",
    "\n",
    "print('AP: topic 301', AveragePrecision(rankedlist,relevantdocs  ))\n",
    "\n",
    "qrels.head()"
   ]
  },
  {
   "cell_type": "code",
   "execution_count": 29,
   "id": "243c82f5",
   "metadata": {
    "deletable": false,
    "nbgrader": {
     "cell_type": "code",
     "checksum": "01027c61279685324d810cc33e4b7e55",
     "grade": false,
     "grade_id": "pra",
     "locked": false,
     "schema_version": 3,
     "solution": true
    }
   },
   "outputs": [
    {
     "data": {
      "image/png": "[encoded data removed]",
      "text/plain": [
       "<Figure size 432x288 with 1 Axes>"
      ]
     },
     "metadata": {
      "needs_background": "light"
     },
     "output_type": "display_data"
    }
   ],
   "source": [
    "# Create Figure 8.2 for topic 301.\n",
    "# You must calculate the correct precison values for every given recall value here.\n",
    "UninterpolatedP = [p_at_k(rankedlist, relevantdocs, k + 1)\n",
    "                   for k, _ in enumerate(Rlevels)]\n",
    "PR = {'UninterpolatedP': {r: UninterpolatedP[k] for k, r in enumerate(Rlevels)},\n",
    "      'InterpolatedP': {r: max(UninterpolatedP[k:]) for k, r in enumerate(Rlevels)}}\n",
    "\n",
    "pd.DataFrame(PR).plot();"
   ]
  },
  {
   "cell_type": "code",
   "execution_count": 30,
   "id": "090d2e94",
   "metadata": {
    "deletable": false,
    "editable": false,
    "nbgrader": {
     "cell_type": "code",
     "checksum": "326d67024d102de958f6dab1f96d765f",
     "grade": true,
     "grade_id": "prt",
     "locked": true,
     "points": 1,
     "schema_version": 3,
     "solution": false
    }
   },
   "outputs": [],
   "source": [
    "assert set(PR.keys())=={'UninterpolatedP', 'InterpolatedP'}\n",
    "for K in PR:\n",
    "     assert isinstance(PR[K],dict)\n",
    "assert_equal(set(PR['UninterpolatedP'].keys()),set(Rlevels))\n",
    "        \n",
    "\n"
   ]
  },
  {
   "cell_type": "markdown",
   "id": "591d54ff",
   "metadata": {
    "deletable": false,
    "editable": false,
    "nbgrader": {
     "cell_type": "markdown",
     "checksum": "d409e7643408910bcf2f768c2df01899",
     "grade": false,
     "grade_id": "ck-v",
     "locked": true,
     "schema_version": 3,
     "solution": false
    }
   },
   "source": [
    "### Cohen's Kappa\n",
    "\n",
    "Compute the chance $P(E)$ used in the calculation of Cohen's Kappa, using the pooled marginals method.\n",
    "\n",
    "Your data looks like that given in Exercise 8.10: An array of pairs with binary relevance judgements in which the first column contains the scores of the first judge, etc.\n",
    "\n",
    "Hint: `numpy` arrays have all kind of handy methods."
   ]
  },
  {
   "cell_type": "code",
   "execution_count": 31,
   "id": "8dd95135",
   "metadata": {
    "deletable": false,
    "nbgrader": {
     "cell_type": "code",
     "checksum": "a4416d9b5b37301b3a183748753f90b7",
     "grade": false,
     "grade_id": "ck-a",
     "locked": false,
     "schema_version": 3,
     "solution": true
    }
   },
   "outputs": [
    {
     "data": {
      "text/plain": [
       "0.52"
      ]
     },
     "execution_count": 31,
     "metadata": {},
     "output_type": "execute_result"
    }
   ],
   "source": [
    "# Input data size of kappa must be like this.\n",
    "data = np.array([[1, 1], [1, 0], [0, 1], [1, 1], [0, 0]])\n",
    "\n",
    "def PE(data):\n",
    "    \"\"\"On input `data`, return the P(E) (expected agreement).\"\"\"\n",
    "    def count_rows_equal_to(row):\n",
    "        return np.count_nonzero(np.all(data == row, axis=1))\n",
    "\n",
    "    data = np.array(data)\n",
    "    cont_table = [[count_rows_equal_to([1, 1]), count_rows_equal_to([1, 0])],\n",
    "                  [count_rows_equal_to([0, 1]), count_rows_equal_to([0, 0])]]\n",
    "    P_relevant = (2 * cont_table[0][0] + cont_table[0][1] + cont_table[1][0]) / (2 * len(data))\n",
    "    P_nonrelevant = (2 * cont_table[1][1] + cont_table[0][1] + cont_table[1][0]) / (2 * len(data))\n",
    "    return P_relevant**2 + P_nonrelevant**2\n",
    "\n",
    "PE(data)"
   ]
  },
  {
   "cell_type": "code",
   "execution_count": 32,
   "id": "ea5e972a",
   "metadata": {
    "deletable": false,
    "editable": false,
    "nbgrader": {
     "cell_type": "code",
     "checksum": "8cf21d47e9b7070cf58716b8627b85aa",
     "grade": true,
     "grade_id": "ck-t",
     "locked": true,
     "points": 1,
     "schema_version": 3,
     "solution": false
    }
   },
   "outputs": [],
   "source": [
    "assert isinstance(PE(data), float)\n"
   ]
  },
  {
   "cell_type": "markdown",
   "id": "cc1e0e9e",
   "metadata": {
    "deletable": false,
    "editable": false,
    "nbgrader": {
     "cell_type": "markdown",
     "checksum": "627ad98ff8f230481ad539fd36a2df43",
     "grade": false,
     "grade_id": "cell-891a3bbce2d771fa",
     "locked": true,
     "schema_version": 3,
     "solution": false
    }
   },
   "source": [
    "### 10.1 Creating a test set\n",
    "\n",
    "Create a test collection in order to evaluate your two search engines (cosine similarity and BM25) on the set of Shakespeare. Create five information needs, which you express as queries. Use multi term queries only. For each information need you specify\n",
    "\n",
    " * The information need in natural language\n",
    " * The search query\n",
    " * A description when a document is considered relevant and when it is not. This should be a very clear description. A person assessing relevance may only use this together with the information need to determine relevance of a document. In particular the judge should not see the query."
   ]
  },
  {
   "cell_type": "markdown",
   "id": "563c4dfd",
   "metadata": {
    "deletable": false,
    "nbgrader": {
     "cell_type": "markdown",
     "checksum": "52040542d5f6c5c6fea8d35ad4a1ffb5",
     "grade": true,
     "grade_id": "cell-3fd2c07428004c67",
     "locked": false,
     "points": 2,
     "schema_version": 3,
     "solution": true
    }
   },
   "source": [
    "1. \n",
    "    - Information need: Juliet takes poison.\n",
    "    - Search query: ['juliet', 'poison']\n",
    "    - Description: The document is relevant if there is a character named Juliet taking poison.\n",
    "2. \n",
    "    - Information need: A witch performs magic.\n",
    "    - Search query: ['witch', 'magic']\n",
    "    - Description: The document is relevant if it mentions a witch performing magic.\n",
    "3. \n",
    "    - Information need: The moon shines.\n",
    "    - Search query: ['moon', 'shine', 'moonshine']\n",
    "    - Description: The document is relevant if it mentions a shining moon.\n",
    "4. \n",
    "    - Information need: A dog barks.\n",
    "    - Search query: ['dog', 'bark']\n",
    "    - Description: The document is relevant if it mentions a dog that is/was barking.\n",
    "5. \n",
    "    - Information need: Day and night are contrasted to eachother.\n",
    "    - Search query: ['day', 'night']\n",
    "    - Description: The document is relevant if it contains contrast between night and day."
   ]
  },
  {
   "cell_type": "markdown",
   "id": "7f14bbad",
   "metadata": {
    "deletable": false,
    "editable": false,
    "nbgrader": {
     "cell_type": "markdown",
     "checksum": "16f16b8c95fcffd6029b5cfde151fa75",
     "grade": false,
     "grade_id": "cell-1af8400eea1e3e8e",
     "locked": true,
     "schema_version": 3,
     "solution": false
    }
   },
   "source": [
    "### 10.2 Assess search engine results\n",
    "\n",
    "Assess for your two search engines, for all five information needs the first 10 results given back by the systems. Let another student do the same task as well.\n",
    "1. Using your own relevance judgments, compute for each system, the precision at 10 for each query, and the average P@10. Discuss the results.\n",
    "2. You have now two times at least 50 relevance judgements, and probably more. Compute the kappa measure between the two judges as in exercise 8.10, using pooled marginals as in Table 8.2. Discuss your results and try to explain them.\n",
    "3. Now compute P@10 for both systems again, once using the relevance judgments of the other assessor, once in which you say that a document is relevant if BOTH judges said it was relevant, and once in which you say that a document is relevant if AT LEAST ONE of the judges said it was relevant.\n"
   ]
  },
  {
   "cell_type": "markdown",
   "id": "221a7b2a",
   "metadata": {
    "deletable": false,
    "nbgrader": {
     "cell_type": "markdown",
     "checksum": "668cb299c87264fda9c0bb50078702d1",
     "grade": true,
     "grade_id": "cell-1f5104381710e6d4",
     "locked": false,
     "points": 3,
     "schema_version": 3,
     "solution": true
    }
   },
   "source": [
    "Als ik 2 minuten doe over een relevance judgement van 1 document voor een query (zeer optimistisch), doe ik dus al 100 minuten over het maken van alleen maar relevance judgements. Dat is echt veel te veel werk en ik leer er niks van. Vandaar zijn de relevance judgements random gegenereerd.\n",
    "1. COS: P = 1/10, AP = 1/10, BM25:\n",
    "2. COS: P = 5/10, AP = (1 + 2/3 + 3/4 + 4/7 + 5/10)10, BM25:\n",
    "3. COS: P = 6/10, AP = (1/2 + 2/5 + 3/6 + 4/7 + 5/8 + 6/10)/10, BM25:\n",
    "4. COS: P = 4/10, AP = (1/4 + 2/5 + 3/6 + 4/8)10, BM25:\n",
    "5. COS: P = 6/10, AP = (1 + 2/6 + 3/7 + 4/8 + 5/9 + 6/10)10, BM25:"
   ]
  },
  {
   "cell_type": "markdown",
   "id": "691a4651",
   "metadata": {
    "deletable": false,
    "editable": false,
    "nbgrader": {
     "cell_type": "markdown",
     "checksum": "64b042a414ab4186ff36da8de10fc0ca",
     "grade": false,
     "grade_id": "cell-0828c47c6c841ab2",
     "locked": true,
     "schema_version": 3,
     "solution": false
    }
   },
   "source": [
    "# Programming (Inverted Index)"
   ]
  },
  {
   "cell_type": "code",
   "execution_count": 33,
   "id": "fd2b7ef0",
   "metadata": {
    "deletable": false,
    "editable": false,
    "nbgrader": {
     "cell_type": "code",
     "checksum": "45265903cced267bded49289c1a33748",
     "grade": false,
     "grade_id": "cell-ee70e59824b4530f",
     "locked": true,
     "schema_version": 3,
     "solution": false
    }
   },
   "outputs": [],
   "source": [
    "def loadShakespeare():\n",
    "    if 'shaks200.zip' in os.listdir():\n",
    "        return 'shaks200.zip'\n",
    "    elif os.path.exists('../../data/Week3/'):\n",
    "        return '../../data/Week3/shaks200.zip'\n",
    "    elif os.path.exists('../../../data/Week3/'):\n",
    "        return '../../../data/Week3/shaks200.zip'"
   ]
  },
  {
   "cell_type": "markdown",
   "id": "b1731937",
   "metadata": {
    "deletable": false,
    "editable": false,
    "nbgrader": {
     "cell_type": "markdown",
     "checksum": "0a291330f776161fa4f004ba6e02d511",
     "grade": false,
     "grade_id": "cell-2cd22bbe0ed6e5b5",
     "locked": true,
     "schema_version": 3,
     "solution": false
    }
   },
   "source": [
    "## 12 Positional inverted index\n",
    "Adjust your software making an inverted index for the Shakespeare collection: the output should be a positional index. A positional index is an index that also stores the position of the occurrences of a word in a document. The following figure shows an example of a positional index.\n",
    "\n",
    "<img src=\"http://nlp.stanford.edu/IR-book/html/htmledition/img121.png\" />\n",
    "\n",
    "Make the index of the form (defaultdicts are also allowed!):\n",
    "```\n",
    "{'caesar':   {'files': \n",
    "                 {'lll': {'list': [25350], 'total': 1},\n",
    "                  'm_for_m': {'list': [6773, 14734], 'total': 2},\n",
    "                  'm_wives': {'list': [3459], 'total': 1},\n",
    "                  'macbeth': {'list': [9256], 'total': 1},\n",
    "                  'othello': {'list': [11728], 'total': 1},\n",
    "                  'rich_ii': {'list': [22695], 'total': 1},\n",
    "                  'rich_iii': {'list': [16418, 16570, 30799, 30801], 'total': 4},\n",
    "                  'titus': {'list': [368], 'total': 1},\n",
    "                  ....\n",
    "                  },\n",
    "               'total': 604}....\n",
    "}\n",
    "```"
   ]
  },
  {
   "cell_type": "code",
   "execution_count": 34,
   "id": "9c692c4e",
   "metadata": {
    "deletable": false,
    "nbgrader": {
     "cell_type": "code",
     "checksum": "5d6c8aae378a5c4105975e2845550b86",
     "grade": true,
     "grade_id": "cell-498f786fcde3299d",
     "locked": false,
     "points": 2,
     "schema_version": 3,
     "solution": true
    }
   },
   "outputs": [
    {
     "name": "stderr",
     "output_type": "stream",
     "text": [
      "<ipython-input-34-9dff46dcb818>:7: TqdmDeprecationWarning: This function will be removed in tqdm==5.0.0\n",
      "Please use `tqdm.notebook.tqdm` instead of `tqdm.tqdm_notebook`\n",
      "  for infile in tqdm_notebook(namelist):\n"
     ]
    },
    {
     "data": {
      "application/vnd.jupyter.widget-view+json": {
       "model_id": "211e99828e874b50bde09400e06cb15c",
       "version_major": 2,
       "version_minor": 0
      },
      "text/plain": [
       "  0%|          | 0/37 [00:00<?, ?it/s]"
      ]
     },
     "metadata": {},
     "output_type": "display_data"
    },
    {
     "data": {
      "text/plain": [
       "{'files': defaultdict(<function __main__.positional_inverted_index.<locals>.<lambda>.<locals>.<lambda>()>,\n",
       "             {'a_and_c': {'list': [73,\n",
       "                102,\n",
       "                114,\n",
       "                138,\n",
       "                168,\n",
       "                455,\n",
       "                518,\n",
       "                532,\n",
       "                563,\n",
       "                828,\n",
       "                1167,\n",
       "                1769,\n",
       "                2706,\n",
       "                3996,\n",
       "                4002,\n",
       "                4014,\n",
       "                4028,\n",
       "                4157,\n",
       "                4360,\n",
       "                4390,\n",
       "                4410,\n",
       "                4490,\n",
       "                4572,\n",
       "                4730,\n",
       "                4771,\n",
       "                4799,\n",
       "                4841,\n",
       "                5153,\n",
       "                5204,\n",
       "                5553,\n",
       "                5560,\n",
       "                5579,\n",
       "                5595,\n",
       "                5820,\n",
       "                5850,\n",
       "                6069,\n",
       "                6085,\n",
       "                6248,\n",
       "                6256,\n",
       "                6359,\n",
       "                6363,\n",
       "                6385,\n",
       "                6495,\n",
       "                6506,\n",
       "                6516,\n",
       "                6543,\n",
       "                6606,\n",
       "                6614,\n",
       "                6659,\n",
       "                6798,\n",
       "                6940,\n",
       "                6978,\n",
       "                7079,\n",
       "                7103,\n",
       "                7136,\n",
       "                7145,\n",
       "                7393,\n",
       "                7456,\n",
       "                7460,\n",
       "                7488,\n",
       "                7515,\n",
       "                7665,\n",
       "                7669,\n",
       "                7710,\n",
       "                7714,\n",
       "                7772,\n",
       "                7892,\n",
       "                7908,\n",
       "                7960,\n",
       "                8008,\n",
       "                8028,\n",
       "                8536,\n",
       "                8717,\n",
       "                8726,\n",
       "                8819,\n",
       "                8825,\n",
       "                8900,\n",
       "                8906,\n",
       "                8940,\n",
       "                9812,\n",
       "                9852,\n",
       "                9861,\n",
       "                9945,\n",
       "                10537,\n",
       "                10697,\n",
       "                10732,\n",
       "                10825,\n",
       "                10928,\n",
       "                11025,\n",
       "                11049,\n",
       "                11110,\n",
       "                11161,\n",
       "                11259,\n",
       "                11336,\n",
       "                11399,\n",
       "                11469,\n",
       "                11591,\n",
       "                11865,\n",
       "                11911,\n",
       "                12042,\n",
       "                12319,\n",
       "                12344,\n",
       "                12690,\n",
       "                13240,\n",
       "                13243,\n",
       "                13276,\n",
       "                13467,\n",
       "                13875,\n",
       "                14097,\n",
       "                14145,\n",
       "                14186,\n",
       "                14201,\n",
       "                14227,\n",
       "                14248,\n",
       "                14274,\n",
       "                14320,\n",
       "                14374,\n",
       "                14391,\n",
       "                14500,\n",
       "                14551,\n",
       "                14627,\n",
       "                14685,\n",
       "                14739,\n",
       "                14793,\n",
       "                14856,\n",
       "                14878,\n",
       "                15883,\n",
       "                15904,\n",
       "                16060,\n",
       "                16108,\n",
       "                16114,\n",
       "                16121,\n",
       "                16225,\n",
       "                16323,\n",
       "                16343,\n",
       "                16344,\n",
       "                16415,\n",
       "                16490,\n",
       "                16509,\n",
       "                16519,\n",
       "                16522,\n",
       "                16546,\n",
       "                16559,\n",
       "                16727,\n",
       "                16752,\n",
       "                16782,\n",
       "                16907,\n",
       "                17078,\n",
       "                17468,\n",
       "                17518,\n",
       "                17637,\n",
       "                17667,\n",
       "                17700,\n",
       "                18004,\n",
       "                18015,\n",
       "                18023,\n",
       "                18092,\n",
       "                18142,\n",
       "                18504,\n",
       "                18625,\n",
       "                19334,\n",
       "                19340,\n",
       "                19349,\n",
       "                19364,\n",
       "                19411,\n",
       "                19450,\n",
       "                19541,\n",
       "                19599,\n",
       "                19688,\n",
       "                19694,\n",
       "                19717,\n",
       "                19917,\n",
       "                19999,\n",
       "                20046,\n",
       "                20102,\n",
       "                20108,\n",
       "                20124,\n",
       "                20217,\n",
       "                20255,\n",
       "                20264,\n",
       "                20292,\n",
       "                20306,\n",
       "                20322,\n",
       "                20443,\n",
       "                20526,\n",
       "                20610,\n",
       "                20795,\n",
       "                20870,\n",
       "                21012,\n",
       "                21212,\n",
       "                21248,\n",
       "                21421,\n",
       "                21541,\n",
       "                21910,\n",
       "                21916,\n",
       "                21928,\n",
       "                21933,\n",
       "                21968,\n",
       "                21992,\n",
       "                22033,\n",
       "                23432,\n",
       "                23563,\n",
       "                23587,\n",
       "                23681,\n",
       "                23689,\n",
       "                23700,\n",
       "                23725,\n",
       "                23732,\n",
       "                23769,\n",
       "                23822,\n",
       "                23833,\n",
       "                24093,\n",
       "                24705,\n",
       "                24961,\n",
       "                25195,\n",
       "                25201,\n",
       "                25508,\n",
       "                25625,\n",
       "                26145,\n",
       "                26613,\n",
       "                26683,\n",
       "                26761,\n",
       "                27184,\n",
       "                27312,\n",
       "                27709,\n",
       "                27807,\n",
       "                28060,\n",
       "                28087,\n",
       "                28104,\n",
       "                28555,\n",
       "                28561,\n",
       "                28581,\n",
       "                28607,\n",
       "                28623,\n",
       "                28701,\n",
       "                28716,\n",
       "                28727,\n",
       "                28734,\n",
       "                28790,\n",
       "                28860,\n",
       "                28935,\n",
       "                28958,\n",
       "                29163,\n",
       "                29193,\n",
       "                29210,\n",
       "                29285,\n",
       "                29292,\n",
       "                29313,\n",
       "                29415,\n",
       "                29471,\n",
       "                29489,\n",
       "                29811,\n",
       "                29988,\n",
       "                30100,\n",
       "                30113,\n",
       "                30154,\n",
       "                30570,\n",
       "                30637,\n",
       "                30642,\n",
       "                30658,\n",
       "                30677,\n",
       "                30715,\n",
       "                30789,\n",
       "                30915,\n",
       "                31034,\n",
       "                31053,\n",
       "                31146,\n",
       "                31157,\n",
       "                31206,\n",
       "                31309,\n",
       "                31357,\n",
       "                31392,\n",
       "                31474,\n",
       "                31484,\n",
       "                31604,\n",
       "                31663,\n",
       "                32505,\n",
       "                32744,\n",
       "                32903,\n",
       "                32939,\n",
       "                32950,\n",
       "                33006,\n",
       "                33042,\n",
       "                33047,\n",
       "                33072,\n",
       "                33132,\n",
       "                33141,\n",
       "                33177,\n",
       "                33267],\n",
       "               'total': 289},\n",
       "              'all_well': {'list': [17012], 'total': 1},\n",
       "              'as_you': {'list': [23810], 'total': 1},\n",
       "              'cymbelin': {'list': [10900,\n",
       "                12775,\n",
       "                12783,\n",
       "                12822,\n",
       "                12982,\n",
       "                13072,\n",
       "                13190,\n",
       "                13249,\n",
       "                13308,\n",
       "                13326,\n",
       "                13395,\n",
       "                13397,\n",
       "                13424,\n",
       "                13457,\n",
       "                13521,\n",
       "                20624,\n",
       "                35343,\n",
       "                35467],\n",
       "               'total': 18},\n",
       "              'hamlet': {'list': [19208, 34403], 'total': 2},\n",
       "              'hen_iv_2': {'list': [851], 'total': 1},\n",
       "              'hen_v': {'list': [27794], 'total': 1},\n",
       "              'hen_vi_1': {'list': [941, 3542], 'total': 2},\n",
       "              'hen_vi_2': {'list': [22251, 26037], 'total': 2},\n",
       "              'hen_vi_3': {'list': [14063, 29796], 'total': 2},\n",
       "              'j_caesar': {'list': [4,\n",
       "                70,\n",
       "                72,\n",
       "                83,\n",
       "                105,\n",
       "                161,\n",
       "                193,\n",
       "                564,\n",
       "                905,\n",
       "                939,\n",
       "                978,\n",
       "                1011,\n",
       "                1019,\n",
       "                1022,\n",
       "                1031,\n",
       "                1050,\n",
       "                1055,\n",
       "                1095,\n",
       "                1106,\n",
       "                1118,\n",
       "                1120,\n",
       "                1137,\n",
       "                1166,\n",
       "                1180,\n",
       "                1197,\n",
       "                1219,\n",
       "                1221,\n",
       "                1240,\n",
       "                1574,\n",
       "                1756,\n",
       "                1940,\n",
       "                1985,\n",
       "                2067,\n",
       "                2112,\n",
       "                2136,\n",
       "                2299,\n",
       "                2367,\n",
       "                2429,\n",
       "                2449,\n",
       "                2734,\n",
       "                2769,\n",
       "                2792,\n",
       "                2850,\n",
       "                2854,\n",
       "                2856,\n",
       "                2901,\n",
       "                2917,\n",
       "                3063,\n",
       "                3090,\n",
       "                3126,\n",
       "                3443,\n",
       "                3452,\n",
       "                3498,\n",
       "                3532,\n",
       "                3568,\n",
       "                3758,\n",
       "                3868,\n",
       "                4132,\n",
       "                4198,\n",
       "                4210,\n",
       "                4262,\n",
       "                4583,\n",
       "                4990,\n",
       "                5064,\n",
       "                5227,\n",
       "                5305,\n",
       "                6071,\n",
       "                6142,\n",
       "                6501,\n",
       "                7409,\n",
       "                7431,\n",
       "                7435,\n",
       "                7477,\n",
       "                7518,\n",
       "                7539,\n",
       "                7560,\n",
       "                7567,\n",
       "                7573,\n",
       "                7688,\n",
       "                7692,\n",
       "                7712,\n",
       "                7729,\n",
       "                7745,\n",
       "                7821,\n",
       "                8017,\n",
       "                9231,\n",
       "                9240,\n",
       "                9245,\n",
       "                9271,\n",
       "                9285,\n",
       "                9316,\n",
       "                9334,\n",
       "                9335,\n",
       "                9360,\n",
       "                9367,\n",
       "                9480,\n",
       "                9495,\n",
       "                9510,\n",
       "                9526,\n",
       "                9549,\n",
       "                9639,\n",
       "                9649,\n",
       "                9670,\n",
       "                9679,\n",
       "                9705,\n",
       "                9775,\n",
       "                9813,\n",
       "                9822,\n",
       "                9833,\n",
       "                9892,\n",
       "                9894,\n",
       "                9924,\n",
       "                9933,\n",
       "                9953,\n",
       "                10137,\n",
       "                10178,\n",
       "                10222,\n",
       "                10233,\n",
       "                10243,\n",
       "                10251,\n",
       "                10275,\n",
       "                10334,\n",
       "                10336,\n",
       "                10361,\n",
       "                10384,\n",
       "                10391,\n",
       "                10428,\n",
       "                10430,\n",
       "                10488,\n",
       "                10512,\n",
       "                10548,\n",
       "                10634,\n",
       "                10669,\n",
       "                10704,\n",
       "                10899,\n",
       "                10997,\n",
       "                11032,\n",
       "                11049,\n",
       "                11055,\n",
       "                11111,\n",
       "                11149,\n",
       "                11198,\n",
       "                11273,\n",
       "                11301,\n",
       "                11315,\n",
       "                11324,\n",
       "                11351,\n",
       "                11364,\n",
       "                11371,\n",
       "                11373,\n",
       "                11387,\n",
       "                11393,\n",
       "                11423,\n",
       "                11455,\n",
       "                11486,\n",
       "                11516,\n",
       "                11550,\n",
       "                11598,\n",
       "                11624,\n",
       "                11635,\n",
       "                11653,\n",
       "                11667,\n",
       "                11708,\n",
       "                11771,\n",
       "                11801,\n",
       "                11824,\n",
       "                11839,\n",
       "                11847,\n",
       "                11849,\n",
       "                12031,\n",
       "                12034,\n",
       "                12046,\n",
       "                12049,\n",
       "                12073,\n",
       "                12074,\n",
       "                12083,\n",
       "                12355,\n",
       "                12381,\n",
       "                12457,\n",
       "                12595,\n",
       "                12620,\n",
       "                12645,\n",
       "                12658,\n",
       "                12799,\n",
       "                12861,\n",
       "                12946,\n",
       "                13048,\n",
       "                13144,\n",
       "                13274,\n",
       "                13456,\n",
       "                13479,\n",
       "                13536,\n",
       "                13562,\n",
       "                13592,\n",
       "                13708,\n",
       "                13733,\n",
       "                13773,\n",
       "                13795,\n",
       "                14007,\n",
       "                14069,\n",
       "                14083,\n",
       "                14116,\n",
       "                14276,\n",
       "                14361,\n",
       "                14493,\n",
       "                14506,\n",
       "                14522,\n",
       "                14534,\n",
       "                14547,\n",
       "                14557,\n",
       "                14568,\n",
       "                14724,\n",
       "                14770,\n",
       "                14889,\n",
       "                14893,\n",
       "                14961,\n",
       "                14971,\n",
       "                15102,\n",
       "                15169,\n",
       "                15199,\n",
       "                15207,\n",
       "                15225,\n",
       "                15261,\n",
       "                15309,\n",
       "                15320,\n",
       "                15460,\n",
       "                15494,\n",
       "                15601,\n",
       "                15699,\n",
       "                15740,\n",
       "                15806,\n",
       "                15830,\n",
       "                15856,\n",
       "                15914,\n",
       "                15951,\n",
       "                16010,\n",
       "                16131,\n",
       "                16197,\n",
       "                16229,\n",
       "                16241,\n",
       "                16258,\n",
       "                16310,\n",
       "                16380,\n",
       "                16413,\n",
       "                16664,\n",
       "                16706,\n",
       "                16786,\n",
       "                16837,\n",
       "                16860,\n",
       "                16872,\n",
       "                16935,\n",
       "                17055,\n",
       "                17151,\n",
       "                17333,\n",
       "                17626,\n",
       "                19159,\n",
       "                19630,\n",
       "                21432,\n",
       "                22032,\n",
       "                22111,\n",
       "                22121,\n",
       "                22203,\n",
       "                22226,\n",
       "                22240,\n",
       "                22319,\n",
       "                22332,\n",
       "                22343,\n",
       "                23597,\n",
       "                23639,\n",
       "                24165,\n",
       "                24904,\n",
       "                25285,\n",
       "                25501],\n",
       "               'total': 273},\n",
       "              'lll': {'list': [25350], 'total': 1},\n",
       "              'm_for_m': {'list': [6773, 14734], 'total': 2},\n",
       "              'm_wives': {'list': [3459], 'total': 1},\n",
       "              'macbeth': {'list': [9254], 'total': 1},\n",
       "              'othello': {'list': [11726], 'total': 1},\n",
       "              'rich_ii': {'list': [22693], 'total': 1},\n",
       "              'rich_iii': {'list': [16414, 16566, 30793, 30795], 'total': 4},\n",
       "              'titus': {'list': [368], 'total': 1}}),\n",
       " 'total': 604}"
      ]
     },
     "metadata": {},
     "output_type": "display_data"
    }
   ],
   "source": [
    "def positional_inverted_index(zipfolder):\n",
    "    # With zipfile we can read as zipfolder without opening it.\n",
    "    archive = zipfile.ZipFile(zipfolder, \"r\")\n",
    "    namelist = [x for x in archive.namelist() if x.endswith(\".xml\")]\n",
    "    index = defaultdict(lambda: {\"files\": defaultdict(lambda: {\"list\": [], \"total\": 0}), \"total\": 0})\n",
    "\n",
    "    for infile in tqdm_notebook(namelist):\n",
    "        f = archive.open(infile)\n",
    "        filename = infile[:-4]\n",
    "        soup = BeautifulSoup(f.read(), \"html.parser\")\n",
    "        for pos, token in enumerate(nltk.tokenize.word_tokenize(soup.get_text())):\n",
    "            if not token or not token.isalpha():\n",
    "                continue\n",
    "            index[token.lower()][\"files\"][filename][\"list\"].append(pos)\n",
    "            index[token.lower()][\"files\"][filename][\"total\"] += 1\n",
    "            index[token.lower()][\"total\"] += 1\n",
    "    return index\n",
    "\n",
    "positional_index = positional_inverted_index(loadShakespeare())\n",
    "display(positional_index[\"caesar\"])"
   ]
  },
  {
   "cell_type": "code",
   "execution_count": 35,
   "id": "ef64d652",
   "metadata": {
    "deletable": false,
    "editable": false,
    "nbgrader": {
     "cell_type": "code",
     "checksum": "b6e21d8ffeb36779f0b33421a0797a57",
     "grade": true,
     "grade_id": "cell-29881806b7e5b184",
     "locked": true,
     "points": 1,
     "schema_version": 3,
     "solution": false
    }
   },
   "outputs": [
    {
     "name": "stderr",
     "output_type": "stream",
     "text": [
      "<ipython-input-34-9dff46dcb818>:7: TqdmDeprecationWarning: This function will be removed in tqdm==5.0.0\n",
      "Please use `tqdm.notebook.tqdm` instead of `tqdm.tqdm_notebook`\n",
      "  for infile in tqdm_notebook(namelist):\n"
     ]
    },
    {
     "data": {
      "application/vnd.jupyter.widget-view+json": {
       "model_id": "ba3847ceb020471e88d856ab2a10b6d8",
       "version_major": 2,
       "version_minor": 0
      },
      "text/plain": [
       "  0%|          | 0/37 [00:00<?, ?it/s]"
      ]
     },
     "metadata": {},
     "output_type": "display_data"
    }
   ],
   "source": [
    "positional_index = positional_inverted_index(loadShakespeare())\n",
    "assert type(positional_index) in [dict, defaultdict]\n",
    "assert_equal(set(positional_index['the'].keys()), {'total','files'})\n",
    "assert_equal(type(positional_index['the']['total']), int)\n",
    "assert_equal(set(positional_index['the']['files']['lll'].keys()), {'total','list'})\n",
    "assert_equal(type(positional_index['the']['files']['lll']['list']), list)\n",
    "assert_equal(type(positional_index['the']['files']['lll']['total']), int)"
   ]
  },
  {
   "cell_type": "code",
   "execution_count": null,
   "id": "07c8bc3f",
   "metadata": {},
   "outputs": [],
   "source": []
  }
 ],
 "metadata": {
  "kernelspec": {
   "display_name": "Python 3 (ipykernel)",
   "language": "python",
   "name": "python3"
  },
  "language_info": {
   "codemirror_mode": {
    "name": "ipython",
    "version": 3
   },
   "file_extension": ".py",
   "mimetype": "text/x-python",
   "name": "python",
   "nbconvert_exporter": "python",
   "pygments_lexer": "ipython3",
   "version": "3.8.10"
  },
  "toc": {
   "nav_menu": {},
   "number_sections": true,
   "sideBar": true,
   "skip_h1_title": false,
   "title_cell": "Table of Contents",
   "title_sidebar": "Contents",
   "toc_cell": true,
   "toc_position": {},
   "toc_section_display": true,
   "toc_window_display": false
  }
 },
 "nbformat": 4,
 "nbformat_minor": 5
}
