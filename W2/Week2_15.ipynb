{
 "cells": [
  {
   "cell_type": "markdown",
   "id": "b6e0f8c9",
   "metadata": {},
   "source": [
    "# Zoekmachines"
   ]
  },
  {
   "cell_type": "markdown",
   "id": "47a1b886",
   "metadata": {},
   "source": [
    "## Notebook made by\n",
    "\n",
    "__Name__|Erik| en vrienden\n",
    "\n",
    "__Student id__ : (secret)"
   ]
  },
  {
   "cell_type": "markdown",
   "id": "ee99c020",
   "metadata": {},
   "source": [
    "## Toelichting\n",
    "\n",
    "* De meeste opgaven worden automatisch nagekeken. Bij vrijwel alle opdrachten staan er een paar zichtbare tests onder de opdracht, dit is voornamelijk om te zorgen dat je de juiste type output geeft. De andere tests worden na inleveren toegevoegd aan die cell.\n",
    "\n",
    "## Voor het inleveren!\n",
    "\n",
    "* Pas niet de cellen aan, vooral niet die je niet kunt editen. Dit levert problemen op bij nakijken. Twijfel je of je per ongeluk iets hebt gewijzigd, kopieer dan bij inleveren je antwoorden naar een nieuw bestand, zodat het niet fout kan gaan.\n",
    "\n",
    "* Zorg dat de code goed runt van boven naar beneden, verifieer dat door boven in Kernel -> Restart & Run All uit te voeren"
   ]
  },
  {
   "cell_type": "markdown",
   "id": "55aa27e3",
   "metadata": {
    "toc": true
   },
   "source": [
    "<h1>Table of Contents<span class=\"tocSkip\"></span></h1>\n",
    "<div class=\"toc\"><ul class=\"toc-item\"><li><span><a href=\"#Week-2\" data-toc-modified-id=\"Week-2-1\"><span class=\"toc-item-num\">1&nbsp;&nbsp;</span>Week 2</a></span></li><li><span><a href=\"#Book-exercises\" data-toc-modified-id=\"Book-exercises-2\"><span class=\"toc-item-num\">2&nbsp;&nbsp;</span>Book exercises</a></span><ul class=\"toc-item\"><li><ul class=\"toc-item\"><li><span><a href=\"#2.1\" data-toc-modified-id=\"2.1-2.0.1\"><span class=\"toc-item-num\">2.0.1&nbsp;&nbsp;</span>2.1</a></span></li><li><span><a href=\"#2.2-(not-graded)\" data-toc-modified-id=\"2.2-(not-graded)-2.0.2\"><span class=\"toc-item-num\">2.0.2&nbsp;&nbsp;</span>2.2 (not graded)</a></span></li><li><span><a href=\"#2.3\" data-toc-modified-id=\"2.3-2.0.3\"><span class=\"toc-item-num\">2.0.3&nbsp;&nbsp;</span>2.3</a></span></li><li><span><a href=\"#2.4-(not-graded)\" data-toc-modified-id=\"2.4-(not-graded)-2.0.4\"><span class=\"toc-item-num\">2.0.4&nbsp;&nbsp;</span>2.4 (not graded)</a></span></li><li><span><a href=\"#2.8-(not-graded)\" data-toc-modified-id=\"2.8-(not-graded)-2.0.5\"><span class=\"toc-item-num\">2.0.5&nbsp;&nbsp;</span>2.8 (not graded)</a></span></li><li><span><a href=\"#2.9\" data-toc-modified-id=\"2.9-2.0.6\"><span class=\"toc-item-num\">2.0.6&nbsp;&nbsp;</span>2.9</a></span></li><li><span><a href=\"#2.10\" data-toc-modified-id=\"2.10-2.0.7\"><span class=\"toc-item-num\">2.0.7&nbsp;&nbsp;</span>2.10</a></span></li><li><span><a href=\"#6.9\" data-toc-modified-id=\"6.9-2.0.8\"><span class=\"toc-item-num\">2.0.8&nbsp;&nbsp;</span>6.9</a></span></li><li><span><a href=\"#6.10\" data-toc-modified-id=\"6.10-2.0.9\"><span class=\"toc-item-num\">2.0.9&nbsp;&nbsp;</span>6.10</a></span></li><li><span><a href=\"#6.11-(not-graded)\" data-toc-modified-id=\"6.11-(not-graded)-2.0.10\"><span class=\"toc-item-num\">2.0.10&nbsp;&nbsp;</span>6.11 (not graded)</a></span></li><li><span><a href=\"#6.12-(not-graded)\" data-toc-modified-id=\"6.12-(not-graded)-2.0.11\"><span class=\"toc-item-num\">2.0.11&nbsp;&nbsp;</span>6.12 (not graded)</a></span></li><li><span><a href=\"#6.13-(not-graded)\" data-toc-modified-id=\"6.13-(not-graded)-2.0.12\"><span class=\"toc-item-num\">2.0.12&nbsp;&nbsp;</span>6.13 (not graded)</a></span></li><li><span><a href=\"#6.14-(not-graded)\" data-toc-modified-id=\"6.14-(not-graded)-2.0.13\"><span class=\"toc-item-num\">2.0.13&nbsp;&nbsp;</span>6.14 (not graded)</a></span></li><li><span><a href=\"#6.15\" data-toc-modified-id=\"6.15-2.0.14\"><span class=\"toc-item-num\">2.0.14&nbsp;&nbsp;</span>6.15</a></span></li><li><span><a href=\"#6.16-(not-graded)\" data-toc-modified-id=\"6.16-(not-graded)-2.0.15\"><span class=\"toc-item-num\">2.0.15&nbsp;&nbsp;</span>6.16 (not graded)</a></span></li><li><span><a href=\"#6.17\" data-toc-modified-id=\"6.17-2.0.16\"><span class=\"toc-item-num\">2.0.16&nbsp;&nbsp;</span>6.17</a></span></li></ul></li></ul></li><li><span><a href=\"#Extra-theory-exercises\" data-toc-modified-id=\"Extra-theory-exercises-3\"><span class=\"toc-item-num\">3&nbsp;&nbsp;</span>Extra theory exercises</a></span><ul class=\"toc-item\"><li><span><a href=\"#Index-size\" data-toc-modified-id=\"Index-size-3.1\"><span class=\"toc-item-num\">3.1&nbsp;&nbsp;</span>Index size</a></span></li><li><span><a href=\"#Index-size-2\" data-toc-modified-id=\"Index-size-2-3.2\"><span class=\"toc-item-num\">3.2&nbsp;&nbsp;</span>Index size 2</a></span></li></ul></li><li><span><a href=\"#Programming-(Inverted-Index)\" data-toc-modified-id=\"Programming-(Inverted-Index)-4\"><span class=\"toc-item-num\">4&nbsp;&nbsp;</span>Programming (Inverted Index)</a></span><ul class=\"toc-item\"><li><span><a href=\"#9-Ranked-Retrieval\" data-toc-modified-id=\"9-Ranked-Retrieval-4.1\"><span class=\"toc-item-num\">4.1&nbsp;&nbsp;</span>9 Ranked Retrieval</a></span></li><li><span><a href=\"#9.1-TF-IDF\" data-toc-modified-id=\"9.1-TF-IDF-4.2\"><span class=\"toc-item-num\">4.2&nbsp;&nbsp;</span>9.1 TF-IDF</a></span><ul class=\"toc-item\"><li><span><a href=\"#9.2-TF-IDF-Ranked-Search\" data-toc-modified-id=\"9.2-TF-IDF-Ranked-Search-4.2.1\"><span class=\"toc-item-num\">4.2.1&nbsp;&nbsp;</span>9.2 TF-IDF Ranked Search</a></span></li><li><span><a href=\"#9.3-Vector-Space-Model\" data-toc-modified-id=\"9.3-Vector-Space-Model-4.2.2\"><span class=\"toc-item-num\">4.2.2&nbsp;&nbsp;</span>9.3 Vector Space Model</a></span></li><li><span><a href=\"#9.4-Cosine-Similarity\" data-toc-modified-id=\"9.4-Cosine-Similarity-4.2.3\"><span class=\"toc-item-num\">4.2.3&nbsp;&nbsp;</span>9.4 Cosine Similarity</a></span></li><li><span><a href=\"#9.5-Okapi-BM25\" data-toc-modified-id=\"9.5-Okapi-BM25-4.2.4\"><span class=\"toc-item-num\">4.2.4&nbsp;&nbsp;</span>9.5 Okapi BM25</a></span></li></ul></li></ul></li></ul></div>"
   ]
  },
  {
   "cell_type": "markdown",
   "id": "9bdd51a3",
   "metadata": {
    "deletable": false,
    "editable": false,
    "nbgrader": {
     "cell_type": "markdown",
     "checksum": "b9fbfec4f0391fb1311b40615454a2b4",
     "grade": false,
     "grade_id": "cell-d32efc5c56bf7199",
     "locked": true,
     "schema_version": 3,
     "solution": false
    }
   },
   "source": [
    "# Week 2"
   ]
  },
  {
   "cell_type": "code",
   "execution_count": 1,
   "id": "cbf07602",
   "metadata": {
    "deletable": false,
    "editable": false,
    "nbgrader": {
     "cell_type": "code",
     "checksum": "630bc803cc5920da4bbaf276dc195f58",
     "grade": false,
     "grade_id": "cell-e86d56c9ad0aa4e5",
     "locked": true,
     "schema_version": 3,
     "solution": false
    }
   },
   "outputs": [],
   "source": [
    "from nose.tools import assert_equal, assert_almost_equal\n",
    "import numpy as np"
   ]
  },
  {
   "cell_type": "markdown",
   "id": "9d3154ca",
   "metadata": {
    "deletable": false,
    "editable": false,
    "nbgrader": {
     "cell_type": "markdown",
     "checksum": "96b23d353367523fb2e238baade2a528",
     "grade": false,
     "grade_id": "cell-2ea109d597cac3d7",
     "locked": true,
     "schema_version": 3,
     "solution": false
    }
   },
   "source": [
    "# Book exercises\n",
    "In this section you will make the exercises from the book, which is freely available online as a PDF at [nlp.stanford.edu/IR-book/](http://nlp.stanford.edu/IR-book/)."
   ]
  },
  {
   "cell_type": "markdown",
   "id": "a3a84595",
   "metadata": {
    "collapsed": true,
    "deletable": false,
    "editable": false,
    "nbgrader": {
     "cell_type": "markdown",
     "checksum": "1ec04407cf35c76af81cd3c58077931e",
     "grade": false,
     "grade_id": "cell-675cbcb22f189c5c",
     "locked": true,
     "schema_version": 3,
     "solution": false
    }
   },
   "source": [
    "### 2.1\n",
    "\n",
    "Are the following statements true or false?\n",
    "\n",
    "a. In a Boolean retrieval system, stemming never lowers precision.\n",
    "\n",
    "b. In a Boolean retrieval system, stemming never lowers recall.\n",
    "\n",
    "c. Stemming increases the size of the vocabulary.\n",
    "\n",
    "d. Stemming should be invoked at indexing time but not while processing a query"
   ]
  },
  {
   "cell_type": "code",
   "execution_count": 2,
   "id": "1ba8c940",
   "metadata": {
    "deletable": false,
    "nbgrader": {
     "cell_type": "code",
     "checksum": "ae72a753a09a3a013f5996e05006eb61",
     "grade": false,
     "grade_id": "cell-9fba209db4797a78",
     "locked": false,
     "schema_version": 3,
     "solution": true
    }
   },
   "outputs": [
    {
     "data": {
      "text/plain": [
       "(False, True, False, False)"
      ]
     },
     "execution_count": 2,
     "metadata": {},
     "output_type": "execute_result"
    }
   ],
   "source": [
    "a = False  # Je krijgt meer resultaten en niet altijd de juiste resultaten.\n",
    "b = True  # Er komen alleen maar meer documenten bij, want je zoekt algemener.\n",
    "c = False  # Sommige woorden gaan naar dezelfde stem.\n",
    "d = False  # De query moet ook gestemd worden, zodat je het kan vinden in je gestemde index.\n",
    "\n",
    "a, b, c, d"
   ]
  },
  {
   "cell_type": "code",
   "execution_count": 3,
   "id": "6beb3c47",
   "metadata": {
    "deletable": false,
    "editable": false,
    "nbgrader": {
     "cell_type": "code",
     "checksum": "8cb829764eefb004110c89bab32200fc",
     "grade": true,
     "grade_id": "cell-fc1c070acbfa02f6",
     "locked": true,
     "points": 0.25,
     "schema_version": 3,
     "solution": false
    }
   },
   "outputs": [],
   "source": [
    "assert_equal(type(a), bool)"
   ]
  },
  {
   "cell_type": "code",
   "execution_count": 4,
   "id": "1d0a47a8",
   "metadata": {
    "deletable": false,
    "editable": false,
    "nbgrader": {
     "cell_type": "code",
     "checksum": "327b6613bdaacdfccd7bd248a97c9a0c",
     "grade": true,
     "grade_id": "cell-323357d08fec7701",
     "locked": true,
     "points": 0.25,
     "schema_version": 3,
     "solution": false
    }
   },
   "outputs": [],
   "source": [
    "assert_equal(type(b), bool)"
   ]
  },
  {
   "cell_type": "code",
   "execution_count": 5,
   "id": "000275a4",
   "metadata": {
    "deletable": false,
    "editable": false,
    "nbgrader": {
     "cell_type": "code",
     "checksum": "a287baf29f0d2f5fe3b29633eba3ce57",
     "grade": true,
     "grade_id": "cell-8d2d64004b40ab52",
     "locked": true,
     "points": 0.25,
     "schema_version": 3,
     "solution": false
    }
   },
   "outputs": [],
   "source": [
    "assert_equal(type(c), bool)"
   ]
  },
  {
   "cell_type": "code",
   "execution_count": 6,
   "id": "228a562e",
   "metadata": {
    "deletable": false,
    "editable": false,
    "nbgrader": {
     "cell_type": "code",
     "checksum": "63a327b74f2cf3d55a4e51bac0649b73",
     "grade": true,
     "grade_id": "cell-e3f19c4c556a014a",
     "locked": true,
     "points": 0.25,
     "schema_version": 3,
     "solution": false
    }
   },
   "outputs": [],
   "source": [
    "assert_equal(type(d), bool)"
   ]
  },
  {
   "cell_type": "markdown",
   "id": "16557722",
   "metadata": {
    "deletable": false,
    "editable": false,
    "nbgrader": {
     "cell_type": "markdown",
     "checksum": "f064953d97ee1b4f32ee659132409aea",
     "grade": false,
     "grade_id": "cell-e823f1efc7adcaba",
     "locked": true,
     "schema_version": 3,
     "solution": false
    }
   },
   "source": [
    "### 2.2 (not graded)\n",
    "\n",
    "Suggest what normalized form should be used for these words (including the word\n",
    "itself as a possibility):\n",
    "1. ’Cos\n",
    "2. Shi’ite\n",
    "3. cont’d\n",
    "4. Hawai’i\n",
    "5. O’Rourke"
   ]
  },
  {
   "cell_type": "markdown",
   "id": "20e85fdb",
   "metadata": {
    "deletable": false,
    "editable": false,
    "nbgrader": {
     "cell_type": "markdown",
     "checksum": "82b6952dc64bcf927f866b4df73312fa",
     "grade": false,
     "grade_id": "cell-3eb40501c393b362",
     "locked": true,
     "points": 0,
     "schema_version": 3,
     "solution": false
    }
   },
   "source": [
    "a) 'Cos: cos (Because the number of Google results for Cos , Cos ,cos and cos are exactly same.)<br/>\n",
    "b) Shi'ite: shiite (Because on Google, shiite gives more results than shi-ite)<br/>\n",
    "c) cont'd: contd<br/>\n",
    "d) Hawai'i: hawaii (Hawai'i, hawai'i, Hawaii)<br/>\n",
    "e) O'Rourke: orourke (O'Rourke, o'rourke, ORourke)<br/>"
   ]
  },
  {
   "cell_type": "markdown",
   "id": "cb16a0a2",
   "metadata": {
    "deletable": false,
    "editable": false,
    "nbgrader": {
     "cell_type": "markdown",
     "checksum": "9cc4f86fae84ee0f7e3aad6ad19051e2",
     "grade": false,
     "grade_id": "cell-3d752b81075d9d59",
     "locked": true,
     "schema_version": 3,
     "solution": false
    }
   },
   "source": [
    "### 2.3\n",
    "\n",
    "The following pairs of words are stemmed to the same form by the Porter stemmer.\n",
    "Which pairs would you argue shouldn’t be conflated. Give your reasoning.\n",
    "1. abandon/abandonment\n",
    "2. absorbency/absorbent\n",
    "3. marketing/markets\n",
    "4. university/universe\n",
    "5. volume/volumes"
   ]
  },
  {
   "cell_type": "code",
   "execution_count": 7,
   "id": "f8bfae8e",
   "metadata": {
    "deletable": false,
    "nbgrader": {
     "cell_type": "code",
     "checksum": "981ce4c849ceb781660368b32e8a0bd1",
     "grade": false,
     "grade_id": "203",
     "locked": false,
     "schema_version": 3,
     "solution": true
    }
   },
   "outputs": [],
   "source": [
    "should = set([1, 2, 5])\n",
    "shouldnot = set([3, 4])\n",
    "\n",
    "# abandon and abandonment almost mean the same, this also goes for absorbency and absorbent.\n",
    "# marketing and markets mean two different things, the subject and a place where you can buy stuff.\n",
    "# university is a educational building, universe is our universe.\n",
    "# volume can mean the same, but also the loudnes of sound."
   ]
  },
  {
   "cell_type": "code",
   "execution_count": 8,
   "id": "b491318e",
   "metadata": {
    "deletable": false,
    "editable": false,
    "nbgrader": {
     "cell_type": "code",
     "checksum": "bc83af6df0a6e08d08edea1405387b17",
     "grade": true,
     "grade_id": "203-t",
     "locked": true,
     "points": 1,
     "schema_version": 3,
     "solution": false
    }
   },
   "outputs": [],
   "source": [
    "assert_equal(type(should), set)\n"
   ]
  },
  {
   "cell_type": "markdown",
   "id": "2d2e87d4",
   "metadata": {
    "deletable": false,
    "editable": false,
    "nbgrader": {
     "cell_type": "markdown",
     "checksum": "4f68eae612fde17e8990a052accdf0ca",
     "grade": false,
     "grade_id": "cell-bed75dda3272a6ec",
     "locked": true,
     "schema_version": 3,
     "solution": false
    }
   },
   "source": [
    "### 2.4 (not graded)\n",
    "\n",
    "For the Porter stemmer rule group shown in (2.1):\n",
    "1. What is the purpose of including an identity rule such as SS → SS?\n",
    "2. Applying just this rule group, what will the following words be stemmed to?\n",
    "   > _circus_ _canaries_ _boss_\n",
    "3. What rule should be added to correctly stem pony?\n",
    "4. The stemming for ponies and pony might seem strange. Does it have a deleterious effect on retrieval? Why or why not?"
   ]
  },
  {
   "cell_type": "markdown",
   "id": "c84a5fd5",
   "metadata": {
    "nbgrader": {
     "grade": false,
     "grade_id": "cell-fffd9e79acf9c04c",
     "locked": false,
     "points": 0,
     "schema_version": 3,
     "solution": false
    }
   },
   "source": [
    "1. The purpose of including an identity such as SS->SS is to prevent the wrong stemming of words like caress using the rule s->nothing.\n",
    "2. circus->circu, canaries->canari, boss->boss\n",
    "3. y->i\n",
    "4. No, because poni is not a separate word with another meaning."
   ]
  },
  {
   "cell_type": "markdown",
   "id": "f5b15293",
   "metadata": {
    "deletable": false,
    "editable": false,
    "nbgrader": {
     "cell_type": "markdown",
     "checksum": "06c9a4bf72abdd34619bd5aabb16ac7f",
     "grade": false,
     "grade_id": "cell-e69cd0806b78c2e5",
     "locked": true,
     "schema_version": 3,
     "solution": false
    }
   },
   "source": [
    "### 2.8 (not graded)\n",
    "\n",
    "Assume a biword index. Give an example of a document which will be returned\n",
    "for a query of New York University but is actually a false positive which should not be\n",
    "returned."
   ]
  },
  {
   "cell_type": "markdown",
   "id": "86085780",
   "metadata": {
    "nbgrader": {
     "grade": false,
     "grade_id": "cell-48f9c4a70c356cb9",
     "locked": false,
     "points": 1,
     "schema_version": 3,
     "solution": false
    }
   },
   "source": [
    "Research on New York, done at York University."
   ]
  },
  {
   "cell_type": "markdown",
   "id": "e9f9b948",
   "metadata": {
    "deletable": false,
    "editable": false,
    "nbgrader": {
     "cell_type": "markdown",
     "checksum": "f7552f71351167a476319e9900fb1796",
     "grade": false,
     "grade_id": "cell-63f4fe400c5affd4",
     "locked": true,
     "schema_version": 3,
     "solution": false
    }
   },
   "source": [
    "### 2.9\n",
    "\n",
    "Shown below is a portion of a positional index in the format:\n",
    "> term: doc1: $\\langle$ position1, position2, . . . $\\rangle$; doc2: $\\langle$ position1, position2, . . .$\\rangle$; etc.\n",
    "\n",
    "angels: 2: $\\langle$36,174,252,651$\\rangle$; 4: $\\langle$12,22,102,432$\\rangle$; 7: $\\langle$17$\\rangle$;<br/>\n",
    "fools: 2: $\\langle$1,17,74,222$\\rangle$; 4: $\\langle$8,78,108,458$\\rangle$; 7: $\\langle$3,13,23,193$\\rangle$;<br/>\n",
    "fear: 2: $\\langle$87,704,722,901$\\rangle$; 4: $\\langle$13,43,113,433$\\rangle$; 7: $\\langle$18,328,528$\\rangle$;<br/>\n",
    "in: 2: $\\langle$3,37,76,444,851$\\rangle$; 4: $\\langle$10,20,110,470,500$\\rangle$; 7: $\\langle$5,15,25,195$\\rangle$;<br/>\n",
    "rush: 2: $\\langle$2,66,194,321,702$\\rangle$; 4: $\\langle$9,69,149,429,569$\\rangle$; 7: $\\langle$4,14,404$\\rangle$;<br/>\n",
    "to: 2: $\\langle$47,86,234,999$\\rangle$; 4: $\\langle$14,24,774,944$\\rangle$; 7: $\\langle$199,319,599,709$\\rangle$;<br/>\n",
    "tread: 2: $\\langle$57,94,333$\\rangle$; 4: $\\langle$15,35,155$\\rangle$; 7: $\\langle$20,320$\\rangle$;<br/>\n",
    "where: 2: $\\langle$67,124,393,1001$\\rangle$; 4: $\\langle$11,41,101,421,431$\\rangle$; 7: $\\langle$16,36,736$\\rangle$;\n",
    "\n",
    "Which document(s) if any match each of the following queries, where each expression\n",
    "within quotes is a phrase query?\n",
    "1. “fools rush in”\n",
    "2. “fools rush in” AND “angels fear to tread”\n",
    "\n",
    "Give your answer as sets, respectively `firstphrase` and `secondphrase`"
   ]
  },
  {
   "cell_type": "code",
   "execution_count": 9,
   "id": "cb1208a1",
   "metadata": {
    "deletable": false,
    "nbgrader": {
     "cell_type": "code",
     "checksum": "5638f028b98c5844bbe4becee9425436",
     "grade": false,
     "grade_id": "cell-04b90595b2cf07b8",
     "locked": false,
     "schema_version": 3,
     "solution": true
    }
   },
   "outputs": [],
   "source": [
    "# doc 2: <1, 2, 3>, doc 4: <8, 9, 10>, doc 7: <3, 4, 5>\n",
    "firstphrase = set([2, 4, 7])\n",
    "# doc 4: <12, 13, 14, 15>\n",
    "secondphrase = set([4])"
   ]
  },
  {
   "cell_type": "code",
   "execution_count": 10,
   "id": "d2fb93b0",
   "metadata": {
    "deletable": false,
    "editable": false,
    "nbgrader": {
     "cell_type": "code",
     "checksum": "1bdc3f6d488713b88e2bf9b42027bdfe",
     "grade": true,
     "grade_id": "cell-32f1ec171801d213",
     "locked": true,
     "points": 1,
     "schema_version": 3,
     "solution": false
    }
   },
   "outputs": [],
   "source": [
    "assert_equal(type(firstphrase),set)\n",
    "assert_equal(type(secondphrase),set)\n",
    "for x in firstphrase:\n",
    "    assert x in [2,4,7]\n",
    "for x in secondphrase:\n",
    "    assert x in [2,4,7]"
   ]
  },
  {
   "cell_type": "markdown",
   "id": "4b2122ac",
   "metadata": {
    "collapsed": true,
    "deletable": false,
    "editable": false,
    "nbgrader": {
     "cell_type": "markdown",
     "checksum": "c48da0d0d660996de269fe685bd474a9",
     "grade": false,
     "grade_id": "cell-fc519c5fe85e638a",
     "locked": true,
     "schema_version": 3,
     "solution": false
    }
   },
   "source": [
    "### 2.10\n",
    "\n",
    "Consider the following fragment of a positional index with the format:\n",
    "\n",
    "> word: document: $\\langle$position, position, . . .$\\rangle$; document: $\\langle$position, . . .$\\rangle$<br />\n",
    ". . .\n",
    "\n",
    ">Gates: 1: $\\langle$3$\\rangle$; 2: $\\langle$6$\\rangle$; 3: $\\langle$2,17$\\rangle$; 4: $\\langle$1$\\rangle$;<br />\n",
    "IBM: 4: $\\langle$3$\\rangle$; 7: $\\langle$14$\\rangle$;<br />\n",
    "Microsoft: 1: $\\langle$1$\\rangle$; 2: $\\langle$1,21$\\rangle$; 3: $\\langle$3$\\rangle$; 5: $\\langle$16,22,51$\\rangle$;\n",
    "\n",
    "The $/k$ operator, word1 $/k$ word2 finds occurrences of word1 within $k$ words of word2 (on either side), where $k$ is a positive integer argument. Thus $k = 1$ demands that word1 be adjacent to word2.\n",
    "1. Describe the set of documents that satisfy the query Gates $/2$ Microsoft.\n",
    "2. Describe for each value  $k$ between 1 and 7 the set of documents returned after the   query Gates $/k$ Microsoft.  \n",
    "\n"
   ]
  },
  {
   "cell_type": "code",
   "execution_count": 11,
   "id": "677a7acc",
   "metadata": {
    "deletable": false,
    "nbgrader": {
     "cell_type": "code",
     "checksum": "f3e1268104f09f866b5290e9886c935e",
     "grade": false,
     "grade_id": "cell-31e611774e33399f",
     "locked": false,
     "schema_version": 3,
     "solution": true
    }
   },
   "outputs": [],
   "source": [
    "k1 = set([3])\n",
    "k2 = set([1, 3])\n",
    "k3 = set([1, 3])\n",
    "k4 = set([1, 3])\n",
    "k5 = set([1, 2, 3])\n",
    "k6 = set([1, 2, 3])\n",
    "k7 = set([1, 2, 3])"
   ]
  },
  {
   "cell_type": "code",
   "execution_count": 12,
   "id": "98c9c901",
   "metadata": {
    "deletable": false,
    "editable": false,
    "nbgrader": {
     "cell_type": "code",
     "checksum": "d58a744476a8966380e5a06b66215d23",
     "grade": true,
     "grade_id": "cell-b933f7947f3f78db",
     "locked": true,
     "points": 1,
     "schema_version": 3,
     "solution": false
    }
   },
   "outputs": [],
   "source": [
    "for k in [k1,k2,k3,k4,k5,k6,k7]:\n",
    "    assert_equal(type(k),set)\n",
    "    assert k.issubset({1,2,3,4,5})"
   ]
  },
  {
   "cell_type": "markdown",
   "id": "d2595337",
   "metadata": {
    "deletable": false,
    "editable": false,
    "nbgrader": {
     "cell_type": "markdown",
     "checksum": "aa8ce28acd7139228b14cc498761066c",
     "grade": false,
     "grade_id": "cell-28339956b6d5bd88",
     "locked": true,
     "schema_version": 3,
     "solution": false
    }
   },
   "source": [
    "### 6.9\n",
    "\n",
    "What is the idf of a term that occurs in every document (variable `idf_every_doc`)? Compare this with the use of stop word lists."
   ]
  },
  {
   "cell_type": "code",
   "execution_count": 13,
   "id": "7ec9a04e",
   "metadata": {
    "deletable": false,
    "nbgrader": {
     "cell_type": "code",
     "checksum": "d81786146a40dce3fa159fe47f00d450",
     "grade": false,
     "grade_id": "cell-84323557f1b57844",
     "locked": false,
     "schema_version": 3,
     "solution": true
    }
   },
   "outputs": [],
   "source": [
    "idf_every_doc = 0"
   ]
  },
  {
   "cell_type": "code",
   "execution_count": 14,
   "id": "4c626eed",
   "metadata": {
    "deletable": false,
    "editable": false,
    "nbgrader": {
     "cell_type": "code",
     "checksum": "7ff52eb8374fc8ae787529b4d72debc1",
     "grade": true,
     "grade_id": "cell-3cbf108756459c24",
     "locked": true,
     "points": 0.5,
     "schema_version": 3,
     "solution": false
    }
   },
   "outputs": [],
   "source": [
    "assert type(idf_every_doc) in [int, float]"
   ]
  },
  {
   "cell_type": "markdown",
   "id": "2550c428",
   "metadata": {
    "deletable": false,
    "editable": false,
    "nbgrader": {
     "cell_type": "markdown",
     "checksum": "d0800b3534752364a4c5ab17e61e9220",
     "grade": false,
     "grade_id": "cell-614376aa2b170562",
     "locked": true,
     "schema_version": 3,
     "solution": false
    }
   },
   "source": [
    "### 6.10\n",
    "\n",
    "Consider the table of term frequencies for 3 documents denoted Doc1, Doc2, Doc3 in Figure 6.9. Compute the tf-idf weights for the terms car, auto, insurance, best, for each document, using the idf values from Figure 6.8.\n",
    "\n",
    "Note that we use tf-idf weighting **with the raw tf values** in this question."
   ]
  },
  {
   "cell_type": "code",
   "execution_count": 15,
   "id": "214b3ab7",
   "metadata": {
    "deletable": false,
    "nbgrader": {
     "cell_type": "code",
     "checksum": "98647192fe173f6c177c5a75e2e8077e",
     "grade": false,
     "grade_id": "cell-3753d6674d83ae0e",
     "locked": false,
     "schema_version": 3,
     "solution": true
    }
   },
   "outputs": [
    {
     "name": "stdout",
     "output_type": "stream",
     "text": [
      "Doc1: [44.55, 6.24, 0.0, 21.0]\n",
      "Doc2: [6.6, 68.64, 53.46, 0.0]\n",
      "Doc3: [39.599999999999994, 0.0, 46.980000000000004, 25.5]\n"
     ]
    }
   ],
   "source": [
    "idf_car = 1.65\n",
    "idf_auto = 2.08\n",
    "idf_insurance = 1.62\n",
    "idf_best = 1.5\n",
    "\n",
    "# for Doc1\n",
    "tfidf_car1 = idf_car * 27\n",
    "tfidf_auto1 = idf_auto * 3\n",
    "tfidf_insurance1 = idf_insurance * 0\n",
    "tfidf_best1 = idf_best * 14\n",
    "# for Doc2\n",
    "tfidf_car2 = idf_car * 4\n",
    "tfidf_auto2 = idf_auto * 33\n",
    "tfidf_insurance2 = idf_insurance * 33\n",
    "tfidf_best2 = idf_best * 0\n",
    "# for Doc3\n",
    "tfidf_car3 = idf_car * 24\n",
    "tfidf_auto3 = idf_auto * 0\n",
    "tfidf_insurance3 = idf_insurance * 29\n",
    "tfidf_best3 = idf_best * 17\n",
    "\n",
    "print(\"Doc1: [%s, %s, %s, %s]\" %(tfidf_car1, tfidf_auto1, tfidf_insurance1, tfidf_best1))\n",
    "print(\"Doc2: [%s, %s, %s, %s]\" %(tfidf_car2, tfidf_auto2, tfidf_insurance2, tfidf_best2))\n",
    "print(\"Doc3: [%s, %s, %s, %s]\" %(tfidf_car3, tfidf_auto3, tfidf_insurance3, tfidf_best3))"
   ]
  },
  {
   "cell_type": "code",
   "execution_count": 16,
   "id": "107b19a2",
   "metadata": {
    "deletable": false,
    "editable": false,
    "nbgrader": {
     "cell_type": "code",
     "checksum": "a86bb42f5fc40279545c5c5000b8e847",
     "grade": true,
     "grade_id": "cell-d465a3ce0a126ca9",
     "locked": true,
     "points": 0.34,
     "schema_version": 3,
     "solution": false
    }
   },
   "outputs": [],
   "source": [
    "assert_equal(type(tfidf_car1), float)\n",
    "assert_equal(type(tfidf_auto1), float)\n",
    "assert_equal(type(tfidf_insurance1), float)\n",
    "assert_equal(type(tfidf_best1), float)"
   ]
  },
  {
   "cell_type": "code",
   "execution_count": 17,
   "id": "312ffaa4",
   "metadata": {
    "deletable": false,
    "editable": false,
    "nbgrader": {
     "cell_type": "code",
     "checksum": "6df9c1f94026f853ad109c41c6f61aa2",
     "grade": true,
     "grade_id": "cell-f48eb29d8d2e1cfb",
     "locked": true,
     "points": 0.33,
     "schema_version": 3,
     "solution": false
    }
   },
   "outputs": [],
   "source": [
    "assert_equal(type(tfidf_car2), float)\n",
    "assert_equal(type(tfidf_auto2), float)\n",
    "assert_equal(type(tfidf_insurance2), float)\n",
    "assert_equal(type(tfidf_best2), float)"
   ]
  },
  {
   "cell_type": "code",
   "execution_count": 18,
   "id": "d51b6734",
   "metadata": {
    "deletable": false,
    "editable": false,
    "nbgrader": {
     "cell_type": "code",
     "checksum": "c8c5fdb721de76123bcb9ad8bb7a15bb",
     "grade": true,
     "grade_id": "cell-fc354ac597577c33",
     "locked": true,
     "points": 0.33,
     "schema_version": 3,
     "solution": false
    }
   },
   "outputs": [],
   "source": [
    "assert_equal(type(tfidf_car3), float)\n",
    "assert_equal(type(tfidf_auto3), float)\n",
    "assert_equal(type(tfidf_insurance3), float)\n",
    "assert_equal(type(tfidf_best3), float)"
   ]
  },
  {
   "cell_type": "markdown",
   "id": "7351dd37",
   "metadata": {
    "deletable": false,
    "editable": false,
    "nbgrader": {
     "cell_type": "markdown",
     "checksum": "0be7aac3327cc2f8fc85f72a7437790e",
     "grade": false,
     "grade_id": "cell-ec94d8f0b7759e47",
     "locked": true,
     "schema_version": 3,
     "solution": false
    }
   },
   "source": [
    "### 6.11 (not graded)\n",
    "\n",
    "Can the tf-idf weight of a term in a document exceed 1?"
   ]
  },
  {
   "cell_type": "markdown",
   "id": "257be1d3",
   "metadata": {},
   "source": [
    "Yes, obviously, as seen above."
   ]
  },
  {
   "cell_type": "markdown",
   "id": "39673a04",
   "metadata": {
    "deletable": false,
    "editable": false,
    "nbgrader": {
     "cell_type": "markdown",
     "checksum": "8f6eaaa026be91f13e0ce8be96f11ae3",
     "grade": false,
     "grade_id": "cell-ec782620c4d51b67",
     "locked": true,
     "schema_version": 3,
     "solution": false
    }
   },
   "source": [
    "### 6.12 (not graded)\n",
    "\n",
    "How does the base of the logarithm in (6.7) affect the score calculation in (6.9)? How does the base of the logarithm affect the relative scores of two documents on a given query?"
   ]
  },
  {
   "cell_type": "markdown",
   "id": "e11552f1",
   "metadata": {},
   "source": [
    "For a base $x > 1$, the score will become lower if the base becomes higher. For a base $0 < x < 1$, this still applies, but the score will be negative. Therefore, if the base is smaller, the score from (6.9) will be relatively higher if the query contains some term(s) that occur(s) in very few documents.\n",
    "\n",
    "Since $log_x$ is a monotonically increasing function if $x > 1$ (i.e. $log_x(a) > log_x(b)$ if $a > b$ for every $x > 1$), the order of the scores of two documents for a given query will be preserved by definition. If $0 < x < 1$, $log_x$ will be a monotionically decreasing function and thus the order of the scores will be reversed.\n",
    "\n",
    "I'm not sure whether this is enough or the question asks for a factor describing how the relative scores change. So just to be sure, this is calculated below. When the base increases with a factor $f$, the score increases with a factor g:\n",
    "$$\\begin{align*}\n",
    "    \\log_{xf}(a) &= g \\cdot \\log_x(a) \\\\\n",
    "    \\frac{\\log(a)}{\\log(fx)} &= g \\cdot \\frac{\\log(a)}{\\log(x)} \\\\\n",
    "    g &= \\frac{\\log(a) \\cdot \\log(x)}{\\log(fx) \\cdot \\log(a)} \\\\\n",
    "    g &= \\log_{xf}(x)\n",
    "\\end{align*}$$"
   ]
  },
  {
   "cell_type": "markdown",
   "id": "0812d728",
   "metadata": {
    "deletable": false,
    "editable": false,
    "nbgrader": {
     "cell_type": "markdown",
     "checksum": "4350742cb29857ed27e0d72c1f3bf031",
     "grade": false,
     "grade_id": "cell-e7c53f985a1d160a",
     "locked": true,
     "schema_version": 3,
     "solution": false
    }
   },
   "source": [
    "### 6.13 (not graded)\n",
    "\n",
    "If the logarithm in (6.7) is computed base 2, suggest a simple approximation to the idf of a term."
   ]
  },
  {
   "cell_type": "markdown",
   "id": "5409f3b4",
   "metadata": {},
   "source": [
    "When the base is 2, we could look at the number of binary digits that N/DF(t) has."
   ]
  },
  {
   "cell_type": "markdown",
   "id": "a7c168c3",
   "metadata": {
    "deletable": false,
    "editable": false,
    "nbgrader": {
     "cell_type": "markdown",
     "checksum": "2d910ee22be99c46c788addb3b5e2982",
     "grade": false,
     "grade_id": "cell-770d1f97e57c370c",
     "locked": true,
     "schema_version": 3,
     "solution": false
    }
   },
   "source": [
    "### 6.14 (not graded)\n",
    "\n",
    "If we were to stem jealous and jealousy to a common stem before setting up the vector space, detail how the definitions of tf and idf should be modified."
   ]
  },
  {
   "cell_type": "markdown",
   "id": "63f7ff32",
   "metadata": {},
   "source": [
    "Jealous and jealousy would become one term. Therefore tf will be the sum of the tf's of the aformentioned terms, thus increase. Idf will possibly decrease as more documents can contain the stemmed term (increased df)."
   ]
  },
  {
   "cell_type": "markdown",
   "id": "9c332154",
   "metadata": {
    "deletable": false,
    "editable": false,
    "nbgrader": {
     "cell_type": "markdown",
     "checksum": "46acbc0edfa0e843e4b2438256e8c6b7",
     "grade": false,
     "grade_id": "cell-2ab77dffbab6471e",
     "locked": true,
     "schema_version": 3,
     "solution": false
    }
   },
   "source": [
    "### 6.15\n",
    "\n",
    "\"\"Recall the tf-idf weights computed in Exercise 6.10. Compute the Euclidean normalized document vectors for each of the documents, where each vector has four components, one for each of the four terms.\"\"\n",
    "\n",
    "Instead of the question above, make the function `euclidean_normalize(vector)` which normalizes a list (which represents a doc)."
   ]
  },
  {
   "cell_type": "code",
   "execution_count": 19,
   "id": "21a919af",
   "metadata": {
    "deletable": false,
    "nbgrader": {
     "cell_type": "code",
     "checksum": "4dbcdba750e6906224e41617d08b68db",
     "grade": false,
     "grade_id": "cell-c09bec4374c36b0f",
     "locked": false,
     "points": 1,
     "schema_version": 3,
     "solution": true
    }
   },
   "outputs": [
    {
     "name": "stdout",
     "output_type": "stream",
     "text": [
      "[0.5952679795256183, 0.0, 0.7062042848008473, 0.38331650196725425]\n",
      "1.0\n"
     ]
    }
   ],
   "source": [
    "def euclidean_normalize(vector):\n",
    "    return list(vector / np.linalg.norm(vector))\n",
    "\n",
    "x = euclidean_normalize([tfidf_car3, tfidf_auto3, tfidf_insurance3, tfidf_best3])\n",
    "print(x)\n",
    "# What test shows that your answer is correct?\n",
    "print(np.sqrt(np.sum(np.array(x)**2)))"
   ]
  },
  {
   "cell_type": "code",
   "execution_count": 20,
   "id": "35e92de1",
   "metadata": {
    "deletable": false,
    "editable": false,
    "nbgrader": {
     "cell_type": "code",
     "checksum": "79bc96c8a3f69ceae8a718845b57926f",
     "grade": true,
     "grade_id": "cell-2cb078e3927ebd52",
     "locked": true,
     "points": 1,
     "schema_version": 3,
     "solution": false
    }
   },
   "outputs": [],
   "source": [
    "assert_equal(type(euclidean_normalize([tfidf_car3,tfidf_auto3,tfidf_insurance3,tfidf_best3])), list)\n",
    "assert_equal(len(euclidean_normalize([tfidf_car3,tfidf_auto3,tfidf_insurance3,tfidf_best3])), 4)"
   ]
  },
  {
   "cell_type": "markdown",
   "id": "186b1eb0",
   "metadata": {
    "deletable": false,
    "editable": false,
    "nbgrader": {
     "cell_type": "markdown",
     "checksum": "ea398b414e44d598592771cecb0eb793",
     "grade": false,
     "grade_id": "cell-cddf5cbe2341f988",
     "locked": true,
     "schema_version": 3,
     "solution": false
    }
   },
   "source": [
    "### 6.16 (not graded)\n",
    "\n",
    "Verify that the square root of the sum of the squares of the components of each of the document vectors in Exercise 6.15 is 1 (to within rounding error). Why is this the case?"
   ]
  },
  {
   "cell_type": "markdown",
   "id": "b02f8191",
   "metadata": {},
   "source": [
    "$\\texttt{np.sqrt(np.sum(x**2)) == 1.0}$, see previous exercise.\n",
    "This is the case, because we normalized the vector."
   ]
  },
  {
   "cell_type": "markdown",
   "id": "20cb7985",
   "metadata": {
    "deletable": false,
    "editable": false,
    "nbgrader": {
     "cell_type": "markdown",
     "checksum": "bab33cd60427329fcbcdbfcec3dc9df0",
     "grade": false,
     "grade_id": "cell-d5c97e092bce4d2a",
     "locked": true,
     "schema_version": 3,
     "solution": false
    }
   },
   "source": [
    "### 6.17\n",
    "\n",
    "With term weights as computed in Exercise 6.15, rank the three documents by computed score (using the cosine similarity of the document and the query vector) for the query \"car insurance\", for each of the following cases of term weighting in the query: \n",
    "\n",
    "1. The weight of a term is 1 if present in the query, 0 otherwise. (variable `rank1`)\n",
    "2.  The weight of a term is the idf of that term. (variable `rank2`)\n",
    "\n"
   ]
  },
  {
   "cell_type": "code",
   "execution_count": 21,
   "id": "08932f53",
   "metadata": {
    "deletable": false,
    "nbgrader": {
     "cell_type": "code",
     "checksum": "ae1d1d18a340562c3b3853a9baf722de",
     "grade": false,
     "grade_id": "cell-4a6a0261e6fe0975",
     "locked": false,
     "schema_version": 3,
     "solution": true
    }
   },
   "outputs": [
    {
     "data": {
      "text/plain": [
       "([(3, 0.9202798636314545), (1, 0.6345355454218854), (2, 0.48673542014951854)],\n",
       " [(3, 0.9195214992872569), (1, 0.6403300253625414), (2, 0.48323104205732087)])"
      ]
     },
     "execution_count": 21,
     "metadata": {},
     "output_type": "execute_result"
    }
   ],
   "source": [
    "docs = np.array(list(map(euclidean_normalize, [[tfidf_car1, tfidf_auto1, tfidf_insurance1, tfidf_best1],\n",
    "                                               [tfidf_car2, tfidf_auto2, tfidf_insurance2, tfidf_best2],\n",
    "                                               [tfidf_car3, tfidf_auto3, tfidf_insurance3, tfidf_best3]])))\n",
    "vec1 = np.array(euclidean_normalize([1, 0, 1, 0]))\n",
    "vec2 = np.array(euclidean_normalize([1.65, 0, 1.62, 0]))\n",
    "\n",
    "rank1 = sorted(zip([1, 2, 3], docs @ vec1), key=lambda x: -x[1])\n",
    "rank2 = sorted(zip([1, 2, 3], docs @ vec2), key=lambda x: -x[1])\n",
    "\n",
    "rank1, rank2"
   ]
  },
  {
   "cell_type": "code",
   "execution_count": 22,
   "id": "e749a6f6",
   "metadata": {
    "deletable": false,
    "editable": false,
    "nbgrader": {
     "cell_type": "code",
     "checksum": "ae4c7f3a50552f77bb09474c68497d1e",
     "grade": true,
     "grade_id": "cell-0409ff7b0d9afc0d",
     "locked": true,
     "points": 1,
     "schema_version": 3,
     "solution": false
    }
   },
   "outputs": [],
   "source": [
    "assert_equal(type(rank1),list)"
   ]
  },
  {
   "cell_type": "markdown",
   "id": "f17715c2",
   "metadata": {},
   "source": [
    "# Extra theory exercises"
   ]
  },
  {
   "cell_type": "markdown",
   "id": "4e9356be",
   "metadata": {
    "deletable": false,
    "editable": false,
    "nbgrader": {
     "cell_type": "markdown",
     "checksum": "fb1cd8f67689a3d9ed9265539be96d3c",
     "grade": false,
     "grade_id": "isv",
     "locked": true,
     "schema_version": 3,
     "solution": false
    }
   },
   "source": [
    "## Index size\n",
    "\n",
    "Suppose you have a collection of documents with the following properties:\n",
    "\n",
    "* It has `N` documents.\n",
    "* Each document contains on average `A` many tokens, and `U` many unique tokens.\n",
    "* The vocabulary size of the collection is `V` (this means, that there are `V` many unique words/tokens in the collection.\n",
    "\n",
    "In this question we look at **the size of the posting lists**, when we consider different types of indexes.\n",
    "The size of the posting list is obtained by \"tokenizing\" the posting list. So we ignore separators like comma, and list symbols, etc. For instance, the number of tokens (or the \"length\") of posting `{'d2':(2,[4,18]), 'd8':(1,[7])}` , is 7.\n",
    "\n",
    "Now calculate for each of the following situations the **total number of tokens in the posting lists of the inverted index**.  \n",
    "\n",
    "**For each situation, you should consider the most space efficient index. This means that the index size will grow with each situation described below.**\n",
    "\n",
    "Note the we ask for the size of the posting lists. You do not need to add the space needed for the terms (or termids) themselves.\n",
    "\n",
    "The situations are given in the answer code cell. Give the answer as a formula using the variables declared below.\n"
   ]
  },
  {
   "cell_type": "code",
   "execution_count": 23,
   "id": "4d44367b",
   "metadata": {
    "deletable": false,
    "editable": false,
    "nbgrader": {
     "cell_type": "code",
     "checksum": "73ade8444e8c2256af7ca08d24955e28",
     "grade": false,
     "grade_id": "isd",
     "locked": true,
     "schema_version": 3,
     "solution": false
    }
   },
   "outputs": [],
   "source": [
    "N=100 # number of docs\n",
    "V=8000 # number of unique words in collection\n",
    "A=300  # avg number of words per doc\n",
    "U=100  # avg number of unique words per doc "
   ]
  },
  {
   "cell_type": "code",
   "execution_count": 24,
   "id": "dd55bb83",
   "metadata": {
    "deletable": false,
    "nbgrader": {
     "cell_type": "code",
     "checksum": "8148a3a0e5f4dffba82a6af7fc3b678e",
     "grade": false,
     "grade_id": "isa",
     "locked": false,
     "schema_version": 3,
     "solution": true
    }
   },
   "outputs": [
    {
     "name": "stdout",
     "output_type": "stream",
     "text": [
      "10000\n",
      "20000\n"
     ]
    }
   ],
   "source": [
    "# size for an index which is suitable for Boolean search (without any form of ranking)\n",
    "BS_index_size = N * U\n",
    "print(BS_index_size)\n",
    "\n",
    "# size for an index in which we store for each term  the term-frequency in each document\n",
    "TF_index_size = 2 * N * U\n",
    "print(TF_index_size)"
   ]
  },
  {
   "cell_type": "code",
   "execution_count": 25,
   "id": "33a0a503",
   "metadata": {
    "deletable": false,
    "editable": false,
    "nbgrader": {
     "cell_type": "code",
     "checksum": "ca776e2d509a6355a875ee5c4268a49e",
     "grade": true,
     "grade_id": "ist",
     "locked": true,
     "points": 0.5,
     "schema_version": 3,
     "solution": false
    }
   },
   "outputs": [],
   "source": [
    "assert isinstance(BS_index_size,int)\n",
    "\n",
    "# Hier staat een onzichtbare test"
   ]
  },
  {
   "cell_type": "code",
   "execution_count": 26,
   "id": "3bf961c0",
   "metadata": {
    "deletable": false,
    "editable": false,
    "nbgrader": {
     "cell_type": "code",
     "checksum": "4f84f1e4d74fde9b53886f8bcba62678",
     "grade": true,
     "grade_id": "ist-TF",
     "locked": true,
     "points": 0.5,
     "schema_version": 3,
     "solution": false
    }
   },
   "outputs": [],
   "source": [
    "\n",
    "assert isinstance(TF_index_size,int)\n",
    "# Hier staat een onzichtbare test"
   ]
  },
  {
   "cell_type": "markdown",
   "id": "e2cf5473",
   "metadata": {
    "deletable": false,
    "editable": false,
    "nbgrader": {
     "cell_type": "markdown",
     "checksum": "e5acad291cb6bf7d14a318fd6d1fb843",
     "grade": false,
     "grade_id": "is2",
     "locked": true,
     "schema_version": 3,
     "solution": false
    }
   },
   "source": [
    "## Index size 2\n",
    "\n",
    "We continue with the numbers from the previous question and add the following.\n",
    "\n",
    "1. 40% of all unique words in the vocabulary occur only once in the whole collection (so once in one document). These are called _hapaxes_.\n",
    "2. On the other hand  2% of all  unique words in the vocabulary occur in at least half of all documents. We call these terms _stopwords_.\n",
    "\n",
    "Now consider the simplest index from the previous question, which is suitable for Boolean Search.\n",
    "\n",
    "1.  How many tokens are there in the posting lists of the hapaxes? (`Hapax_size`)\n",
    "2.  Minimally how many tokens are there in the posting lists of the stopwords?"
   ]
  },
  {
   "cell_type": "code",
   "execution_count": 27,
   "id": "7fc8f967",
   "metadata": {
    "deletable": false,
    "nbgrader": {
     "cell_type": "code",
     "checksum": "f48b5f3e3b4a3ced6c725006f698382c",
     "grade": false,
     "grade_id": "is2a",
     "locked": false,
     "schema_version": 3,
     "solution": true
    }
   },
   "outputs": [
    {
     "name": "stdout",
     "output_type": "stream",
     "text": [
      "3200.0\n",
      "8000.0\n"
     ]
    }
   ],
   "source": [
    "# How many tokens are there in the posting lists of the hapaxes?\n",
    "Hapax_size = 0.4 * V\n",
    "print(Hapax_size)\n",
    "\n",
    "# Minimally how many tokens are there in the posting lists of the stopwords?\n",
    "Stopword_size = 0.02 * V * 0.5 * N\n",
    "print(Stopword_size)"
   ]
  },
  {
   "cell_type": "code",
   "execution_count": 28,
   "id": "0cdfd9ab",
   "metadata": {
    "deletable": false,
    "editable": false,
    "nbgrader": {
     "cell_type": "code",
     "checksum": "f56d1719be820c8eaa078c4995154807",
     "grade": true,
     "grade_id": "is2t",
     "locked": true,
     "points": 0.5,
     "schema_version": 3,
     "solution": false
    }
   },
   "outputs": [],
   "source": [
    "assert isinstance(Hapax_size,float)\n"
   ]
  },
  {
   "cell_type": "code",
   "execution_count": 29,
   "id": "58d1a1ba",
   "metadata": {
    "deletable": false,
    "editable": false,
    "nbgrader": {
     "cell_type": "code",
     "checksum": "57abb17510ce630bbf783d931b73fe58",
     "grade": true,
     "grade_id": "is2tbis",
     "locked": true,
     "points": 0.5,
     "schema_version": 3,
     "solution": false
    }
   },
   "outputs": [],
   "source": [
    "assert isinstance(Stopword_size,float)\n"
   ]
  },
  {
   "cell_type": "markdown",
   "id": "4ff32e22",
   "metadata": {
    "deletable": false,
    "editable": false,
    "nbgrader": {
     "cell_type": "markdown",
     "checksum": "4d49bc59fb629d3c3bd8f187c8c17420",
     "grade": false,
     "grade_id": "cell-0d69e1c149fbb6d7",
     "locked": true,
     "schema_version": 3,
     "solution": false
    }
   },
   "source": [
    "# Programming (Inverted Index)"
   ]
  },
  {
   "cell_type": "code",
   "execution_count": 30,
   "id": "ae38550a",
   "metadata": {
    "deletable": false,
    "editable": false,
    "nbgrader": {
     "cell_type": "code",
     "checksum": "5e0ac826e7f460ca7197f3e187bd993d",
     "grade": false,
     "grade_id": "cell-6a3911454d0b8cb2",
     "locked": true,
     "schema_version": 3,
     "solution": false
    }
   },
   "outputs": [],
   "source": [
    "from collections import OrderedDict,Counter,defaultdict\n",
    "from bs4 import BeautifulSoup\n",
    "import sys\n",
    "import itertools\n",
    "import os\n",
    "import glob\n",
    "from tqdm import tqdm_notebook\n",
    "import nltk\n",
    "import zipfile\n",
    "import math\n",
    "import numpy as np\n",
    "def loadShakespeare():\n",
    "    if 'shaks200.zip' in os.listdir():\n",
    "        return 'shaks200.zip'\n",
    "    elif os.path.exists('../../data/Week1/'):\n",
    "        return '../../data/Week1/shaks200.zip'\n",
    "    elif os.path.exists('../../../data/Week1/'):\n",
    "        return '../../../data/Week1/shaks200.zip'"
   ]
  },
  {
   "cell_type": "code",
   "execution_count": 31,
   "id": "a0d6a86b",
   "metadata": {},
   "outputs": [
    {
     "ename": "FileNotFoundError",
     "evalue": "[Errno 2] No such file or directory: '../../data/Week1/shaks200.zip'",
     "output_type": "error",
     "traceback": [
      "\u001b[0;31m---------------------------------------------------------------------------\u001b[0m",
      "\u001b[0;31mFileNotFoundError\u001b[0m                         Traceback (most recent call last)",
      "\u001b[0;32m/tmp/ipykernel_7931/2216002993.py\u001b[0m in \u001b[0;36m<module>\u001b[0;34m\u001b[0m\n\u001b[0;32m----> 1\u001b[0;31m \u001b[0mzipfile\u001b[0m\u001b[0;34m.\u001b[0m\u001b[0mZipFile\u001b[0m\u001b[0;34m(\u001b[0m\u001b[0;34m'../../data/Week1/shaks200.zip'\u001b[0m\u001b[0;34m)\u001b[0m\u001b[0;34m\u001b[0m\u001b[0;34m\u001b[0m\u001b[0m\n\u001b[0m",
      "\u001b[0;32m/usr/lib/python3.8/zipfile.py\u001b[0m in \u001b[0;36m__init__\u001b[0;34m(self, file, mode, compression, allowZip64, compresslevel, strict_timestamps)\u001b[0m\n\u001b[1;32m   1249\u001b[0m             \u001b[0;32mwhile\u001b[0m \u001b[0;32mTrue\u001b[0m\u001b[0;34m:\u001b[0m\u001b[0;34m\u001b[0m\u001b[0;34m\u001b[0m\u001b[0m\n\u001b[1;32m   1250\u001b[0m                 \u001b[0;32mtry\u001b[0m\u001b[0;34m:\u001b[0m\u001b[0;34m\u001b[0m\u001b[0;34m\u001b[0m\u001b[0m\n\u001b[0;32m-> 1251\u001b[0;31m                     \u001b[0mself\u001b[0m\u001b[0;34m.\u001b[0m\u001b[0mfp\u001b[0m \u001b[0;34m=\u001b[0m \u001b[0mio\u001b[0m\u001b[0;34m.\u001b[0m\u001b[0mopen\u001b[0m\u001b[0;34m(\u001b[0m\u001b[0mfile\u001b[0m\u001b[0;34m,\u001b[0m \u001b[0mfilemode\u001b[0m\u001b[0;34m)\u001b[0m\u001b[0;34m\u001b[0m\u001b[0;34m\u001b[0m\u001b[0m\n\u001b[0m\u001b[1;32m   1252\u001b[0m                 \u001b[0;32mexcept\u001b[0m \u001b[0mOSError\u001b[0m\u001b[0;34m:\u001b[0m\u001b[0;34m\u001b[0m\u001b[0;34m\u001b[0m\u001b[0m\n\u001b[1;32m   1253\u001b[0m                     \u001b[0;32mif\u001b[0m \u001b[0mfilemode\u001b[0m \u001b[0;32min\u001b[0m \u001b[0mmodeDict\u001b[0m\u001b[0;34m:\u001b[0m\u001b[0;34m\u001b[0m\u001b[0;34m\u001b[0m\u001b[0m\n",
      "\u001b[0;31mFileNotFoundError\u001b[0m: [Errno 2] No such file or directory: '../../data/Week1/shaks200.zip'"
     ]
    }
   ],
   "source": [
    "zipfile.ZipFile('../../data/Week1/shaks200.zip')"
   ]
  },
  {
   "cell_type": "code",
   "execution_count": 32,
   "id": "ae42a5ff",
   "metadata": {
    "deletable": false,
    "nbgrader": {
     "cell_type": "code",
     "checksum": "5b79be685015b3e1f2523bc94fa07165",
     "grade": false,
     "grade_id": "cell-512011c182747803",
     "locked": false,
     "schema_version": 3,
     "solution": true
    }
   },
   "outputs": [
    {
     "name": "stderr",
     "output_type": "stream",
     "text": [
      "/tmp/ipykernel_7931/3888869661.py:11: TqdmDeprecationWarning: This function will be removed in tqdm==5.0.0\n",
      "Please use `tqdm.notebook.tqdm` instead of `tqdm.tqdm_notebook`\n",
      "  for infile in tqdm_notebook(namelist):  # loop over each file\n"
     ]
    },
    {
     "data": {
      "application/vnd.jupyter.widget-view+json": {
       "model_id": "88062767ecc5487a95b55c61f371c392",
       "version_major": 2,
       "version_minor": 0
      },
      "text/plain": [
       "  0%|          | 0/37 [00:00<?, ?it/s]"
      ]
     },
     "metadata": {},
     "output_type": "display_data"
    }
   ],
   "source": [
    "docs = []\n",
    "\n",
    "def index_collection(zipfolder):\n",
    "    global docs\n",
    "    # With zipfile we can read the file without opening the zip file\n",
    "    archive = zipfile.ZipFile(zipfolder, 'r')\n",
    "    namelist = [x for x in archive.namelist() if '.xml' in x]\n",
    "    docs = [file[:-4] for file in namelist] \n",
    "    index = defaultdict(lambda: defaultdict(int))\n",
    "                        \n",
    "    for infile in tqdm_notebook(namelist):  # loop over each file\n",
    "        f = archive.open(infile)\n",
    "        filename = infile[:-4]\n",
    "        \n",
    "        soup = BeautifulSoup(f.read(), 'html.parser')\n",
    "        for token in nltk.tokenize.word_tokenize(soup.get_text()):\n",
    "            if not token or not token.isalpha():\n",
    "                continue\n",
    "\n",
    "            index[token.lower()][filename] += 1\n",
    "\n",
    "    return index\n",
    "\n",
    "Shakespeare = index_collection(loadShakespeare())"
   ]
  },
  {
   "cell_type": "code",
   "execution_count": 33,
   "id": "d53ea291",
   "metadata": {
    "deletable": false,
    "nbgrader": {
     "cell_type": "code",
     "checksum": "43e99aef339cc287e8b41581bf07b8a8",
     "grade": false,
     "grade_id": "cell-512011c182747803a",
     "locked": false,
     "schema_version": 3,
     "solution": true
    }
   },
   "outputs": [],
   "source": [
    "\"\"\"Copy your answers to question 3 from week 1 here, \n",
    "So NewIndex will be created\"\"\"\n",
    "CorpusFreq = {}\n",
    "DocFreq = {} \n",
    "NewIndex = {}\n",
    "\n",
    "for w in Shakespeare:\n",
    "    DocFreq[w] = len(Shakespeare[w])\n",
    "    CorpusFreq[w] = sum(Shakespeare[w].values())\n",
    "    NewIndex[w] = {'CorpusFreq': CorpusFreq[w], 'DocFreq': DocFreq[w], 'Freq_per_Doc': Shakespeare[w]}"
   ]
  },
  {
   "cell_type": "code",
   "execution_count": 34,
   "id": "1f6893a5",
   "metadata": {
    "deletable": false,
    "nbgrader": {
     "cell_type": "code",
     "checksum": "93809a2f0574d236d7cab7af05633ec2",
     "grade": false,
     "grade_id": "cell-512011c182747803b",
     "locked": false,
     "schema_version": 3,
     "solution": true
    }
   },
   "outputs": [],
   "source": [
    "\"\"\"Copy your answers to question 3 from week 1 here,\n",
    "So NewIndex[\"TotalFiles\"] will be created\"\"\"\n",
    "\n",
    "NewIndex[\"TotalFiles\"] = len(docs)"
   ]
  },
  {
   "cell_type": "code",
   "execution_count": 35,
   "id": "0cbc5401",
   "metadata": {},
   "outputs": [],
   "source": [
    "# test the schema of NewIndex. For each term, these attributes should be present.\n",
    "assert_equal(set(NewIndex['the'].keys()), {'Freq_per_Doc', 'CorpusFreq', 'DocFreq'})"
   ]
  },
  {
   "cell_type": "code",
   "execution_count": 36,
   "id": "17c0269a",
   "metadata": {
    "deletable": false,
    "editable": false,
    "nbgrader": {
     "cell_type": "code",
     "checksum": "48fb5012e4a15ab1395c196363e05e87",
     "grade": true,
     "grade_id": "cell-0a422d512c7a3d0f",
     "locked": true,
     "points": 0,
     "schema_version": 3,
     "solution": false
    }
   },
   "outputs": [],
   "source": [
    "assert len(NewIndex) > 1\n",
    "assert_equal(type(NewIndex[\"TotalFiles\"]), int)"
   ]
  },
  {
   "cell_type": "markdown",
   "id": "506ddcb3",
   "metadata": {
    "deletable": false,
    "editable": false,
    "nbgrader": {
     "cell_type": "markdown",
     "checksum": "e553307753361672a9936ae48fa9189c",
     "grade": false,
     "grade_id": "cell-ce0992093a8a8c20",
     "locked": true,
     "schema_version": 3,
     "solution": false
    }
   },
   "source": [
    "## 9 Ranked Retrieval\n",
    "\n",
    "In this section we extend the boolean search engine to perform more sophisticated ranked retrieval."
   ]
  },
  {
   "cell_type": "markdown",
   "id": "015e7597",
   "metadata": {
    "deletable": false,
    "editable": false,
    "nbgrader": {
     "cell_type": "markdown",
     "checksum": "e1502eea27a546b5195aebe932b56e5d",
     "grade": false,
     "grade_id": "cell-9c893a10d347de93",
     "locked": true,
     "schema_version": 3,
     "solution": false
    }
   },
   "source": [
    "## 9.1 TF-IDF\n",
    "Implement the TF-IDF function 6.8 from the IR -book. So, given a query term $t$ and a document $d$, compute and return the tf-idf$_{t,d}$ score.\n",
    "\n",
    "Note that we use the raw term frequency here, as in the book. Not the log normalized tf as in the slides.\n",
    "\n",
    "**Use logarithm with base 2 in this and all further exercises.**"
   ]
  },
  {
   "cell_type": "code",
   "execution_count": 37,
   "id": "c223a769",
   "metadata": {
    "deletable": false,
    "nbgrader": {
     "cell_type": "code",
     "checksum": "a8499b76c9641d46097b0e0a2b721761",
     "grade": false,
     "grade_id": "cell-0a466ded8aed5c5c",
     "locked": false,
     "schema_version": 3,
     "solution": true
    }
   },
   "outputs": [
    {
     "data": {
      "text/plain": [
       "8.837813462515799"
      ]
     },
     "execution_count": 37,
     "metadata": {},
     "output_type": "execute_result"
    }
   ],
   "source": [
    "def tfidf(term, document, index):\n",
    "    \"\"\"\n",
    "    Given a single query term and a document, score the document using\n",
    "    tf-idf.\n",
    "    \"\"\"\n",
    "    return np.log2(index[\"TotalFiles\"] / index[term][\"DocFreq\"]) \\\n",
    "        * index[term][\"Freq_per_Doc\"][document]\n",
    "    \n",
    "tfidf('brutus', 'a_and_c', NewIndex)"
   ]
  },
  {
   "cell_type": "code",
   "execution_count": 38,
   "id": "96a08d70",
   "metadata": {
    "deletable": false,
    "editable": false,
    "nbgrader": {
     "cell_type": "code",
     "checksum": "ec659575841200d6971c94f78434d4a5",
     "grade": true,
     "grade_id": "cell-e35bc40f7ab55f2f",
     "locked": true,
     "points": 1,
     "schema_version": 3,
     "solution": false
    }
   },
   "outputs": [],
   "source": [
    "assert isinstance(tfidf('brutus', 'a_and_c', NewIndex), float)"
   ]
  },
  {
   "cell_type": "markdown",
   "id": "d914e24f",
   "metadata": {
    "deletable": false,
    "editable": false,
    "nbgrader": {
     "cell_type": "markdown",
     "checksum": "a63208b13a56a27ae1fc6ac6922c6b13",
     "grade": false,
     "grade_id": "cell-167e8d7be386a82e",
     "locked": true,
     "schema_version": 3,
     "solution": false
    }
   },
   "source": [
    "### 9.2 TF-IDF Ranked Search\n",
    "\n",
    "Implement the scoring function 6.9 from the IR -book. So, given a query $Q$ consisting of a list of words, compute for each document the score for this query, and return the document ids and scores in decreasing order.\n",
    "\n",
    "Break ties alphabettically on the doc id (so if docs a and b have the same score a should appear before b).\n",
    "\n",
    "The result is a list of pairs ('docid','score')."
   ]
  },
  {
   "cell_type": "code",
   "execution_count": 39,
   "id": "b77cb4af",
   "metadata": {
    "deletable": false,
    "nbgrader": {
     "cell_type": "code",
     "checksum": "9fd7877e511fdb0a0af3a38006e96220",
     "grade": false,
     "grade_id": "cell-966e28b929230aab",
     "locked": false,
     "schema_version": 3,
     "solution": true
    }
   },
   "outputs": [
    {
     "data": {
      "text/plain": [
       "[('j_caesar', 1108.7171966824922),\n",
       " ('a_and_c', 286.71878474408607),\n",
       " ('coriolan', 240.8304168535555),\n",
       " ('cymbelin', 17.30746533933656),\n",
       " ('hamlet', 4.132505069999678),\n",
       " ('hen_vi_2', 4.132505069999678),\n",
       " ('rich_iii', 3.8461034087414574),\n",
       " ('hen_v', 3.170979217814314),\n",
       " ('titus', 3.170979217814314),\n",
       " ('merchant', 2.2094533656289497),\n",
       " ('hen_vi_1', 1.9230517043707287),\n",
       " ('hen_vi_3', 1.9230517043707287),\n",
       " ('m_for_m', 1.9230517043707287),\n",
       " ('all_well', 0.9615258521853643),\n",
       " ('as_you', 0.9615258521853643),\n",
       " ('hen_iv_2', 0.9615258521853643),\n",
       " ('lll', 0.9615258521853643),\n",
       " ('m_wives', 0.9615258521853643),\n",
       " ('macbeth', 0.9615258521853643),\n",
       " ('othello', 0.9615258521853643),\n",
       " ('rich_ii', 0.9615258521853643),\n",
       " ('com_err', 0.0),\n",
       " ('dream', 0.0),\n",
       " ('hen_iv_1', 0.0),\n",
       " ('hen_viii', 0.0),\n",
       " ('john', 0.0),\n",
       " ('lear', 0.0),\n",
       " ('much_ado', 0.0),\n",
       " ('pericles', 0.0),\n",
       " ('r_and_j', 0.0),\n",
       " ('t_night', 0.0),\n",
       " ('taming', 0.0),\n",
       " ('tempest', 0.0),\n",
       " ('timon', 0.0),\n",
       " ('troilus', 0.0),\n",
       " ('two_gent', 0.0),\n",
       " ('win_tale', 0.0)]"
      ]
     },
     "execution_count": 39,
     "metadata": {},
     "output_type": "execute_result"
    }
   ],
   "source": [
    "def rankedSearchTfidf(query, index):\n",
    "    \"\"\"\n",
    "    Given a query, score the documents according to the tf-idf scoring\n",
    "    scheme and return  the documents and scores in decreasing order.\n",
    "    Break ties alphabettically on the doc id (so if docs a and b have the same score a should appear before b)\n",
    "    \"\"\"\n",
    "    return sorted([(doc, sum(tfidf(term, doc, index) for term in query)) \n",
    "                   for doc in docs],\n",
    "                  key=lambda d: (-d[1], d[0]))\n",
    "\n",
    "rankedSearchTfidf(['brutus', 'caesar'], NewIndex)"
   ]
  },
  {
   "cell_type": "code",
   "execution_count": 40,
   "id": "dc691774",
   "metadata": {
    "deletable": false,
    "editable": false,
    "nbgrader": {
     "cell_type": "code",
     "checksum": "e0fb1eb12ec132a8c00e05c5b1cf1b6e",
     "grade": true,
     "grade_id": "cell-1ca47df9d70de0ed",
     "locked": true,
     "points": 1,
     "schema_version": 3,
     "solution": false
    }
   },
   "outputs": [],
   "source": [
    "result = rankedSearchTfidf(['brutus','caesar'], NewIndex)\n",
    "assert_equal(type(result),list)\n",
    "assert_equal(type(result[0]),tuple)\n",
    "assert_equal(type(result[0][0]),str)\n",
    "assert isinstance(result[0][1],float)"
   ]
  },
  {
   "cell_type": "markdown",
   "id": "9b455cc7",
   "metadata": {
    "deletable": false,
    "editable": false,
    "nbgrader": {
     "cell_type": "markdown",
     "checksum": "85a361c8618ed3f3b187af5e32c4dc5f",
     "grade": false,
     "grade_id": "cell-46fab5262171c652",
     "locked": true,
     "schema_version": 3,
     "solution": false
    }
   },
   "source": [
    "### 9.3 Vector Space Model\n",
    "\n",
    "We now want to implement the cosine similarity function. To do this we need to vectorize documents and normalize them. We use Euclidean length for that (see section 6.3). Create a function that can vectorize and normalize a document:\n",
    "\n",
    "$normalizedVector(d) = \\frac{V(d)}{|V(d)|}$\n",
    "\n",
    "* Make sure you don't take `TotalFiles` as a word\n",
    "* Include all words in the corpus, even if they are not in document (so they will be 0)\n",
    "* Make sure you sort the words alphabetically\n",
    "* the value for each term is its TF-IDF weight as calculated by your earlier `tfidf` function."
   ]
  },
  {
   "cell_type": "code",
   "execution_count": 41,
   "id": "de3036e8",
   "metadata": {
    "deletable": false,
    "nbgrader": {
     "cell_type": "code",
     "checksum": "71013f66dc1212be5cc0a4f483e9d10a",
     "grade": false,
     "grade_id": "cell-c9694a0ad4a895c6",
     "locked": false,
     "schema_version": 3,
     "solution": true
    }
   },
   "outputs": [
    {
     "data": {
      "text/plain": [
       "(22332, [0.0, 0.0, 0.0, 0.0, 0.0028840422804802812])"
      ]
     },
     "execution_count": 41,
     "metadata": {},
     "output_type": "execute_result"
    }
   ],
   "source": [
    "def normalizedVector(document, index):\n",
    "    \"\"\"\n",
    "    Given a document, vectorize and normalize it\n",
    "    \"\"\"\n",
    "    return euclidean_normalize([tfidf(term, document, index)\n",
    "                                for term in sorted(index.keys())\n",
    "                                if term != \"TotalFiles\"])\n",
    "\n",
    "len(normalizedVector('all_well', NewIndex)), normalizedVector('all_well', NewIndex)[:5]\n",
    "\n",
    "# Check that the Euclidean length of your vector equals 1"
   ]
  },
  {
   "cell_type": "code",
   "execution_count": 42,
   "id": "81c08d94",
   "metadata": {
    "deletable": false,
    "editable": false,
    "nbgrader": {
     "cell_type": "code",
     "checksum": "401805946e2c5af0a0a2ede6f43bbc1e",
     "grade": true,
     "grade_id": "cell-2e8497964ac87a83",
     "locked": true,
     "points": 1,
     "schema_version": 3,
     "solution": false
    }
   },
   "outputs": [],
   "source": [
    "assert_equal(len(normalizedVector('all_well', NewIndex)), len(NewIndex)-1)\n"
   ]
  },
  {
   "cell_type": "markdown",
   "id": "3a990e91",
   "metadata": {
    "deletable": false,
    "editable": false,
    "nbgrader": {
     "cell_type": "markdown",
     "checksum": "022cc4171dc22326a8ad75e66d323bf3",
     "grade": false,
     "grade_id": "cell-bc303ce875aa2bcf",
     "locked": true,
     "schema_version": 3,
     "solution": false
    }
   },
   "source": [
    "### 9.4 Cosine Similarity\n",
    "\n",
    "Use the normalized lengths to compute the cosine-similarity between a query and a document. I.e. implement scoring formula 6.12 from the book.\n",
    "\n",
    "Do this in the form of the function `cosineSimilarity(query, document, index)`\n",
    "\n",
    "The query vector is a boolean vector with the value for a term being 1 if and only if it occurs at least once in the query."
   ]
  },
  {
   "cell_type": "code",
   "execution_count": 43,
   "id": "6f83e1d2",
   "metadata": {
    "deletable": false,
    "nbgrader": {
     "cell_type": "code",
     "checksum": "8138b0030c003559ec4bbbf63ffa07f5",
     "grade": false,
     "grade_id": "cell-a87cb124f00cdf2e",
     "locked": false,
     "schema_version": 3,
     "solution": true
    }
   },
   "outputs": [
    {
     "data": {
      "text/plain": [
       "0.0029940455322842877"
      ]
     },
     "execution_count": 43,
     "metadata": {},
     "output_type": "execute_result"
    }
   ],
   "source": [
    "def cosineSimilarity(query, document, index):\n",
    "    \"\"\"\n",
    "    Given a query and a document, compute and return the cosine-similarity\n",
    "    between the two.\n",
    "    \"\"\"\n",
    "    q = euclidean_normalize([term in query\n",
    "                             for term in sorted(index.keys())\n",
    "                             if term != \"TotalFiles\"])\n",
    "    d = normalizedVector(document, index)\n",
    "    # d and q are already normalized.\n",
    "    return np.dot(q, d)\n",
    "\n",
    "cosineSimilarity(['brutus','love'], 'a_and_c', NewIndex)"
   ]
  },
  {
   "cell_type": "code",
   "execution_count": 44,
   "id": "4ba8978e",
   "metadata": {
    "deletable": false,
    "editable": false,
    "nbgrader": {
     "cell_type": "code",
     "checksum": "d3303339d40025d69d7d04f4fb7e26a2",
     "grade": true,
     "grade_id": "cell-c960058b3d6d3183",
     "locked": true,
     "points": 1,
     "schema_version": 3,
     "solution": false
    }
   },
   "outputs": [],
   "source": [
    "assert type(cosineSimilarity(['love','lightly'], 'all_well', NewIndex)) in [float, np.float64, np.float32]"
   ]
  },
  {
   "cell_type": "markdown",
   "id": "79a73c21",
   "metadata": {
    "deletable": false,
    "editable": false,
    "nbgrader": {
     "cell_type": "markdown",
     "checksum": "22bfcf588c705a82d7e07222d84759e2",
     "grade": false,
     "grade_id": "cell-9c5c306eae897889",
     "locked": true,
     "schema_version": 3,
     "solution": false
    }
   },
   "source": [
    "### 9.5 Okapi BM25\n",
    "Now create a search engine which scores according to another famous scoring formula [Okapi BM25](https://en.wikipedia.org/wiki/Okapi_BM25)."
   ]
  },
  {
   "cell_type": "code",
   "execution_count": 45,
   "id": "84afb134",
   "metadata": {
    "deletable": false,
    "nbgrader": {
     "cell_type": "code",
     "checksum": "a543ac97d16ad6fa14d1bdc3046bc3ba",
     "grade": false,
     "grade_id": "cell-236a53b720ae81a9",
     "locked": false,
     "schema_version": 3,
     "solution": true
    }
   },
   "outputs": [
    {
     "data": {
      "text/plain": [
       "[('j_caesar', 5.504143111026695),\n",
       " ('coriolan', 5.43654956062449),\n",
       " ('a_and_c', 3.917758754230206),\n",
       " ('titus', 2.302373094325634),\n",
       " ('merchant', 2.2830245460259255),\n",
       " ('hen_vi_2', 2.094720547214092),\n",
       " ('hen_v', 2.0714511243347946),\n",
       " ('hamlet', 1.9156463192454167),\n",
       " ('all_well', 0.0),\n",
       " ('as_you', 0.0),\n",
       " ('com_err', 0.0),\n",
       " ('cymbelin', 0.0),\n",
       " ('dream', 0.0),\n",
       " ('hen_iv_1', 0.0),\n",
       " ('hen_iv_2', 0.0),\n",
       " ('hen_vi_1', 0.0),\n",
       " ('hen_vi_3', 0.0),\n",
       " ('hen_viii', 0.0),\n",
       " ('john', 0.0),\n",
       " ('lear', 0.0),\n",
       " ('lll', 0.0),\n",
       " ('m_for_m', 0.0),\n",
       " ('m_wives', 0.0),\n",
       " ('macbeth', 0.0),\n",
       " ('much_ado', 0.0),\n",
       " ('othello', 0.0),\n",
       " ('pericles', 0.0),\n",
       " ('r_and_j', 0.0),\n",
       " ('rich_ii', 0.0),\n",
       " ('rich_iii', 0.0),\n",
       " ('t_night', 0.0),\n",
       " ('taming', 0.0),\n",
       " ('tempest', 0.0),\n",
       " ('timon', 0.0),\n",
       " ('troilus', 0.0),\n",
       " ('two_gent', 0.0),\n",
       " ('win_tale', 0.0)]"
      ]
     },
     "execution_count": 45,
     "metadata": {},
     "output_type": "execute_result"
    }
   ],
   "source": [
    "def rankedSearchBM25(query, index, a=1.5, b=0.75):\n",
    "    \"\"\"\n",
    "    Given a query, score the documents according to the BM25 scoring\n",
    "    scheme and return a list of (document, score) pairs  in decreasing order\n",
    "    \"\"\"\n",
    "    def idf(term):\n",
    "        return np.log2(index[\"TotalFiles\"] / index[term][\"DocFreq\"])\n",
    "\n",
    "    def tf(term, doc):\n",
    "        return index[term][\"Freq_per_Doc\"][doc]\n",
    "\n",
    "    doc_lens = {doc: sum(index[term][\"Freq_per_Doc\"][doc]\n",
    "                         for term in index.keys()\n",
    "                         if term != \"TotalFiles\")\n",
    "                for doc in docs}\n",
    "    avgdl = sum(doc_lens.values()) / index[\"TotalFiles\"]\n",
    "\n",
    "    return sorted([(doc,\n",
    "                    sum(idf(term) * tf(term, doc) * (a + 1)\n",
    "                        / (tf(term, doc) + a * (1 - b + b * doc_lens[doc] / avgdl))\n",
    "                        for term in query)\n",
    "                   ) for doc in docs],\n",
    "                  key=lambda d: (-d[1], d[0]))\n",
    "\n",
    "rankedSearchBM25(['brutus'], NewIndex)"
   ]
  },
  {
   "cell_type": "code",
   "execution_count": 46,
   "id": "efb14bb6",
   "metadata": {
    "deletable": false,
    "editable": false,
    "nbgrader": {
     "cell_type": "code",
     "checksum": "096ddb7cfd35f4291a2b3a2edaca9889",
     "grade": true,
     "grade_id": "cell-860fbb8c8bd77a2a",
     "locked": true,
     "points": 1,
     "schema_version": 3,
     "solution": false
    }
   },
   "outputs": [],
   "source": [
    "result = rankedSearchBM25(['brutus'], NewIndex)\n",
    "assert_equal(type(result),list)\n",
    "assert_equal(type(result[0]),tuple)\n",
    "assert_equal(type(result[0][0]),str)\n",
    "assert isinstance(result[0][1],float)"
   ]
  },
  {
   "cell_type": "code",
   "execution_count": null,
   "id": "53ebb466",
   "metadata": {},
   "outputs": [],
   "source": []
  }
 ],
 "metadata": {
  "hide_input": false,
  "interpreter": {
   "hash": "31f2aee4e71d21fbe5cf8b01ff0e069b9275f58929596ceb00d14d90e3e16cd6"
  },
  "kernelspec": {
   "display_name": "Python 3 (ipykernel)",
   "language": "python",
   "name": "python3"
  },
  "language_info": {
   "codemirror_mode": {
    "name": "ipython",
    "version": 3
   },
   "file_extension": ".py",
   "mimetype": "text/x-python",
   "name": "python",
   "nbconvert_exporter": "python",
   "pygments_lexer": "ipython3",
   "version": "3.8.10"
  },
  "toc": {
   "nav_menu": {},
   "number_sections": true,
   "sideBar": true,
   "skip_h1_title": false,
   "title_cell": "Table of Contents",
   "title_sidebar": "Contents",
   "toc_cell": true,
   "toc_position": {},
   "toc_section_display": true,
   "toc_window_display": false
  },
  "widgets": {
   "application/vnd.jupyter.widget-state+json": {
    "state": {
     "22b7a998dda349eabf1c0474fab792e8": {
      "model_module": "@jupyter-widgets/base",
      "model_module_version": "1.2.0",
      "model_name": "LayoutModel",
      "state": {
       "_model_module": "@jupyter-widgets/base",
       "_model_module_version": "1.2.0",
       "_model_name": "LayoutModel",
       "_view_count": null,
       "_view_module": "@jupyter-widgets/base",
       "_view_module_version": "1.2.0",
       "_view_name": "LayoutView",
       "align_content": null,
       "align_items": null,
       "align_self": null,
       "border": null,
       "bottom": null,
       "display": null,
       "flex": null,
       "flex_flow": null,
       "grid_area": null,
       "grid_auto_columns": null,
       "grid_auto_flow": null,
       "grid_auto_rows": null,
       "grid_column": null,
       "grid_gap": null,
       "grid_row": null,
       "grid_template_areas": null,
       "grid_template_columns": null,
       "grid_template_rows": null,
       "height": null,
       "justify_content": null,
       "justify_items": null,
       "left": null,
       "margin": null,
       "max_height": null,
       "max_width": null,
       "min_height": null,
       "min_width": null,
       "object_fit": null,
       "object_position": null,
       "order": null,
       "overflow": null,
       "overflow_x": null,
       "overflow_y": null,
       "padding": null,
       "right": null,
       "top": null,
       "visibility": null,
       "width": null
      }
     },
     "27f1dbf2581e4b98939ad1c94d139ef2": {
      "model_module": "@jupyter-widgets/controls",
      "model_module_version": "1.5.0",
      "model_name": "HTMLModel",
      "state": {
       "_dom_classes": [],
       "_model_module": "@jupyter-widgets/controls",
       "_model_module_version": "1.5.0",
       "_model_name": "HTMLModel",
       "_view_count": null,
       "_view_module": "@jupyter-widgets/controls",
       "_view_module_version": "1.5.0",
       "_view_name": "HTMLView",
       "description": "",
       "description_tooltip": null,
       "layout": "IPY_MODEL_22b7a998dda349eabf1c0474fab792e8",
       "placeholder": "​",
       "style": "IPY_MODEL_a02f65144f4243cab4d90dbb0fa1ca05",
       "value": "100% 37/37 [00:28&lt;00:00,  1.32it/s]"
      }
     },
     "39f8b398f31f4f8e847d7a3669b6ecc8": {
      "model_module": "@jupyter-widgets/controls",
      "model_module_version": "1.5.0",
      "model_name": "IntProgressModel",
      "state": {
       "_dom_classes": [],
       "_model_module": "@jupyter-widgets/controls",
       "_model_module_version": "1.5.0",
       "_model_name": "IntProgressModel",
       "_view_count": null,
       "_view_module": "@jupyter-widgets/controls",
       "_view_module_version": "1.5.0",
       "_view_name": "ProgressView",
       "bar_style": "success",
       "description": "",
       "description_tooltip": null,
       "layout": "IPY_MODEL_f7b2ae2cb4ab4fadb3852a1d1f6714a1",
       "max": 37,
       "min": 0,
       "orientation": "horizontal",
       "style": "IPY_MODEL_5dc5d416457d42f19734c252c6c2b678",
       "value": 37
      }
     },
     "4841f4b162d3461b9534c005a80b06c3": {
      "model_module": "@jupyter-widgets/base",
      "model_module_version": "1.2.0",
      "model_name": "LayoutModel",
      "state": {
       "_model_module": "@jupyter-widgets/base",
       "_model_module_version": "1.2.0",
       "_model_name": "LayoutModel",
       "_view_count": null,
       "_view_module": "@jupyter-widgets/base",
       "_view_module_version": "1.2.0",
       "_view_name": "LayoutView",
       "align_content": null,
       "align_items": null,
       "align_self": null,
       "border": null,
       "bottom": null,
       "display": null,
       "flex": null,
       "flex_flow": null,
       "grid_area": null,
       "grid_auto_columns": null,
       "grid_auto_flow": null,
       "grid_auto_rows": null,
       "grid_column": null,
       "grid_gap": null,
       "grid_row": null,
       "grid_template_areas": null,
       "grid_template_columns": null,
       "grid_template_rows": null,
       "height": null,
       "justify_content": null,
       "justify_items": null,
       "left": null,
       "margin": null,
       "max_height": null,
       "max_width": null,
       "min_height": null,
       "min_width": null,
       "object_fit": null,
       "object_position": null,
       "order": null,
       "overflow": null,
       "overflow_x": null,
       "overflow_y": null,
       "padding": null,
       "right": null,
       "top": null,
       "visibility": null,
       "width": null
      }
     },
     "4ea0bae629fd44c5acdd023b361adafa": {
      "model_module": "@jupyter-widgets/base",
      "model_module_version": "1.2.0",
      "model_name": "LayoutModel",
      "state": {
       "_model_module": "@jupyter-widgets/base",
       "_model_module_version": "1.2.0",
       "_model_name": "LayoutModel",
       "_view_count": null,
       "_view_module": "@jupyter-widgets/base",
       "_view_module_version": "1.2.0",
       "_view_name": "LayoutView",
       "align_content": null,
       "align_items": null,
       "align_self": null,
       "border": null,
       "bottom": null,
       "display": null,
       "flex": null,
       "flex_flow": null,
       "grid_area": null,
       "grid_auto_columns": null,
       "grid_auto_flow": null,
       "grid_auto_rows": null,
       "grid_column": null,
       "grid_gap": null,
       "grid_row": null,
       "grid_template_areas": null,
       "grid_template_columns": null,
       "grid_template_rows": null,
       "height": null,
       "justify_content": null,
       "justify_items": null,
       "left": null,
       "margin": null,
       "max_height": null,
       "max_width": null,
       "min_height": null,
       "min_width": null,
       "object_fit": null,
       "object_position": null,
       "order": null,
       "overflow": null,
       "overflow_x": null,
       "overflow_y": null,
       "padding": null,
       "right": null,
       "top": null,
       "visibility": null,
       "width": null
      }
     },
     "5dc5d416457d42f19734c252c6c2b678": {
      "model_module": "@jupyter-widgets/controls",
      "model_module_version": "1.5.0",
      "model_name": "ProgressStyleModel",
      "state": {
       "_model_module": "@jupyter-widgets/controls",
       "_model_module_version": "1.5.0",
       "_model_name": "ProgressStyleModel",
       "_view_count": null,
       "_view_module": "@jupyter-widgets/base",
       "_view_module_version": "1.2.0",
       "_view_name": "StyleView",
       "bar_color": null,
       "description_width": ""
      }
     },
     "6373d7f1cf064925b3840d8bab846765": {
      "model_module": "@jupyter-widgets/controls",
      "model_module_version": "1.5.0",
      "model_name": "DescriptionStyleModel",
      "state": {
       "_model_module": "@jupyter-widgets/controls",
       "_model_module_version": "1.5.0",
       "_model_name": "DescriptionStyleModel",
       "_view_count": null,
       "_view_module": "@jupyter-widgets/base",
       "_view_module_version": "1.2.0",
       "_view_name": "StyleView",
       "description_width": ""
      }
     },
     "75212bb4b1d8438f9d9fd423e297d5e1": {
      "model_module": "@jupyter-widgets/controls",
      "model_module_version": "1.5.0",
      "model_name": "HBoxModel",
      "state": {
       "_dom_classes": [],
       "_model_module": "@jupyter-widgets/controls",
       "_model_module_version": "1.5.0",
       "_model_name": "HBoxModel",
       "_view_count": null,
       "_view_module": "@jupyter-widgets/controls",
       "_view_module_version": "1.5.0",
       "_view_name": "HBoxView",
       "box_style": "",
       "children": [
        "IPY_MODEL_39f8b398f31f4f8e847d7a3669b6ecc8",
        "IPY_MODEL_27f1dbf2581e4b98939ad1c94d139ef2"
       ],
       "layout": "IPY_MODEL_4841f4b162d3461b9534c005a80b06c3"
      }
     },
     "777009726224475f87652bf84a4659d7": {
      "model_module": "@jupyter-widgets/controls",
      "model_module_version": "1.5.0",
      "model_name": "HBoxModel",
      "state": {
       "_dom_classes": [],
       "_model_module": "@jupyter-widgets/controls",
       "_model_module_version": "1.5.0",
       "_model_name": "HBoxModel",
       "_view_count": null,
       "_view_module": "@jupyter-widgets/controls",
       "_view_module_version": "1.5.0",
       "_view_name": "HBoxView",
       "box_style": "",
       "children": [
        "IPY_MODEL_bd9c490e6a6f438ba5421dcd8dc7bca3",
        "IPY_MODEL_9ad67c3b4a6544a493ee286550510b82"
       ],
       "layout": "IPY_MODEL_ba077b9c67aa468f89928e71957c801e"
      }
     },
     "9ad67c3b4a6544a493ee286550510b82": {
      "model_module": "@jupyter-widgets/controls",
      "model_module_version": "1.5.0",
      "model_name": "HTMLModel",
      "state": {
       "_dom_classes": [],
       "_model_module": "@jupyter-widgets/controls",
       "_model_module_version": "1.5.0",
       "_model_name": "HTMLModel",
       "_view_count": null,
       "_view_module": "@jupyter-widgets/controls",
       "_view_module_version": "1.5.0",
       "_view_name": "HTMLView",
       "description": "",
       "description_tooltip": null,
       "layout": "IPY_MODEL_4ea0bae629fd44c5acdd023b361adafa",
       "placeholder": "​",
       "style": "IPY_MODEL_6373d7f1cf064925b3840d8bab846765",
       "value": "100% 37/37 [00:26&lt;00:00,  1.40it/s]"
      }
     },
     "a02f65144f4243cab4d90dbb0fa1ca05": {
      "model_module": "@jupyter-widgets/controls",
      "model_module_version": "1.5.0",
      "model_name": "DescriptionStyleModel",
      "state": {
       "_model_module": "@jupyter-widgets/controls",
       "_model_module_version": "1.5.0",
       "_model_name": "DescriptionStyleModel",
       "_view_count": null,
       "_view_module": "@jupyter-widgets/base",
       "_view_module_version": "1.2.0",
       "_view_name": "StyleView",
       "description_width": ""
      }
     },
     "ba077b9c67aa468f89928e71957c801e": {
      "model_module": "@jupyter-widgets/base",
      "model_module_version": "1.2.0",
      "model_name": "LayoutModel",
      "state": {
       "_model_module": "@jupyter-widgets/base",
       "_model_module_version": "1.2.0",
       "_model_name": "LayoutModel",
       "_view_count": null,
       "_view_module": "@jupyter-widgets/base",
       "_view_module_version": "1.2.0",
       "_view_name": "LayoutView",
       "align_content": null,
       "align_items": null,
       "align_self": null,
       "border": null,
       "bottom": null,
       "display": null,
       "flex": null,
       "flex_flow": null,
       "grid_area": null,
       "grid_auto_columns": null,
       "grid_auto_flow": null,
       "grid_auto_rows": null,
       "grid_column": null,
       "grid_gap": null,
       "grid_row": null,
       "grid_template_areas": null,
       "grid_template_columns": null,
       "grid_template_rows": null,
       "height": null,
       "justify_content": null,
       "justify_items": null,
       "left": null,
       "margin": null,
       "max_height": null,
       "max_width": null,
       "min_height": null,
       "min_width": null,
       "object_fit": null,
       "object_position": null,
       "order": null,
       "overflow": null,
       "overflow_x": null,
       "overflow_y": null,
       "padding": null,
       "right": null,
       "top": null,
       "visibility": null,
       "width": null
      }
     },
     "bd9c490e6a6f438ba5421dcd8dc7bca3": {
      "model_module": "@jupyter-widgets/controls",
      "model_module_version": "1.5.0",
      "model_name": "IntProgressModel",
      "state": {
       "_dom_classes": [],
       "_model_module": "@jupyter-widgets/controls",
       "_model_module_version": "1.5.0",
       "_model_name": "IntProgressModel",
       "_view_count": null,
       "_view_module": "@jupyter-widgets/controls",
       "_view_module_version": "1.5.0",
       "_view_name": "ProgressView",
       "bar_style": "success",
       "description": "",
       "description_tooltip": null,
       "layout": "IPY_MODEL_c581cdb928544ed2a7250f3adb87c4da",
       "max": 37,
       "min": 0,
       "orientation": "horizontal",
       "style": "IPY_MODEL_cf4e845411924d13972fb47c124b0cc3",
       "value": 37
      }
     },
     "c581cdb928544ed2a7250f3adb87c4da": {
      "model_module": "@jupyter-widgets/base",
      "model_module_version": "1.2.0",
      "model_name": "LayoutModel",
      "state": {
       "_model_module": "@jupyter-widgets/base",
       "_model_module_version": "1.2.0",
       "_model_name": "LayoutModel",
       "_view_count": null,
       "_view_module": "@jupyter-widgets/base",
       "_view_module_version": "1.2.0",
       "_view_name": "LayoutView",
       "align_content": null,
       "align_items": null,
       "align_self": null,
       "border": null,
       "bottom": null,
       "display": null,
       "flex": null,
       "flex_flow": null,
       "grid_area": null,
       "grid_auto_columns": null,
       "grid_auto_flow": null,
       "grid_auto_rows": null,
       "grid_column": null,
       "grid_gap": null,
       "grid_row": null,
       "grid_template_areas": null,
       "grid_template_columns": null,
       "grid_template_rows": null,
       "height": null,
       "justify_content": null,
       "justify_items": null,
       "left": null,
       "margin": null,
       "max_height": null,
       "max_width": null,
       "min_height": null,
       "min_width": null,
       "object_fit": null,
       "object_position": null,
       "order": null,
       "overflow": null,
       "overflow_x": null,
       "overflow_y": null,
       "padding": null,
       "right": null,
       "top": null,
       "visibility": null,
       "width": null
      }
     },
     "cf4e845411924d13972fb47c124b0cc3": {
      "model_module": "@jupyter-widgets/controls",
      "model_module_version": "1.5.0",
      "model_name": "ProgressStyleModel",
      "state": {
       "_model_module": "@jupyter-widgets/controls",
       "_model_module_version": "1.5.0",
       "_model_name": "ProgressStyleModel",
       "_view_count": null,
       "_view_module": "@jupyter-widgets/base",
       "_view_module_version": "1.2.0",
       "_view_name": "StyleView",
       "bar_color": null,
       "description_width": ""
      }
     },
     "f7b2ae2cb4ab4fadb3852a1d1f6714a1": {
      "model_module": "@jupyter-widgets/base",
      "model_module_version": "1.2.0",
      "model_name": "LayoutModel",
      "state": {
       "_model_module": "@jupyter-widgets/base",
       "_model_module_version": "1.2.0",
       "_model_name": "LayoutModel",
       "_view_count": null,
       "_view_module": "@jupyter-widgets/base",
       "_view_module_version": "1.2.0",
       "_view_name": "LayoutView",
       "align_content": null,
       "align_items": null,
       "align_self": null,
       "border": null,
       "bottom": null,
       "display": null,
       "flex": null,
       "flex_flow": null,
       "grid_area": null,
       "grid_auto_columns": null,
       "grid_auto_flow": null,
       "grid_auto_rows": null,
       "grid_column": null,
       "grid_gap": null,
       "grid_row": null,
       "grid_template_areas": null,
       "grid_template_columns": null,
       "grid_template_rows": null,
       "height": null,
       "justify_content": null,
       "justify_items": null,
       "left": null,
       "margin": null,
       "max_height": null,
       "max_width": null,
       "min_height": null,
       "min_width": null,
       "object_fit": null,
       "object_position": null,
       "order": null,
       "overflow": null,
       "overflow_x": null,
       "overflow_y": null,
       "padding": null,
       "right": null,
       "top": null,
       "visibility": null,
       "width": null
      }
     }
    },
    "version_major": 2,
    "version_minor": 0
   }
  }
 },
 "nbformat": 4,
 "nbformat_minor": 5
}
